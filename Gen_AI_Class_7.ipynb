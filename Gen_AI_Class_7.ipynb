{
  "nbformat": 4,
  "nbformat_minor": 0,
  "metadata": {
    "colab": {
      "provenance": [],
      "toc_visible": true,
      "authorship_tag": "ABX9TyPlK1MhgQ++aCyr+38IGkt6",
      "include_colab_link": true
    },
    "kernelspec": {
      "name": "python3",
      "display_name": "Python 3"
    },
    "language_info": {
      "name": "python"
    }
  },
  "cells": [
    {
      "cell_type": "markdown",
      "metadata": {
        "id": "view-in-github",
        "colab_type": "text"
      },
      "source": [
        "<a href=\"https://colab.research.google.com/github/arulbenjaminchandru/Python-and-Gen-AI/blob/main/Gen_AI_Class_7.ipynb\" target=\"_parent\"><img src=\"https://colab.research.google.com/assets/colab-badge.svg\" alt=\"Open In Colab\"/></a>"
      ]
    },
    {
      "cell_type": "markdown",
      "source": [
        "## **Class 7**\n",
        "\n",
        "---\n",
        "\n",
        "### **Introduction to Functions**\n",
        "\n",
        "Functions are reusable blocks of code that perform a specific task. They help you organize your code, avoid repetition, and make it more modular and readable."
      ],
      "metadata": {
        "id": "ymi__3fB9cLD"
      }
    },
    {
      "cell_type": "markdown",
      "source": [
        "###**Exploring Built-in Functions**\n",
        "\n",
        "Python comes with a rich set of built-in functions that provide common functionality and simplify many programming tasks. These functions are always available and do not require you to import any modules. They can perform various operations, from basic arithmetic to advanced data manipulation.\n",
        "\n",
        "\n"
      ],
      "metadata": {
        "id": "Qn2gXwDp-UDf"
      }
    },
    {
      "cell_type": "markdown",
      "source": [
        "### **Basic Built-in Functions**\n",
        "\n"
      ],
      "metadata": {
        "id": "Ep2eE56S-d-6"
      }
    },
    {
      "cell_type": "markdown",
      "source": [
        "#### **`print()`: Output to the Console**\n",
        "\n",
        "The `print()` function displays information to the console. You can print strings, numbers, or any other data types.\n",
        "\n",
        "```python\n",
        "# Using the print() function\n",
        "print(\"Hello, World!\")         # Output: Hello, World!\n",
        "print(42)                      # Output: 42\n",
        "print(\"The sum is:\", 7 + 5)   # Output: The sum is: 12\n",
        "```\n",
        "\n",
        "- **Explanation**: `print()` outputs the given arguments to the console, with optional separators and end characters.\n",
        "\n"
      ],
      "metadata": {
        "id": "d-i_uE8w-uFA"
      }
    },
    {
      "cell_type": "code",
      "source": [
        "# Using the print() function\n",
        "print(\"Hello, World!\")         # Output: Hello, World!\n",
        "print(42)                      # Output: 42\n",
        "print(\"The sum is:\", 7 + 5)   # Output: The sum is: 12"
      ],
      "metadata": {
        "colab": {
          "base_uri": "https://localhost:8080/"
        },
        "id": "pPu3eCgCDrC1",
        "outputId": "ab3c3905-cbc8-43d5-bc09-121fabc472dd"
      },
      "execution_count": null,
      "outputs": [
        {
          "output_type": "stream",
          "name": "stdout",
          "text": [
            "Hello, World!\n",
            "42\n",
            "The sum is: 12\n"
          ]
        }
      ]
    },
    {
      "cell_type": "markdown",
      "source": [
        "#### **`len()`: Get the Length of an Object**\n",
        "\n",
        "The `len()` function returns the number of items in an object such as a string, list, or dictionary.\n",
        "\n",
        "```python\n",
        "# Using the len() function\n",
        "print(len(\"Hello\"))           # Output: 5\n",
        "print(len([1, 2, 3, 4]))     # Output: 4\n",
        "print(len({\"a\": 1, \"b\": 2})) # Output: 2\n",
        "```\n",
        "\n",
        "- **Explanation**: `len()` provides the number of elements in a sequence or collection.\n",
        "\n"
      ],
      "metadata": {
        "id": "8mAmDTtF-kZ0"
      }
    },
    {
      "cell_type": "code",
      "source": [
        "# Using the len() function\n",
        "print(len(\"Hello\"))           # Output: 5\n",
        "print(len([1, 2, 3, 4]))     # Output: 4\n",
        "print(len({\"a\": 1, \"b\": 2})) # Output: 2"
      ],
      "metadata": {
        "colab": {
          "base_uri": "https://localhost:8080/"
        },
        "id": "H9VFmsdhDyrb",
        "outputId": "0776a29b-17e2-4dea-fc4a-c07af5d2dea8"
      },
      "execution_count": null,
      "outputs": [
        {
          "output_type": "stream",
          "name": "stdout",
          "text": [
            "5\n",
            "4\n",
            "2\n"
          ]
        }
      ]
    },
    {
      "cell_type": "markdown",
      "source": [
        "#### **`type()`: Get the Type of an Object**\n",
        "\n",
        "The `type()` function returns the type of an object.\n",
        "\n",
        "```python\n",
        "# Using the type() function\n",
        "print(type(\"Hello\"))          # Output: <class 'str'>\n",
        "print(type(42))               # Output: <class 'int'>\n",
        "print(type([1, 2, 3]))       # Output: <class 'list'>\n",
        "```\n",
        "\n",
        "- **Explanation**: `type()` helps determine the data type of an object.\n",
        "\n",
        "---\n",
        "\n"
      ],
      "metadata": {
        "id": "u_GH2gJD-pY7"
      }
    },
    {
      "cell_type": "code",
      "source": [
        "# Using the type() function\n",
        "print(type(\"Hello\"))          # Output: <class 'str'>\n",
        "print(type(42))               # Output: <class 'int'>\n",
        "print(type([1, 2, 3]))       # Output: <class 'list'>"
      ],
      "metadata": {
        "colab": {
          "base_uri": "https://localhost:8080/"
        },
        "id": "8FONO7icD1p6",
        "outputId": "48d3b487-5964-4a09-ce48-08ebaf0ecc40"
      },
      "execution_count": null,
      "outputs": [
        {
          "output_type": "stream",
          "name": "stdout",
          "text": [
            "<class 'str'>\n",
            "<class 'int'>\n",
            "<class 'list'>\n"
          ]
        }
      ]
    },
    {
      "cell_type": "markdown",
      "source": [
        "### **Numeric Built-in Functions**\n",
        "\n"
      ],
      "metadata": {
        "id": "VOTAocBD-2fK"
      }
    },
    {
      "cell_type": "markdown",
      "source": [
        "#### **`abs()`: Absolute Value**\n",
        "\n",
        "The `abs()` function returns the absolute value of a number.\n",
        "\n",
        "```python\n",
        "# Using the abs() function\n",
        "print(abs(-10))    # Output: 10\n",
        "print(abs(3.14))   # Output: 3.14\n",
        "```\n",
        "\n",
        "- **Explanation**: `abs()` returns the non-negative value of its argument.\n",
        "\n"
      ],
      "metadata": {
        "id": "Lq_CVwDS-9u5"
      }
    },
    {
      "cell_type": "code",
      "source": [
        "# Using the abs() function\n",
        "print(abs(-10))    # Output: 10\n",
        "print(abs(3.14))   # Output: 3.14"
      ],
      "metadata": {
        "colab": {
          "base_uri": "https://localhost:8080/"
        },
        "id": "dtrbUTgJD46x",
        "outputId": "38bca0c3-1f67-4451-d2fb-5e7b3249f0a5"
      },
      "execution_count": null,
      "outputs": [
        {
          "output_type": "stream",
          "name": "stdout",
          "text": [
            "10\n",
            "3.14\n"
          ]
        }
      ]
    },
    {
      "cell_type": "markdown",
      "source": [
        "#### **`round()`: Round a Number**\n",
        "\n",
        "The `round()` function rounds a floating-point number to a specified number of decimal places.\n",
        "\n",
        "```python\n",
        "# Using the round() function\n",
        "print(round(3.14159, 2))  # Output: 3.14\n",
        "print(round(2.71828))    # Output: 3\n",
        "```\n",
        "\n",
        "- **Explanation**: `round()` can round to the nearest integer or to a specified number of decimal places.\n",
        "\n",
        "---\n",
        "\n"
      ],
      "metadata": {
        "id": "fWixav8I_Flg"
      }
    },
    {
      "cell_type": "code",
      "source": [
        "# Using the round() function\n",
        "print(round(3.14159, 2))  # Output: 3.14\n",
        "print(round(2.71828))    # Output: 3"
      ],
      "metadata": {
        "colab": {
          "base_uri": "https://localhost:8080/"
        },
        "id": "gKqaIe3CD7i_",
        "outputId": "a6166556-c6b7-4c66-e6d1-a8a590105768"
      },
      "execution_count": null,
      "outputs": [
        {
          "output_type": "stream",
          "name": "stdout",
          "text": [
            "3.14\n",
            "3\n"
          ]
        }
      ]
    },
    {
      "cell_type": "markdown",
      "source": [
        "### **String Built-in Functions**\n"
      ],
      "metadata": {
        "id": "668pff95_LHg"
      }
    },
    {
      "cell_type": "markdown",
      "source": [
        "#### **`str()`: Convert to String**\n",
        "\n",
        "The `str()` function converts an object to a string representation.\n",
        "\n",
        "```python\n",
        "# Using the str() function\n",
        "print(str(100))       # Output: '100'\n",
        "print(str(3.14))      # Output: '3.14'\n",
        "print(str([1, 2, 3])) # Output: '[1, 2, 3]'\n",
        "```\n",
        "\n",
        "- **Explanation**: `str()` is useful for converting non-string objects to strings.\n",
        "\n"
      ],
      "metadata": {
        "id": "APeI7uAE_RUR"
      }
    },
    {
      "cell_type": "code",
      "source": [
        "# Using the str() function\n",
        "print(str(100))       # Output: '100'\n",
        "print(str(3.14))      # Output: '3.14'\n",
        "print(str([1, 2, 3])) # Output: '[1, 2, 3]'"
      ],
      "metadata": {
        "colab": {
          "base_uri": "https://localhost:8080/"
        },
        "id": "YwrHP8HeD-oq",
        "outputId": "995c1a79-0f86-4e48-ee71-d9e34321b476"
      },
      "execution_count": null,
      "outputs": [
        {
          "output_type": "stream",
          "name": "stdout",
          "text": [
            "100\n",
            "3.14\n",
            "[1, 2, 3]\n"
          ]
        }
      ]
    },
    {
      "cell_type": "markdown",
      "source": [
        "#### **`upper()`, `lower()`, `capitalize()`: String Case Methods**\n",
        "\n",
        "```python\n",
        "# Using string case methods\n",
        "text = \"hello world\"\n",
        "print(text.upper())    # Output: \"HELLO WORLD\"\n",
        "print(text.lower())    # Output: \"hello world\"\n",
        "print(text.capitalize()) # Output: \"Hello world\"\n",
        "```\n",
        "\n",
        "- **Explanation**: These methods are used to change the case of strings.\n",
        "\n"
      ],
      "metadata": {
        "id": "yW5fcARG_XTl"
      }
    },
    {
      "cell_type": "code",
      "source": [
        "# Using string case methods\n",
        "text = \"hello world\"\n",
        "print(text.upper())    # Output: \"HELLO WORLD\"\n",
        "print(text.lower())    # Output: \"hello world\"\n",
        "print(text.capitalize()) # Output: \"Hello world\""
      ],
      "metadata": {
        "colab": {
          "base_uri": "https://localhost:8080/"
        },
        "id": "plYqH2-pECI_",
        "outputId": "2431dece-8a11-4f7a-aca6-b0bfc313789f"
      },
      "execution_count": null,
      "outputs": [
        {
          "output_type": "stream",
          "name": "stdout",
          "text": [
            "HELLO WORLD\n",
            "hello world\n",
            "Hello world\n"
          ]
        }
      ]
    },
    {
      "cell_type": "markdown",
      "source": [
        "### **Collection Built-in Functions**\n",
        "\n"
      ],
      "metadata": {
        "id": "fhVuKYGU_ekZ"
      }
    },
    {
      "cell_type": "markdown",
      "source": [
        "#### **`sorted()`: Sort a Collection**\n",
        "\n",
        "The `sorted()` function returns a new sorted list from the items in any iterable.\n",
        "\n",
        "```python\n",
        "# Using the sorted() function\n",
        "numbers = [4, 2, 9, 1, 5]\n",
        "print(sorted(numbers))   # Output: [1, 2, 4, 5, 9]\n",
        "```\n",
        "\n",
        "- **Explanation**: `sorted()` returns a new sorted list without modifying the original iterable.\n",
        "\n"
      ],
      "metadata": {
        "id": "YPVDw-Rq_liR"
      }
    },
    {
      "cell_type": "code",
      "source": [
        "# Using the sorted() function\n",
        "numbers = [4, 2, 9, 1, 5]\n",
        "print(sorted(numbers))   # Output: [1, 2, 4, 5, 9]"
      ],
      "metadata": {
        "colab": {
          "base_uri": "https://localhost:8080/"
        },
        "id": "p0kCT4a4EEfD",
        "outputId": "6124d76a-49dc-4ca9-fb0b-d942abc69c67"
      },
      "execution_count": null,
      "outputs": [
        {
          "output_type": "stream",
          "name": "stdout",
          "text": [
            "[1, 2, 4, 5, 9]\n"
          ]
        }
      ]
    },
    {
      "cell_type": "markdown",
      "source": [
        "#### **`sum()`: Sum of All Items**\n",
        "\n",
        "The `sum()` function returns the sum of all items in an iterable.\n",
        "\n",
        "```python\n",
        "# Using the sum() function\n",
        "numbers = [1, 2, 3, 4]\n",
        "print(sum(numbers))    # Output: 10\n",
        "```\n",
        "\n",
        "- **Explanation**: `sum()` calculates the total sum of numeric items in an iterable.\n",
        "\n"
      ],
      "metadata": {
        "id": "YGoULW3H_uvS"
      }
    },
    {
      "cell_type": "code",
      "source": [
        "# Using the sum() function\n",
        "numbers = [1, 2, 3, 4]\n",
        "print(sum(numbers))    # Output: 10"
      ],
      "metadata": {
        "colab": {
          "base_uri": "https://localhost:8080/"
        },
        "id": "w2YfbF6WEG7s",
        "outputId": "a333fffb-15c1-4fc8-e982-3ff769111a50"
      },
      "execution_count": null,
      "outputs": [
        {
          "output_type": "stream",
          "name": "stdout",
          "text": [
            "10\n"
          ]
        }
      ]
    },
    {
      "cell_type": "markdown",
      "source": [
        "#### **`max()` and `min()`: Maximum and Minimum Values**\n",
        "\n",
        "```python\n",
        "# Using the max() and min() functions\n",
        "numbers = [1, 2, 3, 4, 5]\n",
        "print(max(numbers))    # Output: 5\n",
        "print(min(numbers))    # Output: 1\n",
        "```\n",
        "\n",
        "- **Explanation**: `max()` returns the largest item, while `min()` returns the smallest item in an iterable.\n",
        "\n"
      ],
      "metadata": {
        "id": "xQryxN0D_zjr"
      }
    },
    {
      "cell_type": "code",
      "source": [
        "# Using the max() and min() functions\n",
        "numbers = [1, 2, 3, 4, 5]\n",
        "print(max(numbers))    # Output: 5\n",
        "print(min(numbers))    # Output: 1"
      ],
      "metadata": {
        "colab": {
          "base_uri": "https://localhost:8080/"
        },
        "id": "p5vdDtryEJTs",
        "outputId": "7d2b3148-cc50-4f9f-9f50-363884957501"
      },
      "execution_count": null,
      "outputs": [
        {
          "output_type": "stream",
          "name": "stdout",
          "text": [
            "5\n",
            "1\n"
          ]
        }
      ]
    },
    {
      "cell_type": "markdown",
      "source": [
        "### **DIY Challenge: Using Built-in Functions**\n",
        "\n",
        "**Challenge:**\n",
        "Create a program that performs the following tasks using built-in functions:\n",
        "\n",
        "1. **Input a list of numbers** from the user.\n",
        "2. **Calculate and display** the sum, maximum, and minimum values of the list.\n",
        "3. **Sort the list** and display the sorted result.\n",
        "4. **Convert the list to a string** and print it.\n",
        "\n",
        "Here’s a structure to get you started:\n",
        "\n",
        "```python\n",
        "# Input numbers from the user\n",
        "numbers_input = input(\"Enter a list of numbers separated by spaces: \")\n",
        "numbers = [float(x) for x in numbers_input.split()]\n",
        "\n",
        "# Calculate sum, max, and min\n",
        "total = sum(numbers)\n",
        "maximum = max(numbers)\n",
        "minimum = min(numbers)\n",
        "\n",
        "# Sort the list\n",
        "sorted_numbers = sorted(numbers)\n",
        "\n",
        "# Convert list to string\n",
        "numbers_str = str(numbers)\n",
        "\n",
        "# Print results\n",
        "print(f\"Sum: {total}\")\n",
        "print(f\"Max: {maximum}\")\n",
        "print(f\"Min: {minimum}\")\n",
        "print(f\"Sorted List: {sorted_numbers}\")\n",
        "print(f\"List as String: {numbers_str}\")\n",
        "```\n",
        "\n",
        "- **Explanation**:\n",
        "  - Use `input()` to get a list of numbers from the user.\n",
        "  - Convert the input string to a list of floats using a list comprehension.\n",
        "  - Use `sum()`, `max()`, and `min()` to calculate the respective values.\n",
        "  - Use `sorted()` to sort the list.\n",
        "  - Convert the list to a string with `str()` and print all results."
      ],
      "metadata": {
        "id": "FZsK5_O6CVqI"
      }
    },
    {
      "cell_type": "markdown",
      "source": [
        "### **Defining and Calling Functions**\n",
        "\n"
      ],
      "metadata": {
        "id": "OKbLswR-_9uS"
      }
    },
    {
      "cell_type": "markdown",
      "source": [
        "#### **Defining a Function**\n",
        "\n",
        "To define a function, you use the `def` keyword followed by the function name and parentheses. If the function requires parameters (inputs), you include them in the parentheses. The code block that follows contains the statements that will be executed when the function is called.\n",
        "\n",
        "```python\n",
        "# Defining a Function\n",
        "\n",
        "def greet(name):\n",
        "    \"\"\"Prints a greeting message.\"\"\"\n",
        "    print(f\"Hello, {name}!\")\n",
        "\n",
        "# Calling the Function\n",
        "greet(\"Alice\")\n",
        "```\n",
        "\n",
        "- **Explanation**:\n",
        "  - `def greet(name):` defines a function named `greet` that takes one parameter `name`.\n",
        "  - The `\"\"\"Prints a greeting message.\"\"\"` line is a docstring, which provides a brief description of what the function does.\n",
        "  - `print(f\"Hello, {name}!\")` is the code that runs when the function is called.\n",
        "  - `greet(\"Alice\")` calls the function with `\"Alice\"` as the argument, resulting in the output: `Hello, Alice!`.\n",
        "\n",
        "---\n",
        "\n"
      ],
      "metadata": {
        "id": "seK68313AmFt"
      }
    },
    {
      "cell_type": "code",
      "source": [
        "# Defining a Function\n",
        "\n",
        "def greet(name):\n",
        "    \"\"\"Prints a greeting message.\"\"\"\n",
        "    print(f\"Hello, {name}!\")\n",
        "\n",
        "# Calling the Function\n",
        "greet(\"Alice\")"
      ],
      "metadata": {
        "colab": {
          "base_uri": "https://localhost:8080/"
        },
        "id": "51kINR_sETEg",
        "outputId": "7a536868-2195-415b-9950-843b1881e489"
      },
      "execution_count": null,
      "outputs": [
        {
          "output_type": "stream",
          "name": "stdout",
          "text": [
            "Hello, Alice!\n"
          ]
        }
      ]
    },
    {
      "cell_type": "markdown",
      "source": [
        "### **Function Parameters and Return Values**\n",
        "\n",
        "Functions can accept multiple parameters and return values. Parameters are used to pass information to the function, and the `return` statement is used to send a result back to the caller.\n",
        "\n"
      ],
      "metadata": {
        "id": "wLugytG8AwIt"
      }
    },
    {
      "cell_type": "markdown",
      "source": [
        "#### **Function with Multiple Parameters**\n",
        "\n",
        "```python\n",
        "# Defining a Function with Multiple Parameters\n",
        "\n",
        "def add_numbers(a, b):\n",
        "    \"\"\"Returns the sum of two numbers.\"\"\"\n",
        "    return a + b\n",
        "\n",
        "# Calling the Function\n",
        "result = add_numbers(5, 3)\n",
        "print(f\"Sum: {result}\")\n",
        "```\n",
        "\n",
        "- **Explanation**:\n",
        "  - `def add_numbers(a, b):` defines a function that takes two parameters, `a` and `b`.\n",
        "  - `return a + b` computes the sum of `a` and `b` and returns it.\n",
        "  - `result = add_numbers(5, 3)` calls the function with the arguments `5` and `3`, and stores the result in `result`. The output is `Sum: 8`.\n",
        "\n"
      ],
      "metadata": {
        "id": "QV8aOe7LAz3a"
      }
    },
    {
      "cell_type": "code",
      "source": [
        "# Defining a Function with Multiple Parameters\n",
        "\n",
        "def add_numbers(a, b):\n",
        "    \"\"\"Returns the sum of two numbers.\"\"\"\n",
        "    return a + b\n",
        "\n",
        "# Calling the Function\n",
        "result = add_numbers(5, 3)\n",
        "print(f\"Sum: {result}\")"
      ],
      "metadata": {
        "colab": {
          "base_uri": "https://localhost:8080/"
        },
        "id": "S0EW4zCPEXyG",
        "outputId": "2920cfdf-6325-4bcd-e53f-d67fb73bd50a"
      },
      "execution_count": null,
      "outputs": [
        {
          "output_type": "stream",
          "name": "stdout",
          "text": [
            "Sum: 8\n"
          ]
        }
      ]
    },
    {
      "cell_type": "markdown",
      "source": [
        "#### **Function Without Parameters**\n",
        "\n",
        "```python\n",
        "# Defining a Function Without Parameters\n",
        "\n",
        "def say_hello():\n",
        "    \"\"\"Prints a hello message.\"\"\"\n",
        "    print(\"Hello, World!\")\n",
        "\n",
        "# Calling the Function\n",
        "say_hello()\n",
        "```\n",
        "\n",
        "- **Explanation**:\n",
        "  - `def say_hello():` defines a function with no parameters.\n",
        "  - `print(\"Hello, World!\")` prints a message when the function is called.\n",
        "  - `say_hello()` calls the function, resulting in the output: `Hello, World!`.\n",
        "\n",
        "\n"
      ],
      "metadata": {
        "id": "detfqdgnA7Gr"
      }
    },
    {
      "cell_type": "code",
      "source": [
        "# Defining a Function Without Parameters\n",
        "\n",
        "def say_hello():\n",
        "    \"\"\"Prints a hello message.\"\"\"\n",
        "    print(\"Hello, World!\")\n",
        "\n",
        "# Calling the Function\n",
        "say_hello()"
      ],
      "metadata": {
        "colab": {
          "base_uri": "https://localhost:8080/"
        },
        "id": "d0ShcmR4EauI",
        "outputId": "aabbdaf1-760a-4cf0-fcb2-7d80ee73c8d1"
      },
      "execution_count": null,
      "outputs": [
        {
          "output_type": "stream",
          "name": "stdout",
          "text": [
            "Hello, World!\n"
          ]
        }
      ]
    },
    {
      "cell_type": "markdown",
      "source": [
        "### **Default Parameters**\n",
        "\n",
        "Functions can have default values for parameters. If an argument is not provided, the default value is used.\n",
        "\n",
        "```python\n",
        "# Defining a Function with Default Parameters\n",
        "\n",
        "def greet(name=\"Guest\"):\n",
        "    \"\"\"Prints a greeting message with a default name.\"\"\"\n",
        "    print(f\"Hello, {name}!\")\n",
        "\n",
        "# Calling the Function\n",
        "greet()\n",
        "greet(\"Bob\")\n",
        "```\n",
        "\n",
        "- **Explanation**:\n",
        "  - `def greet(name=\"Guest\"):` defines a function with a default parameter `name` set to `\"Guest\"`.\n",
        "  - When called without arguments, `greet()` uses the default value, printing `Hello, Guest!`.\n",
        "  - When called with `\"Bob\"`, it prints `Hello, Bob!`.\n",
        "\n",
        "---\n",
        "\n"
      ],
      "metadata": {
        "id": "LgLafu_7BAid"
      }
    },
    {
      "cell_type": "code",
      "source": [
        "# Defining a Function with Default Parameters\n",
        "\n",
        "def greet(name=\"Guest\"):\n",
        "    \"\"\"Prints a greeting message with a default name.\"\"\"\n",
        "    print(f\"Hello, {name}!\")\n",
        "\n",
        "# Calling the Function\n",
        "greet()\n",
        "greet(\"Bob\")"
      ],
      "metadata": {
        "colab": {
          "base_uri": "https://localhost:8080/"
        },
        "id": "N0cccmbYEfTX",
        "outputId": "df94db8b-7f12-459d-db72-2da0ee629cc4"
      },
      "execution_count": null,
      "outputs": [
        {
          "output_type": "stream",
          "name": "stdout",
          "text": [
            "Hello, Guest!\n",
            "Hello, Bob!\n"
          ]
        }
      ]
    },
    {
      "cell_type": "markdown",
      "source": [
        "### **Keyword Arguments**\n",
        "\n",
        "Functions can also be called using keyword arguments, which allow you to specify which parameter you are setting by name.\n",
        "\n",
        "```python\n",
        "# Defining a Function with Keyword Arguments\n",
        "\n",
        "def create_profile(name, age, country):\n",
        "    \"\"\"Prints user profile information.\"\"\"\n",
        "    print(f\"Name: {name}\")\n",
        "    print(f\"Age: {age}\")\n",
        "    print(f\"Country: {country}\")\n",
        "\n",
        "# Calling the Function with Keyword Arguments\n",
        "create_profile(name=\"Alice\", age=30, country=\"Canada\")\n",
        "```\n",
        "\n",
        "- **Explanation**:\n",
        "  - `def create_profile(name, age, country):` defines a function that takes three parameters.\n",
        "  - When calling `create_profile(name=\"Alice\", age=30, country=\"Canada\")`, you use keyword arguments to specify which value goes to which parameter. This makes the function call more readable.\n",
        "\n"
      ],
      "metadata": {
        "id": "d8PwXlOBBGPY"
      }
    },
    {
      "cell_type": "code",
      "source": [
        "# Defining a Function with Keyword Arguments\n",
        "\n",
        "def create_profile(name, age, country):\n",
        "    \"\"\"Prints user profile information.\"\"\"\n",
        "    print(f\"Name: {name}\")\n",
        "    print(f\"Age: {age}\")\n",
        "    print(f\"Country: {country}\")\n",
        "\n",
        "# Calling the Function with Keyword Arguments\n",
        "create_profile(name=\"Alice\", age=30, country=\"Canada\")"
      ],
      "metadata": {
        "colab": {
          "base_uri": "https://localhost:8080/"
        },
        "id": "MY3JzkT1Ek5w",
        "outputId": "f73f4b6d-82e1-4677-917a-f6eea9021662"
      },
      "execution_count": null,
      "outputs": [
        {
          "output_type": "stream",
          "name": "stdout",
          "text": [
            "Name: Alice\n",
            "Age: 30\n",
            "Country: Canada\n"
          ]
        }
      ]
    },
    {
      "cell_type": "markdown",
      "source": [
        "### **DIY Challenge: Creating and Using Functions**\n",
        "\n",
        "**Challenge:**\n",
        "Create a few functions to manage a small contact list. The functions should include:\n",
        "\n",
        "1. Adding a contact with a name and phone number.\n",
        "2. Retrieving a contact's phone number by name.\n",
        "3. Printing all contacts in the list.\n",
        "\n",
        "Here's a structure to get you started:\n",
        "\n",
        "```python\n",
        "# Define a contact list as a dictionary\n",
        "contacts = {}\n",
        "\n",
        "# Function to add a contact\n",
        "def add_contact(name, phone):\n",
        "    \"\"\"Adds a contact to the list.\"\"\"\n",
        "    contacts[name] = phone\n",
        "\n",
        "# Function to get a contact's phone number\n",
        "def get_contact(name):\n",
        "    \"\"\"Retrieves a contact's phone number.\"\"\"\n",
        "    return contacts.get(name, \"Contact not found\")\n",
        "\n",
        "# Function to print all contacts\n",
        "def print_contacts():\n",
        "    \"\"\"Prints all contacts in the list.\"\"\"\n",
        "    for name, phone in contacts.items():\n",
        "        print(f\"Name: {name}, Phone: {phone}\")\n",
        "\n",
        "# Add some contacts\n",
        "add_contact(\"John\", \"555-1234\")\n",
        "add_contact(\"Jane\", \"555-5678\")\n",
        "\n",
        "# Retrieve and print a contact's phone number\n",
        "print(f\"John's Phone: {get_contact('John')}\")\n",
        "\n",
        "# Print all contacts\n",
        "print_contacts()\n",
        "```\n",
        "\n",
        "- **Explanation**:\n",
        "  - **`add_contact(name, phone)`**: Adds a contact to the `contacts` dictionary.\n",
        "  - **`get_contact(name)`**: Retrieves a phone number for a given name, or returns \"Contact not found\" if the name isn't in the list.\n",
        "  - **`print_contacts()`**: Prints all contacts and their phone numbers."
      ],
      "metadata": {
        "id": "m7ZbKVp6BUxu"
      }
    },
    {
      "cell_type": "markdown",
      "source": [],
      "metadata": {
        "id": "b6cb0gWVCoJq"
      }
    },
    {
      "cell_type": "markdown",
      "source": [
        "### **Conclusion**\n",
        "\n",
        "In this session, we explored some of Python’s basic built-in functions, including `print()`, `len()`, and `type()`. These functions are useful for displaying information, finding the size of objects, and determining the type of data.\n",
        "\n",
        "We also covered how to define and call functions. Functions allow you to group code into reusable blocks. You learned how to define functions with parameters, which are inputs the function can use to perform tasks, and how to return values from functions.\n",
        "\n",
        "By mastering these concepts, you can write more organized and efficient Python code, making your programming tasks easier and more manageable.\n",
        "\n",
        "Keep practicing these functions and concepts to become more confident in Python programming. Happy coding!"
      ],
      "metadata": {
        "id": "uTlin1NeDXIX"
      }
    },
    {
      "cell_type": "markdown",
      "source": [
        "### **Assignments and Solutions**\n",
        "\n",
        "---\n",
        "\n",
        "### **Assignments**\n",
        "\n",
        "**Assignment 1: Simple Functions**\n",
        "\n",
        "1. **Greeting Function**: Write a function named `greet_person` that takes a person’s name as a parameter and returns a greeting message. For example, if the input is `\"John\"`, the function should return `\"Hello, John!\"`.\n",
        "\n",
        "2. **Sum Function**: Write a function named `calculate_sum` that takes two numbers as parameters and returns their sum.\n",
        "\n",
        "3. **String Length**: Write a function named `string_length` that takes a string as a parameter and returns the length of the string.\n",
        "\n",
        "4. **Multiply Function**: Write a function named `multiply_numbers` that takes two numbers as parameters and returns their product.\n",
        "\n",
        "**Assignment 2: Using Built-in Functions**\n",
        "\n",
        "1. **Display Length**: Use the `len()` function to find the length of a list and a string, and print the results.\n",
        "\n",
        "2. **Check Types**: Use the `type()` function to check the types of different values such as a number, a string, and a list, and print the results.\n",
        "\n",
        "---\n",
        "\n"
      ],
      "metadata": {
        "id": "JeZbSBXhDaJk"
      }
    },
    {
      "cell_type": "markdown",
      "source": [
        "#### **Solutions**\n",
        "\n",
        "**Solution 1: Simple Functions**\n",
        "\n",
        "```python\n",
        "# 1. Greeting Function\n",
        "def greet_person(name):\n",
        "    return \"Hello, \" + name + \"!\"\n",
        "\n",
        "# Test the function\n",
        "print(greet_person(\"John\"))  # Output: Hello, John!\n",
        "\n",
        "# 2. Sum Function\n",
        "def calculate_sum(a, b):\n",
        "    return a + b\n",
        "\n",
        "# Test the function\n",
        "print(calculate_sum(10, 5))  # Output: 15\n",
        "\n",
        "# 3. String Length\n",
        "def string_length(s):\n",
        "    return len(s)\n",
        "\n",
        "# Test the function\n",
        "print(string_length(\"Hello\"))  # Output: 5\n",
        "\n",
        "# 4. Multiply Function\n",
        "def multiply_numbers(a, b):\n",
        "    return a * b\n",
        "\n",
        "# Test the function\n",
        "print(multiply_numbers(4, 3))  # Output: 12\n",
        "```\n",
        "\n",
        "**Solution 2: Using Built-in Functions**\n",
        "\n",
        "```python\n",
        "# 1. Display Length\n",
        "my_list = [1, 2, 3, 4]\n",
        "my_string = \"Python\"\n",
        "print(len(my_list))   # Output: 4\n",
        "print(len(my_string)) # Output: 6\n",
        "\n",
        "# 2. Check Types\n",
        "print(type(123))      # Output: <class 'int'>\n",
        "print(type(\"Hello\"))  # Output: <class 'str'>\n",
        "print(type([1, 2, 3]))  # Output: <class 'list'>\n",
        "```\n",
        "\n",
        "---\n",
        "\n",
        "These assignments and solutions will help reinforce your understanding of functions and built-in functions in Python. Practice these tasks to become more comfortable with defining and using functions. Happy coding!"
      ],
      "metadata": {
        "id": "8Is37KZ3Dgl2"
      }
    },
    {
      "cell_type": "code",
      "source": [],
      "metadata": {
        "id": "39lbDl96A6K8"
      },
      "execution_count": null,
      "outputs": []
    },
    {
      "cell_type": "code",
      "execution_count": null,
      "metadata": {
        "id": "EpHPQVIb9XIE"
      },
      "outputs": [],
      "source": []
    }
  ]
}