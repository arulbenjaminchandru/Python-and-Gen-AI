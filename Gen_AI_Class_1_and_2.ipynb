{
  "nbformat": 4,
  "nbformat_minor": 0,
  "metadata": {
    "colab": {
      "provenance": [],
      "toc_visible": true,
      "authorship_tag": "ABX9TyOPYDKTzS/A59HE7mYdyFim",
      "include_colab_link": true
    },
    "kernelspec": {
      "name": "python3",
      "display_name": "Python 3"
    },
    "language_info": {
      "name": "python"
    }
  },
  "cells": [
    {
      "cell_type": "markdown",
      "metadata": {
        "id": "view-in-github",
        "colab_type": "text"
      },
      "source": [
        "<a href=\"https://colab.research.google.com/github/arulbenjaminchandru/Python-and-Gen-AI/blob/main/Gen_AI_Class_1_and_2.ipynb\" target=\"_parent\"><img src=\"https://colab.research.google.com/assets/colab-badge.svg\" alt=\"Open In Colab\"/></a>"
      ]
    },
    {
      "cell_type": "markdown",
      "source": [
        "# Class 1"
      ],
      "metadata": {
        "id": "SX2g6zGY6rPT"
      }
    },
    {
      "cell_type": "markdown",
      "source": [
        "## **Introduction to Programming and Python**"
      ],
      "metadata": {
        "id": "7H2sc6LFbEoL"
      }
    },
    {
      "cell_type": "markdown",
      "source": [
        "### **1. Introduction to Programming**\n",
        "- **What is Programming?**\n",
        "  - Programming is the process of giving instructions to a computer to perform specific tasks.\n",
        "  - Think of it as writing a detailed set of directions that the computer will follow exactly as written.\n",
        "\n",
        "- **Why Learn Python?**\n",
        "  - **Beginner-Friendly:** Python’s syntax is clear and easy to read, making it a great choice for beginners.\n",
        "  - **Versatile:** Python is used across various fields such as web development, data analysis, automation, and more.\n",
        "  - **Automation:** Python can help automate repetitive tasks, making your work more efficient.\n",
        "\n",
        "- **Using Google Colab**\n",
        "  - **What is Google Colab?**\n",
        "    - Google Colab is a free, cloud-based platform where you can write and run Python code in your browser.\n",
        "    - No installation is needed, which makes it convenient and easy to start with.\n",
        "  - **Getting Started with Google Colab:**\n",
        "    - Open [Google Colab](https://colab.research.google.com/).\n",
        "    - You’ll be presented with a notebook interface where you can write and execute Python code directly.\n",
        "    - Google Colab also supports collaboration, allowing you to share your work easily."
      ],
      "metadata": {
        "id": "Sgs5K74hbp5M"
      }
    },
    {
      "cell_type": "markdown",
      "source": [
        "### **2. Overview of Google Colab**\n",
        "\n",
        "### **What is Google Colab?**\n",
        "- **Google Colab** (short for Colaboratory) is a free, cloud-based platform developed by Google that allows you to write and execute Python code directly in your web browser.\n",
        "- It's designed for coding, data analysis, machine learning, and more, making it versatile for various projects.\n",
        "\n",
        "### **Key Features of Google Colab**\n",
        "- **No Installation Needed:** You can start coding without installing Python on your computer. Just open your browser, and you're ready to go.\n",
        "- **Free Access to Powerful Computing Resources:** Google Colab provides free access to GPUs and TPUs (types of processors) that can speed up your computations, especially useful for data-intensive tasks.\n",
        "- **Notebook Interface:** Colab uses a notebook format, meaning you can write code, add explanations, and visualize results all in one place. It’s an interactive document where code and text live together.\n",
        "- **Collaboration:** You can share your Colab notebooks with others, allowing multiple people to work on the same document simultaneously, just like with Google Docs.\n",
        "\n",
        "### **Getting Started with Google Colab**\n",
        "1. **Opening Google Colab:**\n",
        "   - Go to [Google Colab](https://colab.research.google.com/).\n",
        "   - You can either start a new notebook or open an existing one.\n",
        "2. **The Interface:**\n",
        "   - **Code Cells:** Where you write and run your Python code.\n",
        "   - **Text Cells:** Where you can add text, explanations, or headings using Markdown.\n",
        "   - **Output Area:** Displays the results of your code, including text, images, graphs, etc.\n",
        "3. **Running Code:**\n",
        "   - Click on a code cell and press the \"Run\" button (or press `Shift + Enter`) to execute your code.\n",
        "   - The output will appear directly below the code cell.\n",
        "4. **Saving Your Work:**\n",
        "   - Your notebooks are automatically saved in your Google Drive. You can also download them as `.ipynb` files (which can be opened in other Jupyter environments) or as `.py` files (pure Python script).\n",
        "5. **Collaborating:**\n",
        "   - Share your notebook by clicking the \"Share\" button, just like you would with any Google Doc. This allows others to view or edit your notebook.\n",
        "\n",
        "### **Why Use Google Colab?**\n",
        "- **Beginner-Friendly:** Its simple setup and user-friendly interface make it ideal for those just starting with Python.\n",
        "- **Accessible from Anywhere:** Since it’s cloud-based, you can access your work from any device with an internet connection.\n",
        "- **Perfect for Learning:** Google Colab is widely used in online courses and tutorials, making it easier to follow along and practice coding."
      ],
      "metadata": {
        "id": "adDheDNPb7Hp"
      }
    },
    {
      "cell_type": "code",
      "execution_count": null,
      "metadata": {
        "colab": {
          "base_uri": "https://localhost:8080/"
        },
        "id": "1q2mG64TZqOM",
        "outputId": "f91c99bb-1a57-48ed-f772-1062c351331e"
      },
      "outputs": [
        {
          "output_type": "stream",
          "name": "stdout",
          "text": [
            "Hello World\n"
          ]
        }
      ],
      "source": [
        "# This is a code cell. Here we can write and execute a code\n",
        "\n",
        "print(\"Hello World\")"
      ]
    },
    {
      "cell_type": "markdown",
      "source": [
        "#### **2.1 Introduction to GitHub**\n",
        "\n",
        "### **1. What is GitHub?**\n",
        "- **GitHub** is a web-based platform that hosts Git repositories. It allows you to store and manage your code, collaborate with others, and keep a history of your work online.\n",
        "\n",
        "### **2. Why Use GitHub?**\n",
        "- **Version Control:** Keep track of changes to your files and revert to previous versions if needed.\n",
        "- **Collaboration:** Work with others on the same project, merging changes and reviewing contributions.\n",
        "- **Backup:** Store your notebooks and projects online, ensuring you don’t lose your work.\n",
        "- **Showcase:** Share your projects with others and showcase your work.\n",
        "\n",
        "### **3. Getting Started with GitHub**\n",
        "\n",
        "#### **a. Creating a GitHub Account**\n",
        "1. **Sign Up:** Go to [GitHub](https://github.com/) and click on `Sign up` to create a free account.\n",
        "2. **Verify Email:** Confirm your email address to activate your account.\n",
        "\n",
        "#### **b. Creating a Repository**\n",
        "1. **What is a Repository?**\n",
        "   - A repository (or repo) is where your project files are stored. It includes your code, notebooks, and the history of changes.\n",
        "2. **Create a New Repository:**\n",
        "   - Log in to GitHub and click on the `+` icon in the upper right corner, then select `New repository`.\n",
        "   - Enter a name for your repository and choose its visibility (public or private).\n",
        "   - Click `Create repository`.\n",
        "\n",
        "#### **c. Uploading Google Colab Notebooks to GitHub**\n",
        "1. **Save Notebook to GitHub:**\n",
        "   - In Google Colab, open your notebook.\n",
        "   - Go to `File` > `Save a copy in GitHub`.\n",
        "   - Authenticate with GitHub if prompted.\n",
        "   - Select the repository where you want to save the notebook.\n",
        "   - Provide a commit message (a short description of your changes).\n",
        "   - Click `OK` to upload the notebook.\n",
        "\n",
        "#### **d. Basic GitHub Operations (for Beginners)**\n",
        "1. **View Repositories:**\n",
        "   - Access your repositories from your GitHub profile to view and manage your projects.\n",
        "\n",
        "2. **Fork a Repository:**\n",
        "   - Forking creates a copy of someone else’s repository under your account. Click the `Fork` button on the repository page.\n",
        "\n",
        "3. **Create a Pull Request:**\n",
        "   - When you want to propose changes to a repository, you create a pull request. This lets others review and merge your changes.\n",
        "\n",
        "### **4. Learning More**\n",
        "- **GitHub Docs:** Explore the [GitHub Documentation](https://docs.github.com/en) for detailed guides and tutorials.\n",
        "- **GitHub Learning Lab:** Offers interactive lessons to help you learn how to use GitHub effectively."
      ],
      "metadata": {
        "id": "AizvspSMhvRg"
      }
    },
    {
      "cell_type": "markdown",
      "source": [
        "### **3. Print Statements**\n",
        "\n",
        "- **What is a Print Statement?**\n",
        "  - The `print()` function is one of the most commonly used functions in Python. It allows you to display output on the screen.\n",
        "\n",
        "- **Using the `print()` Function:**\n",
        "  - To display a message or result, you simply use the `print()` function with the content you want to display inside the parentheses.\n",
        "\n",
        "  ```python\n",
        "  print(\"Hello, World!\")\n",
        "  ```\n",
        "\n",
        "  **Output:**\n",
        "  ```\n",
        "  Hello, World!\n",
        "  ```\n",
        "\n",
        "- **Printing Multiple Items:**\n",
        "  - You can print multiple items by separating them with commas. Python automatically adds a space between the items.\n",
        "\n",
        "  ```python\n",
        "  print(\"Welcome to\", \"Python programming!\")\n",
        "  ```\n",
        "\n",
        "  **Output:**\n",
        "  ```\n",
        "  Welcome to Python programming!\n",
        "  ```\n",
        "\n",
        "- **Printing Variables:**\n",
        "  - You can also print the value of variables using `print()`.\n",
        "\n",
        "  ```python\n",
        "  name = \"Alice\"\n",
        "  print(\"Hello,\", name)\n",
        "  ```\n",
        "\n",
        "  **Output:**\n",
        "  ```\n",
        "  Hello, Alice\n",
        "  ```"
      ],
      "metadata": {
        "id": "FySwkAWJcYlm"
      }
    },
    {
      "cell_type": "code",
      "source": [
        "print(\"Hello, World!\")"
      ],
      "metadata": {
        "colab": {
          "base_uri": "https://localhost:8080/"
        },
        "id": "rSdZ2jBfcykN",
        "outputId": "05a458c7-de24-45ca-bd98-aa09f31c7f97"
      },
      "execution_count": null,
      "outputs": [
        {
          "output_type": "stream",
          "name": "stdout",
          "text": [
            "Hello, World!\n"
          ]
        }
      ]
    },
    {
      "cell_type": "code",
      "source": [
        "print(\"Welcome to\", \"Python programming!\")"
      ],
      "metadata": {
        "colab": {
          "base_uri": "https://localhost:8080/"
        },
        "id": "3lHIH_AEc4Py",
        "outputId": "68d24927-2c68-4ae7-a574-0424a09883af"
      },
      "execution_count": null,
      "outputs": [
        {
          "output_type": "stream",
          "name": "stdout",
          "text": [
            "Welcome to Python programming!\n"
          ]
        }
      ]
    },
    {
      "cell_type": "code",
      "source": [
        "name = \"Alice\"\n",
        "print(\"Hello,\", name)"
      ],
      "metadata": {
        "colab": {
          "base_uri": "https://localhost:8080/"
        },
        "id": "xnDdKR5Ec8nW",
        "outputId": "cf6aa24f-a9c2-4d9c-8f35-639052e09b38"
      },
      "execution_count": null,
      "outputs": [
        {
          "output_type": "stream",
          "name": "stdout",
          "text": [
            "Hello, Alice\n"
          ]
        }
      ]
    },
    {
      "cell_type": "markdown",
      "source": [
        "\n",
        "### **4. Comments**\n",
        "\n",
        "- **What are Comments?**\n",
        "  - Comments are lines in your code that are not executed by Python. They are used to explain your code, making it easier for you and others to understand.\n",
        "\n",
        "- **Single-Line Comments:**\n",
        "  - In Python, single-line comments start with the `#` symbol. Everything after `#` on that line is ignored by Python.\n",
        "\n",
        "  ```python\n",
        "  # This is a comment\n",
        "  print(\"This will be printed.\")  # This is an inline comment\n",
        "  ```\n",
        "\n",
        "- **Multi-Line Comments:**\n",
        "  - Although Python doesn’t have a specific syntax for multi-line comments, you can use multiple `#` symbols, or you can use triple quotes (`'''` or `\"\"\"`) for a block of text that won’t be executed.\n",
        "\n",
        "  ```python\n",
        "  # This is a comment\n",
        "  # spread over multiple lines\n",
        "  \"\"\"\n",
        "  This is a block of text\n",
        "  that won't be executed\n",
        "  as code.\n",
        "  \"\"\"\n",
        "  ```\n",
        "\n",
        "### **Why Use Comments?**\n",
        "- **Clarifying Your Code:** Comments make your code easier to read and understand, especially when you or someone else revisits it later.\n",
        "- **Debugging:** Comments can be used to temporarily disable parts of your code while testing or debugging."
      ],
      "metadata": {
        "id": "1cfDchXectef"
      }
    },
    {
      "cell_type": "code",
      "source": [
        "# This is a comment\n",
        "print(\"This will be printed.\")  # This is an inline comment"
      ],
      "metadata": {
        "colab": {
          "base_uri": "https://localhost:8080/"
        },
        "id": "Gi-geeXPdBST",
        "outputId": "ce0cd28b-938a-4c3a-b76c-8907afa1d760"
      },
      "execution_count": null,
      "outputs": [
        {
          "output_type": "stream",
          "name": "stdout",
          "text": [
            "This will be printed.\n"
          ]
        }
      ]
    },
    {
      "cell_type": "code",
      "source": [
        "# This is a comment\n",
        "# spread over multiple lines\n",
        "'''\n",
        "This is a block of text\n",
        "that won't be executed\n",
        "as code.\n",
        "'''\n",
        "\n",
        "\"\"\"\n",
        "Some Text here\n",
        "\"\"\"\n",
        "\n",
        "'''\n",
        "Single quotes\n",
        "'''\n",
        "\n",
        "a = 5\n",
        "print(a)\n"
      ],
      "metadata": {
        "colab": {
          "base_uri": "https://localhost:8080/"
        },
        "id": "ZbY9VT9-dLAO",
        "outputId": "5f57564c-7470-4fa5-84d4-8e3aba9e45bd"
      },
      "execution_count": null,
      "outputs": [
        {
          "output_type": "stream",
          "name": "stdout",
          "text": [
            "5\n"
          ]
        }
      ]
    },
    {
      "cell_type": "code",
      "source": [],
      "metadata": {
        "colab": {
          "base_uri": "https://localhost:8080/"
        },
        "id": "PzvesidaydYm",
        "outputId": "0ed6c03d-f01e-4bc8-af1e-4ec30d5774e2"
      },
      "execution_count": null,
      "outputs": [
        {
          "output_type": "stream",
          "name": "stdout",
          "text": [
            "5\n"
          ]
        }
      ]
    },
    {
      "cell_type": "markdown",
      "source": [
        "# Class 2"
      ],
      "metadata": {
        "id": "rfe2LMHd6xUP"
      }
    },
    {
      "cell_type": "markdown",
      "source": [
        "## **Variables and Data Types**\n",
        "\n"
      ],
      "metadata": {
        "id": "4FyF2mZldnwG"
      }
    },
    {
      "cell_type": "markdown",
      "source": [
        "### **5. Variables**\n",
        "\n",
        "- **What is a Variable?**\n",
        "  - A variable is a way to store data in your program. Think of it as a container that holds a value, which can be used and modified throughout your code.\n",
        "\n",
        "- **Creating Variables:**\n",
        "  - To create a variable in Python, you simply assign a value to a name using the `=` sign.\n",
        "\n",
        "  ```python\n",
        "  age = 13\n",
        "  pi = 3.14\n",
        "  name = \"Alice\"\n",
        "  ```\n",
        "\n",
        "- **Using Variables:**\n",
        "  - Once a variable is created, you can use it in your code by referring to its name.\n",
        "\n",
        "  ```python\n",
        "  print(age)  # Outputs: 13\n",
        "  print(name)  # Outputs: Alice\n",
        "  ```\n",
        "\n",
        "- **Variable Naming Rules:**\n",
        "  - Variable names must start with a letter or an underscore (`_`).\n",
        "  - They can contain letters, numbers, and underscores but cannot start with a number.\n",
        "  - Variable names are case-sensitive (`Age` and `age` are different)."
      ],
      "metadata": {
        "id": "gBJVhX5Od1a2"
      }
    },
    {
      "cell_type": "code",
      "source": [
        "age = 13\n",
        "pi = 3.14\n",
        "name = \"Alice\""
      ],
      "metadata": {
        "id": "lb8tg6c4ewBD"
      },
      "execution_count": null,
      "outputs": []
    },
    {
      "cell_type": "code",
      "source": [
        "print(age)  # Outputs: 13\n",
        "print(name)  # Outputs: Alice"
      ],
      "metadata": {
        "colab": {
          "base_uri": "https://localhost:8080/"
        },
        "id": "rrBMDqu6et0b",
        "outputId": "43dea3d1-0006-4a8b-88c4-39f60efcbfc7"
      },
      "execution_count": null,
      "outputs": [
        {
          "output_type": "stream",
          "name": "stdout",
          "text": [
            "13\n",
            "Alice\n"
          ]
        }
      ]
    },
    {
      "cell_type": "markdown",
      "source": [
        "### **6. Data Types**\n",
        "\n",
        "- **What are Data Types?**\n",
        "  - Data types define the kind of data that a variable can hold. Python has several built-in data types, but we'll focus on three basic ones: integers, floats, and strings.\n",
        "\n"
      ],
      "metadata": {
        "id": "COjNBVTZdwmJ"
      }
    },
    {
      "cell_type": "markdown",
      "source": [
        "#### **a. Integers (`int`)**\n",
        "\n",
        "- **Definition:**\n",
        "  - Integers are whole numbers, both positive and negative, without a decimal point.\n",
        "  \n",
        "- **Examples:**\n",
        "  ```python\n",
        "  number_of_apples = 5\n",
        "  temperature = -20\n",
        "  ```\n",
        "  \n",
        "- **Usage:**\n",
        "  - Integers are used when you need to count items, measure something in whole numbers, or perform arithmetic without fractions.\n",
        "\n",
        "  ```python\n",
        "  print(2 + 3)  # Outputs: 5\n",
        "  ```\n",
        "\n"
      ],
      "metadata": {
        "id": "VMSbYQuod87S"
      }
    },
    {
      "cell_type": "code",
      "source": [
        "number_of_apples = 5\n",
        "temperature = -20"
      ],
      "metadata": {
        "id": "x6frywCEeqRR"
      },
      "execution_count": null,
      "outputs": []
    },
    {
      "cell_type": "code",
      "source": [
        "print(2 + 3)  # Outputs: 5"
      ],
      "metadata": {
        "colab": {
          "base_uri": "https://localhost:8080/"
        },
        "id": "JxodlHm5ento",
        "outputId": "b0a47f00-911d-4583-95f4-0ff78676be11"
      },
      "execution_count": null,
      "outputs": [
        {
          "output_type": "stream",
          "name": "stdout",
          "text": [
            "5\n"
          ]
        }
      ]
    },
    {
      "cell_type": "markdown",
      "source": [
        "#### **b. Floats (`float`)**\n",
        "\n",
        "- **Definition:**\n",
        "  - Floats are numbers that have a decimal point. They are used for more precise measurements.\n",
        "\n",
        "- **Examples:**\n",
        "  ```python\n",
        "  price = 19.99\n",
        "  weight = 2.5\n",
        "  ```\n",
        "\n",
        "- **Usage:**\n",
        "  - Floats are used when dealing with measurements that require precision, such as distances, weights, or prices.\n",
        "\n",
        "  ```python\n",
        "  print(3.5 * 2)  # Outputs: 7.0\n",
        "  ```\n",
        "\n"
      ],
      "metadata": {
        "id": "GkfvxgDOeBBk"
      }
    },
    {
      "cell_type": "code",
      "source": [
        "price = 19.99\n",
        "weight = 2.5"
      ],
      "metadata": {
        "id": "HSqtsMoDekOB"
      },
      "execution_count": null,
      "outputs": []
    },
    {
      "cell_type": "code",
      "source": [
        "print(3.5 * 2)  # Outputs: 7.0"
      ],
      "metadata": {
        "colab": {
          "base_uri": "https://localhost:8080/"
        },
        "id": "eZfzyTPNejGL",
        "outputId": "4cc0747c-9074-463b-d51a-9b2f7748b296"
      },
      "execution_count": null,
      "outputs": [
        {
          "output_type": "stream",
          "name": "stdout",
          "text": [
            "7.0\n"
          ]
        }
      ]
    },
    {
      "cell_type": "markdown",
      "source": [
        "#### **c. Strings (`str`)**\n",
        "\n",
        "- **Definition:**\n",
        "  - Strings are sequences of characters enclosed in single or double quotes. They are used to represent text.\n",
        "\n",
        "- **Examples:**\n",
        "  ```python\n",
        "  greeting = \"Hello, World!\"\n",
        "  username = 'Alice'\n",
        "  ```\n",
        "\n",
        "- **Usage:**\n",
        "  - Strings are used to store words, sentences, or any other textual information.\n",
        "\n",
        "  ```python\n",
        "  print(\"Welcome to Python programming!\")\n",
        "  ```\n",
        "\n"
      ],
      "metadata": {
        "id": "B3xE4GtAeEn5"
      }
    },
    {
      "cell_type": "code",
      "source": [
        "greeting = \"Hello, World!\"\n",
        "username = 'Alice'"
      ],
      "metadata": {
        "id": "yY-EgaQyeeSn"
      },
      "execution_count": null,
      "outputs": []
    },
    {
      "cell_type": "code",
      "source": [
        "print(\"Welcome to Python programming!\")"
      ],
      "metadata": {
        "colab": {
          "base_uri": "https://localhost:8080/"
        },
        "id": "-jRD_EfRecy7",
        "outputId": "31e95563-64e3-4b5a-b6f9-de624ac73c4c"
      },
      "execution_count": null,
      "outputs": [
        {
          "output_type": "stream",
          "name": "stdout",
          "text": [
            "Welcome to Python programming!\n"
          ]
        }
      ]
    },
    {
      "cell_type": "markdown",
      "source": [
        "### **7. Checking Data Types**\n",
        "\n",
        "- **Type Checking:**\n",
        "  - You can check the type of a variable using the `type()` function.\n",
        "\n",
        "  ```python\n",
        "  print(type(age))  # Outputs: <class 'int'>\n",
        "  print(type(price))  # Outputs: <class 'float'>\n",
        "  print(type(name))  # Outputs: <class 'str'>\n",
        "  ```\n",
        "\n"
      ],
      "metadata": {
        "id": "oiGc-eMoeIb-"
      }
    },
    {
      "cell_type": "code",
      "source": [
        "print(type(age))  # Outputs: <class 'int'>\n",
        "print(type(price))  # Outputs: <class 'float'>\n",
        "print(type(name))  # Outputs: <class 'str'>"
      ],
      "metadata": {
        "colab": {
          "base_uri": "https://localhost:8080/"
        },
        "id": "sqcuTeCveaYu",
        "outputId": "70eb9e03-ba96-47a6-cf71-433ad2e0c4f7"
      },
      "execution_count": null,
      "outputs": [
        {
          "output_type": "stream",
          "name": "stdout",
          "text": [
            "<class 'int'>\n",
            "<class 'float'>\n",
            "<class 'str'>\n"
          ]
        }
      ]
    },
    {
      "cell_type": "markdown",
      "source": [
        "### **8. Converting Between Data Types**\n",
        "\n",
        "- **Type Conversion:**\n",
        "  - Sometimes, you may need to convert one data type to another. This is called type conversion.\n",
        "\n",
        "  ```python\n",
        "  # Convert integer to string\n",
        "  age_str = str(age)\n",
        "\n",
        "  # Convert string to integer\n",
        "  number = int(\"10\")\n",
        "\n",
        "  # Convert integer to float\n",
        "  float_number = float(5)\n",
        "  ```"
      ],
      "metadata": {
        "id": "Z7iICMTpeMGb"
      }
    },
    {
      "cell_type": "code",
      "source": [
        "# Convert integer to string\n",
        "age_str = str(age)\n",
        "\n",
        "# Convert string to integer\n",
        "number = int(\"10\")\n",
        "\n",
        "# Convert integer to float\n",
        "float_number = float(5)"
      ],
      "metadata": {
        "id": "LF7a7_-7dnYc"
      },
      "execution_count": null,
      "outputs": []
    },
    {
      "cell_type": "markdown",
      "source": [
        "## **Simple Input and Output in Python**\n",
        "\n"
      ],
      "metadata": {
        "id": "Il8lDmRJfOl2"
      }
    },
    {
      "cell_type": "markdown",
      "source": [
        "### **9. Output Using `print()`**\n",
        "\n",
        "- **What is the `print()` Function?**\n",
        "  - The `print()` function is used to display output to the screen. We've already seen how it works with simple text, but it can also be used to display the results of calculations or the content of variables.\n",
        "\n",
        "  ```python\n",
        "  print(\"Welcome to Python!\")\n",
        "  number = 10\n",
        "  print(\"The number is\", number)\n",
        "  ```\n",
        "\n"
      ],
      "metadata": {
        "id": "YUieVJHrfUS-"
      }
    },
    {
      "cell_type": "code",
      "source": [
        "print(\"Welcome to Python!\")\n",
        "number = 10\n",
        "print(\"The number is\", number)"
      ],
      "metadata": {
        "colab": {
          "base_uri": "https://localhost:8080/"
        },
        "id": "h9z4HDfFgI8I",
        "outputId": "b2fc582a-ceba-417c-a203-a54d37b7ebea"
      },
      "execution_count": null,
      "outputs": [
        {
          "output_type": "stream",
          "name": "stdout",
          "text": [
            "Welcome to Python!\n",
            "The number is 10\n"
          ]
        }
      ]
    },
    {
      "cell_type": "markdown",
      "source": [
        "### **10. Input Using `input()`**\n",
        "\n",
        "- **What is the `input()` Function?**\n",
        "  - The `input()` function is used to get input from the user. When this function is called, the program pauses and waits for the user to type something and press Enter.\n",
        "\n",
        "  ```python\n",
        "  name = input(\"Enter your name: \")\n",
        "  ```\n",
        "\n",
        "  - Whatever the user types is stored as a string in the variable `name`.\n",
        "\n"
      ],
      "metadata": {
        "id": "L5OAY8n2faRF"
      }
    },
    {
      "cell_type": "code",
      "source": [
        "name = input(\"Enter your name: \")\n",
        "print(name)"
      ],
      "metadata": {
        "colab": {
          "base_uri": "https://localhost:8080/"
        },
        "id": "Mgh1GdEDgBiu",
        "outputId": "dcfddd2e-b5ff-4021-bbd1-aa46d342bc07"
      },
      "execution_count": null,
      "outputs": [
        {
          "output_type": "stream",
          "name": "stdout",
          "text": [
            "Enter your name: Arul Benjamin\n",
            "Arul Benjamin\n"
          ]
        }
      ]
    },
    {
      "cell_type": "markdown",
      "source": [
        "### **11. Combining `input()` and `print()`**\n",
        "\n",
        "- **Getting and Displaying User Input:**\n",
        "  - You can combine `input()` and `print()` to create interactive programs that respond to user input.\n",
        "\n",
        "  ```python\n",
        "  name = input(\"What is your name? \")\n",
        "  print(\"Hello,\", name + \"!\")\n",
        "  ```\n",
        "\n",
        "  **Example Interaction:**\n",
        "  ```\n",
        "  What is your name? Alice\n",
        "  Hello, Alice!\n",
        "  ```\n",
        "\n",
        "- **Working with Numbers:**\n",
        "  - If you want to work with numbers (like integers or floats), you need to convert the input, since `input()` always returns a string.\n",
        "\n",
        "  ```python\n",
        "  age = input(\"How old are you? \")\n",
        "  print(\"You are\", age, \"years old.\")\n",
        "  ```\n",
        "\n",
        "  - To perform calculations, convert the input to an integer or float:\n",
        "\n",
        "  ```python\n",
        "  age = int(input(\"How old are you? \"))\n",
        "  print(\"Next year, you will be\", age + 1, \"years old.\")\n",
        "  ```\n",
        "\n",
        "  **Example Interaction:**\n",
        "  ```\n",
        "  How old are you? 13\n",
        "  Next year, you will be 14 years old.\n",
        "  ```\n",
        "\n"
      ],
      "metadata": {
        "id": "7kwMASvRffE2"
      }
    },
    {
      "cell_type": "code",
      "source": [
        "age = input(\"How old are you? \")\n",
        "print(\"You are\", age, \"years old.\")"
      ],
      "metadata": {
        "colab": {
          "base_uri": "https://localhost:8080/"
        },
        "id": "JPk2O18Gfz4-",
        "outputId": "145055fb-f3c0-4b97-996f-64c1705e0adc"
      },
      "execution_count": null,
      "outputs": [
        {
          "output_type": "stream",
          "name": "stdout",
          "text": [
            "How old are you? 35.5\n",
            "You are 35.5 years old.\n"
          ]
        }
      ]
    },
    {
      "cell_type": "code",
      "source": [
        "age = int(input(\"How old are you? \"))\n",
        "print(\"Next year, you will be\", age + 1, \"years old.\")"
      ],
      "metadata": {
        "colab": {
          "base_uri": "https://localhost:8080/"
        },
        "id": "HwLj4Td0ftLJ",
        "outputId": "fd4714af-46dc-44a0-b046-db45ca1d7b30"
      },
      "execution_count": null,
      "outputs": [
        {
          "output_type": "stream",
          "name": "stdout",
          "text": [
            "How old are you? 35\n",
            "Next year, you will be 36 years old.\n"
          ]
        }
      ]
    },
    {
      "cell_type": "markdown",
      "source": [
        "### **12. Example: Simple Calculator**\n",
        "\n",
        "- **Creating a Simple Calculator:**\n",
        "  - Let's make a basic calculator that asks the user for two numbers and then adds them together.\n",
        "\n",
        "  ```python\n",
        "  number1 = float(input(\"Enter the first number: \"))\n",
        "  number2 = float(input(\"Enter the second number: \"))\n",
        "  result = number1 + number2\n",
        "  print(\"The sum of the two numbers is:\", result)\n",
        "  ```\n",
        "\n",
        "  **Example Interaction:**\n",
        "  ```\n",
        "  Enter the first number: 5.2\n",
        "  Enter the second number: 3.8\n",
        "  The sum of the two numbers is: 9.0\n",
        "  ```"
      ],
      "metadata": {
        "id": "CHMVojipfjK9"
      }
    },
    {
      "cell_type": "code",
      "source": [
        "number1 = float(input(\"Enter the first number: \"))\n",
        "number2 = float(input(\"Enter the second number: \"))\n",
        "result = number1 + number2\n",
        "print(\"The sum of the two numbers is:\", result)"
      ],
      "metadata": {
        "colab": {
          "base_uri": "https://localhost:8080/"
        },
        "id": "0GPwJYXSflef",
        "outputId": "94c60b53-5f7c-4e37-be41-d8b1b75f99a3"
      },
      "execution_count": null,
      "outputs": [
        {
          "output_type": "stream",
          "name": "stdout",
          "text": [
            "Enter the first number: 3.7\n",
            "Enter the second number: 4.5\n",
            "The sum of the two numbers is: 8.2\n"
          ]
        }
      ]
    },
    {
      "cell_type": "markdown",
      "source": [
        "## **Conditional Statements in Python**\n",
        "\n"
      ],
      "metadata": {
        "id": "Ky-tkDvR63Fn"
      }
    },
    {
      "cell_type": "markdown",
      "source": [
        "### **13. What are Conditional Statements?**\n",
        "- Conditional statements allow your program to make decisions based on certain conditions. They let you control the flow of your program by executing different code depending on whether a condition is `True` or `False`.\n",
        "\n"
      ],
      "metadata": {
        "id": "_eUjp7n_7Gez"
      }
    },
    {
      "cell_type": "markdown",
      "source": [
        "### **14. The `if` Statement**\n",
        "- The `if` statement is used to test a condition. If the condition is `True`, the code block under the `if` statement is executed.\n",
        "\n",
        "  ```python\n",
        "  age = 18\n",
        "  if age >= 18:\n",
        "      print(\"You are an adult.\")\n",
        "  ```\n",
        "\n",
        "  **Explanation:**\n",
        "  - If `age` is 18 or more, the message \"You are an adult.\" will be printed.\n",
        "\n"
      ],
      "metadata": {
        "id": "GJQ0YTKG7Ndr"
      }
    },
    {
      "cell_type": "markdown",
      "source": [
        "### **15. The `else` Statement**\n",
        "- The `else` statement provides an alternative action if the `if` condition is `False`.\n",
        "\n",
        "  ```python\n",
        "  age = 16\n",
        "  if age >= 18:\n",
        "      print(\"You are an adult.\")\n",
        "  else:\n",
        "      print(\"You are not an adult.\")\n",
        "  ```\n",
        "\n",
        "  **Explanation:**\n",
        "  - If `age` is less than 18, the message \"You are not an adult.\" will be printed.\n",
        "\n"
      ],
      "metadata": {
        "id": "Fbmmqmvi7Sph"
      }
    },
    {
      "cell_type": "markdown",
      "source": [
        "### **16. The `elif` Statement**\n",
        "- The `elif` (short for \"else if\") statement allows you to check multiple conditions. If the first `if` condition is `False`, the program checks the `elif` condition, and so on.\n",
        "\n",
        "  ```python\n",
        "  age = 15\n",
        "  if age >= 18:\n",
        "      print(\"You are an adult.\")\n",
        "  elif age >= 13:\n",
        "      print(\"You are a teenager.\")\n",
        "  else:\n",
        "      print(\"You are a child.\")\n",
        "  ```\n",
        "\n",
        "  **Explanation:**\n",
        "  - If `age` is 18 or more, \"You are an adult.\" is printed.\n",
        "  - If `age` is between 13 and 17, \"You are a teenager.\" is printed.\n",
        "  - If `age` is less than 13, \"You are a child.\" is printed.\n",
        "\n",
        "### **Example: Simple Grading System**\n",
        "- Let's create a simple program that assigns a grade based on a student's score.\n",
        "\n",
        "  ```python\n",
        "  score = 85\n",
        "\n",
        "  if score >= 90:\n",
        "      print(\"Grade: A\")\n",
        "  elif score >= 80:\n",
        "      print(\"Grade: B\")\n",
        "  elif score >= 70:\n",
        "      print(\"Grade: C\")\n",
        "  elif score >= 60:\n",
        "      print(\"Grade: D\")\n",
        "  else:\n",
        "      print(\"Grade: F\")\n",
        "  ```\n",
        "\n",
        "  **Explanation:**\n",
        "  - If `score` is 90 or above, the grade is \"A\".\n",
        "  - If `score` is between 80 and 89, the grade is \"B\".\n",
        "  - If `score` is between 70 and 79, the grade is \"C\".\n",
        "  - If `score` is between 60 and 69, the grade is \"D\".\n",
        "  - If `score` is below 60, the grade is \"F\".\n",
        "\n"
      ],
      "metadata": {
        "id": "uYSLMzv2ADTw"
      }
    },
    {
      "cell_type": "markdown",
      "source": [
        "### **17. Nesting `if` Statements**\n",
        "- You can also nest `if` statements inside other `if` statements to check multiple conditions.\n",
        "\n",
        "  ```python\n",
        "  age = 25\n",
        "  is_student = True\n",
        "\n",
        "  if age >= 18:\n",
        "      if is_student:\n",
        "          print(\"You are an adult student.\")\n",
        "      else:\n",
        "          print(\"You are an adult.\")\n",
        "  else:\n",
        "      print(\"You are not an adult.\")\n",
        "  ```\n",
        "\n",
        "  **Explanation:**\n",
        "  - This example checks if the person is an adult and whether they are a student, printing a message based on both conditions."
      ],
      "metadata": {
        "id": "ZjHbKX4nALMe"
      }
    },
    {
      "cell_type": "markdown",
      "source": [
        "## **Comparison and Logical Operators in Python**\n",
        "\n"
      ],
      "metadata": {
        "id": "2KvNE8RmAW_N"
      }
    },
    {
      "cell_type": "markdown",
      "source": [
        "### **18. Comparison Operators**\n",
        "- Comparison operators are used to compare two values. They return either `True` or `False` depending on the result of the comparison.\n",
        "\n",
        "| Operator | Description                     | Example          | Result    |\n",
        "|----------|---------------------------------|------------------|-----------|\n",
        "| `==`     | Equal to                        | `5 == 5`         | `True`    |\n",
        "| `!=`     | Not equal to                    | `5 != 3`         | `True`    |\n",
        "| `>`      | Greater than                    | `7 > 3`          | `True`    |\n",
        "| `<`      | Less than                       | `2 < 5`          | `True`    |\n",
        "| `>=`     | Greater than or equal to        | `7 >= 7`         | `True`    |\n",
        "| `<=`     | Less than or equal to           | `4 <= 4`         | `True`    |\n",
        "\n",
        "**Examples:**\n",
        "\n",
        "```python\n",
        "x = 10\n",
        "y = 5\n",
        "\n",
        "print(x > y)   # True\n",
        "print(x == y)  # False\n",
        "print(x != y)  # True\n",
        "```\n",
        "\n"
      ],
      "metadata": {
        "id": "xxO5fScsAdV4"
      }
    },
    {
      "cell_type": "markdown",
      "source": [
        "### **19. Logical Operators**\n",
        "- Logical operators are used to combine multiple conditions. They allow you to perform more complex comparisons.\n",
        "\n",
        "| Operator | Description                       | Example                        | Result  |\n",
        "|----------|-----------------------------------|--------------------------------|---------|\n",
        "| `and`    | Returns `True` if both conditions are `True` | `(5 > 3) and (10 > 8)` | `True`  |\n",
        "| `or`     | Returns `True` if at least one condition is `True` | `(5 < 3) or (10 > 8)` | `True`  |\n",
        "| `not`    | Reverses the result, returns `False` if the condition is `True` | `not (5 > 3)` | `False` |\n",
        "\n",
        "**Examples:**\n",
        "\n",
        "```python\n",
        "a = 10\n",
        "b = 20\n",
        "c = 5\n",
        "\n",
        "# Using and\n",
        "if a > c and b > a:\n",
        "    print(\"Both conditions are True\")\n",
        "\n",
        "# Using or\n",
        "if a > b or c < a:\n",
        "    print(\"At least one condition is True\")\n",
        "\n",
        "# Using not\n",
        "if not (a == b):\n",
        "    print(\"a is not equal to b\")\n",
        "```\n",
        "\n"
      ],
      "metadata": {
        "id": "8OGrZdzVAjH3"
      }
    },
    {
      "cell_type": "markdown",
      "source": [
        "### **20. Combining Comparison and Logical Operators**\n",
        "\n",
        "- You can combine comparison and logical operators to form complex conditions. For example:\n",
        "\n",
        "```python\n",
        "age = 20\n",
        "income = 30000\n",
        "\n",
        "if age >= 18 and income >= 25000:\n",
        "    print(\"Eligible for the loan\")\n",
        "else:\n",
        "    print(\"Not eligible for the loan\")\n",
        "```\n",
        "\n",
        "**Explanation:**\n",
        "- In this example, the program checks if `age` is 18 or more and `income` is 25,000 or more. If both conditions are true, it prints \"Eligible for the loan\"; otherwise, it prints \"Not eligible for the loan.\"\n",
        "\n",
        "### **Example: Checking Number Ranges**\n",
        "\n",
        "- You can use comparison and logical operators to check if a number falls within a certain range.\n",
        "\n",
        "```python\n",
        "number = 15\n",
        "\n",
        "if number >= 10 and number <= 20:\n",
        "    print(\"The number is between 10 and 20\")\n",
        "else:\n",
        "    print(\"The number is outside the range\")\n",
        "```\n",
        "\n",
        "**Explanation:**\n",
        "- This example checks if the `number` is between 10 and 20, inclusive. If it is, the program prints a message indicating that; otherwise, it prints that the number is outside the range."
      ],
      "metadata": {
        "id": "_-LKKntcAoZx"
      }
    },
    {
      "cell_type": "markdown",
      "source": [
        "## **Introduction to Loops in Python**\n",
        "\n",
        "### **What are Loops?**\n",
        "- Loops are used in programming to execute a block of code repeatedly as long as a specified condition is met. They are a fundamental concept in programming, allowing you to automate repetitive tasks.\n",
        "\n"
      ],
      "metadata": {
        "id": "bjhpVqMZA-r1"
      }
    },
    {
      "cell_type": "markdown",
      "source": [
        "### **21. `while` Loops**\n",
        "\n",
        "- The `while` loop repeats a block of code as long as a specified condition is `True`. The loop will continue to run until the condition becomes `False`.\n",
        "\n",
        "**Syntax:**\n",
        "\n",
        "```python\n",
        "while condition:\n",
        "    # Code to be executed\n",
        "```\n",
        "\n",
        "**Example:**\n",
        "\n",
        "```python\n",
        "i = 1\n",
        "while i <= 5:\n",
        "    print(\"Iteration\", i)\n",
        "    i += 1\n",
        "```\n",
        "\n",
        "**Explanation:**\n",
        "- This loop prints \"Iteration\" followed by the value of `i` for each iteration. The loop runs while `i` is less than or equal to 5, incrementing `i` by 1 after each iteration.\n",
        "\n",
        "**Output:**\n",
        "\n",
        "```\n",
        "Iteration 1\n",
        "Iteration 2\n",
        "Iteration 3\n",
        "Iteration 4\n",
        "Iteration 5\n",
        "```\n",
        "\n"
      ],
      "metadata": {
        "id": "HTzyOoAZBJ0v"
      }
    },
    {
      "cell_type": "markdown",
      "source": [
        "### **22. `for` Loops**\n",
        "\n",
        "- The `for` loop is used to iterate over a sequence (such as a list, tuple, dictionary, set, or string) or a range of numbers.\n",
        "\n",
        "**Syntax:**\n",
        "\n",
        "```python\n",
        "for item in sequence:\n",
        "    # Code to be executed\n",
        "```\n",
        "\n",
        "**Example: Iterating Over a List**\n",
        "\n",
        "```python\n",
        "fruits = [\"apple\", \"banana\", \"cherry\"]\n",
        "for fruit in fruits:\n",
        "    print(fruit)\n",
        "```\n",
        "\n",
        "**Explanation:**\n",
        "- This loop iterates over the `fruits` list and prints each fruit in the list.\n",
        "\n",
        "**Output:**\n",
        "\n",
        "```\n",
        "apple\n",
        "banana\n",
        "cherry\n",
        "```\n",
        "\n",
        "**Example: Using `range()` in a `for` Loop**\n",
        "\n",
        "```python\n",
        "for i in range(1, 6):\n",
        "    print(\"Iteration\", i)\n",
        "```\n",
        "\n",
        "**Explanation:**\n",
        "- This loop uses the `range()` function to generate numbers from 1 to 5. It prints \"Iteration\" followed by the value of `i` for each iteration.\n",
        "\n",
        "**Output:**\n",
        "\n",
        "```\n",
        "Iteration 1\n",
        "Iteration 2\n",
        "Iteration 3\n",
        "Iteration 4\n",
        "Iteration 5\n",
        "```\n",
        "\n"
      ],
      "metadata": {
        "id": "Ww4Z9_xqBSCj"
      }
    },
    {
      "cell_type": "markdown",
      "source": [
        "### **23. Using Loops for Repetitive Tasks**\n",
        "\n",
        "Loops are particularly useful for performing repetitive tasks, such as processing each item in a list, generating a series of numbers, or performing an action multiple times.\n",
        "\n",
        "**Example: Summing Numbers**\n",
        "\n",
        "```python\n",
        "total = 0\n",
        "for number in range(1, 11):\n",
        "    total += number\n",
        "print(\"The sum is:\", total)\n",
        "```\n",
        "\n",
        "**Explanation:**\n",
        "- This loop calculates the sum of numbers from 1 to 10 and prints the result.\n",
        "\n",
        "**Output:**\n",
        "\n",
        "```\n",
        "The sum is: 55\n",
        "```\n",
        "\n",
        "**Example: Counting Down with a `while` Loop**\n",
        "\n",
        "```python\n",
        "countdown = 5\n",
        "while countdown > 0:\n",
        "    print(\"Counting down:\", countdown)\n",
        "    countdown -= 1\n",
        "print(\"Blast off!\")\n",
        "```\n",
        "\n",
        "**Explanation:**\n",
        "- This loop counts down from 5 to 1, then prints \"Blast off!\" when the countdown is complete.\n",
        "\n",
        "**Output:**\n",
        "\n",
        "```\n",
        "Counting down: 5\n",
        "Counting down: 4\n",
        "Counting down: 3\n",
        "Counting down: 2\n",
        "Counting down: 1\n",
        "Blast off!\n",
        "```\n",
        "\n"
      ],
      "metadata": {
        "id": "2gfg61JnBXbE"
      }
    },
    {
      "cell_type": "markdown",
      "source": [
        "### **24. Breaking Out of Loops**\n",
        "\n",
        "- Sometimes, you might want to exit a loop early. You can do this using the `break` statement.\n",
        "\n",
        "**Example:**\n",
        "\n",
        "```python\n",
        "for i in range(1, 11):\n",
        "    if i == 5:\n",
        "        break\n",
        "    print(i)\n",
        "```\n",
        "\n",
        "**Explanation:**\n",
        "- This loop prints numbers from 1 to 4. When `i` equals 5, the `break` statement exits the loop.\n",
        "\n",
        "**Output:**\n",
        "\n",
        "```\n",
        "1\n",
        "2\n",
        "3\n",
        "4\n",
        "```"
      ],
      "metadata": {
        "id": "NaSuMpIcBaly"
      }
    },
    {
      "cell_type": "markdown",
      "source": [
        "## **Class 1 Conclusion**\n",
        "\n",
        "In today's class, we took our first steps into the world of programming with Python. Here's a quick recap of what we learned:\n",
        "\n",
        "1. **Introduction to Programming:**\n",
        "   - Programming involves giving instructions to a computer to perform specific tasks.\n",
        "   - Python is a great language for beginners due to its simple and readable syntax.\n",
        "\n",
        "2. **Overview of Google Colab:**\n",
        "   - Google Colab is a cloud-based platform that allows you to write and run Python code directly in your browser without any installation.\n",
        "   - It’s user-friendly and perfect for learning Python.\n",
        "\n",
        "3. **Basic Syntax:**\n",
        "   - We explored the `print()` function, which is used to display output on the screen.\n",
        "   - We also covered how to use comments (`#`) to add explanations in our code, making it easier to understand.\n",
        "\n",
        "4. **Variables and Data Types:**\n",
        "   - Variables are containers for storing data, and they can hold different types of values:\n",
        "     - **Integers** for whole numbers.\n",
        "     - **Floats** for numbers with decimal points.\n",
        "     - **Strings** for text.\n",
        "\n",
        "5. **Simple Input and Output:**\n",
        "   - The `input()` function allows us to get input from the user, while the `print()` function displays output.\n",
        "   - We also learned how to combine these functions to create interactive programs that respond to user input.\n",
        "\n",
        "With these foundational concepts, you’re now equipped to start writing simple Python programs and exploring the possibilities of what you can create!"
      ],
      "metadata": {
        "id": "8zZZmWRPgbeh"
      }
    },
    {
      "cell_type": "markdown",
      "source": [
        "## **Class 2 Conclusion: Control Flow and Repetition in Python**\n",
        "\n",
        "In the second class, we focused on controlling the flow of our programs and automating repetitive tasks:\n",
        "\n",
        "1. **Conditional Statements (`if`, `elif`, `else`):**\n",
        "   - We explored how to use conditional statements to make decisions in our programs. These statements allow us to execute different code blocks based on certain conditions.\n",
        "\n",
        "2. **Comparison and Logical Operators:**\n",
        "   - We learned how to compare values using comparison operators and how to combine multiple conditions using logical operators like `and`, `or`, and `not`.\n",
        "\n",
        "3. **Introduction to Loops (`while` and `for` Loops):**\n",
        "   - We discussed loops, which allow us to repeat a block of code multiple times. The `while` loop repeats as long as a condition is true, while the `for` loop iterates over a sequence or range of values.\n",
        "\n",
        "4. **Using Loops for Repetitive Tasks:**\n",
        "   - We saw practical examples of how loops can be used to automate repetitive tasks, like summing numbers or counting down.\n",
        "\n",
        "Together, these concepts form the foundation of programming in Python. With these tools, you're now equipped to start writing more complex programs, making decisions, and handling repetitive tasks efficiently."
      ],
      "metadata": {
        "id": "HLkHXOZyBqhS"
      }
    },
    {
      "cell_type": "markdown",
      "source": [
        "## **Assignments**\n",
        "\n",
        "### **Assignment 1: Practicing `print()` Statements**\n",
        "1. **Task:** Write a Python program that prints the following:\n",
        "   - Your full name.\n",
        "   - Your favorite hobby.\n",
        "   - The number of hours you spend on your hobby each week.\n",
        "\n",
        "   **Example Output:**\n",
        "   ```\n",
        "   John Doe\n",
        "   Reading\n",
        "   5\n",
        "   ```\n",
        "\n",
        "### **Assignment 2: Working with Variables**\n",
        "1. **Task:** Create variables to store the following information:\n",
        "   - Your name.\n",
        "   - Your age.\n",
        "   - Your favorite color.\n",
        "   - Print a sentence that includes all this information.\n",
        "\n",
        "   **Example Output:**\n",
        "   ```\n",
        "   My name is John Doe, I am 25 years old, and my favorite color is blue.\n",
        "   ```\n",
        "\n",
        "### **Assignment 3: Simple Input and Output**\n",
        "1. **Task:** Write a program that asks the user for their:\n",
        "   - First name.\n",
        "   - Last name.\n",
        "   - Age.\n",
        "   - Then, print a greeting message that includes their full name and how old they will be next year.\n",
        "\n",
        "   **Example Interaction:**\n",
        "   ```\n",
        "   Enter your first name: John\n",
        "   Enter your last name: Doe\n",
        "   Enter your age: 25\n",
        "   Hello, John Doe! Next year, you will be 26 years old.\n",
        "   ```\n",
        "\n",
        "### **Assignment 4: Basic Arithmetic**\n",
        "1. **Task:** Write a program that:\n",
        "   - Asks the user to enter two numbers.\n",
        "   - Stores these numbers in variables.\n",
        "   - Calculates and prints the sum, difference, product, and quotient of the two numbers.\n",
        "\n",
        "   **Example Interaction:**\n",
        "   ```\n",
        "   Enter the first number: 8\n",
        "   Enter the second number: 2\n",
        "   Sum: 10\n",
        "   Difference: 6\n",
        "   Product: 16\n",
        "   Quotient: 4.0\n",
        "   ```\n",
        "\n",
        "### **Assignment 5: Combining Strings and Numbers**\n",
        "1. **Task:** Write a program that:\n",
        "   - Asks the user for their name and their favorite number.\n",
        "   - Prints a message that says, \"Hello, [name]! Did you know that [favorite number] times 2 is [result]?\"\n",
        "\n",
        "   **Example Interaction:**\n",
        "   ```\n",
        "   Enter your name: Alice\n",
        "   Enter your favorite number: 7\n",
        "   Hello, Alice! Did you know that 7 times 2 is 14?\n",
        "   ```\n",
        "\n",
        "## **Class 2 Assignments**\n",
        "\n",
        "### **Assignment 1: Age Classification**\n",
        "Write a Python program that asks the user to input their age and then classifies them into one of the following categories:\n",
        "- \"Child\" if the age is less than 13\n",
        "- \"Teenager\" if the age is between 13 and 19\n",
        "- \"Adult\" if the age is between 20 and 64\n",
        "- \"Senior\" if the age is 65 or older\n",
        "\n",
        "### **Assignment 2: Number Comparison**\n",
        "Create a program that prompts the user to enter two numbers. Then, use comparison operators to:\n",
        "- Check if the first number is greater than the second number.\n",
        "- Check if the two numbers are equal.\n",
        "- Check if the first number is less than or equal to the second number.\n",
        "- Print appropriate messages based on the comparisons.\n",
        "\n",
        "### **Assignment 3: Simple Calculator**\n",
        "Build a simple calculator using `if`, `elif`, and `else` statements. The program should:\n",
        "- Ask the user to input two numbers.\n",
        "- Ask the user to choose an operation (`+`, `-`, `*`, `/`).\n",
        "- Perform the operation on the two numbers and print the result.\n",
        "- Handle cases where the user might enter an invalid operation.\n",
        "\n",
        "### **Assignment 4: Sum of Even Numbers**\n",
        "Write a program that uses a `for` loop to find the sum of all even numbers between 1 and 100 (inclusive). Print the result.\n",
        "\n",
        "### **Assignment 5: Multiplication Table**\n",
        "Create a program that prompts the user to enter a number, then prints the multiplication table for that number from 1 to 10. Use a `for` loop to generate the table.\n",
        "\n",
        "### **Assignment 6: Countdown Timer**\n",
        "Write a program that asks the user for a number and then uses a `while` loop to count down from that number to zero, printing each number along the way. When the countdown reaches zero, print \"Blast off!\"\n",
        "\n",
        "### **Assignment 7: Password Checker**\n",
        "Create a program that repeatedly asks the user to enter a password until they enter the correct one. Use a `while` loop for this task. If the user enters the correct password, print \"Access granted\"; otherwise, keep asking them to try again.\n",
        "\n",
        "### **Assignment 8: FizzBuzz**\n",
        "Write a program that prints the numbers from 1 to 50. But for multiples of 3, print \"Fizz\" instead of the number, and for multiples of 5, print \"Buzz\". For numbers that are multiples of both 3 and 5, print \"FizzBuzz\"."
      ],
      "metadata": {
        "id": "VjPPv41ugs8m"
      }
    },
    {
      "cell_type": "markdown",
      "source": [
        "## **Solutions for Assignments**\n",
        "\n",
        "### **Assignment 1: Practicing `print()` Statements**\n",
        "\n",
        "**Task:** Write a Python program that prints your full name, favorite hobby, and the number of hours you spend on your hobby each week.\n",
        "\n",
        "```python\n",
        "# Solution\n",
        "print(\"John Doe\")\n",
        "print(\"Reading\")\n",
        "print(5)\n",
        "```\n",
        "\n",
        "### **Assignment 2: Working with Variables**\n",
        "\n",
        "**Task:** Create variables to store your name, age, and favorite color, then print a sentence with this information.\n",
        "\n",
        "```python\n",
        "# Solution\n",
        "name = \"John Doe\"\n",
        "age = 25\n",
        "favorite_color = \"blue\"\n",
        "\n",
        "print(\"My name is\", name + \",\", \"I am\", age, \"years old, and my favorite color is\", favorite_color + \".\")\n",
        "```\n",
        "\n",
        "### **Assignment 3: Simple Input and Output**\n",
        "\n",
        "**Task:** Write a program that asks for the user's first name, last name, and age, then prints a greeting message.\n",
        "\n",
        "```python\n",
        "# Solution\n",
        "first_name = input(\"Enter your first name: \")\n",
        "last_name = input(\"Enter your last name: \")\n",
        "age = int(input(\"Enter your age: \"))\n",
        "\n",
        "print(\"Hello,\", first_name, last_name + \"!\", \"Next year, you will be\", age + 1, \"years old.\")\n",
        "```\n",
        "\n",
        "### **Assignment 4: Basic Arithmetic**\n",
        "\n",
        "**Task:** Write a program that asks for two numbers and calculates the sum, difference, product, and quotient.\n",
        "\n",
        "```python\n",
        "# Solution\n",
        "number1 = float(input(\"Enter the first number: \"))\n",
        "number2 = float(input(\"Enter the second number: \"))\n",
        "\n",
        "sum_result = number1 + number2\n",
        "difference = number1 - number2\n",
        "product = number1 * number2\n",
        "quotient = number1 / number2\n",
        "\n",
        "print(\"Sum:\", sum_result)\n",
        "print(\"Difference:\", difference)\n",
        "print(\"Product:\", product)\n",
        "print(\"Quotient:\", quotient)\n",
        "```\n",
        "\n",
        "### **Assignment 5: Combining Strings and Numbers**\n",
        "\n",
        "**Task:** Write a program that asks for the user's name and favorite number, then prints a custom message.\n",
        "\n",
        "```python\n",
        "# Solution\n",
        "name = input(\"Enter your name: \")\n",
        "favorite_number = int(input(\"Enter your favorite number: \"))\n",
        "\n",
        "result = favorite_number * 2\n",
        "\n",
        "print(\"Hello,\", name + \"!\", \"Did you know that\", favorite_number, \"times 2 is\", result, \"?\")\n",
        "```\n",
        "\n",
        "## **Class 2 Assignments**\n",
        "\n",
        "Here are the solutions for the assignments from Class 2:\n",
        "\n",
        "### **Solution 1: Age Classification**\n",
        "\n",
        "```python\n",
        "age = int(input(\"Enter your age: \"))\n",
        "\n",
        "if age < 13:\n",
        "    print(\"Child\")\n",
        "elif age <= 19:\n",
        "    print(\"Teenager\")\n",
        "elif age <= 64:\n",
        "    print(\"Adult\")\n",
        "else:\n",
        "    print(\"Senior\")\n",
        "```\n",
        "\n",
        "### **Solution 2: Number Comparison**\n",
        "\n",
        "```python\n",
        "number1 = float(input(\"Enter the first number: \"))\n",
        "number2 = float(input(\"Enter the second number: \"))\n",
        "\n",
        "if number1 > number2:\n",
        "    print(\"The first number is greater than the second number.\")\n",
        "elif number1 == number2:\n",
        "    print(\"The two numbers are equal.\")\n",
        "else:\n",
        "    print(\"The first number is less than or equal to the second number.\")\n",
        "```\n",
        "\n",
        "### **Solution 3: Simple Calculator**\n",
        "\n",
        "```python\n",
        "num1 = float(input(\"Enter the first number: \"))\n",
        "num2 = float(input(\"Enter the second number: \"))\n",
        "\n",
        "operation = input(\"Choose an operation (+, -, *, /): \")\n",
        "\n",
        "if operation == \"+\":\n",
        "    result = num1 + num2\n",
        "    print(\"The result is:\", result)\n",
        "elif operation == \"-\":\n",
        "    result = num1 - num2\n",
        "    print(\"The result is:\", result)\n",
        "elif operation == \"*\":\n",
        "    result = num1 * num2\n",
        "    print(\"The result is:\", result)\n",
        "elif operation == \"/\":\n",
        "    if num2 != 0:\n",
        "        result = num1 / num2\n",
        "        print(\"The result is:\", result)\n",
        "    else:\n",
        "        print(\"Error: Division by zero is not allowed.\")\n",
        "else:\n",
        "    print(\"Invalid operation.\")\n",
        "```\n",
        "\n",
        "### **Solution 4: Sum of Even Numbers**\n",
        "\n",
        "```python\n",
        "total = 0\n",
        "\n",
        "for number in range(1, 101):\n",
        "    if number % 2 == 0:\n",
        "        total += number\n",
        "\n",
        "print(\"The sum of even numbers between 1 and 100 is:\", total)\n",
        "```\n",
        "\n",
        "### **Solution 5: Multiplication Table**\n",
        "\n",
        "```python\n",
        "number = int(input(\"Enter a number: \"))\n",
        "\n",
        "print(\"Multiplication table for\", number)\n",
        "for i in range(1, 11):\n",
        "    print(number, \"x\", i, \"=\", number * i)\n",
        "```\n",
        "\n",
        "### **Solution 6: Countdown Timer**\n",
        "\n",
        "```python\n",
        "countdown = int(input(\"Enter a number to start the countdown: \"))\n",
        "\n",
        "while countdown >= 0:\n",
        "    print(countdown)\n",
        "    countdown -= 1\n",
        "\n",
        "print(\"Blast off!\")\n",
        "```\n",
        "\n",
        "### **Solution 7: Password Checker**\n",
        "\n",
        "```python\n",
        "correct_password = \"python123\"\n",
        "password = input(\"Enter the password: \")\n",
        "\n",
        "while password != correct_password:\n",
        "    print(\"Incorrect password, try again.\")\n",
        "    password = input(\"Enter the password: \")\n",
        "\n",
        "print(\"Access granted\")\n",
        "```\n",
        "\n",
        "### **Solution 8: FizzBuzz**\n",
        "\n",
        "```python\n",
        "for i in range(1, 51):\n",
        "    if i % 3 == 0 and i % 5 == 0:\n",
        "        print(\"FizzBuzz\")\n",
        "    elif i % 3 == 0:\n",
        "        print(\"Fizz\")\n",
        "    elif i % 5 == 0:\n",
        "        print(\"Buzz\")\n",
        "    else:\n",
        "        print(i)\n",
        "```"
      ],
      "metadata": {
        "id": "W_jCmpO2gx6T"
      }
    }
  ]
}