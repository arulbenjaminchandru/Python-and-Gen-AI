{
  "nbformat": 4,
  "nbformat_minor": 0,
  "metadata": {
    "colab": {
      "provenance": [],
      "toc_visible": true,
      "authorship_tag": "ABX9TyMjGeixs+aPEuzm/0JJWjji",
      "include_colab_link": true
    },
    "kernelspec": {
      "name": "python3",
      "display_name": "Python 3"
    },
    "language_info": {
      "name": "python"
    }
  },
  "cells": [
    {
      "cell_type": "markdown",
      "metadata": {
        "id": "view-in-github",
        "colab_type": "text"
      },
      "source": [
        "<a href=\"https://colab.research.google.com/github/arulbenjaminchandru/Python-and-Gen-AI/blob/main/Gen_AI_Text_Generation_Tools_and_LLMs.ipynb\" target=\"_parent\"><img src=\"https://colab.research.google.com/assets/colab-badge.svg\" alt=\"Open In Colab\"/></a>"
      ]
    },
    {
      "cell_type": "code",
      "source": [
        "# prompt: i need a simple dictionary program to store some movies and its release years\n",
        "\n",
        "movies = {\n",
        "    \"The Shawshank Redemption\": 1994,\n",
        "    \"The Godfather\": 1972,\n",
        "    \"The Dark Knight\": 2008,\n",
        "    \"Pulp Fiction\": 1994,\n",
        "    \"12 Angry Men\": 1957\n",
        "}\n",
        "\n",
        "# Add a new movie\n",
        "movies[\"The Lord of the Rings: The Return of the King\"] = 2003\n",
        "\n",
        "# Access release year of a movie\n",
        "print(movies[\"The Godfather\"])  # Output: 1972\n",
        "\n",
        "# Iterate through the dictionary\n",
        "for movie, year in movies.items():\n",
        "    print(f\"{movie} was released in {year}\")\n"
      ],
      "metadata": {
        "id": "93i1VKX4tfSL"
      },
      "execution_count": null,
      "outputs": []
    },
    {
      "cell_type": "markdown",
      "source": [
        "## **Introduction to Generative AI**\n",
        "\n",
        "---\n",
        "\n"
      ],
      "metadata": {
        "id": "2-19gDRaNufw"
      }
    },
    {
      "cell_type": "markdown",
      "source": [
        "###**What is Generative AI?**\n",
        "\n",
        "Generative AI is a type of artificial intelligence that can create new content. This could be anything from text, images, music, or even videos. Think of it as a smart assistant that can help you write a story, generate art, or compose a song. It \"learns\" by analyzing a lot of examples and then uses that knowledge to create something new on its own.\n",
        "\n"
      ],
      "metadata": {
        "id": "PPddq1nFQKUK"
      }
    },
    {
      "cell_type": "markdown",
      "source": [
        "#### **Differences Between AI and Generative AI**\n",
        "\n",
        "---\n",
        "\n",
        "**1.What is AI (Artificial Intelligence)?**\n",
        "\n",
        "- **General Concept**: AI, or Artificial Intelligence, is a broad field of computer science focused on creating systems that can perform tasks that would typically require human intelligence. This includes tasks like recognizing speech, making decisions, playing games, and more.\n",
        "\n",
        "- **Examples**:\n",
        "  - **Rule-Based Systems**: Early AI systems that follow specific rules to solve problems (e.g., an automated customer service system that follows a decision tree).\n",
        "  - **Machine Learning (ML)**: A subset of AI where systems learn from data to improve their performance over time. For example, an email spam filter that learns to identify spam by analyzing many examples.\n",
        "\n",
        "- **Purpose**: The primary goal of AI is to create systems that can mimic human-like intelligence to solve specific problems, often using predefined rules or learning from data.\n",
        "\n",
        "**2. What is Generative AI?**\n",
        "\n",
        "- **Focused Subset of AI**: Generative AI is a specialized branch of AI that focuses on creating new content, such as text, images, music, or code. Instead of just recognizing patterns in data or making decisions, Generative AI can actually generate new data that didn’t exist before.\n",
        "\n",
        "- **Examples**:\n",
        "  - **Text Generation**: Tools like ChatGPT that can write paragraphs, answer questions, or create stories based on a given prompt.\n",
        "  - **Image Generation**: Tools like DALL-E that create images from text descriptions.\n",
        "  - **Music Generation**: AI systems that compose music in various styles.\n",
        "\n",
        "- **Purpose**: The main goal of Generative AI is to create original content that is often indistinguishable from something a human might produce.\n",
        "\n",
        "**3. Key Differences**\n",
        "\n",
        "- **Functionality**:\n",
        "  - **AI**: Often focuses on analyzing data, recognizing patterns, and making decisions or predictions based on that data. For example, AI can identify objects in a photo or predict the weather.\n",
        "  - **Generative AI**: Goes a step further by creating something new, like generating a picture of a sunset based on a description or writing a poem from scratch.\n",
        "\n",
        "- **Output**:\n",
        "  - **AI**: Typically provides answers, classifications, or recommendations. It processes input and gives you a solution based on what it has learned.\n",
        "  - **Generative AI**: Produces new, original content. It’s not just giving you a solution but actually creating something that didn’t exist before.\n",
        "\n",
        "- **Use Cases**:\n",
        "  - **AI**: Used in a wide range of applications, such as self-driving cars, voice assistants (like Siri or Alexa), and recommendation systems (like Netflix or Amazon recommendations).\n",
        "  - **Generative AI**: Primarily used in creative fields, like writing, art, music, and content creation. It’s also used in code generation and game design.\n",
        "\n",
        "**4. When to Use AI vs. Generative AI**\n",
        "\n",
        "- **AI**: Best used when you need a system to make decisions, recognize patterns, or automate tasks based on existing data. For example, you might use AI to automate customer support, detect fraud, or recommend products.\n",
        "\n",
        "- **Generative AI**: Best used when you want to create new content or generate ideas. For example, you might use Generative AI to help write a book, create marketing materials, design artwork, or even develop new products.\n",
        "\n",
        "---\n",
        "\n",
        "In summary, AI is the broad field that encompasses various technologies aimed at mimicking human intelligence, while Generative AI is a specific type of AI that focuses on creating new, original content."
      ],
      "metadata": {
        "id": "QU7lGucTRFnL"
      }
    },
    {
      "cell_type": "markdown",
      "source": [
        "####**How Does Generative AI Work?**\n",
        "\n",
        "At its core, Generative AI works by predicting what comes next in a sequence. For example, if you start typing a sentence, Generative AI can suggest how to finish it. It does this by looking at patterns in the data it has seen before—like how words are commonly used together in sentences.\n",
        "\n"
      ],
      "metadata": {
        "id": "2a1G1N_sQTq7"
      }
    },
    {
      "cell_type": "markdown",
      "source": [
        "####**Why is it Useful?**\n",
        "\n",
        "Generative AI is useful because it can save time and spark creativity. For example:\n",
        "- **Writing Assistance**: It can help you write emails, articles, or even stories.\n",
        "- **Creative Projects**: It can generate ideas for art, music, or design.\n",
        "- **Automation**: It can create content automatically, like generating code snippets or summarizing documents.\n",
        "\n"
      ],
      "metadata": {
        "id": "L8T9Q-wKQcno"
      }
    },
    {
      "cell_type": "code",
      "source": [
        "# prompt: provide me a code for using lists and its functions\n",
        "\n",
        "# Creating a list\n",
        "my_list = [1, 2, 3, \"apple\", \"banana\"]\n",
        "\n",
        "# Accessing elements\n",
        "print(my_list[0])  # Output: 1\n",
        "print(my_list[-1]) # Output: \"banana\"\n",
        "\n",
        "# Slicing\n",
        "print(my_list[1:3])  # Output: [2, 3]\n",
        "\n",
        "# Modifying lists\n",
        "my_list.append(\"orange\")\n",
        "print(my_list)  # Output: [1, 2, 3, \"apple\", \"banana\", \"orange\"]\n",
        "\n",
        "my_list.insert(1, \"grape\")\n",
        "print(my_list)  # Output: [1, \"grape\", 2, 3, \"apple\", \"banana\", \"orange\"]\n",
        "\n",
        "my_list.remove(\"apple\")\n",
        "print(my_list)  # Output: [1, \"grape\", 2, 3, \"banana\", \"orange\"]\n",
        "\n",
        "# Other list functions\n",
        "print(len(my_list))  # Output: 6\n",
        "print(sorted(my_list))  # Output: [1, 2, 3, \"banana\", \"grape\", \"orange\"]\n",
        "\n",
        "# List comprehension (creating a new list based on existing one)\n",
        "squared_numbers = [x**2 for x in range(1, 6)]\n",
        "print(squared_numbers)  # Output: [1, 4, 9, 16, 25]\n"
      ],
      "metadata": {
        "id": "3wogDf-dwXmA"
      },
      "execution_count": null,
      "outputs": []
    },
    {
      "cell_type": "markdown",
      "source": [],
      "metadata": {
        "id": "ZYrr86AowWZ0"
      }
    },
    {
      "cell_type": "markdown",
      "source": [
        "####**Examples of Generative AI**\n",
        "\n",
        "There are many popular tools that use Generative AI:\n",
        "- **ChatGPT**: A tool that can hold conversations with you, answer questions, or help you write.\n",
        "- **DALL-E**: A tool that creates images from text descriptions (e.g., \"a cat riding a bicycle\").\n",
        "- **Music Generators**: Tools that can compose music based on certain styles or moods.\n",
        "\n"
      ],
      "metadata": {
        "id": "KJUVPrDnQgx0"
      }
    },
    {
      "cell_type": "markdown",
      "source": [
        "####**How to Get Started with Generative AI**\n",
        "\n",
        "You don’t need to be an expert to start using Generative AI. Many tools are user-friendly and just require you to type in some text to see the results. Platforms like OpenAI Playground or Google AI Studio allow you to experiment with AI models in a simple, interactive way.\n",
        "\n"
      ],
      "metadata": {
        "id": "EXKgwMJRQkCz"
      }
    },
    {
      "cell_type": "markdown",
      "source": [
        "####**The Future of Generative AI**\n",
        "\n",
        "Generative AI is constantly improving and becoming more powerful. In the future, it could be used in even more areas, like helping doctors diagnose diseases, designing video games, or creating personalized education content.\n",
        "\n",
        "---\n",
        "\n",
        "Generative AI is an exciting field that opens up many possibilities for creativity and efficiency. By learning the basics, you can start exploring how this technology can help you in your own projects!"
      ],
      "metadata": {
        "id": "pw9lqhACQnRl"
      }
    },
    {
      "cell_type": "markdown",
      "source": [
        "### **Text Generation Tools and LLMs**\n",
        "\n",
        "**Overview of Text Generation Tools**\n",
        "\n",
        "Text generation tools are powerful applications that assist in creating text based on a given prompt or starting sentence. These tools can help with writing stories, drafting emails, or even generating code. They work by predicting what should come next in a sequence of words, much like a very advanced form of autocomplete on your phone.\n",
        "\n"
      ],
      "metadata": {
        "id": "j0ECStZHN4jD"
      }
    },
    {
      "cell_type": "markdown",
      "source": [
        "####**How Text Generation Works**\n",
        "\n",
        "Imagine you’re writing a sentence: “I love to eat…” Now, you might naturally complete it with “pizza” or “ice cream.” Text generation tools do something similar. They predict the next word in a sentence based on what has already been written.\n",
        "\n",
        "These tools work by analyzing large amounts of text data—think of all the books, articles, and websites out there. By learning from these sources, the tool can make educated guesses about what word comes next.\n",
        "\n",
        "For example, a basic text generation tool might look at pairs of words in a sentence and use them to predict the next word. Here’s a simple Python example:\n",
        "\n",
        "```python\n",
        "import random\n",
        "\n",
        "# Sample text to learn from\n",
        "text = \"I love to eat pizza. I love to eat pasta. I love to eat burgers.\"\n",
        "\n",
        "# Split the text into words\n",
        "words = text.split()\n",
        "\n",
        "# Create a dictionary of word pairs\n",
        "word_dict = {}\n",
        "for i in range(len(words) - 1):\n",
        "    word = words[i]\n",
        "    next_word = words[i + 1]\n",
        "    if word not in word_dict:\n",
        "        word_dict[word] = []\n",
        "    word_dict[word].append(next_word)\n",
        "\n",
        "# Generate a sentence\n",
        "current_word = \"I\"\n",
        "sentence = current_word\n",
        "for _ in range(10):\n",
        "    next_word = random.choice(word_dict[current_word])\n",
        "    sentence += \" \" + next_word\n",
        "    current_word = next_word\n",
        "\n",
        "print(sentence)\n",
        "```\n",
        "\n",
        "This script generates a simple sentence by randomly choosing the next word based on the words it has seen before.\n",
        "\n"
      ],
      "metadata": {
        "id": "Tks525jHOrLP"
      }
    },
    {
      "cell_type": "code",
      "source": [
        "import random\n",
        "\n",
        "# Sample text to learn from\n",
        "text = \"I love to eat idly. I hate to eat biryani. I enjoy to eat dosa.\"\n",
        "\n",
        "# Split the text into words\n",
        "words = text.split()\n",
        "\n",
        "print(\"Splitted words : \",words)\n",
        "\n",
        "# Create a dictionary of word pairs\n",
        "word_dict = {}\n",
        "for i in range(len(words) - 1):\n",
        "    word = words[i]\n",
        "    next_word = words[i + 1]\n",
        "    if word not in word_dict:\n",
        "        word_dict[word] = []\n",
        "    word_dict[word].append(next_word)\n",
        "\n",
        "print(\"My words dictionary:\", word_dict)\n",
        "\n",
        "# Generate a sentence\n",
        "current_word = \"I\"\n",
        "sentence = current_word\n",
        "for _ in range(10):\n",
        "    if current_word in word_dict:\n",
        "        next_word = random.choice(word_dict[current_word])\n",
        "        sentence += \" \" + next_word\n",
        "        current_word = next_word\n",
        "    else:\n",
        "        break  # Exit the loop if no next word is found\n",
        "\n",
        "print(\"Predicted Sentence : \",sentence)\n"
      ],
      "metadata": {
        "colab": {
          "base_uri": "https://localhost:8080/"
        },
        "id": "m3A6__dVOTIB",
        "outputId": "bdb5d028-099d-4011-eade-e7a0fd24a543"
      },
      "execution_count": 2,
      "outputs": [
        {
          "output_type": "stream",
          "name": "stdout",
          "text": [
            "Splitted words :  ['I', 'love', 'to', 'eat', 'idly.', 'I', 'hate', 'to', 'eat', 'biryani.', 'I', 'enjoy', 'to', 'eat', 'dosa.']\n",
            "My words dictionary: {'I': ['love', 'hate', 'enjoy'], 'love': ['to'], 'to': ['eat', 'eat', 'eat'], 'eat': ['idly.', 'biryani.', 'dosa.'], 'idly.': ['I'], 'hate': ['to'], 'biryani.': ['I'], 'enjoy': ['to']}\n",
            "Predicted Sentence :  I love to eat biryani. I hate to eat biryani. I\n"
          ]
        }
      ]
    },
    {
      "cell_type": "markdown",
      "source": [
        "####**Advanced Text Generation Tools**\n",
        "\n",
        "Modern text generation tools, like GPT-3 (Generative Pre-trained Transformer 3), go far beyond simple word pairs. They use sophisticated algorithms to understand and generate text that’s much more coherent and relevant.\n",
        "\n"
      ],
      "metadata": {
        "id": "bsoSz9IBOznl"
      }
    },
    {
      "cell_type": "markdown",
      "source": [
        "####**Transformers**\n",
        "\n",
        "Transformers are the key technology behind these advanced tools. Think of them as extremely smart functions that can focus on the most important parts of a sentence to make better predictions. This allows models like GPT-3 to generate text that sounds natural and makes sense in a broader context.\n",
        "\n",
        "**Visual Representation on how a transformer works**\n",
        "\n",
        "This representation uses our own browser in-memory to download GPT-2 and execute the visual representation on next word predection.\n",
        "\n",
        "https://poloclub.github.io/transformer-explainer/\n"
      ],
      "metadata": {
        "id": "xdBDmESbO7d5"
      }
    },
    {
      "cell_type": "markdown",
      "source": [
        "###**Large Language Models (LLMs)**\n",
        "\n",
        "LLMs like GPT-3 are incredibly powerful because they’ve been trained on vast amounts of text. This training allows them to understand and generate language with remarkable accuracy.\n",
        "\n"
      ],
      "metadata": {
        "id": "IZI2P30HOKSo"
      }
    },
    {
      "cell_type": "markdown",
      "source": [
        "####**What Are LLMs?**\n",
        "\n",
        "LLMs are large models with millions or even billions of parameters (think of these as settings or dials) that help them fine-tune their text generation capabilities. They can understand the entire context of a sentence, paragraph, or even an entire page before making predictions.\n",
        "\n"
      ],
      "metadata": {
        "id": "Lni6vUp3PIFs"
      }
    },
    {
      "cell_type": "markdown",
      "source": [
        "####**Why Size Matters**\n",
        "\n",
        "The size of an LLM matters because the more data and parameters it has, the better it can understand and generate text. It’s like having a very well-read person who can draw on a vast knowledge base to write creatively and accurately.\n",
        "\n"
      ],
      "metadata": {
        "id": "mTaP8g5NPONy"
      }
    },
    {
      "cell_type": "markdown",
      "source": [
        "### Introduction to ChatGPT, Gemini, and Claude\n",
        "\n",
        "---\n",
        "\n",
        "In recent years, AI has made significant strides, particularly in the area of language models. These models are designed to understand and generate human-like text, making them useful for a variety of applications, from answering questions to generating creative content. Three of the most notable language models today are ChatGPT, Gemini, and Claude. Let’s take a closer look at each of them.\n",
        "\n",
        "---\n",
        "\n",
        "**1. ChatGPT**\n",
        "\n",
        "- **What is ChatGPT?**\n",
        "  - ChatGPT is a language model developed by OpenAI. It is part of the GPT (Generative Pre-trained Transformer) family, specifically GPT-3.5 and GPT-4 versions. ChatGPT is designed to engage in conversations with users, providing answers, generating content, and assisting with a wide range of tasks.\n",
        "\n",
        "- **How Does ChatGPT Work?**\n",
        "  - ChatGPT works by predicting the next word in a sentence, based on the context of the conversation. It has been trained on a large amount of text data, which allows it to understand and generate text that is coherent and contextually appropriate.\n",
        "\n",
        "- **Applications of ChatGPT**:\n",
        "  - **Customer Support**: Used by companies to automate customer service interactions.\n",
        "  - **Content Creation**: Helps writers generate ideas, draft content, or even write full articles.\n",
        "  - **Learning and Education**: Assists students with explanations, tutoring, and study aids.\n",
        "  \n",
        "- **Why is ChatGPT Popular?**\n",
        "  - ChatGPT is widely recognized for its ability to produce human-like responses, making it a popular choice for applications that require conversational AI. It’s used in chatbots, virtual assistants, and even creative writing tools.\n",
        "\n",
        "---\n",
        "\n",
        "**2. Gemini**\n",
        "\n",
        "- **What is Gemini?**\n",
        "  - Gemini is a language model developed by Google DeepMind. It is part of the Gemini 1.5 family, which is known for its multimodal capabilities—meaning it can process and generate content across different types of data, such as text, images, and audio.\n",
        "\n",
        "- **How Does Gemini Work?**\n",
        "  - Gemini is built on advanced transformer architecture and is designed to handle complex tasks that involve multiple forms of media. It can understand text, interpret images, and even generate multimedia content, making it a versatile tool in AI.\n",
        "\n",
        "- **Applications of Gemini**:\n",
        "  - **Multimodal Content Creation**: Used in projects that require both text and visual content, such as generating illustrated stories or designing visual presentations.\n",
        "  - **Long-Context Retrieval**: Handles tasks that require understanding and processing long documents or multiple data types, such as research papers or technical manuals.\n",
        "  - **Generative AI**: Engages in creative tasks like writing, designing, and coding with a focus on integrating various types of content.\n",
        "  \n",
        "- **Why is Gemini Unique?**\n",
        "  - Gemini stands out due to its ability to work with different types of data simultaneously. This makes it an excellent choice for projects that go beyond text, offering more comprehensive solutions in content creation and data analysis.\n",
        "\n",
        "---\n",
        "\n",
        "**3. Claude**\n",
        "\n",
        "- **What is Claude?**\n",
        "  - Claude is a language model developed by Anthropic, a company focused on making AI systems more interpretable, steerable, and aligned with human values. Claude is designed to be a safer and more reliable AI assistant, particularly in environments where understanding and adhering to ethical guidelines is critical.\n",
        "\n",
        "- **How Does Claude Work?**\n",
        "  - Claude operates similarly to other language models but emphasizes safety and user control. It’s built with mechanisms to avoid generating harmful or inappropriate content, making it a preferred choice in sensitive applications.\n",
        "\n",
        "- **Applications of Claude**:\n",
        "  - **Ethical AI Applications**: Used in areas where ethical considerations are paramount, such as healthcare, legal advice, and education.\n",
        "  - **Content Moderation**: Helps platforms moderate content by identifying and filtering out harmful or inappropriate material.\n",
        "  - **User-Controlled AI**: Provides users with more control over how the AI behaves, allowing for customization based on specific ethical guidelines or preferences.\n",
        "  \n",
        "- **Why is Claude Important?**\n",
        "  - Claude’s emphasis on safety and alignment makes it a crucial tool in sectors that require high levels of trust and responsibility. It’s designed to be a reliable AI assistant that minimizes the risk of unintended or harmful outputs.\n",
        "\n",
        "---\n",
        "\n",
        "**Summary**\n",
        "\n",
        "ChatGPT, Gemini, and Claude each bring unique strengths to the table:\n",
        "\n",
        "- **ChatGPT** is a powerful conversational AI known for its versatility and wide application in generating text-based content.\n",
        "- **Gemini** excels in multimodal tasks, offering capabilities that span text, images, and more, making it ideal for comprehensive content creation and analysis.\n",
        "- **Claude** focuses on safety and ethical AI, providing a reliable option for applications where responsible AI behavior is critical.\n",
        "\n",
        "Understanding these models and their differences allows users to choose the right tool for their specific needs, whether it’s for casual conversations, creative projects, or ethically sensitive tasks."
      ],
      "metadata": {
        "id": "EUD4EYchSKum"
      }
    },
    {
      "cell_type": "markdown",
      "source": [
        "####**Practical Exercise: Comparing ChatGPT vs. Gemini vs Claude (Zero Code Exercise)**\n",
        "\n",
        "Now, let’s explore how different models generate text. You’ll compare outputs from ChatGPT and Gemini by providing them with the same prompts and observing the differences.\n",
        "\n",
        "**Steps:**\n",
        "1. Choose a simple prompt, such as \"Describe about Generative AI.\"\n",
        "2. Input this prompt into ChatGPT, Gemini and Claude.\n",
        "3. Compare the outputs. Discuss how they differ in terms of creativity, coherence, and relevance.\n",
        "\n",
        "This exercise helps you understand how different models approach the same task and what strengths or weaknesses they might have.\n",
        "\n"
      ],
      "metadata": {
        "id": "eHqPZY5aPTRT"
      }
    },
    {
      "cell_type": "markdown",
      "source": [
        "####**Using OpenAI Playground and Google AI Studio**\n",
        "\n",
        "To interact with these models, you can use platforms like OpenAI Playground and Google AI Studio.\n",
        "\n",
        "- **OpenAI Playground**: This is a user-friendly interface where you can experiment with different AI models, including ChatGPT. You can type in prompts and see how the model responds in real-time.\n",
        "  \n",
        "- **Google AI Studio**: Similar to OpenAI Playground, Google AI Studio allows you to interact with AI models. It provides a platform for experimenting with different types of AI tasks, including text generation.\n",
        "\n"
      ],
      "metadata": {
        "id": "F7pP9X9xPbXw"
      }
    },
    {
      "cell_type": "markdown",
      "source": [
        "####**Demo: Google AI Studio, OpenAI Playground**\n",
        "\n",
        "In this demo, you’ll see how to use both Google AI Studio and OpenAI Playground to interact with AI models.\n",
        "\n",
        "- **Google AI Studio**: You’ll learn how to load a model, input a prompt, and generate text. This platform is great for experimenting with different AI tasks and getting a feel for how AI models work.\n",
        "\n",
        "- **OpenAI Playground**: Here, you’ll try out different prompts and see how the model responds. This will give you hands-on experience with AI and help you understand the nuances of text generation.\n",
        "\n"
      ],
      "metadata": {
        "id": "ZHIBYcYUPh_l"
      }
    },
    {
      "cell_type": "markdown",
      "source": [
        "##**Conclusion**\n",
        "\n",
        "Generative AI is a powerful tool that can assist in a wide range of tasks, from writing stories to generating code. By understanding the basics of text generation tools and large language models, and by using platforms like OpenAI Playground and Google AI Studio, you can start exploring the exciting possibilities of AI in your projects."
      ],
      "metadata": {
        "id": "9X6Ld8nBPnJQ"
      }
    }
  ]
}