{
  "nbformat": 4,
  "nbformat_minor": 0,
  "metadata": {
    "colab": {
      "provenance": [],
      "authorship_tag": "ABX9TyNeAg0jmZyrDZmLLlKkCJMA",
      "include_colab_link": true
    },
    "kernelspec": {
      "name": "python3",
      "display_name": "Python 3"
    },
    "language_info": {
      "name": "python"
    }
  },
  "cells": [
    {
      "cell_type": "markdown",
      "metadata": {
        "id": "view-in-github",
        "colab_type": "text"
      },
      "source": [
        "<a href=\"https://colab.research.google.com/github/arulbenjaminchandru/Python-and-Gen-AI/blob/main/Code_Generation%2C_Prompt_Engineering.ipynb\" target=\"_parent\"><img src=\"https://colab.research.google.com/assets/colab-badge.svg\" alt=\"Open In Colab\"/></a>"
      ]
    },
    {
      "cell_type": "markdown",
      "source": [
        "# **Code Generation, Prompt Engineering, Image Generation / recognition**"
      ],
      "metadata": {
        "id": "ecVbjzMCmZf8"
      }
    },
    {
      "cell_type": "markdown",
      "source": [
        "## **Introduction to Code Generation with Generative AI**\n",
        "\n",
        "Generative AI has made significant strides in automating the creation of content, including text, images, and even code. In this introduction, we'll explore how Generative AI can be leveraged to generate code, making programming more accessible and efficient.\n",
        "\n",
        "#### What is Code Generation?\n",
        "Code generation with Generative AI refers to the automatic creation of code by machine learning models. These models are trained on vast datasets of code and can generate functional code snippets, entire programs, or even complex algorithms based on a given prompt or task description.\n",
        "\n",
        "#### How Does it Work?\n",
        "Generative AI models, like OpenAI's GPT series, Google's Gemini, and others, are trained on massive corpora of text, including programming languages. When you input a natural language prompt describing what you want to achieve, the model interprets the request and generates corresponding code. The process typically involves the following steps:\n",
        "\n",
        "1. **Input Prompt**: You provide a description of the task or the desired outcome in natural language.\n",
        "2. **Model Processing**: The AI model processes the input and generates a code snippet that it predicts will fulfill the request.\n",
        "3. **Output Code**: The generated code is provided as output, which you can then review, test, and modify as needed.\n",
        "\n",
        "#### Benefits of Code Generation\n",
        "1. **Speed**: AI can generate code much faster than humans, allowing developers to focus on higher-level design and problem-solving.\n",
        "2. **Accessibility**: Non-programmers can create code by describing their needs in plain language, making programming more accessible.\n",
        "3. **Learning Aid**: New programmers can use code generation tools to learn by example, seeing how various programming tasks are handled in code.\n",
        "4. **Error Reduction**: AI can help reduce common coding errors by following best practices and generating syntactically correct code.\n",
        "\n",
        "#### Popular Tools and Platforms\n",
        "- **Github Copilot**: A powerful tool that can translate natural language into code, can be integrated into platforms like VS Code, IntelliJ (https://github.com/features/copilot/).\n",
        "- **Google's Gemini Models**: Capable of long-context retrieval and generating complex code snippets (inbuilt in colab as well).\n",
        "- **Replit's Ghostwriter**: An AI-powered code assistant that helps with code completion and bug fixing - https://replit.com/ai.\n",
        "\n",
        "#### Use Cases\n",
        "1. **Code Completion**: AI can complete partially written code, saving time and effort.\n",
        "2. **Code Translation**: Convert code from one programming language to another.\n",
        "3. **Documentation Generation**: Automatically generate comments and documentation for code.\n",
        "4. **Test Case Generation**: Create unit tests based on code logic.\n",
        "5. **Debugging Assistance**: Identify and suggest fixes for bugs in the code.\n",
        "\n",
        "#### Practical Exercise: Using AI for Code Generation\n",
        "Let's try a simple exercise to generate a Python function using an AI model.\n",
        "\n",
        "1. **Describe the Task**: \"Write a Python function to calculate the factorial of a number.\"\n",
        "2. **Input to AI Model**: Enter this description into an AI code generation tool inbuilt in Colab.\n",
        "3. **Review the Generated Code**:\n",
        "   ```python\n",
        "   def factorial(n):\n",
        "       if n == 0:\n",
        "           return 1\n",
        "       else:\n",
        "           return n * factorial(n-1)\n",
        "   ```\n",
        "4. **Test and Modify**: Run the generated code and modify it if necessary."
      ],
      "metadata": {
        "id": "eWi9wpE2mg3w"
      }
    },
    {
      "cell_type": "markdown",
      "source": [
        "### Leveraging Claude and ChatGPT to Build Tools and Software\n",
        "\n",
        "Generative AI models like Claude (developed by Anthropic) and ChatGPT (developed by OpenAI) have revolutionized the way we approach software development. These AI models can assist in various stages of building tools and software, from ideation and design to coding and testing.\n",
        "\n"
      ],
      "metadata": {
        "id": "h_jt0hhfoyhq"
      }
    },
    {
      "cell_type": "markdown",
      "source": [
        "#### Understanding the Capabilities of Claude and ChatGPT\n",
        "\n",
        "- **Natural Language Processing (NLP)**: Both Claude and ChatGPT excel in understanding and generating human-like text, making them ideal for translating human requirements into code.\n",
        "- **Code Generation**: These models can generate code snippets or entire functions in various programming languages based on plain language prompts.\n",
        "- **Debugging Assistance**: They can help identify and fix bugs in code by analyzing the logic and providing suggestions.\n",
        "- **Documentation and Comments**: They can generate documentation, comments, and explanations for code, improving readability and maintainability.\n",
        "\n"
      ],
      "metadata": {
        "id": "2pdC3sxYo_kc"
      }
    },
    {
      "cell_type": "code",
      "source": [
        "# prompt: provide me the code to use file uploader where i can upload my text file and that file can be printed.\n",
        "\n",
        "from google.colab import files\n",
        "uploaded = files.upload()\n",
        "\n",
        "for fn in uploaded.keys():\n",
        "  print('User uploaded file \"{name}\" with length {length} bytes'.format(\n",
        "      name=fn, length=len(uploaded[fn])))\n",
        "\n",
        "with open(fn, 'r') as f:\n",
        "  print(f.read())\n"
      ],
      "metadata": {
        "colab": {
          "base_uri": "https://localhost:8080/",
          "height": 1000
        },
        "id": "HuuOgKEnDub0",
        "outputId": "0257373c-d242-4048-f0d1-52c2b6e997ba"
      },
      "execution_count": null,
      "outputs": [
        {
          "output_type": "display_data",
          "data": {
            "text/plain": [
              "<IPython.core.display.HTML object>"
            ],
            "text/html": [
              "\n",
              "     <input type=\"file\" id=\"files-af07cb8c-7c25-4e03-a173-3544723df2b7\" name=\"files[]\" multiple disabled\n",
              "        style=\"border:none\" />\n",
              "     <output id=\"result-af07cb8c-7c25-4e03-a173-3544723df2b7\">\n",
              "      Upload widget is only available when the cell has been executed in the\n",
              "      current browser session. Please rerun this cell to enable.\n",
              "      </output>\n",
              "      <script>// Copyright 2017 Google LLC\n",
              "//\n",
              "// Licensed under the Apache License, Version 2.0 (the \"License\");\n",
              "// you may not use this file except in compliance with the License.\n",
              "// You may obtain a copy of the License at\n",
              "//\n",
              "//      http://www.apache.org/licenses/LICENSE-2.0\n",
              "//\n",
              "// Unless required by applicable law or agreed to in writing, software\n",
              "// distributed under the License is distributed on an \"AS IS\" BASIS,\n",
              "// WITHOUT WARRANTIES OR CONDITIONS OF ANY KIND, either express or implied.\n",
              "// See the License for the specific language governing permissions and\n",
              "// limitations under the License.\n",
              "\n",
              "/**\n",
              " * @fileoverview Helpers for google.colab Python module.\n",
              " */\n",
              "(function(scope) {\n",
              "function span(text, styleAttributes = {}) {\n",
              "  const element = document.createElement('span');\n",
              "  element.textContent = text;\n",
              "  for (const key of Object.keys(styleAttributes)) {\n",
              "    element.style[key] = styleAttributes[key];\n",
              "  }\n",
              "  return element;\n",
              "}\n",
              "\n",
              "// Max number of bytes which will be uploaded at a time.\n",
              "const MAX_PAYLOAD_SIZE = 100 * 1024;\n",
              "\n",
              "function _uploadFiles(inputId, outputId) {\n",
              "  const steps = uploadFilesStep(inputId, outputId);\n",
              "  const outputElement = document.getElementById(outputId);\n",
              "  // Cache steps on the outputElement to make it available for the next call\n",
              "  // to uploadFilesContinue from Python.\n",
              "  outputElement.steps = steps;\n",
              "\n",
              "  return _uploadFilesContinue(outputId);\n",
              "}\n",
              "\n",
              "// This is roughly an async generator (not supported in the browser yet),\n",
              "// where there are multiple asynchronous steps and the Python side is going\n",
              "// to poll for completion of each step.\n",
              "// This uses a Promise to block the python side on completion of each step,\n",
              "// then passes the result of the previous step as the input to the next step.\n",
              "function _uploadFilesContinue(outputId) {\n",
              "  const outputElement = document.getElementById(outputId);\n",
              "  const steps = outputElement.steps;\n",
              "\n",
              "  const next = steps.next(outputElement.lastPromiseValue);\n",
              "  return Promise.resolve(next.value.promise).then((value) => {\n",
              "    // Cache the last promise value to make it available to the next\n",
              "    // step of the generator.\n",
              "    outputElement.lastPromiseValue = value;\n",
              "    return next.value.response;\n",
              "  });\n",
              "}\n",
              "\n",
              "/**\n",
              " * Generator function which is called between each async step of the upload\n",
              " * process.\n",
              " * @param {string} inputId Element ID of the input file picker element.\n",
              " * @param {string} outputId Element ID of the output display.\n",
              " * @return {!Iterable<!Object>} Iterable of next steps.\n",
              " */\n",
              "function* uploadFilesStep(inputId, outputId) {\n",
              "  const inputElement = document.getElementById(inputId);\n",
              "  inputElement.disabled = false;\n",
              "\n",
              "  const outputElement = document.getElementById(outputId);\n",
              "  outputElement.innerHTML = '';\n",
              "\n",
              "  const pickedPromise = new Promise((resolve) => {\n",
              "    inputElement.addEventListener('change', (e) => {\n",
              "      resolve(e.target.files);\n",
              "    });\n",
              "  });\n",
              "\n",
              "  const cancel = document.createElement('button');\n",
              "  inputElement.parentElement.appendChild(cancel);\n",
              "  cancel.textContent = 'Cancel upload';\n",
              "  const cancelPromise = new Promise((resolve) => {\n",
              "    cancel.onclick = () => {\n",
              "      resolve(null);\n",
              "    };\n",
              "  });\n",
              "\n",
              "  // Wait for the user to pick the files.\n",
              "  const files = yield {\n",
              "    promise: Promise.race([pickedPromise, cancelPromise]),\n",
              "    response: {\n",
              "      action: 'starting',\n",
              "    }\n",
              "  };\n",
              "\n",
              "  cancel.remove();\n",
              "\n",
              "  // Disable the input element since further picks are not allowed.\n",
              "  inputElement.disabled = true;\n",
              "\n",
              "  if (!files) {\n",
              "    return {\n",
              "      response: {\n",
              "        action: 'complete',\n",
              "      }\n",
              "    };\n",
              "  }\n",
              "\n",
              "  for (const file of files) {\n",
              "    const li = document.createElement('li');\n",
              "    li.append(span(file.name, {fontWeight: 'bold'}));\n",
              "    li.append(span(\n",
              "        `(${file.type || 'n/a'}) - ${file.size} bytes, ` +\n",
              "        `last modified: ${\n",
              "            file.lastModifiedDate ? file.lastModifiedDate.toLocaleDateString() :\n",
              "                                    'n/a'} - `));\n",
              "    const percent = span('0% done');\n",
              "    li.appendChild(percent);\n",
              "\n",
              "    outputElement.appendChild(li);\n",
              "\n",
              "    const fileDataPromise = new Promise((resolve) => {\n",
              "      const reader = new FileReader();\n",
              "      reader.onload = (e) => {\n",
              "        resolve(e.target.result);\n",
              "      };\n",
              "      reader.readAsArrayBuffer(file);\n",
              "    });\n",
              "    // Wait for the data to be ready.\n",
              "    let fileData = yield {\n",
              "      promise: fileDataPromise,\n",
              "      response: {\n",
              "        action: 'continue',\n",
              "      }\n",
              "    };\n",
              "\n",
              "    // Use a chunked sending to avoid message size limits. See b/62115660.\n",
              "    let position = 0;\n",
              "    do {\n",
              "      const length = Math.min(fileData.byteLength - position, MAX_PAYLOAD_SIZE);\n",
              "      const chunk = new Uint8Array(fileData, position, length);\n",
              "      position += length;\n",
              "\n",
              "      const base64 = btoa(String.fromCharCode.apply(null, chunk));\n",
              "      yield {\n",
              "        response: {\n",
              "          action: 'append',\n",
              "          file: file.name,\n",
              "          data: base64,\n",
              "        },\n",
              "      };\n",
              "\n",
              "      let percentDone = fileData.byteLength === 0 ?\n",
              "          100 :\n",
              "          Math.round((position / fileData.byteLength) * 100);\n",
              "      percent.textContent = `${percentDone}% done`;\n",
              "\n",
              "    } while (position < fileData.byteLength);\n",
              "  }\n",
              "\n",
              "  // All done.\n",
              "  yield {\n",
              "    response: {\n",
              "      action: 'complete',\n",
              "    }\n",
              "  };\n",
              "}\n",
              "\n",
              "scope.google = scope.google || {};\n",
              "scope.google.colab = scope.google.colab || {};\n",
              "scope.google.colab._files = {\n",
              "  _uploadFiles,\n",
              "  _uploadFilesContinue,\n",
              "};\n",
              "})(self);\n",
              "</script> "
            ]
          },
          "metadata": {}
        },
        {
          "output_type": "stream",
          "name": "stdout",
          "text": [
            "Saving main.py to main.py\n",
            "User uploaded file \"main.py\" with length 1964 bytes\n",
            "import time\n",
            "from string import Template\n",
            "\n",
            "import httpx\n",
            "from pynput import keyboard\n",
            "from pynput.keyboard import Key, Controller\n",
            "import pyperclip\n",
            "\n",
            "\n",
            "controller = Controller()\n",
            "\n",
            "OLLAMA_ENDPOINT = \"http://localhost:11434/api/generate\"\n",
            "OLLAMA_CONFIG = {\n",
            "    \"model\": \"mistral:7b-instruct-v0.2-q4_K_S\",\n",
            "    \"keep_alive\": \"5m\",\n",
            "    \"stream\": False,\n",
            "}\n",
            "\n",
            "PROMPT_TEMPLATE = Template(\n",
            "    \"\"\"Fix all typos and casing and punctuation in this text, but preserve all new line characters:\n",
            "\n",
            "$text\n",
            "\n",
            "Return only the corrected text, don't include a preamble.\n",
            "\"\"\"\n",
            ")\n",
            "\n",
            "\n",
            "def fix_text(text):\n",
            "    prompt = PROMPT_TEMPLATE.substitute(text=text)\n",
            "    response = httpx.post(\n",
            "        OLLAMA_ENDPOINT,\n",
            "        json={\"prompt\": prompt, **OLLAMA_CONFIG},\n",
            "        headers={\"Content-Type\": \"application/json\"},\n",
            "        timeout=10,\n",
            "    )\n",
            "    if response.status_code != 200:\n",
            "        print(\"Error\", response.status_code)\n",
            "        return None\n",
            "    return response.json()[\"response\"].strip()\n",
            "\n",
            "\n",
            "def fix_current_line():\n",
            "    # macOS short cut to select current line: Cmd+Shift+Left\n",
            "    controller.press(Key.cmd)\n",
            "    controller.press(Key.shift)\n",
            "    controller.press(Key.left)\n",
            "\n",
            "    controller.release(Key.cmd)\n",
            "    controller.release(Key.shift)\n",
            "    controller.release(Key.left)\n",
            "\n",
            "    fix_selection()\n",
            "\n",
            "\n",
            "def fix_selection():\n",
            "    # 1. Copy selection to clipboard\n",
            "    with controller.pressed(Key.cmd):\n",
            "        controller.tap(\"c\")\n",
            "\n",
            "    # 2. Get the clipboard string\n",
            "    time.sleep(0.1)\n",
            "    text = pyperclip.paste()\n",
            "\n",
            "    # 3. Fix string\n",
            "    if not text:\n",
            "        return\n",
            "    fixed_text = fix_text(text)\n",
            "    if not fixed_text:\n",
            "        return\n",
            "\n",
            "    # 4. Paste the fixed string to the clipboard\n",
            "    pyperclip.copy(fixed_text)\n",
            "    time.sleep(0.1)\n",
            "\n",
            "    # 5. Paste the clipboard and replace the selected text\n",
            "    with controller.pressed(Key.cmd):\n",
            "        controller.tap(\"v\")\n",
            "\n",
            "\n",
            "def on_f9():\n",
            "    fix_current_line()\n",
            "\n",
            "\n",
            "def on_f10():\n",
            "    fix_selection()\n",
            "\n",
            "\n",
            "with keyboard.GlobalHotKeys({\"<101>\": on_f9, \"<109>\": on_f10}) as h:\n",
            "    h.join()\n",
            "\n"
          ]
        }
      ]
    },
    {
      "cell_type": "markdown",
      "source": [
        "### How to Leverage Claude and ChatGPT in Software Development\n",
        "\n"
      ],
      "metadata": {
        "id": "uczUICMtpDyv"
      }
    },
    {
      "cell_type": "markdown",
      "source": [
        "####**1. Ideation and Requirements Gathering**\n",
        "   - **Use Case**: You have an idea for a software tool but need to flesh out the details.\n",
        "   - **How to Use**: Describe your idea to the AI, and it can help brainstorm features, workflows, and technical requirements. For example:\n",
        "     - **Prompt**: \"I want to build a bookmark manager that works across all browsers. What features should it have?\"\n",
        "     - **Response**: The AI might suggest features like synchronization across devices, categorization of bookmarks, and search functionality.\n",
        "\n"
      ],
      "metadata": {
        "id": "fGBxcRYWpYZ-"
      }
    },
    {
      "cell_type": "markdown",
      "source": [
        "####**2. Design and Architecture**\n",
        "   - **Use Case**: You need to design the architecture for your software.\n",
        "   - **How to Use**: Explain your project, and the AI can help outline the system architecture, including databases, APIs, and front-end/back-end separation. For example:\n",
        "     - **Prompt**: \"Help me design the architecture for a web-based bookmark manager.\"\n",
        "     - **Response**: The AI could suggest using a cloud database, a REST API for communication, and a React front-end.\n",
        "\n"
      ],
      "metadata": {
        "id": "qI_ux2cHpckL"
      }
    },
    {
      "cell_type": "markdown",
      "source": [
        "####**3. Code Generation**\n",
        "   - **Use Case**: You need to write code but want to speed up the process.\n",
        "   - **How to Use**: Provide the AI with a detailed prompt about what you need the code to do. The AI can generate functions, classes, or even entire modules. For example:\n",
        "     - **Prompt**: \"Write a Python function that saves bookmarks to a database.\"\n",
        "     - **Response**: The AI might generate a function using Python and an ORM like SQLAlchemy to interact with a database.\n",
        "\n"
      ],
      "metadata": {
        "id": "oDiT3zPYpfh8"
      }
    },
    {
      "cell_type": "markdown",
      "source": [
        "####**4. Debugging and Error Handling**\n",
        "   - **Use Case**: You're facing a bug or error in your code.\n",
        "   - **How to Use**: Paste your code and the error message into the AI, and it can suggest fixes or explain what might be going wrong. For example:\n",
        "     - **Prompt**: \"I’m getting a 'TypeError' in this function. Can you help fix it?\"\n",
        "     - **Response**: The AI would analyze the code and suggest corrections.\n",
        "\n"
      ],
      "metadata": {
        "id": "gI1fkALypiJb"
      }
    },
    {
      "cell_type": "markdown",
      "source": [
        "####**5. Testing and Optimization**\n",
        "   - **Use Case**: You need to write tests or optimize your code.\n",
        "   - **How to Use**: Ask the AI to generate unit tests or optimize specific parts of your code for performance. For example:\n",
        "     - **Prompt**: \"Generate unit tests for this Python function.\"\n",
        "     - **Response**: The AI will create test cases that you can use with testing frameworks like pytest.\n",
        "\n"
      ],
      "metadata": {
        "id": "VxS1gSjWplbF"
      }
    },
    {
      "cell_type": "markdown",
      "source": [
        "####**6. Documentation and Commenting**\n",
        "   - **Use Case**: You want to ensure your code is well-documented.\n",
        "   - **How to Use**: Ask the AI to generate documentation for your functions or entire modules. For example:\n",
        "     - **Prompt**: \"Write docstrings for the following Python functions.\"\n",
        "     - **Response**: The AI will add comprehensive docstrings, detailing parameters, return values, and examples."
      ],
      "metadata": {
        "id": "TGgMsurXppKN"
      }
    },
    {
      "cell_type": "markdown",
      "source": [
        "### **Introduction to Cursor**\n",
        "\n",
        "Demo on cursor IDE and its code generation capablities"
      ],
      "metadata": {
        "id": "Jcm6FJ7_qcZ1"
      }
    },
    {
      "cell_type": "markdown",
      "source": [
        "## **Asking the Right Questions Using Better Prompt Engineering**\n",
        "\n",
        "Prompt engineering is the art of crafting effective prompts to elicit the most relevant and accurate responses from AI models like Claude, ChatGPT, and others. The quality of the AI's output depends heavily on the way questions are asked. By mastering prompt engineering, you can guide the AI to generate more precise, useful, and contextually appropriate responses.\n",
        "\n"
      ],
      "metadata": {
        "id": "E0EcoSsQqjlD"
      }
    },
    {
      "cell_type": "markdown",
      "source": [
        "#### **What is Prompt Engineering?**\n",
        "\n",
        "Prompt engineering involves designing and refining prompts—text inputs given to an AI model—to achieve the desired output. A well-crafted prompt can significantly enhance the AI's performance in tasks such as code generation, content creation, data analysis, and more.\n",
        "\n"
      ],
      "metadata": {
        "id": "pu1av7FUrG_H"
      }
    },
    {
      "cell_type": "markdown",
      "source": [
        "#### **Why is Prompt Engineering Important?**\n",
        "\n",
        "- **Precision**: A well-structured prompt can minimize ambiguity, leading to more accurate and relevant answers.\n",
        "- **Efficiency**: Better prompts reduce the need for multiple follow-up questions, saving time and effort.\n",
        "- **Creativity**: By framing prompts creatively, you can inspire the AI to generate more innovative and diverse outputs.\n",
        "- **Customization**: Tailored prompts allow you to extract information that is specific to your unique context or requirements.\n",
        "\n"
      ],
      "metadata": {
        "id": "mZIIgFftrLUh"
      }
    },
    {
      "cell_type": "markdown",
      "source": [
        "#### **Key Principles of Effective Prompt Engineering**\n",
        "\n",
        "1. **Clarity and Specificity**\n",
        "   - **Be Clear**: Ensure your prompt is clear and unambiguous. Avoid vague language that might confuse the AI.\n",
        "   - **Be Specific**: Specify exactly what you need. Include details like context, format, or constraints.\n",
        "   - **Example**:\n",
        "     - **Less Effective**: \"Explain Python functions.\"\n",
        "     - **More Effective**: \"Explain how to define and call a Python function with examples of passing multiple parameters.\"\n",
        "\n",
        "2. **Contextual Information**\n",
        "   - **Provide Context**: Include background information or context to help the AI understand the situation better.\n",
        "   - **Set the Scene**: If the task is complex, set the stage by describing the environment or the intended audience.\n",
        "   - **Example**:\n",
        "     - **Less Effective**: \"Write a marketing email.\"\n",
        "     - **More Effective**: \"Write a marketing email promoting a new AI-powered code editor to software developers, highlighting its features and benefits.\"\n",
        "\n",
        "3. **Prompt Structure**\n",
        "   - **Break Down the Task**: If the task is complex, break it down into smaller, manageable parts within the prompt.\n",
        "   - **Use Steps**: Guide the AI step-by-step through the process.\n",
        "   - **Example**:\n",
        "     - **Less Effective**: \"Generate a Python script to analyze sales data.\"\n",
        "     - **More Effective**: \"1. Write a Python function to read a CSV file containing sales data. 2. Create a function to calculate total sales by region. 3. Generate a report that lists the top-performing regions.\"\n",
        "\n",
        "4. **Question Format**\n",
        "   - **Open-Ended vs. Close-Ended**: Use open-ended prompts to encourage more detailed responses and close-ended prompts for specific answers.\n",
        "   - **Ask for Explanation**: When necessary, ask the AI to explain its reasoning or the steps it took to arrive at an answer.\n",
        "   - **Example**:\n",
        "     - **Less Effective**: \"Is Python a good programming language?\"\n",
        "     - **More Effective**: \"What are the advantages of using Python for data analysis? Please explain with examples.\"\n",
        "\n",
        "5. **Instructional Language**\n",
        "   - **Be Directive**: Use clear and direct language to instruct the AI on what to do.\n",
        "   - **Use Action Words**: Start prompts with action verbs like \"List,\" \"Explain,\" \"Compare,\" \"Generate,\" etc.\n",
        "   - **Example**:\n",
        "     - **Less Effective**: \"Can you tell me about Python loops?\"\n",
        "     - **More Effective**: \"Explain the different types of loops in Python, including `for` and `while` loops, with code examples.\"\n",
        "\n",
        "6. **Refinement and Iteration**\n",
        "   - **Iterate**: Don’t hesitate to refine your prompts based on the initial responses. Experiment with different phrasing to get the best results.\n",
        "   - **Feedback Loop**: Use the AI's responses to fine-tune future prompts, gradually improving their effectiveness.\n",
        "   - **Example**:\n",
        "     - **First Prompt**: \"Describe the main features of Python.\"\n",
        "     - **Refined Prompt**: \"Describe the main features of Python, focusing on ease of use, libraries, and community support. Provide examples where applicable.\"\n",
        "\n",
        "7. **Constraints and Limitations**\n",
        "   - **Set Limits**: If you need concise answers, specify word limits or request summaries.\n",
        "   - **Define Scope**: Narrow down the scope if the topic is broad to focus on the most relevant aspects.\n",
        "   - **Example**:\n",
        "     - **Less Effective**: \"Tell me about AI.\"\n",
        "     - **More Effective**: \"Provide a 200-word summary on the key ethical considerations in AI development.\"\n",
        "\n"
      ],
      "metadata": {
        "id": "5jDuK_7NrOgk"
      }
    },
    {
      "cell_type": "markdown",
      "source": [
        "#### **Practical Examples of Better Prompt Engineering**\n",
        "\n",
        "1. **Writing an Article**\n",
        "   - **Prompt**: \"Write a 500-word article explaining how AI is transforming healthcare. Focus on applications in diagnostics, patient management, and personalized medicine. Include real-world examples.\"\n",
        "   \n",
        "2. **Code Generation**\n",
        "   - **Prompt**: \"Generate a Python script that takes a list of numbers and returns a new list with only the even numbers. Include comments explaining each step.\"\n",
        "\n",
        "3. **Learning Concepts**\n",
        "   - **Prompt**: \"Explain the concept of machine learning to a beginner. Use analogies to make the explanation easier to understand.\"\n",
        "\n",
        "4. **Comparing Technologies**\n",
        "   - **Prompt**: \"Compare the pros and cons of using Django vs. Flask for web development. Focus on scalability, ease of use, and community support.\"\n",
        "\n",
        "5. **Creating a Business Plan**\n",
        "   - **Prompt**: \"Draft an executive summary for a business plan for a startup offering AI-driven financial advisory services. Highlight the unique value proposition and market opportunity.\""
      ],
      "metadata": {
        "id": "awPXZCeHrZFa"
      }
    },
    {
      "cell_type": "markdown",
      "source": [],
      "metadata": {
        "id": "_pMs0mflsb8W"
      }
    }
  ]
}