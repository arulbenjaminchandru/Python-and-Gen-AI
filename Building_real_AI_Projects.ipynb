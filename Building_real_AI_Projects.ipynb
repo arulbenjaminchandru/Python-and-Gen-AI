{
  "nbformat": 4,
  "nbformat_minor": 0,
  "metadata": {
    "colab": {
      "provenance": [],
      "authorship_tag": "ABX9TyMw9dUierOuJQUvzwGmlcGQ",
      "include_colab_link": true
    },
    "kernelspec": {
      "name": "python3",
      "display_name": "Python 3"
    },
    "language_info": {
      "name": "python"
    }
  },
  "cells": [
    {
      "cell_type": "markdown",
      "metadata": {
        "id": "view-in-github",
        "colab_type": "text"
      },
      "source": [
        "<a href=\"https://colab.research.google.com/github/arulbenjaminchandru/Python-and-Gen-AI/blob/main/Building_real_AI_Projects.ipynb\" target=\"_parent\"><img src=\"https://colab.research.google.com/assets/colab-badge.svg\" alt=\"Open In Colab\"/></a>"
      ]
    },
    {
      "cell_type": "markdown",
      "source": [
        "#**Langchain and LlamaIndex**"
      ],
      "metadata": {
        "id": "jCoWe2H5ViTT"
      }
    },
    {
      "cell_type": "markdown",
      "source": [
        "## **Langchain**\n",
        "LangChain is a framework designed to facilitate the creation of applications that interact with large language models (LLMs) in a more structured and meaningful way. It focuses on enabling applications that go beyond simple question-answering by adding various capabilities such as retrieval of external data, interaction with different sources, and chaining together different components.\n",
        "\n"
      ],
      "metadata": {
        "id": "A1oRyqP5UtOW"
      }
    },
    {
      "cell_type": "markdown",
      "source": [
        "### **Key Features of LangChain:**\n",
        "1. **Chain of Actions**: LangChain enables you to build sequences of operations, where the output of one component feeds into another. This can include chaining LLM calls, interacting with APIs, or doing computations between different steps.\n",
        "  \n",
        "2. **Document Retrieval**: It provides the ability to retrieve information from external documents (such as PDFs, websites, or databases) to inform responses. This feature is essential for applications that need to integrate LLMs with large knowledge bases.\n",
        "\n",
        "3. **Memory**: LangChain can allow LLMs to \"remember\" previous interactions, enabling context persistence across different prompts.\n",
        "\n",
        "4. **Integration with Tools and APIs**: LangChain makes it easy to connect your language model to external tools or APIs. For example, you can call a weather service or perform calculations as part of your chain of operations.\n",
        "\n",
        "5. **Agents**: These are advanced chains that use LLMs to decide which action to take, such as querying a database, reading a document, or calling an external API. Agents are useful in applications where the next step is not predetermined.\n",
        "\n"
      ],
      "metadata": {
        "id": "JcM619gqVMKN"
      }
    },
    {
      "cell_type": "markdown",
      "source": [
        "### **Typical LangChain Use Cases**:\n",
        "- **Question Answering over Documents**: Combine LLMs with document retrieval systems to enable users to ask questions about specific documents or datasets.\n",
        "  \n",
        "- **Personal Assistants**: Create systems where the model can carry out tasks based on user input, from web scraping to scheduling meetings.\n",
        "  \n",
        "- **Conversational Agents with Memory**: Build chatbots that can remember previous conversations and improve interactions over time.\n",
        "\n",
        "- **Data Augmentation**: Use LLMs alongside external data sources, such as databases or web APIs, to enhance the capabilities of the LLM.\n",
        "\n"
      ],
      "metadata": {
        "id": "SW4i155HVS0Y"
      }
    },
    {
      "cell_type": "markdown",
      "source": [
        "### **Components of LangChain**:\n",
        "1. **Prompt Templates**: Standardized templates for prompts, ensuring that you send the right kind of request to the model.\n",
        "   \n",
        "2. **Chains**: A sequence of steps that process user input and return a response. These steps can include calling an LLM, doing calculations, or interacting with external data sources.\n",
        "\n",
        "3. **Agents and Tools**: Agents make decisions about which actions to take in a sequence, based on the current context.\n",
        "\n",
        "4. **Document Loaders**: Connectors that allow LangChain to access and retrieve information from various sources such as PDFs, websites, databases, or APIs.\n",
        "\n",
        "5. **Embeddings**: Used to represent text in a form that is easy to compare and search, essential for tasks like retrieval-augmented generation (RAG).\n",
        "\n"
      ],
      "metadata": {
        "id": "4_J2Jp4YVXm4"
      }
    },
    {
      "cell_type": "markdown",
      "source": [
        "### **When to Use LangChain**\n",
        "- When you need more control over how an LLM interacts with external data.\n",
        "- If you want to build multi-step processes that go beyond simple question-answering.\n",
        "- For creating complex applications where LLM responses need to be conditioned on previous actions or user inputs.\n",
        "\n",
        "LangChain is especially powerful when used in retrieval-augmented generation (RAG) systems, personal assistants, and custom NLP pipelines."
      ],
      "metadata": {
        "id": "74moAspHVdFc"
      }
    },
    {
      "cell_type": "markdown",
      "source": [
        "## **LlamaIndex**\n",
        "\n",
        "LlamaIndex, formerly known as GPT Index, is a library designed to help integrate large language models (LLMs) with various data sources and tools, enabling more advanced capabilities like document retrieval, indexing, and complex queries.\n",
        "\n"
      ],
      "metadata": {
        "id": "dkPlWQfVhz_O"
      }
    },
    {
      "cell_type": "markdown",
      "source": [
        "### Key Features of LlamaIndex:\n",
        "\n",
        "1. **Document Indexing**: Allows you to create and manage indices of documents or datasets. This enables efficient search and retrieval of information.\n",
        "\n",
        "2. **Retrieval-Augmented Generation (RAG)**: Combines retrieval of relevant documents with LLM generation. This helps in providing more accurate and contextually relevant responses by accessing external data.\n",
        "\n",
        "3. **Integration with LLMs**: Works seamlessly with various LLMs to enable enhanced capabilities like document querying, summarization, and question-answering.\n",
        "\n",
        "4. **Flexible Querying**: Supports complex querying mechanisms to interact with indexed documents, allowing for precise and detailed information retrieval.\n",
        "\n",
        "5. **Ease of Use**: Provides a straightforward API for integrating document-based querying and retrieval into your applications.\n",
        "\n"
      ],
      "metadata": {
        "id": "1S9bhoOeiD_l"
      }
    },
    {
      "cell_type": "markdown",
      "source": [
        "### Key Components\n",
        "\n",
        "- **Document**: Represents individual pieces of text that can be indexed and queried.\n",
        "  \n",
        "- **SimpleDocumentIndex**: An example implementation of a document index that supports basic operations like adding documents and querying them.\n",
        "\n",
        "- **LLMChain**: Integrates the LLM with the document retrieval system to generate responses based on the indexed documents.\n",
        "\n"
      ],
      "metadata": {
        "id": "xdJ25FTciKPp"
      }
    },
    {
      "cell_type": "markdown",
      "source": [
        "### When to Use LlamaIndex\n",
        "\n",
        "- **Document-Based Applications**: When you need to build applications that require searching, indexing, or querying large collections of documents.\n",
        "  \n",
        "- **Enhanced LLM Capabilities**: To combine document retrieval with LLM responses for more contextually relevant outputs.\n",
        "\n",
        "- **Complex Queries**: For scenarios where you need to perform complex queries over large datasets or documents.\n",
        "\n",
        "LlamaIndex is a powerful tool for enhancing the capabilities of LLMs, especially in applications where interacting with large amounts of text or documents is crucial."
      ],
      "metadata": {
        "id": "5orD_IY7iMuI"
      }
    },
    {
      "cell_type": "markdown",
      "source": [
        "# **LlamaIndex Demo with Google Gemini, LlamaIndex and Chroma (Question Answering)**"
      ],
      "metadata": {
        "id": "QivkwSzMihiA"
      }
    },
    {
      "cell_type": "markdown",
      "metadata": {
        "id": "itTLwgnvkrfD"
      },
      "source": [
        "## Overview\n",
        "\n",
        "[Gemini](https://ai.google.dev/models/gemini) is a family of generative AI models that lets developers generate content and solve problems. These models are designed and trained to handle both text and images as input.\n",
        "\n",
        "[LlamaIndex](https://www.llamaindex.ai/) is a simple, flexible data framework that can be used by Large Language Model(LLM) applications to connect custom data sources to LLMs.\n",
        "\n",
        "[Chroma](https://docs.trychroma.com/) is an open-source embedding database focused on simplicity and developer productivity. Chroma allows users to store embeddings and their metadata, embed documents and queries, and search the embeddings quickly.\n",
        "\n",
        "In this example, you'll learn how to create an application that answers questions using data from a website with the help of Gemini, LlamaIndex, and Chroma."
      ]
    },
    {
      "cell_type": "markdown",
      "metadata": {
        "id": "fZQLFShAnNDA"
      },
      "source": [
        "## Setup\n",
        "\n",
        "First, you must install the packages and set the necessary environment variables.\n",
        "\n",
        "### Installation\n",
        "\n",
        "Install LlamaIndex's Python library, `llama-index`. Install LlamaIndex's integration package for Gemini, `llama-index-llms-gemini` and the integration package for Gemini embedding model, `llama-index-embeddings-gemini`. Next, install LlamaIndex's web page reader, `llama-index-readers-web`. Finally, install ChromaDB's Python client SDK, `chromadb` and"
      ]
    },
    {
      "cell_type": "code",
      "execution_count": 1,
      "metadata": {
        "id": "iK3BOx4u6ssQ",
        "outputId": "c5341be2-638c-47a8-f44d-05570a028044",
        "colab": {
          "base_uri": "https://localhost:8080/"
        },
        "collapsed": true
      },
      "outputs": [
        {
          "output_type": "stream",
          "name": "stdout",
          "text": [
            "\u001b[?25l   \u001b[90m━━━━━━━━━━━━━━━━━━━━━━━━━━━━━━━━━━━━━━━━\u001b[0m \u001b[32m0.0/1.6 MB\u001b[0m \u001b[31m?\u001b[0m eta \u001b[36m-:--:--\u001b[0m\r\u001b[2K   \u001b[91m━━━━━━━━━━━━\u001b[0m\u001b[90m╺\u001b[0m\u001b[90m━━━━━━━━━━━━━━━━━━━━━━━━━━━\u001b[0m \u001b[32m0.5/1.6 MB\u001b[0m \u001b[31m15.2 MB/s\u001b[0m eta \u001b[36m0:00:01\u001b[0m\r\u001b[2K   \u001b[91m━━━━━━━━━━━━━━━━━━━━━━━━━━━━━━━━━━━━━━━\u001b[0m\u001b[91m╸\u001b[0m \u001b[32m1.6/1.6 MB\u001b[0m \u001b[31m28.9 MB/s\u001b[0m eta \u001b[36m0:00:01\u001b[0m\r\u001b[2K   \u001b[90m━━━━━━━━━━━━━━━━━━━━━━━━━━━━━━━━━━━━━━━━\u001b[0m \u001b[32m1.6/1.6 MB\u001b[0m \u001b[31m20.3 MB/s\u001b[0m eta \u001b[36m0:00:00\u001b[0m\n",
            "\u001b[2K   \u001b[90m━━━━━━━━━━━━━━━━━━━━━━━━━━━━━━━━━━━━━━━━\u001b[0m \u001b[32m1.2/1.2 MB\u001b[0m \u001b[31m39.3 MB/s\u001b[0m eta \u001b[36m0:00:00\u001b[0m\n",
            "\u001b[2K   \u001b[90m━━━━━━━━━━━━━━━━━━━━━━━━━━━━━━━━━━━━━━━━\u001b[0m \u001b[32m141.9/141.9 kB\u001b[0m \u001b[31m6.9 MB/s\u001b[0m eta \u001b[36m0:00:00\u001b[0m\n",
            "\u001b[2K   \u001b[90m━━━━━━━━━━━━━━━━━━━━━━━━━━━━━━━━━━━━━━━━\u001b[0m \u001b[32m76.4/76.4 kB\u001b[0m \u001b[31m3.6 MB/s\u001b[0m eta \u001b[36m0:00:00\u001b[0m\n",
            "\u001b[2K   \u001b[90m━━━━━━━━━━━━━━━━━━━━━━━━━━━━━━━━━━━━━━━━\u001b[0m \u001b[32m77.9/77.9 kB\u001b[0m \u001b[31m3.6 MB/s\u001b[0m eta \u001b[36m0:00:00\u001b[0m\n",
            "\u001b[2K   \u001b[90m━━━━━━━━━━━━━━━━━━━━━━━━━━━━━━━━━━━━━━━━\u001b[0m \u001b[32m367.8/367.8 kB\u001b[0m \u001b[31m18.7 MB/s\u001b[0m eta \u001b[36m0:00:00\u001b[0m\n",
            "\u001b[2K   \u001b[90m━━━━━━━━━━━━━━━━━━━━━━━━━━━━━━━━━━━━━━━━\u001b[0m \u001b[32m295.8/295.8 kB\u001b[0m \u001b[31m14.6 MB/s\u001b[0m eta \u001b[36m0:00:00\u001b[0m\n",
            "\u001b[2K   \u001b[90m━━━━━━━━━━━━━━━━━━━━━━━━━━━━━━━━━━━━━━━━\u001b[0m \u001b[32m1.1/1.1 MB\u001b[0m \u001b[31m43.5 MB/s\u001b[0m eta \u001b[36m0:00:00\u001b[0m\n",
            "\u001b[2K   \u001b[90m━━━━━━━━━━━━━━━━━━━━━━━━━━━━━━━━━━━━━━━━\u001b[0m \u001b[32m318.9/318.9 kB\u001b[0m \u001b[31m15.2 MB/s\u001b[0m eta \u001b[36m0:00:00\u001b[0m\n",
            "\u001b[2K   \u001b[90m━━━━━━━━━━━━━━━━━━━━━━━━━━━━━━━━━━━━━━━━\u001b[0m \u001b[32m49.3/49.3 kB\u001b[0m \u001b[31m3.2 MB/s\u001b[0m eta \u001b[36m0:00:00\u001b[0m\n",
            "\u001b[2K   \u001b[90m━━━━━━━━━━━━━━━━━━━━━━━━━━━━━━━━━━━━━━━━\u001b[0m \u001b[32m58.3/58.3 kB\u001b[0m \u001b[31m3.4 MB/s\u001b[0m eta \u001b[36m0:00:00\u001b[0m\n",
            "\u001b[2K   \u001b[90m━━━━━━━━━━━━━━━━━━━━━━━━━━━━━━━━━━━━━━━━\u001b[0m \u001b[32m150.7/150.7 kB\u001b[0m \u001b[31m2.9 MB/s\u001b[0m eta \u001b[36m0:00:00\u001b[0m\n",
            "\u001b[2K   \u001b[90m━━━━━━━━━━━━━━━━━━━━━━━━━━━━━━━━━━━━━━━━\u001b[0m \u001b[32m679.1/679.1 kB\u001b[0m \u001b[31m15.8 MB/s\u001b[0m eta \u001b[36m0:00:00\u001b[0m\n",
            "\u001b[2K   \u001b[90m━━━━━━━━━━━━━━━━━━━━━━━━━━━━━━━━━━━━━━━━\u001b[0m \u001b[32m1.6/1.6 MB\u001b[0m \u001b[31m30.4 MB/s\u001b[0m eta \u001b[36m0:00:00\u001b[0m\n",
            "\u001b[2K   \u001b[90m━━━━━━━━━━━━━━━━━━━━━━━━━━━━━━━━━━━━━━━━\u001b[0m \u001b[32m4.5/4.5 MB\u001b[0m \u001b[31m75.3 MB/s\u001b[0m eta \u001b[36m0:00:00\u001b[0m\n",
            "\u001b[2K   \u001b[90m━━━━━━━━━━━━━━━━━━━━━━━━━━━━━━━━━━━━━━━━\u001b[0m \u001b[32m1.5/1.5 MB\u001b[0m \u001b[31m55.2 MB/s\u001b[0m eta \u001b[36m0:00:00\u001b[0m\n",
            "\u001b[?25h\u001b[31mERROR: pip's dependency resolver does not currently take into account all the packages that are installed. This behaviour is the source of the following dependency conflicts.\n",
            "llama-index 0.10.17 requires llama-index-core<0.11.0,>=0.10.17, but you have llama-index-core 0.11.7 which is incompatible.\n",
            "llama-index-agent-openai 0.1.7 requires llama-index-core<0.11.0,>=0.10.1, but you have llama-index-core 0.11.7 which is incompatible.\n",
            "llama-index-cli 0.1.13 requires llama-index-core<0.11.0,>=0.10.11.post1, but you have llama-index-core 0.11.7 which is incompatible.\n",
            "llama-index-embeddings-openai 0.1.11 requires llama-index-core<0.11.0,>=0.10.1, but you have llama-index-core 0.11.7 which is incompatible.\n",
            "llama-index-indices-managed-llama-cloud 0.1.6 requires llama-index-core<0.11.0,>=0.10.0, but you have llama-index-core 0.11.7 which is incompatible.\n",
            "llama-index-llms-openai 0.1.31 requires llama-index-core<0.11.0,>=0.10.57, but you have llama-index-core 0.11.7 which is incompatible.\n",
            "llama-index-multi-modal-llms-openai 0.1.9 requires llama-index-core<0.11.0,>=0.10.1, but you have llama-index-core 0.11.7 which is incompatible.\n",
            "llama-index-program-openai 0.1.7 requires llama-index-core<0.11.0,>=0.10.57, but you have llama-index-core 0.11.7 which is incompatible.\n",
            "llama-index-question-gen-openai 0.1.3 requires llama-index-core<0.11.0,>=0.10.1, but you have llama-index-core 0.11.7 which is incompatible.\n",
            "llama-index-readers-file 0.1.33 requires llama-index-core<0.11.0,>=0.10.37.post1, but you have llama-index-core 0.11.7 which is incompatible.\n",
            "llama-index-readers-llama-parse 0.1.6 requires llama-index-core<0.11.0,>=0.10.7, but you have llama-index-core 0.11.7 which is incompatible.\u001b[0m\u001b[31m\n",
            "\u001b[2K     \u001b[90m━━━━━━━━━━━━━━━━━━━━━━━━━━━━━━━━━━━━━━━━\u001b[0m \u001b[32m56.5/56.5 kB\u001b[0m \u001b[31m1.9 MB/s\u001b[0m eta \u001b[36m0:00:00\u001b[0m\n",
            "\u001b[?25h  Preparing metadata (setup.py) ... \u001b[?25l\u001b[?25hdone\n",
            "  Preparing metadata (setup.py) ... \u001b[?25l\u001b[?25hdone\n",
            "  Preparing metadata (setup.py) ... \u001b[?25l\u001b[?25hdone\n",
            "\u001b[2K     \u001b[90m━━━━━━━━━━━━━━━━━━━━━━━━━━━━━━━━━━━━━━━━\u001b[0m \u001b[32m7.4/7.4 MB\u001b[0m \u001b[31m40.3 MB/s\u001b[0m eta \u001b[36m0:00:00\u001b[0m\n",
            "\u001b[?25h  Preparing metadata (setup.py) ... \u001b[?25l\u001b[?25hdone\n",
            "  Preparing metadata (setup.py) ... \u001b[?25l\u001b[?25hdone\n",
            "  Preparing metadata (setup.py) ... \u001b[?25l\u001b[?25hdone\n",
            "\u001b[2K   \u001b[90m━━━━━━━━━━━━━━━━━━━━━━━━━━━━━━━━━━━━━━━━\u001b[0m \u001b[32m72.9/72.9 kB\u001b[0m \u001b[31m4.6 MB/s\u001b[0m eta \u001b[36m0:00:00\u001b[0m\n",
            "\u001b[2K   \u001b[90m━━━━━━━━━━━━━━━━━━━━━━━━━━━━━━━━━━━━━━━━\u001b[0m \u001b[32m211.1/211.1 kB\u001b[0m \u001b[31m12.8 MB/s\u001b[0m eta \u001b[36m0:00:00\u001b[0m\n",
            "\u001b[2K   \u001b[90m━━━━━━━━━━━━━━━━━━━━━━━━━━━━━━━━━━━━━━━━\u001b[0m \u001b[32m37.9/37.9 MB\u001b[0m \u001b[31m26.6 MB/s\u001b[0m eta \u001b[36m0:00:00\u001b[0m\n",
            "\u001b[2K   \u001b[90m━━━━━━━━━━━━━━━━━━━━━━━━━━━━━━━━━━━━━━━━\u001b[0m \u001b[32m9.6/9.6 MB\u001b[0m \u001b[31m71.8 MB/s\u001b[0m eta \u001b[36m0:00:00\u001b[0m\n",
            "\u001b[2K   \u001b[90m━━━━━━━━━━━━━━━━━━━━━━━━━━━━━━━━━━━━━━━━\u001b[0m \u001b[32m81.3/81.3 kB\u001b[0m \u001b[31m4.5 MB/s\u001b[0m eta \u001b[36m0:00:00\u001b[0m\n",
            "\u001b[2K   \u001b[90m━━━━━━━━━━━━━━━━━━━━━━━━━━━━━━━━━━━━━━━━\u001b[0m \u001b[32m97.6/97.6 kB\u001b[0m \u001b[31m6.5 MB/s\u001b[0m eta \u001b[36m0:00:00\u001b[0m\n",
            "\u001b[2K   \u001b[90m━━━━━━━━━━━━━━━━━━━━━━━━━━━━━━━━━━━━━━━━\u001b[0m \u001b[32m476.0/476.0 kB\u001b[0m \u001b[31m26.0 MB/s\u001b[0m eta \u001b[36m0:00:00\u001b[0m\n",
            "\u001b[?25h  Building wheel for html2text (setup.py) ... \u001b[?25l\u001b[?25hdone\n",
            "  Building wheel for tinysegmenter (setup.py) ... \u001b[?25l\u001b[?25hdone\n",
            "  Building wheel for spider-client (setup.py) ... \u001b[?25l\u001b[?25hdone\n",
            "  Building wheel for feedfinder2 (setup.py) ... \u001b[?25l\u001b[?25hdone\n",
            "  Building wheel for jieba3k (setup.py) ... \u001b[?25l\u001b[?25hdone\n",
            "  Building wheel for sgmllib3k (setup.py) ... \u001b[?25l\u001b[?25hdone\n",
            "\u001b[2K     \u001b[90m━━━━━━━━━━━━━━━━━━━━━━━━━━━━━━━━━━━━━━━━\u001b[0m \u001b[32m67.3/67.3 kB\u001b[0m \u001b[31m3.1 MB/s\u001b[0m eta \u001b[36m0:00:00\u001b[0m\n",
            "\u001b[?25h  Installing build dependencies ... \u001b[?25l\u001b[?25hdone\n",
            "  Getting requirements to build wheel ... \u001b[?25l\u001b[?25hdone\n",
            "  Preparing metadata (pyproject.toml) ... \u001b[?25l\u001b[?25hdone\n",
            "\u001b[2K     \u001b[90m━━━━━━━━━━━━━━━━━━━━━━━━━━━━━━━━━━━━━━━━\u001b[0m \u001b[32m50.4/50.4 kB\u001b[0m \u001b[31m3.1 MB/s\u001b[0m eta \u001b[36m0:00:00\u001b[0m\n",
            "\u001b[2K   \u001b[90m━━━━━━━━━━━━━━━━━━━━━━━━━━━━━━━━━━━━━━━━\u001b[0m \u001b[32m584.3/584.3 kB\u001b[0m \u001b[31m14.3 MB/s\u001b[0m eta \u001b[36m0:00:00\u001b[0m\n",
            "\u001b[2K   \u001b[90m━━━━━━━━━━━━━━━━━━━━━━━━━━━━━━━━━━━━━━━━\u001b[0m \u001b[32m2.4/2.4 MB\u001b[0m \u001b[31m57.9 MB/s\u001b[0m eta \u001b[36m0:00:00\u001b[0m\n",
            "\u001b[2K   \u001b[90m━━━━━━━━━━━━━━━━━━━━━━━━━━━━━━━━━━━━━━━━\u001b[0m \u001b[32m273.8/273.8 kB\u001b[0m \u001b[31m16.5 MB/s\u001b[0m eta \u001b[36m0:00:00\u001b[0m\n",
            "\u001b[2K   \u001b[90m━━━━━━━━━━━━━━━━━━━━━━━━━━━━━━━━━━━━━━━━\u001b[0m \u001b[32m94.0/94.0 kB\u001b[0m \u001b[31m6.2 MB/s\u001b[0m eta \u001b[36m0:00:00\u001b[0m\n",
            "\u001b[2K   \u001b[90m━━━━━━━━━━━━━━━━━━━━━━━━━━━━━━━━━━━━━━━━\u001b[0m \u001b[32m1.7/1.7 MB\u001b[0m \u001b[31m59.2 MB/s\u001b[0m eta \u001b[36m0:00:00\u001b[0m\n",
            "\u001b[2K   \u001b[90m━━━━━━━━━━━━━━━━━━━━━━━━━━━━━━━━━━━━━━━━\u001b[0m \u001b[32m67.6/67.6 kB\u001b[0m \u001b[31m4.4 MB/s\u001b[0m eta \u001b[36m0:00:00\u001b[0m\n",
            "\u001b[2K   \u001b[90m━━━━━━━━━━━━━━━━━━━━━━━━━━━━━━━━━━━━━━━━\u001b[0m \u001b[32m13.2/13.2 MB\u001b[0m \u001b[31m90.5 MB/s\u001b[0m eta \u001b[36m0:00:00\u001b[0m\n",
            "\u001b[2K   \u001b[90m━━━━━━━━━━━━━━━━━━━━━━━━━━━━━━━━━━━━━━━━\u001b[0m \u001b[32m64.0/64.0 kB\u001b[0m \u001b[31m4.1 MB/s\u001b[0m eta \u001b[36m0:00:00\u001b[0m\n",
            "\u001b[2K   \u001b[90m━━━━━━━━━━━━━━━━━━━━━━━━━━━━━━━━━━━━━━━━\u001b[0m \u001b[32m52.5/52.5 kB\u001b[0m \u001b[31m2.9 MB/s\u001b[0m eta \u001b[36m0:00:00\u001b[0m\n",
            "\u001b[2K   \u001b[90m━━━━━━━━━━━━━━━━━━━━━━━━━━━━━━━━━━━━━━━━\u001b[0m \u001b[32m149.7/149.7 kB\u001b[0m \u001b[31m9.2 MB/s\u001b[0m eta \u001b[36m0:00:00\u001b[0m\n",
            "\u001b[2K   \u001b[90m━━━━━━━━━━━━━━━━━━━━━━━━━━━━━━━━━━━━━━━━\u001b[0m \u001b[32m110.5/110.5 kB\u001b[0m \u001b[31m7.3 MB/s\u001b[0m eta \u001b[36m0:00:00\u001b[0m\n",
            "\u001b[2K   \u001b[90m━━━━━━━━━━━━━━━━━━━━━━━━━━━━━━━━━━━━━━━━\u001b[0m \u001b[32m141.9/141.9 kB\u001b[0m \u001b[31m9.2 MB/s\u001b[0m eta \u001b[36m0:00:00\u001b[0m\n",
            "\u001b[2K   \u001b[90m━━━━━━━━━━━━━━━━━━━━━━━━━━━━━━━━━━━━━━━━\u001b[0m \u001b[32m53.0/53.0 kB\u001b[0m \u001b[31m3.0 MB/s\u001b[0m eta \u001b[36m0:00:00\u001b[0m\n",
            "\u001b[2K   \u001b[90m━━━━━━━━━━━━━━━━━━━━━━━━━━━━━━━━━━━━━━━━\u001b[0m \u001b[32m62.8/62.8 kB\u001b[0m \u001b[31m4.0 MB/s\u001b[0m eta \u001b[36m0:00:00\u001b[0m\n",
            "\u001b[2K   \u001b[90m━━━━━━━━━━━━━━━━━━━━━━━━━━━━━━━━━━━━━━━━\u001b[0m \u001b[32m341.4/341.4 kB\u001b[0m \u001b[31m21.4 MB/s\u001b[0m eta \u001b[36m0:00:00\u001b[0m\n",
            "\u001b[2K   \u001b[90m━━━━━━━━━━━━━━━━━━━━━━━━━━━━━━━━━━━━━━━━\u001b[0m \u001b[32m71.4/71.4 kB\u001b[0m \u001b[31m4.8 MB/s\u001b[0m eta \u001b[36m0:00:00\u001b[0m\n",
            "\u001b[2K   \u001b[90m━━━━━━━━━━━━━━━━━━━━━━━━━━━━━━━━━━━━━━━━\u001b[0m \u001b[32m3.4/3.4 MB\u001b[0m \u001b[31m75.7 MB/s\u001b[0m eta \u001b[36m0:00:00\u001b[0m\n",
            "\u001b[2K   \u001b[90m━━━━━━━━━━━━━━━━━━━━━━━━━━━━━━━━━━━━━━━━\u001b[0m \u001b[32m425.7/425.7 kB\u001b[0m \u001b[31m25.1 MB/s\u001b[0m eta \u001b[36m0:00:00\u001b[0m\n",
            "\u001b[2K   \u001b[90m━━━━━━━━━━━━━━━━━━━━━━━━━━━━━━━━━━━━━━━━\u001b[0m \u001b[32m157.3/157.3 kB\u001b[0m \u001b[31m10.1 MB/s\u001b[0m eta \u001b[36m0:00:00\u001b[0m\n",
            "\u001b[2K   \u001b[90m━━━━━━━━━━━━━━━━━━━━━━━━━━━━━━━━━━━━━━━━\u001b[0m \u001b[32m46.0/46.0 kB\u001b[0m \u001b[31m2.8 MB/s\u001b[0m eta \u001b[36m0:00:00\u001b[0m\n",
            "\u001b[2K   \u001b[90m━━━━━━━━━━━━━━━━━━━━━━━━━━━━━━━━━━━━━━━━\u001b[0m \u001b[32m86.8/86.8 kB\u001b[0m \u001b[31m6.2 MB/s\u001b[0m eta \u001b[36m0:00:00\u001b[0m\n",
            "\u001b[?25h  Building wheel for pypika (pyproject.toml) ... \u001b[?25l\u001b[?25hdone\n"
          ]
        }
      ],
      "source": [
        "# This guide was tested with 0.10.17, but feel free to try newer versions.\n",
        "!pip install -q llama-index==0.10.17\n",
        "!pip install -q llama-index-llms-gemini\n",
        "!pip install -q llama-index-embeddings-gemini\n",
        "!pip install -q llama-index-readers-web\n",
        "!pip install -q llama-index-vector-stores-chroma\n",
        "!pip install -q chromadb"
      ]
    },
    {
      "cell_type": "markdown",
      "metadata": {
        "id": "FQOGMejVu-6D"
      },
      "source": [
        "## Configure your API key\n",
        "\n",
        "To run the following cell, your API key must be stored in a Colab Secret named `GOOGLE_API_KEY`. If you don't already have an API key, or you're not sure how to create a Colab Secret, see [Authentication](https://github.com/google-gemini/cookbook/blob/main/quickstarts/Authentication.ipynb) for an example.\n"
      ]
    },
    {
      "cell_type": "code",
      "execution_count": 2,
      "metadata": {
        "id": "ysayz8skEfBW"
      },
      "outputs": [],
      "source": [
        "import os\n",
        "from google.colab import userdata\n",
        "GOOGLE_API_KEY=userdata.get('GOOGLE_API_KEY')\n",
        "\n",
        "os.environ[\"GOOGLE_API_KEY\"] = GOOGLE_API_KEY"
      ]
    },
    {
      "cell_type": "markdown",
      "metadata": {
        "id": "gSS20CpqhaDY"
      },
      "source": [
        "## Basic steps\n",
        "LLMs are trained offline on a large corpus of public data. Hence they cannot answer questions based on custom or private data accurately without additional context.\n",
        "\n",
        "If you want to make use of LLMs to answer questions based on private data, you have to provide the relevant documents as context alongside your prompt. This approach is called Retrieval Augmented Generation (RAG).\n",
        "\n",
        "You will use this approach to create a question-answering assistant using the Gemini text model integrated through LlamaIndex. The assistant is expected to answer questions about Google's Gemini model. To make this possible you will add more context to the assistant using data from a website.\n",
        "\n",
        "In this tutorial, you'll implement the two main components in a RAG-based architecture:\n",
        "\n",
        "1. Retriever\n",
        "\n",
        "    Based on the user's query, the retriever retrieves relevant snippets that add context from the document. In this tutorial, the document is the website data.\n",
        "    The relevant snippets are passed as context to the next stage - \"Generator\".\n",
        "\n",
        "2. Generator\n",
        "\n",
        "    The relevant snippets from the website data are passed to the LLM along with the user's query to generate accurate answers.\n",
        "\n",
        "You'll learn more about these stages in the upcoming sections while implementing the application."
      ]
    },
    {
      "cell_type": "markdown",
      "metadata": {
        "id": "nPKvt5_5x6rH"
      },
      "source": [
        "## Import the required libraries"
      ]
    },
    {
      "cell_type": "code",
      "execution_count": 3,
      "metadata": {
        "id": "JXkg7O9PJfe3"
      },
      "outputs": [],
      "source": [
        "from bs4 import BeautifulSoup\n",
        "from IPython.display import Markdown, display\n",
        "from llama_index.core import Document\n",
        "from llama_index.core import Settings\n",
        "from llama_index.core import SimpleDirectoryReader\n",
        "from llama_index.core import StorageContext\n",
        "from llama_index.core import VectorStoreIndex\n",
        "from llama_index.readers.web import SimpleWebPageReader\n",
        "\n",
        "from llama_index.vector_stores.chroma import ChromaVectorStore\n",
        "\n",
        "import chromadb\n",
        "import re"
      ]
    },
    {
      "cell_type": "markdown",
      "metadata": {
        "id": "fCU_lprVhixQ"
      },
      "source": [
        "## 1. Retriever\n",
        "\n",
        "In this stage, you will perform the following steps:\n",
        "\n",
        "1. Read and parse the website data using LlamaIndex.\n",
        "\n",
        "2. Create embeddings of the website data.\n",
        "\n",
        "    Embeddings are numerical representations (vectors) of text. Hence, text with similar meaning will have similar embedding vectors. You'll make use of Gemini's embedding model to create the embedding vectors of the website data.\n",
        "\n",
        "3. Store the embeddings in Chroma's vector store.\n",
        "    \n",
        "    Chroma is a vector database. The Chroma vector store helps in the efficient retrieval of similar vectors. Thus, for adding context to the prompt for the LLM, relevant embeddings of the text matching the user's question can be retrieved easily using Chroma.\n",
        "\n",
        "4. Create a Retriever from the Chroma vector store.\n",
        "\n",
        "    The retriever will be used to pass relevant website embeddings to the LLM along with user queries."
      ]
    },
    {
      "cell_type": "markdown",
      "metadata": {
        "id": "FergxGcKh_b_"
      },
      "source": [
        "### Read and parse the website data\n",
        "\n",
        "LlamaIndex provides a wide variety of data loaders. To read the website data as a document, you will use the `SimpleWebPageReader` from LlamaIndex.\n",
        "\n",
        "To know more about how to read and parse input data from different sources using the data loaders of LlamaIndex, read LlamaIndex's [loading data guide](https://docs.llamaindex.ai/en/stable/understanding/loading/loading.html)."
      ]
    },
    {
      "cell_type": "code",
      "execution_count": 27,
      "metadata": {
        "id": "xIYUiPPNjMrr",
        "colab": {
          "base_uri": "https://localhost:8080/",
          "height": 1000
        },
        "collapsed": true,
        "outputId": "5a3e16cf-6dfe-4071-9762-43e8fd3875a1"
      },
      "outputs": [
        {
          "output_type": "execute_result",
          "data": {
            "text/plain": [
              "'<!doctype html>\\n<html lang=\"en\">\\n  <head>\\n    <meta charset=\"utf-8\">\\n    <meta content=\"initial-scale=1, minimum-scale=1, width=device-width\" name=\"viewport\">\\n    <title>Veo - Google DeepMind</title>\\n    \\n  <meta name=\"description\" content=\"Veo is our most capable video generation model to date. It generates high-quality, 1080p resolution videos that can go beyond a minute, in a wide range of cinematic and visual styles.\">\\n  <link rel=\"canonical\" href=\"https://deepmind.google/technologies/veo/\">\\n\\n  <meta property=\"og:title\" content=\"Veo\">\\n  <meta property=\"og:description\" content=\"Veo is our most capable video generation model to date. It generates high-quality, 1080p resolution videos that can go beyond a minute, in a wide range of cinematic and visual styles.\">\\n  <meta property=\"og:image\" content=\"https://lh3.googleusercontent.com/4sPA7BgwdC6KEY9o2KQrQYEldPzpitmmZNM0pfe5bx4WZ7hghc8EBlebilkOn60DDxU20OlU-6xE3dxg8DM9ZkxYDCSdRgYIIHz9eHfcKE08zVQxLg=w1200-h630-n-nu\">\\n  <meta property=\"og:url\" content=\"https://deepmind.google/technologies/veo/\">\\n  <meta property=\"og:site_name\" content=\"Google DeepMind\">\\n  <meta property=\"og:type\" content=\"article\">\\n\\n  <meta name=\"twitter:card\" content=\"summary_large_image\">\\n  <meta name=\"twitter:title\" content=\"Veo\">\\n  <meta name=\"twitter:description\" content=\"Veo is our most capable video generation model to date. It generates high-quality, 1080p resolution videos that can go beyond a minute, in a wide range of cinematic and visual styles.\">\\n  <meta property=\"twitter:image:src\" content=\"https://lh3.googleusercontent.com/4sPA7BgwdC6KEY9o2KQrQYEldPzpitmmZNM0pfe5bx4WZ7hghc8EBlebilkOn60DDxU20OlU-6xE3dxg8DM9ZkxYDCSdRgYIIHz9eHfcKE08zVQxLg=w1600-h900-n-nu\">\\n  <meta name=\"twitter:url\" content=\"https://deepmind.google/technologies/veo/\">\\n  <meta name=\"twitter:site\" content=\"@GoogleDeepMind\">\\n\\n  \\n\\n  <link rel=\"alternate\" type=\"application/rss+xml\" title=\"Google DeepMind Blog\" href=\"/blog/rss.xml\">\\n\\n\\n    <link rel=\"apple-touch-icon\" href=\"https://www.gstatic.com/images/branding/productlogos/google_deepmind/v3/web-96dp/logo_google_deepmind_color_2x_web_96dp.png\">\\n    <link rel=\"icon\" type=\"image/x-icon\" sizes=\"32x32\" href=\"/static/icons/google_deepmind_32dp.c67bb05568f4.ico\">\\n    <link rel=\"icon\" type=\"image/x-icon\" sizes=\"16x16\" href=\"/static/icons/google_deepmind_16dp.52cc3dfbfeb1.ico\">\\n    <link rel=\"icon\" type=\"image/x-icon\" sizes=\"any\" href=\"/static/icons/google_deepmind_alldp.63e20eacc8f4.ico\">\\n    <link rel=\"icon\" type=\"image/svg+xml\" href=\"/static/icons/google_deepmind_48dp.5b470587fe7d.svg\">\\n\\n    <link rel=\"preconnect\" href=\"https://fonts.googleapis.com\" />\\n    <link rel=\"preconnect\" href=\"https://fonts.gstatic.com\" crossorigin />\\n    <link rel=\"preload\" href=\"https://fonts.googleapis.com/css2?family=Product+Sans&family=Google+Sans+Display:ital@0;1&family=Google+Sans_old:ital,wght@0,400;0,500;0,700;1,400;1,500;1,700&family=Google+Sans+Text:ital,wght@0,400;0,500;0,700;1,400;1,500;1,700&display=swap\" as=\"style\">\\n    <link rel=\"stylesheet\" href=\"https://fonts.googleapis.com/css2?family=Product+Sans&family=Google+Sans+Display:ital@0;1&family=Google+Sans_old:ital,wght@0,400;0,500;0,700;1,400;1,500;1,700&family=Google+Sans+Text:ital,wght@0,400;0,500;0,700;1,400;1,500;1,700&display=swap\">\\n    <link href=\"https://www.gstatic.com/glue/cookienotificationbar/cookienotificationbar.min.css\" rel=\"stylesheet\">\\n    <link href=\"/static/main.min.0aa7647a0cf0.css\" rel=\"stylesheet\" />\\n    \\n  \\n  \\n\\n  \\n\\n  </head>\\n  <body class=\"glue-body gdm no-js\" style=\"--mono-background:#000000;--mono-foreground:#ffffff;\">\\n    \\n  <header class=\"glue-header glue-header--no-cta gdm-header gdm-header--transparent\">\\n    <a href=\"#content\" class=\"glue-header__link glue-header__skip-content\">\\n      Jump to Content\\n    </a>\\n    <div class=\"glue-header__bar glue-header__bar--mobile\">\\n      <div class=\"glue-header__tier\">\\n        <div class=\"glue-header__container\">\\n          <div class=\"glue-header__lock-up\">\\n            <div class=\"glue-header__hamburger\">\\n              <button class=\"glue-header__drawer-toggle-btn\" aria-label=\"Open the navigation drawer\">\\n                <svg aria-hidden=\"true\"\\n       class=\"glue-icon glue-icon--24px\"\\n       role=\"presentation\">\\n    <use href=\"/static/glue-icons.949e143d99c8.svg#menu\"></use>\\n  </svg>\\n              </button>\\n            </div>\\n            <div class=\"gdm-header__search-wrapper gdm-header__search-wrapper--mobile\">\\n              <div class=\"glue-header__logo\">\\n    <a class=\"glue-header__logo-link\" data-gtm-tag=\"header-selection\" href=\"/\">\\n      <div class=\"glue-header__logo-container\">\\n        <span class=\"glue-visually-hidden\">Google</span>\\n        <svg aria-hidden=\"true\"\\n       class=\"glue-icon glue-header__logo-svg\"\\n       role=\"presentation\">\\n    <use href=\"/static/glue-icons.949e143d99c8.svg#google-logo-adjustable\"></use>\\n  </svg>\\n      </div>\\n      <span class=\"glue-header__logo--product\">DeepMind</span>\\n    </a>\\n  </div>\\n              \\n                <div class=\"gdm-header__search-container\">\\n                  <form action=\"/search/\" method=\"get\" role=\"search\" class=\"gdm-header__search-form\">\\n    <div class=\"glue-form__element\">\\n      <label class=\"mdc-text-field mdc-text-field--outlined glue-text-field mdc-text-field--with-leading-icon mdc-text-field--no-label\" data-mdc-auto-init=\"MDCTextField\">\\n        <span class=\"gdm-header__search-label\" id=\"search-mobile-label\">Search...</span>\\n        <svg aria-hidden=\"true\"\\n       class=\"glue-icon material-icons mdc-text-field__icon mdc-text-field__icon--leading gdm-header__icon\"\\n       role=\"presentation\">\\n    <use href=\"/static/glue-icons.949e143d99c8.svg#search\"></use>\\n  </svg>\\n        <input\\n          class=\"mdc-text-field__input\"\\n          name=\"query\"\\n          type=\"text\"\\n          \\n          id=\"search-mobile\"\\n          autocomplete=\"off\"\\n          maxlength=\"320\"\\n          placeholder=\"Search...\"\\n          aria-haspopup=\"listbox\"\\n          aria-controls=\"search-mobile-autocomplete\"\\n          aria-labelledby=\"search-mobile-label\"\\n        >\\n        <span class=\"mdc-notched-outline\">\\n          <span class=\"mdc-notched-outline__leading\"></span>\\n          <span class=\"mdc-notched-outline__trailing\"></span>\\n        </span>\\n      </label>\\n    </div>\\n    <div class=\"gdm-header__autocomplete\">\\n      <ul class=\"gdm-autocomplete__list\" id=\"search-mobile-autocomplete\" aria-labelledby=\"search-mobile\" aria-live=\"polite\"></ul>\\n      \\n      <!-- input type=\"submit\" value=\"Show More\" class=\"glue-button glue-button--low-emphasis gdm-autocomplete__show-more\" -->\\n    </div>\\n  </form>\\n                  <a aria-controls=\"search-mobile\"\\n     class=\"glue-header__link gdm-header__toggle-button\"\\n     data-hide-label=\"Close search\"\\n     data-show-label=\"Open search\"\\n     href=\"/search\">\\n    <span class=\"glue-visually-hidden gdm-header__search-text\">Search</span>\\n    <span class=\"glue-visually-hidden gdm-header__close-text\">Close</span>\\n    <svg aria-hidden=\"true\"\\n       class=\"glue-icon gdm-header__icon gdm-header__search-icon\"\\n       role=\"presentation\">\\n    <use href=\"/static/glue-icons.949e143d99c8.svg#search\"></use>\\n  </svg>\\n    <svg aria-hidden=\"true\"\\n       class=\"glue-icon gdm-header__icon gdm-header__close-icon\"\\n       role=\"presentation\">\\n    <use href=\"/static/glue-icons.949e143d99c8.svg#close\"></use>\\n  </svg>\\n  </a>\\n                </div>\\n              \\n            </div>\\n          </div>\\n        </div>\\n      </div>\\n    </div>\\n    <div class=\"glue-header__bar glue-header__bar--desktop glue-header__drawer\">\\n      <div class=\"glue-header__tier\">\\n        <div class=\"glue-header__container\">\\n          <div class=\"glue-header__lock-up\">\\n            <div class=\"glue-header__logo\">\\n    <a class=\"glue-header__logo-link\" data-gtm-tag=\"header-selection\" href=\"/\">\\n      <div class=\"glue-header__logo-container\">\\n        <span class=\"glue-visually-hidden\">Google</span>\\n        <svg aria-hidden=\"true\"\\n       class=\"glue-icon glue-header__logo-svg\"\\n       role=\"presentation\">\\n    <use href=\"/static/glue-icons.949e143d99c8.svg#google-logo-adjustable\"></use>\\n  </svg>\\n      </div>\\n      <span class=\"glue-header__logo--product\">DeepMind</span>\\n    </a>\\n  </div>\\n          </div>\\n        </div>\\n        <div class=\"glue-header__container glue-header__stepped-nav\">\\n          <div class=\"glue-header__stepped-nav-controls-container\">\\n            <div class=\"glue-header__stepped-nav-controls\"\\n                data-glue-steppednav-label=\"$glue_steppednav_label$, Navigate back to parent menu, $glue_steppednav_label$ opened\">\\n              <div class=\"glue-header__stepped-nav-controls-arrow\">\\n                <svg aria-hidden=\"true\"\\n       class=\"glue-icon glue-icon--18px\"\\n       role=\"presentation\">\\n    <use href=\"/static/glue-icons.949e143d99c8.svg#chevron-left\"></use>\\n  </svg>\\n                <svg aria-hidden=\"true\"\\n       class=\"glue-icon glue-icon--arrow-forward glue-icon--18px glue-header__stepped-nav-subnav-icon\"\\n       role=\"presentation\">\\n    <use href=\"/static/glue-icons.949e143d99c8.svg#chevron-right\"></use>\\n  </svg>\\n              </div>\\n              <div class=\"glue-header__stepped-nav-controls-title glue-header__link\"></div>\\n            </div>\\n          </div>\\n          <div class=\"glue-header__stepped-nav-menus\"></div>\\n        </div>\\n        <div class=\"glue-header__container glue-header__container--linkbar gdm-header__search-wrapper gdm-header__search-wrapper--desktop\">\\n          <nav class=\"glue-header__link-bar\">\\n            <ul class=\"glue-header__list\">\\n              \\n                <li class=\"glue-header__item\">\\n    <a class=\"glue-header__link\" data-gtm-tag=\"header-selection\" href=\"/about/\">\\n      <span class=\"gdm-header__link-inner\">\\n        <strong class=\"gdm-header__title\">\\n          About\\n          <svg aria-hidden=\"true\"\\n       class=\"glue-icon glue-icon--18px gdm-header__expand\"\\n       role=\"presentation\">\\n    <use href=\"/static/glue-icons.949e143d99c8.svg#expand-more\"></use>\\n  </svg>\\n        </strong>\\n        \\n      </span>\\n    </a>\\n\\n    \\n      <ul class=\"glue-header__list glue-header__list--nested\">\\n        \\n          <li class=\"glue-header__item\">\\n    <a class=\"glue-header__link\" data-gtm-tag=\"header-selection\" href=\"/about/\">\\n      <span class=\"gdm-header__link-inner\">\\n        <strong class=\"gdm-header__title\">\\n          About\\n          \\n        </strong>\\n        <span class=\"gdm-header__description\">\\n            <span class=\"glue-visually-hidden\"> &mdash; </span>Our mission is to build AI responsibly to benefit humanity\\n          </span>\\n      </span>\\n    </a>\\n\\n    \\n  </li>\\n        \\n          <li class=\"glue-header__item\">\\n    <a class=\"glue-header__link\" data-gtm-tag=\"header-selection\" href=\"/about/responsibility-safety/\">\\n      <span class=\"gdm-header__link-inner\">\\n        <strong class=\"gdm-header__title\">\\n          Responsibility &amp; Safety\\n          \\n        </strong>\\n        <span class=\"gdm-header__description\">\\n            <span class=\"glue-visually-hidden\"> &mdash; </span>We want AI to benefit the world, so we must be thoughtful about how it’s built and used\\n          </span>\\n      </span>\\n    </a>\\n\\n    \\n  </li>\\n        \\n          <li class=\"glue-header__item\">\\n    <a class=\"glue-header__link\" data-gtm-tag=\"header-selection\" href=\"/about/education/\">\\n      <span class=\"gdm-header__link-inner\">\\n        <strong class=\"gdm-header__title\">\\n          Education\\n          \\n        </strong>\\n        <span class=\"gdm-header__description\">\\n            <span class=\"glue-visually-hidden\"> &mdash; </span>Our vision is to help make the AI ecosystem more representative of society\\n          </span>\\n      </span>\\n    </a>\\n\\n    \\n  </li>\\n        \\n          <li class=\"glue-header__item\">\\n    <a class=\"glue-header__link\" data-gtm-tag=\"header-selection\" href=\"/about/careers/\">\\n      <span class=\"gdm-header__link-inner\">\\n        <strong class=\"gdm-header__title\">\\n          Careers\\n          \\n        </strong>\\n        <span class=\"gdm-header__description\">\\n            <span class=\"glue-visually-hidden\"> &mdash; </span>Many disciplines, one common goal\\n          </span>\\n      </span>\\n    </a>\\n\\n    \\n  </li>\\n        \\n          <li class=\"glue-header__item\">\\n    <a class=\"glue-header__link\" data-gtm-tag=\"header-selection\" href=\"/about/press/\">\\n      <span class=\"gdm-header__link-inner\">\\n        <strong class=\"gdm-header__title\">\\n          Press\\n          \\n        </strong>\\n        <span class=\"gdm-header__description\">\\n            <span class=\"glue-visually-hidden\"> &mdash; </span>Toolkits and resources\\n          </span>\\n      </span>\\n    </a>\\n\\n    \\n  </li>\\n        \\n      </ul>\\n    \\n  </li>\\n              \\n                <li class=\"glue-header__item\">\\n    <a class=\"glue-header__link\" data-gtm-tag=\"header-selection\" href=\"/research/\">\\n      <span class=\"gdm-header__link-inner\">\\n        <strong class=\"gdm-header__title\">\\n          Research\\n          \\n        </strong>\\n        \\n      </span>\\n    </a>\\n\\n    \\n  </li>\\n              \\n                <li class=\"glue-header__item glue-header__item--active\">\\n    <a class=\"glue-header__link\" data-gtm-tag=\"header-selection\" href=\"/technologies/\" aria-current=\"page\">\\n      <span class=\"gdm-header__link-inner\">\\n        <strong class=\"gdm-header__title\">\\n          Technologies\\n          <svg aria-hidden=\"true\"\\n       class=\"glue-icon glue-icon--18px gdm-header__expand\"\\n       role=\"presentation\">\\n    <use href=\"/static/glue-icons.949e143d99c8.svg#expand-more\"></use>\\n  </svg>\\n        </strong>\\n        \\n      </span>\\n    </a>\\n\\n    \\n      <ul class=\"glue-header__list glue-header__list--nested\">\\n        \\n          <li class=\"glue-header__item\">\\n    <a class=\"glue-header__link\" data-gtm-tag=\"header-selection\" href=\"/technologies/\">\\n      <span class=\"gdm-header__link-inner\">\\n        <strong class=\"gdm-header__title\">\\n          View all technologies\\n          \\n        </strong>\\n        <span class=\"gdm-header__description\">\\n            <span class=\"glue-visually-hidden\"> &mdash; </span>Our next generation AI systems are solving some of the hardest scientific and engineering challenges of our time\\n          </span>\\n      </span>\\n    </a>\\n\\n    \\n  </li>\\n        \\n          <li class=\"glue-header__item\">\\n    <a class=\"glue-header__link\" data-gtm-tag=\"header-selection\" href=\"/technologies/gemini/\">\\n      <span class=\"gdm-header__link-inner\">\\n        <strong class=\"gdm-header__title\">\\n          Gemini\\n          <svg aria-hidden=\"true\"\\n       class=\"glue-icon glue-icon--18px gdm-header__expand\"\\n       role=\"presentation\">\\n    <use href=\"/static/glue-icons.949e143d99c8.svg#expand-more\"></use>\\n  </svg>\\n        </strong>\\n        <span class=\"gdm-header__description\">\\n            <span class=\"glue-visually-hidden\"> &mdash; </span>The most general and capable AI models we&#39;ve ever built\\n          </span>\\n      </span>\\n    </a>\\n\\n    \\n      <ul class=\"glue-header__list glue-header__list--nested\">\\n        \\n          <li class=\"glue-header__item\">\\n    <a class=\"glue-header__link\" data-gtm-tag=\"header-selection\" href=\"/technologies/gemini/\">\\n      <span class=\"gdm-header__link-inner\">\\n        <strong class=\"gdm-header__title\">\\n          Gemini models\\n          \\n        </strong>\\n        <span class=\"gdm-header__description\">\\n            <span class=\"glue-visually-hidden\"> &mdash; </span>The Gemini family of models are the most general and capable AI models we&#39;ve ever built.\\n          </span>\\n      </span>\\n    </a>\\n\\n    \\n  </li>\\n        \\n          <li class=\"glue-header__item\">\\n    <a class=\"glue-header__link\" data-gtm-tag=\"header-selection\" href=\"/technologies/gemini/ultra/\">\\n      <span class=\"gdm-header__link-inner\">\\n        <strong class=\"gdm-header__title\">\\n          Ultra\\n          \\n        </strong>\\n        <span class=\"gdm-header__description\">\\n            <span class=\"glue-visually-hidden\"> &mdash; </span>Our largest model for highly complex tasks.\\n          </span>\\n      </span>\\n    </a>\\n\\n    \\n  </li>\\n        \\n          <li class=\"glue-header__item\">\\n    <a class=\"glue-header__link\" data-gtm-tag=\"header-selection\" href=\"/technologies/gemini/pro/\">\\n      <span class=\"gdm-header__link-inner\">\\n        <strong class=\"gdm-header__title\">\\n          Pro\\n          \\n        </strong>\\n        <span class=\"gdm-header__description\">\\n            <span class=\"glue-visually-hidden\"> &mdash; </span>Our best model for general performance across a wide range of tasks.\\n          </span>\\n      </span>\\n    </a>\\n\\n    \\n  </li>\\n        \\n          <li class=\"glue-header__item\">\\n    <a class=\"glue-header__link\" data-gtm-tag=\"header-selection\" href=\"/technologies/gemini/flash/\">\\n      <span class=\"gdm-header__link-inner\">\\n        <strong class=\"gdm-header__title\">\\n          Flash\\n          \\n        </strong>\\n        <span class=\"gdm-header__description\">\\n            <span class=\"glue-visually-hidden\"> &mdash; </span>Our lightweight model, optimized for speed and efficiency.\\n          </span>\\n      </span>\\n    </a>\\n\\n    \\n  </li>\\n        \\n          <li class=\"glue-header__item\">\\n    <a class=\"glue-header__link\" data-gtm-tag=\"header-selection\" href=\"/technologies/gemini/nano/\">\\n      <span class=\"gdm-header__link-inner\">\\n        <strong class=\"gdm-header__title\">\\n          Nano\\n          \\n        </strong>\\n        <span class=\"gdm-header__description\">\\n            <span class=\"glue-visually-hidden\"> &mdash; </span>Our most efficient model for on-device tasks.\\n          </span>\\n      </span>\\n    </a>\\n\\n    \\n  </li>\\n        \\n      </ul>\\n    \\n  </li>\\n        \\n          <li class=\"glue-header__item\">\\n    <a class=\"glue-header__link\" data-gtm-tag=\"header-selection\" href=\"/technologies/gemini/project-astra/\">\\n      <span class=\"gdm-header__link-inner\">\\n        <strong class=\"gdm-header__title\">\\n          Project Astra\\n          \\n        </strong>\\n        <span class=\"gdm-header__description\">\\n            <span class=\"glue-visually-hidden\"> &mdash; </span>A universal AI agent that is helpful in everyday life\\n          </span>\\n      </span>\\n    </a>\\n\\n    \\n  </li>\\n        \\n          <li class=\"glue-header__item\">\\n    <a class=\"glue-header__link\" data-gtm-tag=\"header-selection\" href=\"/technologies/imagen-3/\">\\n      <span class=\"gdm-header__link-inner\">\\n        <strong class=\"gdm-header__title\">\\n          Imagen\\n          \\n        </strong>\\n        <span class=\"gdm-header__description\">\\n            <span class=\"glue-visually-hidden\"> &mdash; </span>Our highest quality text-to-image model\\n          </span>\\n      </span>\\n    </a>\\n\\n    \\n  </li>\\n        \\n          <li class=\"glue-header__item glue-header__item--active\">\\n    <a class=\"glue-header__link\" data-gtm-tag=\"header-selection\" href=\"/technologies/veo/\" aria-current=\"page\">\\n      <span class=\"gdm-header__link-inner\">\\n        <strong class=\"gdm-header__title\">\\n          Veo\\n          \\n        </strong>\\n        <span class=\"gdm-header__description\">\\n            <span class=\"glue-visually-hidden\"> &mdash; </span>Our most capable generative video model\\n          </span>\\n      </span>\\n    </a>\\n\\n    \\n  </li>\\n        \\n          <li class=\"glue-header__item\">\\n    <a class=\"glue-header__link\" data-gtm-tag=\"header-selection\" href=\"/technologies/synthid/\">\\n      <span class=\"gdm-header__link-inner\">\\n        <strong class=\"gdm-header__title\">\\n          SynthID\\n          \\n        </strong>\\n        <span class=\"gdm-header__description\">\\n            <span class=\"glue-visually-hidden\"> &mdash; </span>Identifying AI-generated content\\n          </span>\\n      </span>\\n    </a>\\n\\n    \\n  </li>\\n        \\n      </ul>\\n    \\n  </li>\\n              \\n                <li class=\"glue-header__item\">\\n    <a class=\"glue-header__link\" data-gtm-tag=\"header-selection\" href=\"/impact/\">\\n      <span class=\"gdm-header__link-inner\">\\n        <strong class=\"gdm-header__title\">\\n          Impact\\n          \\n        </strong>\\n        \\n      </span>\\n    </a>\\n\\n    \\n  </li>\\n              \\n                <li class=\"glue-header__item\">\\n    <a class=\"glue-header__link\" data-gtm-tag=\"header-selection\" href=\"/discover/\">\\n      <span class=\"gdm-header__link-inner\">\\n        <strong class=\"gdm-header__title\">\\n          Discover\\n          <svg aria-hidden=\"true\"\\n       class=\"glue-icon glue-icon--18px gdm-header__expand\"\\n       role=\"presentation\">\\n    <use href=\"/static/glue-icons.949e143d99c8.svg#expand-more\"></use>\\n  </svg>\\n        </strong>\\n        \\n      </span>\\n    </a>\\n\\n    \\n      <ul class=\"glue-header__list glue-header__list--nested\">\\n        \\n          <li class=\"glue-header__item\">\\n    <a class=\"glue-header__link\" data-gtm-tag=\"header-selection\" href=\"/discover/\">\\n      <span class=\"gdm-header__link-inner\">\\n        <strong class=\"gdm-header__title\">\\n          Discover\\n          \\n        </strong>\\n        <span class=\"gdm-header__description\">\\n            <span class=\"glue-visually-hidden\"> &mdash; </span>Discover our latest breakthroughs. See how we’re shaping the future. Hear how AI can transform our world.\\n          </span>\\n      </span>\\n    </a>\\n\\n    \\n  </li>\\n        \\n          <li class=\"glue-header__item\">\\n    <a class=\"glue-header__link\" data-gtm-tag=\"header-selection\" href=\"/discover/blog/\">\\n      <span class=\"gdm-header__link-inner\">\\n        <strong class=\"gdm-header__title\">\\n          Blog\\n          \\n        </strong>\\n        <span class=\"gdm-header__description\">\\n            <span class=\"glue-visually-hidden\"> &mdash; </span>Discover our latest AI breakthroughs, projects, and updates.\\n          </span>\\n      </span>\\n    </a>\\n\\n    \\n  </li>\\n        \\n          <li class=\"glue-header__item\">\\n    <a class=\"glue-header__link\" data-gtm-tag=\"header-selection\" href=\"/discover/events/\">\\n      <span class=\"gdm-header__link-inner\">\\n        <strong class=\"gdm-header__title\">\\n          Events\\n          \\n        </strong>\\n        <span class=\"gdm-header__description\">\\n            <span class=\"glue-visually-hidden\"> &mdash; </span>Meet our team and learn more about our research.\\n          </span>\\n      </span>\\n    </a>\\n\\n    \\n  </li>\\n        \\n          <li class=\"glue-header__item\">\\n    <a class=\"glue-header__link\" data-gtm-tag=\"header-selection\" href=\"/discover/the-podcast/\">\\n      <span class=\"gdm-header__link-inner\">\\n        <strong class=\"gdm-header__title\">\\n          The Podcast\\n          \\n        </strong>\\n        <span class=\"gdm-header__description\">\\n            <span class=\"glue-visually-hidden\"> &mdash; </span>Uncover the extraordinary ways AI is transforming our world on Google DeepMind: The Podcast.\\n          </span>\\n      </span>\\n    </a>\\n\\n    \\n  </li>\\n        \\n          <li class=\"glue-header__item\">\\n    <a class=\"glue-header__link\" data-gtm-tag=\"header-selection\" href=\"/discover/visualising-ai/\">\\n      <span class=\"gdm-header__link-inner\">\\n        <strong class=\"gdm-header__title\">\\n          Visualising AI\\n          \\n        </strong>\\n        <span class=\"gdm-header__description\">\\n            <span class=\"glue-visually-hidden\"> &mdash; </span>Expanding our vision of what AI looks like.\\n          </span>\\n      </span>\\n    </a>\\n\\n    \\n  </li>\\n        \\n      </ul>\\n    \\n  </li>\\n              \\n            </ul>\\n          </nav>\\n          \\n            <div class=\"gdm-header__search-container\">\\n              <form action=\"/search/\" method=\"get\" role=\"search\" class=\"gdm-header__search-form\">\\n    <div class=\"glue-form__element\">\\n      <label class=\"mdc-text-field mdc-text-field--outlined glue-text-field mdc-text-field--with-leading-icon mdc-text-field--no-label\" data-mdc-auto-init=\"MDCTextField\">\\n        <span class=\"gdm-header__search-label\" id=\"search-desktop-label\">Search...</span>\\n        <svg aria-hidden=\"true\"\\n       class=\"glue-icon material-icons mdc-text-field__icon mdc-text-field__icon--leading gdm-header__icon\"\\n       role=\"presentation\">\\n    <use href=\"/static/glue-icons.949e143d99c8.svg#search\"></use>\\n  </svg>\\n        <input\\n          class=\"mdc-text-field__input\"\\n          name=\"query\"\\n          type=\"text\"\\n          \\n          id=\"search-desktop\"\\n          autocomplete=\"off\"\\n          maxlength=\"320\"\\n          placeholder=\"Search...\"\\n          aria-haspopup=\"listbox\"\\n          aria-controls=\"search-desktop-autocomplete\"\\n          aria-labelledby=\"search-desktop-label\"\\n        >\\n        <span class=\"mdc-notched-outline\">\\n          <span class=\"mdc-notched-outline__leading\"></span>\\n          <span class=\"mdc-notched-outline__trailing\"></span>\\n        </span>\\n      </label>\\n    </div>\\n    <div class=\"gdm-header__autocomplete\">\\n      <ul class=\"gdm-autocomplete__list\" id=\"search-desktop-autocomplete\" aria-labelledby=\"search-desktop\" aria-live=\"polite\"></ul>\\n      \\n      <!-- input type=\"submit\" value=\"Show More\" class=\"glue-button glue-button--low-emphasis gdm-autocomplete__show-more\" -->\\n    </div>\\n  </form>\\n              <div class=\"glue-header__supplemental\">\\n                <a aria-controls=\"search-desktop\"\\n     class=\"glue-header__link gdm-header__toggle-button\"\\n     data-hide-label=\"Close search\"\\n     data-show-label=\"Open search\"\\n     href=\"/search\">\\n    <span class=\"glue-visually-hidden gdm-header__search-text\">Search</span>\\n    <span class=\"glue-visually-hidden gdm-header__close-text\">Close</span>\\n    <svg aria-hidden=\"true\"\\n       class=\"glue-icon gdm-header__icon gdm-header__search-icon\"\\n       role=\"presentation\">\\n    <use href=\"/static/glue-icons.949e143d99c8.svg#search\"></use>\\n  </svg>\\n    <svg aria-hidden=\"true\"\\n       class=\"glue-icon gdm-header__icon gdm-header__close-icon\"\\n       role=\"presentation\">\\n    <use href=\"/static/glue-icons.949e143d99c8.svg#close\"></use>\\n  </svg>\\n  </a>\\n              </div>\\n            </div>\\n          \\n        </div>\\n\\n        \\n          \\n            <nav aria-hidden=\"true\" aria-label=\"About\" class=\"gdm-header__dropdown\" data-toggle-href=\"/about/\">\\n    <div class=\"gdm-header__dropdown-inner\">\\n      <ul class=\"glue-header__list\">\\n        \\n          <li class=\"glue-header__item\">\\n    <a class=\"glue-header__link\" data-gtm-tag=\"header-selection\" href=\"/about/\">\\n      <span class=\"gdm-header__link-inner\">\\n        <strong class=\"gdm-header__title\">\\n          About\\n          \\n        </strong>\\n        <span class=\"gdm-header__description\">\\n            <span class=\"glue-visually-hidden\"> &mdash; </span>Our mission is to build AI responsibly to benefit humanity\\n          </span>\\n      </span>\\n    </a>\\n\\n    \\n  </li>\\n        \\n          <li class=\"glue-header__item\">\\n    <a class=\"glue-header__link\" data-gtm-tag=\"header-selection\" href=\"/about/responsibility-safety/\">\\n      <span class=\"gdm-header__link-inner\">\\n        <strong class=\"gdm-header__title\">\\n          Responsibility &amp; Safety\\n          \\n        </strong>\\n        <span class=\"gdm-header__description\">\\n            <span class=\"glue-visually-hidden\"> &mdash; </span>We want AI to benefit the world, so we must be thoughtful about how it’s built and used\\n          </span>\\n      </span>\\n    </a>\\n\\n    \\n  </li>\\n        \\n          <li class=\"glue-header__item\">\\n    <a class=\"glue-header__link\" data-gtm-tag=\"header-selection\" href=\"/about/education/\">\\n      <span class=\"gdm-header__link-inner\">\\n        <strong class=\"gdm-header__title\">\\n          Education\\n          \\n        </strong>\\n        <span class=\"gdm-header__description\">\\n            <span class=\"glue-visually-hidden\"> &mdash; </span>Our vision is to help make the AI ecosystem more representative of society\\n          </span>\\n      </span>\\n    </a>\\n\\n    \\n  </li>\\n        \\n          <li class=\"glue-header__item\">\\n    <a class=\"glue-header__link\" data-gtm-tag=\"header-selection\" href=\"/about/careers/\">\\n      <span class=\"gdm-header__link-inner\">\\n        <strong class=\"gdm-header__title\">\\n          Careers\\n          \\n        </strong>\\n        <span class=\"gdm-header__description\">\\n            <span class=\"glue-visually-hidden\"> &mdash; </span>Many disciplines, one common goal\\n          </span>\\n      </span>\\n    </a>\\n\\n    \\n  </li>\\n        \\n          <li class=\"glue-header__item\">\\n    <a class=\"glue-header__link\" data-gtm-tag=\"header-selection\" href=\"/about/press/\">\\n      <span class=\"gdm-header__link-inner\">\\n        <strong class=\"gdm-header__title\">\\n          Press\\n          \\n        </strong>\\n        <span class=\"gdm-header__description\">\\n            <span class=\"glue-visually-hidden\"> &mdash; </span>Toolkits and resources\\n          </span>\\n      </span>\\n    </a>\\n\\n    \\n  </li>\\n        \\n      </ul>\\n      <div class=\"gdm-header__featured\">\\n        <p class=\"gdm-header__featured-title glue-eyebrow\">Latest posts</p>\\n        <ul class=\"gdm-header__featured-items glue-no-bullet\">\\n            \\n              \\n    <li>\\n      <a class=\"glue-header__link gdm-header__featured-item\" data-gtm-tag=\"header-selection\" href=\"/discover/blog/alphaproteo-generates-novel-proteins-for-biology-and-health-research/\">\\n        \\n    \\n    \\n    <picture class=\"gdm-header__featured-image\">\\n      <source\\n      \\n      type=\"image/webp\"\\n      width=\"264\"\\n      height=\"156\"\\n      srcset=\"https://lh3.googleusercontent.com/7RKd6r-Wc8JfMau5x9knRq9DrOKGDwS3ye4YxY0jjWGntf74y8WL0lOlktJefxwkJYw33UEf2Ph_BhQ51TIufCxPkmtCPOpakekMpnOUwVI-3R6RzQ=w264-h156-n-nu-rw 1x, https://lh3.googleusercontent.com/7RKd6r-Wc8JfMau5x9knRq9DrOKGDwS3ye4YxY0jjWGntf74y8WL0lOlktJefxwkJYw33UEf2Ph_BhQ51TIufCxPkmtCPOpakekMpnOUwVI-3R6RzQ=w528-h312-n-nu-rw 2x\"\\n    />\\n      <img alt=\"\" height=\"156\" loading=\"lazy\" role=\"presentation\" src=\"https://lh3.googleusercontent.com/7RKd6r-Wc8JfMau5x9knRq9DrOKGDwS3ye4YxY0jjWGntf74y8WL0lOlktJefxwkJYw33UEf2Ph_BhQ51TIufCxPkmtCPOpakekMpnOUwVI-3R6RzQ=w264-h156-n-nu\" width=\"264\">\\n    </picture>\\n    \\n  \\n        <strong class=\"gdm-header__title\">AlphaProteo generates novel proteins for biology and health research</strong>\\n        <time datetime=\"2024-09-05\" class=\"glue-label gdm-header__featured-date\">5 September 2024</time>\\n        \\n      </a>\\n    </li>\\n  \\n            \\n              \\n    <li>\\n      <a class=\"glue-header__link gdm-header__featured-item\" data-gtm-tag=\"header-selection\" href=\"/discover/blog/ferminet-quantum-physics-and-chemistry-from-first-principles/\">\\n        \\n    \\n    \\n    <picture class=\"gdm-header__featured-image\">\\n      <source\\n      \\n      type=\"image/webp\"\\n      width=\"264\"\\n      height=\"156\"\\n      srcset=\"https://lh3.googleusercontent.com/u-LZOO0ynV2UCorbNrUtWS6MJ_sxTfGzObe2YzBt5Grgohx39WcsGiPNOsHwBja8C51lQBclpaovrzUVVQRzj2WpWeM7f7y5eeYt3Dx6l3gxfx9S9g=w264-h156-n-nu-rw 1x, https://lh3.googleusercontent.com/u-LZOO0ynV2UCorbNrUtWS6MJ_sxTfGzObe2YzBt5Grgohx39WcsGiPNOsHwBja8C51lQBclpaovrzUVVQRzj2WpWeM7f7y5eeYt3Dx6l3gxfx9S9g=w528-h312-n-nu-rw 2x\"\\n    />\\n      <img alt=\"\" height=\"156\" loading=\"lazy\" role=\"presentation\" src=\"https://lh3.googleusercontent.com/u-LZOO0ynV2UCorbNrUtWS6MJ_sxTfGzObe2YzBt5Grgohx39WcsGiPNOsHwBja8C51lQBclpaovrzUVVQRzj2WpWeM7f7y5eeYt3Dx6l3gxfx9S9g=w264-h156-n-nu\" width=\"264\">\\n    </picture>\\n    \\n  \\n        <strong class=\"gdm-header__title\">FermiNet: Quantum physics and chemistry from first principles</strong>\\n        <time datetime=\"2024-08-22\" class=\"glue-label gdm-header__featured-date\">22 August 2024</time>\\n        \\n      </a>\\n    </li>\\n  \\n            \\n          </ul>\\n      </div>\\n    </div>\\n  </nav>\\n\\n            \\n          \\n        \\n          \\n        \\n          \\n            <nav aria-hidden=\"true\" aria-label=\"Technologies\" class=\"gdm-header__dropdown\" data-toggle-href=\"/technologies/\">\\n    <div class=\"gdm-header__dropdown-inner\">\\n      <ul class=\"glue-header__list\">\\n        \\n          <li class=\"glue-header__item\">\\n    <a class=\"glue-header__link\" data-gtm-tag=\"header-selection\" href=\"/technologies/\">\\n      <span class=\"gdm-header__link-inner\">\\n        <strong class=\"gdm-header__title\">\\n          View all technologies\\n          \\n        </strong>\\n        <span class=\"gdm-header__description\">\\n            <span class=\"glue-visually-hidden\"> &mdash; </span>Our next generation AI systems are solving some of the hardest scientific and engineering challenges of our time\\n          </span>\\n      </span>\\n    </a>\\n\\n    \\n  </li>\\n        \\n          <li class=\"glue-header__item\">\\n    <a class=\"glue-header__link\" data-gtm-tag=\"header-selection\" href=\"/technologies/gemini/\">\\n      <span class=\"gdm-header__link-inner\">\\n        <strong class=\"gdm-header__title\">\\n          Gemini\\n          \\n        </strong>\\n        <span class=\"gdm-header__description\">\\n            <span class=\"glue-visually-hidden\"> &mdash; </span>The most general and capable AI models we&#39;ve ever built\\n          </span>\\n      </span>\\n    </a>\\n\\n    \\n  </li>\\n        \\n          <li class=\"glue-header__item\">\\n    <a class=\"glue-header__link\" data-gtm-tag=\"header-selection\" href=\"/technologies/gemini/project-astra/\">\\n      <span class=\"gdm-header__link-inner\">\\n        <strong class=\"gdm-header__title\">\\n          Project Astra\\n          \\n        </strong>\\n        <span class=\"gdm-header__description\">\\n            <span class=\"glue-visually-hidden\"> &mdash; </span>A universal AI agent that is helpful in everyday life\\n          </span>\\n      </span>\\n    </a>\\n\\n    \\n  </li>\\n        \\n          <li class=\"glue-header__item\">\\n    <a class=\"glue-header__link\" data-gtm-tag=\"header-selection\" href=\"/technologies/imagen-3/\">\\n      <span class=\"gdm-header__link-inner\">\\n        <strong class=\"gdm-header__title\">\\n          Imagen\\n          \\n        </strong>\\n        <span class=\"gdm-header__description\">\\n            <span class=\"glue-visually-hidden\"> &mdash; </span>Our highest quality text-to-image model\\n          </span>\\n      </span>\\n    </a>\\n\\n    \\n  </li>\\n        \\n          <li class=\"glue-header__item glue-header__item--active\">\\n    <a class=\"glue-header__link\" data-gtm-tag=\"header-selection\" href=\"/technologies/veo/\" aria-current=\"page\">\\n      <span class=\"gdm-header__link-inner\">\\n        <strong class=\"gdm-header__title\">\\n          Veo\\n          \\n        </strong>\\n        <span class=\"gdm-header__description\">\\n            <span class=\"glue-visually-hidden\"> &mdash; </span>Our most capable generative video model\\n          </span>\\n      </span>\\n    </a>\\n\\n    \\n  </li>\\n        \\n          <li class=\"glue-header__item\">\\n    <a class=\"glue-header__link\" data-gtm-tag=\"header-selection\" href=\"/technologies/synthid/\">\\n      <span class=\"gdm-header__link-inner\">\\n        <strong class=\"gdm-header__title\">\\n          SynthID\\n          \\n        </strong>\\n        <span class=\"gdm-header__description\">\\n            <span class=\"glue-visually-hidden\"> &mdash; </span>Identifying AI-generated content\\n          </span>\\n      </span>\\n    </a>\\n\\n    \\n  </li>\\n        \\n      </ul>\\n      <div class=\"gdm-header__featured\">\\n        <p class=\"gdm-header__featured-title glue-eyebrow\">Latest technology posts</p>\\n        <ul class=\"gdm-header__featured-items glue-no-bullet\">\\n            \\n              \\n    <li>\\n      <a class=\"glue-header__link gdm-header__featured-item\" data-gtm-tag=\"header-selection\" href=\"/discover/blog/gemma-scope-helping-the-safety-community-shed-light-on-the-inner-workings-of-language-models/\">\\n        \\n    \\n    \\n    <picture class=\"gdm-header__featured-image\">\\n      <source\\n      \\n      type=\"image/webp\"\\n      width=\"264\"\\n      height=\"156\"\\n      srcset=\"https://lh3.googleusercontent.com/4amJbS1Q5bh_CoBHPAc4NEn0Q13izqrskMETkJl3h2Jdku08GryCCjW6BM59OKj1-Q7-8ZFCWlgu7tIMzjRBIXImy8wlgTOxYgJ88fQvYJTye07C=w264-h156-n-nu-rw 1x, https://lh3.googleusercontent.com/4amJbS1Q5bh_CoBHPAc4NEn0Q13izqrskMETkJl3h2Jdku08GryCCjW6BM59OKj1-Q7-8ZFCWlgu7tIMzjRBIXImy8wlgTOxYgJ88fQvYJTye07C=w528-h312-n-nu-rw 2x\"\\n    />\\n      <img alt=\"\" height=\"156\" loading=\"lazy\" role=\"presentation\" src=\"https://lh3.googleusercontent.com/4amJbS1Q5bh_CoBHPAc4NEn0Q13izqrskMETkJl3h2Jdku08GryCCjW6BM59OKj1-Q7-8ZFCWlgu7tIMzjRBIXImy8wlgTOxYgJ88fQvYJTye07C=w264-h156-n-nu\" width=\"264\">\\n    </picture>\\n    \\n  \\n        <strong class=\"gdm-header__title\">Gemma Scope: helping the safety community shed light on the inner workings of language models</strong>\\n        <time datetime=\"2024-07-31\" class=\"glue-label gdm-header__featured-date\">31 July 2024</time>\\n        \\n      </a>\\n    </li>\\n  \\n            \\n              \\n    <li>\\n      <a class=\"glue-header__link gdm-header__featured-item\" data-gtm-tag=\"header-selection\" href=\"/discover/blog/generating-audio-for-video/\">\\n        \\n    \\n    \\n    <picture class=\"gdm-header__featured-image\">\\n      <source\\n      \\n      type=\"image/webp\"\\n      width=\"264\"\\n      height=\"156\"\\n      srcset=\"https://lh3.googleusercontent.com/Lzihw4F171DQeSgZ9q0MUONzbt1BkbK1sOgnqvLAV3AUIQQ1UJ4niEXOTgWiiyKZrJaCpE4Q6APwV8RRQj7a86_2yDlbIV6WUzD6S_Gu2mjuZDyVWqo=w264-h156-n-nu-rw 1x, https://lh3.googleusercontent.com/Lzihw4F171DQeSgZ9q0MUONzbt1BkbK1sOgnqvLAV3AUIQQ1UJ4niEXOTgWiiyKZrJaCpE4Q6APwV8RRQj7a86_2yDlbIV6WUzD6S_Gu2mjuZDyVWqo=w528-h312-n-nu-rw 2x\"\\n    />\\n      <img alt=\"\" height=\"156\" loading=\"lazy\" role=\"presentation\" src=\"https://lh3.googleusercontent.com/Lzihw4F171DQeSgZ9q0MUONzbt1BkbK1sOgnqvLAV3AUIQQ1UJ4niEXOTgWiiyKZrJaCpE4Q6APwV8RRQj7a86_2yDlbIV6WUzD6S_Gu2mjuZDyVWqo=w264-h156-n-nu\" width=\"264\">\\n    </picture>\\n    \\n  \\n        <strong class=\"gdm-header__title\">Generating audio for video</strong>\\n        <time datetime=\"2024-06-17\" class=\"glue-label gdm-header__featured-date\">17 June 2024</time>\\n        \\n      </a>\\n    </li>\\n  \\n            \\n          </ul>\\n      </div>\\n    </div>\\n  </nav>\\n\\n            \\n          \\n        \\n          \\n        \\n          \\n            <nav aria-hidden=\"true\" aria-label=\"Discover\" class=\"gdm-header__dropdown\" data-toggle-href=\"/discover/\">\\n    <div class=\"gdm-header__dropdown-inner\">\\n      <ul class=\"glue-header__list\">\\n        \\n          <li class=\"glue-header__item\">\\n    <a class=\"glue-header__link\" data-gtm-tag=\"header-selection\" href=\"/discover/\">\\n      <span class=\"gdm-header__link-inner\">\\n        <strong class=\"gdm-header__title\">\\n          Discover\\n          \\n        </strong>\\n        <span class=\"gdm-header__description\">\\n            <span class=\"glue-visually-hidden\"> &mdash; </span>Discover our latest breakthroughs. See how we’re shaping the future. Hear how AI can transform our world.\\n          </span>\\n      </span>\\n    </a>\\n\\n    \\n  </li>\\n        \\n          <li class=\"glue-header__item\">\\n    <a class=\"glue-header__link\" data-gtm-tag=\"header-selection\" href=\"/discover/blog/\">\\n      <span class=\"gdm-header__link-inner\">\\n        <strong class=\"gdm-header__title\">\\n          Blog\\n          \\n        </strong>\\n        <span class=\"gdm-header__description\">\\n            <span class=\"glue-visually-hidden\"> &mdash; </span>Discover our latest AI breakthroughs, projects, and updates.\\n          </span>\\n      </span>\\n    </a>\\n\\n    \\n  </li>\\n        \\n          <li class=\"glue-header__item\">\\n    <a class=\"glue-header__link\" data-gtm-tag=\"header-selection\" href=\"/discover/events/\">\\n      <span class=\"gdm-header__link-inner\">\\n        <strong class=\"gdm-header__title\">\\n          Events\\n          \\n        </strong>\\n        <span class=\"gdm-header__description\">\\n            <span class=\"glue-visually-hidden\"> &mdash; </span>Meet our team and learn more about our research.\\n          </span>\\n      </span>\\n    </a>\\n\\n    \\n  </li>\\n        \\n          <li class=\"glue-header__item\">\\n    <a class=\"glue-header__link\" data-gtm-tag=\"header-selection\" href=\"/discover/the-podcast/\">\\n      <span class=\"gdm-header__link-inner\">\\n        <strong class=\"gdm-header__title\">\\n          The Podcast\\n          \\n        </strong>\\n        <span class=\"gdm-header__description\">\\n            <span class=\"glue-visually-hidden\"> &mdash; </span>Uncover the extraordinary ways AI is transforming our world on Google DeepMind: The Podcast.\\n          </span>\\n      </span>\\n    </a>\\n\\n    \\n  </li>\\n        \\n          <li class=\"glue-header__item\">\\n    <a class=\"glue-header__link\" data-gtm-tag=\"header-selection\" href=\"/discover/visualising-ai/\">\\n      <span class=\"gdm-header__link-inner\">\\n        <strong class=\"gdm-header__title\">\\n          Visualising AI\\n          \\n        </strong>\\n        <span class=\"gdm-header__description\">\\n            <span class=\"glue-visually-hidden\"> &mdash; </span>Expanding our vision of what AI looks like.\\n          </span>\\n      </span>\\n    </a>\\n\\n    \\n  </li>\\n        \\n      </ul>\\n      <div class=\"gdm-header__featured\">\\n        <p class=\"gdm-header__featured-title glue-eyebrow\">Latest posts</p>\\n        <ul class=\"gdm-header__featured-items glue-no-bullet\">\\n            \\n              \\n    <li>\\n      <a class=\"glue-header__link gdm-header__featured-item\" data-gtm-tag=\"header-selection\" href=\"/discover/blog/alphaproteo-generates-novel-proteins-for-biology-and-health-research/\">\\n        \\n    \\n    \\n    <picture class=\"gdm-header__featured-image\">\\n      <source\\n      \\n      type=\"image/webp\"\\n      width=\"264\"\\n      height=\"156\"\\n      srcset=\"https://lh3.googleusercontent.com/7RKd6r-Wc8JfMau5x9knRq9DrOKGDwS3ye4YxY0jjWGntf74y8WL0lOlktJefxwkJYw33UEf2Ph_BhQ51TIufCxPkmtCPOpakekMpnOUwVI-3R6RzQ=w264-h156-n-nu-rw 1x, https://lh3.googleusercontent.com/7RKd6r-Wc8JfMau5x9knRq9DrOKGDwS3ye4YxY0jjWGntf74y8WL0lOlktJefxwkJYw33UEf2Ph_BhQ51TIufCxPkmtCPOpakekMpnOUwVI-3R6RzQ=w528-h312-n-nu-rw 2x\"\\n    />\\n      <img alt=\"\" height=\"156\" loading=\"lazy\" role=\"presentation\" src=\"https://lh3.googleusercontent.com/7RKd6r-Wc8JfMau5x9knRq9DrOKGDwS3ye4YxY0jjWGntf74y8WL0lOlktJefxwkJYw33UEf2Ph_BhQ51TIufCxPkmtCPOpakekMpnOUwVI-3R6RzQ=w264-h156-n-nu\" width=\"264\">\\n    </picture>\\n    \\n  \\n        <strong class=\"gdm-header__title\">AlphaProteo generates novel proteins for biology and health research</strong>\\n        <time datetime=\"2024-09-05\" class=\"glue-label gdm-header__featured-date\">5 September 2024</time>\\n        \\n      </a>\\n    </li>\\n  \\n            \\n              \\n    <li>\\n      <a class=\"glue-header__link gdm-header__featured-item\" data-gtm-tag=\"header-selection\" href=\"/discover/blog/ferminet-quantum-physics-and-chemistry-from-first-principles/\">\\n        \\n    \\n    \\n    <picture class=\"gdm-header__featured-image\">\\n      <source\\n      \\n      type=\"image/webp\"\\n      width=\"264\"\\n      height=\"156\"\\n      srcset=\"https://lh3.googleusercontent.com/u-LZOO0ynV2UCorbNrUtWS6MJ_sxTfGzObe2YzBt5Grgohx39WcsGiPNOsHwBja8C51lQBclpaovrzUVVQRzj2WpWeM7f7y5eeYt3Dx6l3gxfx9S9g=w264-h156-n-nu-rw 1x, https://lh3.googleusercontent.com/u-LZOO0ynV2UCorbNrUtWS6MJ_sxTfGzObe2YzBt5Grgohx39WcsGiPNOsHwBja8C51lQBclpaovrzUVVQRzj2WpWeM7f7y5eeYt3Dx6l3gxfx9S9g=w528-h312-n-nu-rw 2x\"\\n    />\\n      <img alt=\"\" height=\"156\" loading=\"lazy\" role=\"presentation\" src=\"https://lh3.googleusercontent.com/u-LZOO0ynV2UCorbNrUtWS6MJ_sxTfGzObe2YzBt5Grgohx39WcsGiPNOsHwBja8C51lQBclpaovrzUVVQRzj2WpWeM7f7y5eeYt3Dx6l3gxfx9S9g=w264-h156-n-nu\" width=\"264\">\\n    </picture>\\n    \\n  \\n        <strong class=\"gdm-header__title\">FermiNet: Quantum physics and chemistry from first principles</strong>\\n        <time datetime=\"2024-08-22\" class=\"glue-label gdm-header__featured-date\">22 August 2024</time>\\n        \\n      </a>\\n    </li>\\n  \\n            \\n          </ul>\\n      </div>\\n    </div>\\n  </nav>\\n\\n            \\n          \\n        \\n      </div>\\n    </div>\\n    <div class=\"glue-header__drawer-backdrop gdm-header__backdrop\"\\n         data-label=\"Close the navigation drawer\"></div>\\n  </header>\\n  <div class=\"gdm-header-scrolling\"></div>\\n\\n\\n    <main id=\"content\" class=\"\">\\n      \\n  <article>\\n    \\n    \\n  \\n  \\n  \\n    \\n\\n    \\n    \\n      \\n        <div class=\"glue-page bookmark\">\\n          \\n            \\n            \\n              \\n              <div class=\"page-cover glue-grid page-cover--full\">\\n    <figure class=\"page-cover__media page-cover__video glue-grid__col glue-grid__col--span-12 glue-grid__col--span-12-md\" role=\"presentation\">\\n      <div class=\"gdm-video-embed gdm-video-embed--background\">\\n      <video class=\"gdm-video-embed__player\" muted playsinline loop data-autoplay=\"true\" autoplay>\\n        <source\\n          src=\"/api/blob/website/media/veo-hero-supercut-tint-240512-r05.mp4\"\\n          type=\"video/mp4\"\\n          \\n        >\\n      </video>\\n      <div class=\"gdm-video-embed__controls\">\\n        <button class=\"glue-button glue-button--low-emphasis gdm-video-embed__play-toggle\">\\n          <span class=\"gdm-video-embed__play-toggle--pause\">\\n            <span class=\"glue-visually-hidden\">Pause</span>\\n            <svg aria-hidden=\"true\"\\n       class=\"glue-icon\"\\n       role=\"presentation\">\\n    <use href=\"/static/glue-icons.949e143d99c8.svg#pause-button\"></use>\\n  </svg>\\n          </span>\\n          <span class=\"gdm-video-embed__play-toggle--play\">\\n            <span class=\"glue-visually-hidden\">Play</span>\\n            <svg aria-hidden=\"true\"\\n       class=\"glue-icon\"\\n       role=\"presentation\">\\n    <use href=\"/static/glue-icons.949e143d99c8.svg#play-button\"></use>\\n  </svg>\\n          </span>\\n        </button>\\n      </div>\\n    </div>\\n    </figure>\\n  \\n      <div class=\"page-cover__content glue-grid__col glue-grid__col--span-12 glue-grid__col--span-12-md page-cover__content--centered page-cover__content--mono\">\\n    <p class=\"page-cover__eyebrow glue-label\">Technology</p>\\n    <h1 class=\"page-cover__title glue-headline glue-headline--headline-2\">Veo</h1>\\n    <div class=\"page-cover__description\"><p data-block-key=\"alogg\">Our most capable generative video model</p></div>\\n\\n    \\n    <a class=\"glue-button glue-button--high-emphasis glue-button--icon-right cta\"\\n       data-gtm-tag=\"cta-selection\"\\n       href=\"https://aitestkitchen.withgoogle.com/tools/video-fx\" rel=\"noopener\" target=\"_blank\">\\n      Sign up to try on VideoFX\\n      <svg aria-hidden=\"true\"\\n       class=\"glue-icon\"\\n       role=\"presentation\">\\n    <use href=\"/static/glue-icons.949e143d99c8.svg#open-in-new\"></use>\\n  </svg>\\n    </a>\\n  </div></div>\\n            \\n          \\n            \\n            \\n              \\n              <div class=\"gdm-rich-text rich-text\">\\n  <p data-block-key=\"6gb7v\" class=\"gdm-rich-text__subtitle\">Veo is our most capable video generation model to date. It generates high-quality, 1080p resolution videos that can go beyond a minute, in a wide range of cinematic and visual styles.</p><p data-block-key=\"c6nlk\">It accurately captures the nuance and tone of a prompt, and provides an unprecedented level of creative control — understanding prompts for all kinds of cinematic effects, like time lapses or aerial shots of a landscape.</p><p data-block-key=\"a5heq\">Our video generation model will help create tools that make video production accessible to everyone. Whether you\\'re a seasoned filmmaker, aspiring creator, or educator looking to share knowledge, Veo unlocks new possibilities for storytelling, education and more.</p><p data-block-key=\"8rfgr\">Over the coming weeks some of these features will be available to select creators through <a href=\"http://labs.google/videofx\" rel=\"noopener\" target=\"_blank\">VideoFX</a>, a new experimental tool at labs.google. You can join the <a href=\"http://labs.google/VideoFX\" rel=\"noopener\" target=\"_blank\">waitlist</a> now.</p><p data-block-key=\"5veag\">In the future, we’ll also bring some of Veo’s capabilities to <a href=\"https://www.youtube.com/shorts\" rel=\"noopener\" target=\"_blank\">YouTube Shorts</a> and other products.</p>\\n</div>\\n            \\n          \\n            \\n            \\n              \\n              \\n\\n\\n\\n\\n<figure class=\"single-media single-media--large\" aria-labelledby=\"single-media-94711a1b-47e7-425f-bee3-0d5e8d7fa2bd-figcaption\">\\n  <div class=\"single-media__media\"><div class=\"gdm-video-embed\">\\n      <video class=\"gdm-video-embed__player\" muted playsinline loop data-autoplay=\"true\" poster=\"https://lh3.googleusercontent.com/hTTIB92vhWXzaJtP6KZeMVd3J-kLmCcfgFGKzbwaozCnTP202-zsSuuukI63QBOl4XBa3jUjP4ZwNtUvKUyUax4A_P-ltBfJ_jYd1AD3sztdBkOtHc0=w50\">\\n        <source\\n          src=\"/api/blob/website/media/veo_cowboy_sun_1.mp4\"\\n          type=\"video/mp4\"\\n          \\n        >\\n      </video>\\n      <div class=\"gdm-video-embed__controls\">\\n        <button class=\"glue-button glue-button--low-emphasis gdm-video-embed__play-toggle\">\\n          <span class=\"gdm-video-embed__play-toggle--pause\">\\n            <span class=\"glue-visually-hidden\">Pause</span>\\n            <svg aria-hidden=\"true\"\\n       class=\"glue-icon\"\\n       role=\"presentation\">\\n    <use href=\"/static/glue-icons.949e143d99c8.svg#pause-button\"></use>\\n  </svg>\\n          </span>\\n          <span class=\"gdm-video-embed__play-toggle--play\">\\n            <span class=\"glue-visually-hidden\">Play</span>\\n            <svg aria-hidden=\"true\"\\n       class=\"glue-icon\"\\n       role=\"presentation\">\\n    <use href=\"/static/glue-icons.949e143d99c8.svg#play-button\"></use>\\n  </svg>\\n          </span>\\n        </button>\\n      </div>\\n    </div></div>\\n  \\n    <figcaption class=\"single-media__caption\" id=\"single-media-94711a1b-47e7-425f-bee3-0d5e8d7fa2bd-figcaption\">\\n      <p data-block-key=\"8kik6\">Prompt: A lone cowboy rides his horse across an open plain at beautiful sunset, soft light, warm colors</p>\\n    </figcaption>\\n  \\n</figure>\\n            \\n          \\n            \\n            \\n              \\n              \\n\\n<div class=\"media-grid media-grid--large\">\\n    \\n\\n<figure class=\"media-grid-video-embed\" aria-labelledby=\"media-grid-video-embed-e211469a-9817-4bdc-b412-3efbc92576ab-figcaption\">\\n  <div class=\"gdm-video-embed\">\\n      <video class=\"gdm-video-embed__player\" muted playsinline loop data-autoplay=\"true\" poster=\"https://lh3.googleusercontent.com/K4mfcDv7RlYRV3WCrUrxqcr4db56fcXqLbpTDDlA_yinY_JeagPPQPXlcXMeMZE_kpxkreWwz7W4ZENbdZybW6gYdOoVrd-p4yDtxg_uj4HSKaPiqQ=w50\">\\n        <source\\n          src=\"/api/blob/website/media/veo_example_001_residential_street_1.mp4\"\\n          type=\"video/mp4\"\\n          \\n        >\\n      </video>\\n      <div class=\"gdm-video-embed__controls\">\\n        <button class=\"glue-button glue-button--low-emphasis gdm-video-embed__play-toggle\">\\n          <span class=\"gdm-video-embed__play-toggle--pause\">\\n            <span class=\"glue-visually-hidden\">Pause</span>\\n            <svg aria-hidden=\"true\"\\n       class=\"glue-icon\"\\n       role=\"presentation\">\\n    <use href=\"/static/glue-icons.949e143d99c8.svg#pause-button\"></use>\\n  </svg>\\n          </span>\\n          <span class=\"gdm-video-embed__play-toggle--play\">\\n            <span class=\"glue-visually-hidden\">Play</span>\\n            <svg aria-hidden=\"true\"\\n       class=\"glue-icon\"\\n       role=\"presentation\">\\n    <use href=\"/static/glue-icons.949e143d99c8.svg#play-button\"></use>\\n  </svg>\\n          </span>\\n        </button>\\n      </div>\\n    </div>\\n  <figcaption class=\"media-grid__caption\" id=\"media-grid-video-embed-e211469a-9817-4bdc-b412-3efbc92576ab-figcaption\">\\n      <p data-block-key=\"07jo0\">Prompt: A fast-tracking shot down an suburban residential street lined with trees. Daytime with a clear blue sky. Saturated colors, high contrast</p>\\n    </figcaption>\\n</figure>\\n\\n<figure class=\"media-grid-video-embed\" aria-labelledby=\"media-grid-video-embed-f36f817d-d844-4884-b191-cd5dc38066f6-figcaption\">\\n  <div class=\"gdm-video-embed\">\\n      <video class=\"gdm-video-embed__player\" muted playsinline loop data-autoplay=\"true\" poster=\"https://lh3.googleusercontent.com/C2zV5w9isfPGXfbQ9YbUvAmNOAs8rHaFOJKyTBv-s1Q49SZDm1ZOEffYvyAQJgx_Ny9rMr01LtUW5SxtcXYCmWUYVx_s2EbCpdpuHlFxG_Ws0I3E=w50\">\\n        <source\\n          src=\"/api/blob/website/media/veo_example_013_kebab.mp4\"\\n          type=\"video/mp4\"\\n          \\n        >\\n      </video>\\n      <div class=\"gdm-video-embed__controls\">\\n        <button class=\"glue-button glue-button--low-emphasis gdm-video-embed__play-toggle\">\\n          <span class=\"gdm-video-embed__play-toggle--pause\">\\n            <span class=\"glue-visually-hidden\">Pause</span>\\n            <svg aria-hidden=\"true\"\\n       class=\"glue-icon\"\\n       role=\"presentation\">\\n    <use href=\"/static/glue-icons.949e143d99c8.svg#pause-button\"></use>\\n  </svg>\\n          </span>\\n          <span class=\"gdm-video-embed__play-toggle--play\">\\n            <span class=\"glue-visually-hidden\">Play</span>\\n            <svg aria-hidden=\"true\"\\n       class=\"glue-icon\"\\n       role=\"presentation\">\\n    <use href=\"/static/glue-icons.949e143d99c8.svg#play-button\"></use>\\n  </svg>\\n          </span>\\n        </button>\\n      </div>\\n    </div>\\n  <figcaption class=\"media-grid__caption\" id=\"media-grid-video-embed-f36f817d-d844-4884-b191-cd5dc38066f6-figcaption\">\\n      <p data-block-key=\"07jo0\">Prompt: Extreme close-up of chicken and green pepper kebabs grilling on a barbeque with flames. Shallow focus and light smoke. vivid colours</p>\\n    </figcaption>\\n</figure>\\n\\n<figure class=\"media-grid-video-embed\" aria-labelledby=\"media-grid-video-embed-5d360a46-0174-4599-aa61-158b339cebef-figcaption\">\\n  <div class=\"gdm-video-embed\">\\n      <video class=\"gdm-video-embed__player\" muted playsinline loop data-autoplay=\"true\" poster=\"https://lh3.googleusercontent.com/mUTyHMf9AfRpD0SqAAk0TzpgARX8DHSZF-EmmPfxFId9_1DmXWBIGq1rS3DSW2p2TuNPEkzvdIXR6be4Cf6cPvl3x1__41VphZn-Jpl2DUj-STRS=w50\">\\n        <source\\n          src=\"/api/blob/website/media/veo_example_006_northern_lights.mp4\"\\n          type=\"video/mp4\"\\n          \\n        >\\n      </video>\\n      <div class=\"gdm-video-embed__controls\">\\n        <button class=\"glue-button glue-button--low-emphasis gdm-video-embed__play-toggle\">\\n          <span class=\"gdm-video-embed__play-toggle--pause\">\\n            <span class=\"glue-visually-hidden\">Pause</span>\\n            <svg aria-hidden=\"true\"\\n       class=\"glue-icon\"\\n       role=\"presentation\">\\n    <use href=\"/static/glue-icons.949e143d99c8.svg#pause-button\"></use>\\n  </svg>\\n          </span>\\n          <span class=\"gdm-video-embed__play-toggle--play\">\\n            <span class=\"glue-visually-hidden\">Play</span>\\n            <svg aria-hidden=\"true\"\\n       class=\"glue-icon\"\\n       role=\"presentation\">\\n    <use href=\"/static/glue-icons.949e143d99c8.svg#play-button\"></use>\\n  </svg>\\n          </span>\\n        </button>\\n      </div>\\n    </div>\\n  <figcaption class=\"media-grid__caption\" id=\"media-grid-video-embed-5d360a46-0174-4599-aa61-158b339cebef-figcaption\">\\n      <p data-block-key=\"07jo0\">Prompt: Timelapse of the northern lights dancing across the Arctic sky, stars twinkling, snow-covered landscape</p>\\n    </figcaption>\\n</figure>\\n\\n<figure class=\"media-grid-video-embed\" aria-labelledby=\"media-grid-video-embed-95860bd1-4c74-4b2f-8648-41572c5ba99f-figcaption\">\\n  <div class=\"gdm-video-embed\">\\n      <video class=\"gdm-video-embed__player\" muted playsinline loop data-autoplay=\"true\" poster=\"https://lh3.googleusercontent.com/VSyKJtfpaDryEGiO3Q2YwIFxSYk2sNkqYneKfo-iciutUw4qPBugZUTH9j8glxw_jRtD099awxRIATcKPH82Sld1QKKlwTx2IcSv2jya4EVsg8VRxpA=w50\">\\n        <source\\n          src=\"/api/blob/website/media/veo_example_011_lighthouse.mp4\"\\n          type=\"video/mp4\"\\n          \\n        >\\n      </video>\\n      <div class=\"gdm-video-embed__controls\">\\n        <button class=\"glue-button glue-button--low-emphasis gdm-video-embed__play-toggle\">\\n          <span class=\"gdm-video-embed__play-toggle--pause\">\\n            <span class=\"glue-visually-hidden\">Pause</span>\\n            <svg aria-hidden=\"true\"\\n       class=\"glue-icon\"\\n       role=\"presentation\">\\n    <use href=\"/static/glue-icons.949e143d99c8.svg#pause-button\"></use>\\n  </svg>\\n          </span>\\n          <span class=\"gdm-video-embed__play-toggle--play\">\\n            <span class=\"glue-visually-hidden\">Play</span>\\n            <svg aria-hidden=\"true\"\\n       class=\"glue-icon\"\\n       role=\"presentation\">\\n    <use href=\"/static/glue-icons.949e143d99c8.svg#play-button\"></use>\\n  </svg>\\n          </span>\\n        </button>\\n      </div>\\n    </div>\\n  <figcaption class=\"media-grid__caption\" id=\"media-grid-video-embed-95860bd1-4c74-4b2f-8648-41572c5ba99f-figcaption\">\\n      <p data-block-key=\"07jo0\">Prompt: An aerial shot of a lighthouse standing tall on a rocky cliff, its beacon cutting through the early dawn, waves crash against the rocks below</p>\\n    </figcaption>\\n</figure></div>\\n            \\n          \\n            \\n            \\n              \\n              <div class=\"gdm-rich-text rich-text\">\\n  <h2 data-block-key=\"6gb7v\">Greater understanding of language and vision</h2><p data-block-key=\"ecr6v\">To produce a coherent scene, generative video models need to accurately interpret a text prompt and combine this information with relevant visual references.</p><p data-block-key=\"6mpal\">With advanced understanding of natural language and visual semantics, Veo generates video that closely follows the prompt. It accurately captures the nuance and tone in a phrase, rendering intricate details within complex scenes.</p>\\n</div>\\n            \\n          \\n            \\n            \\n              \\n              \\n\\n\\n\\n\\n<figure class=\"single-media single-media--large\" aria-labelledby=\"single-media-3e281466-adb6-4b07-bb4e-6050614f1e9d-figcaption\">\\n  <div class=\"single-media__media\"><div class=\"gdm-video-embed\">\\n      <video class=\"gdm-video-embed__player\" muted playsinline loop data-autoplay=\"true\" poster=\"https://lh3.googleusercontent.com/h5-G_9SVKU_IWlHFPiKD1AoW6DEL2fcsBAagsK7YxOPBUopFlEDkVzT0SDJeUWn1M--6Yad0XyWdSsnXVBK5OO61ueDXCeoedwr1qFnmaD-56e_FwrE=w50\">\\n        <source\\n          src=\"/api/blob/website/media/veo_example_014_jellyfish.mp4\"\\n          type=\"video/mp4\"\\n          \\n        >\\n      </video>\\n      <div class=\"gdm-video-embed__controls\">\\n        <button class=\"glue-button glue-button--low-emphasis gdm-video-embed__play-toggle\">\\n          <span class=\"gdm-video-embed__play-toggle--pause\">\\n            <span class=\"glue-visually-hidden\">Pause</span>\\n            <svg aria-hidden=\"true\"\\n       class=\"glue-icon\"\\n       role=\"presentation\">\\n    <use href=\"/static/glue-icons.949e143d99c8.svg#pause-button\"></use>\\n  </svg>\\n          </span>\\n          <span class=\"gdm-video-embed__play-toggle--play\">\\n            <span class=\"glue-visually-hidden\">Play</span>\\n            <svg aria-hidden=\"true\"\\n       class=\"glue-icon\"\\n       role=\"presentation\">\\n    <use href=\"/static/glue-icons.949e143d99c8.svg#play-button\"></use>\\n  </svg>\\n          </span>\\n        </button>\\n      </div>\\n    </div></div>\\n  \\n    <figcaption class=\"single-media__caption\" id=\"single-media-3e281466-adb6-4b07-bb4e-6050614f1e9d-figcaption\">\\n      <p data-block-key=\"i0aq8\">Prompt: Many spotted jellyfish pulsating under water. Their bodies are transparent and glowing in deep ocean</p>\\n    </figcaption>\\n  \\n</figure>\\n            \\n          \\n            \\n            \\n              \\n              \\n\\n<div class=\"media-grid media-grid--large\">\\n    \\n\\n<figure class=\"media-grid-video-embed\" aria-labelledby=\"media-grid-video-embed-59ae247d-b77c-41db-90d8-316642729005-figcaption\">\\n  <div class=\"gdm-video-embed\">\\n      <video class=\"gdm-video-embed__player\" muted playsinline loop data-autoplay=\"true\" poster=\"https://lh3.googleusercontent.com/z-MWvXnbBHAPSybvWfVwQ14ZXjVedoXQQGR8s0MAY2b27fsFhYO-VAmiAMhqRpLIghVVdueWCXo2w-gUKmm_xn9T9ojaxizj6iMiGnaxOYBgOHdf=w50\">\\n        <source\\n          src=\"/api/blob/website/media/veo_example_041_sunflower.mp4\"\\n          type=\"video/mp4\"\\n          \\n        >\\n      </video>\\n      <div class=\"gdm-video-embed__controls\">\\n        <button class=\"glue-button glue-button--low-emphasis gdm-video-embed__play-toggle\">\\n          <span class=\"gdm-video-embed__play-toggle--pause\">\\n            <span class=\"glue-visually-hidden\">Pause</span>\\n            <svg aria-hidden=\"true\"\\n       class=\"glue-icon\"\\n       role=\"presentation\">\\n    <use href=\"/static/glue-icons.949e143d99c8.svg#pause-button\"></use>\\n  </svg>\\n          </span>\\n          <span class=\"gdm-video-embed__play-toggle--play\">\\n            <span class=\"glue-visually-hidden\">Play</span>\\n            <svg aria-hidden=\"true\"\\n       class=\"glue-icon\"\\n       role=\"presentation\">\\n    <use href=\"/static/glue-icons.949e143d99c8.svg#play-button\"></use>\\n  </svg>\\n          </span>\\n        </button>\\n      </div>\\n    </div>\\n  <figcaption class=\"media-grid__caption\" id=\"media-grid-video-embed-59ae247d-b77c-41db-90d8-316642729005-figcaption\">\\n      <p data-block-key=\"a1xyj\">Prompt: Timelapse of a common sunflower opening, dark background</p>\\n    </figcaption>\\n</figure>\\n\\n<figure class=\"media-grid-video-embed\" aria-labelledby=\"media-grid-video-embed-6c096019-c3c0-45a1-ae8e-a0c6cdabe8d6-figcaption\">\\n  <div class=\"gdm-video-embed\">\\n      <video class=\"gdm-video-embed__player\" muted playsinline loop data-autoplay=\"true\" poster=\"https://lh3.googleusercontent.com/nOEK08PW1U8H-Yzz7XzfmLyP8x9p22qzje_EmEnquIxJ1dx8MOyq9xFoalAZJcOSl-ri2WhuGIrgogL3A6J_-i22GSCtFFONIW9mpiVJDLLNqBOy2UQ=w50\">\\n        <source\\n          src=\"/api/blob/website/media/veo_example_004_wet_pavement.mp4\"\\n          type=\"video/mp4\"\\n          \\n        >\\n      </video>\\n      <div class=\"gdm-video-embed__controls\">\\n        <button class=\"glue-button glue-button--low-emphasis gdm-video-embed__play-toggle\">\\n          <span class=\"gdm-video-embed__play-toggle--pause\">\\n            <span class=\"glue-visually-hidden\">Pause</span>\\n            <svg aria-hidden=\"true\"\\n       class=\"glue-icon\"\\n       role=\"presentation\">\\n    <use href=\"/static/glue-icons.949e143d99c8.svg#pause-button\"></use>\\n  </svg>\\n          </span>\\n          <span class=\"gdm-video-embed__play-toggle--play\">\\n            <span class=\"glue-visually-hidden\">Play</span>\\n            <svg aria-hidden=\"true\"\\n       class=\"glue-icon\"\\n       role=\"presentation\">\\n    <use href=\"/static/glue-icons.949e143d99c8.svg#play-button\"></use>\\n  </svg>\\n          </span>\\n        </button>\\n      </div>\\n    </div>\\n  <figcaption class=\"media-grid__caption\" id=\"media-grid-video-embed-6c096019-c3c0-45a1-ae8e-a0c6cdabe8d6-figcaption\">\\n      <p data-block-key=\"a1xyj\">Prompt: extreme close-up with a shallow depth of field of a puddle in a street. reflecting a busy futuristic Tokyo city with bright neon signs, night, lens flare</p>\\n    </figcaption>\\n</figure></div>\\n            \\n          \\n            \\n            \\n              \\n              <div class=\"gdm-rich-text rich-text\">\\n  <h2 data-block-key=\"penxw\">Controls for film-making</h2><p data-block-key=\"eg3us\">When given both an input video and editing command, like adding kayaks to an aerial shot of a coastline, Veo can apply this command to the initial video and create a new, edited video.</p>\\n</div>\\n            \\n          \\n            \\n            \\n              \\n              \\n\\n<div class=\"media-grid media-grid--large\">\\n    \\n\\n<figure class=\"media-grid-video-embed\" aria-labelledby=\"media-grid-video-embed-cfe16351-1e93-4359-bebd-4445ac4a9a85-figcaption\">\\n  <div class=\"gdm-video-embed gdm-video-embed--background\">\\n      <video class=\"gdm-video-embed__player\" muted playsinline loop data-autoplay=\"true\">\\n        <source\\n          src=\"/api/blob/website/media/WM_IPTC_coast_1.mp4\"\\n          type=\"video/mp4\"\\n          \\n        >\\n      </video>\\n      <div class=\"gdm-video-embed__controls\">\\n        <button class=\"glue-button glue-button--low-emphasis gdm-video-embed__play-toggle\">\\n          <span class=\"gdm-video-embed__play-toggle--pause\">\\n            <span class=\"glue-visually-hidden\">Pause</span>\\n            <svg aria-hidden=\"true\"\\n       class=\"glue-icon\"\\n       role=\"presentation\">\\n    <use href=\"/static/glue-icons.949e143d99c8.svg#pause-button\"></use>\\n  </svg>\\n          </span>\\n          <span class=\"gdm-video-embed__play-toggle--play\">\\n            <span class=\"glue-visually-hidden\">Play</span>\\n            <svg aria-hidden=\"true\"\\n       class=\"glue-icon\"\\n       role=\"presentation\">\\n    <use href=\"/static/glue-icons.949e143d99c8.svg#play-button\"></use>\\n  </svg>\\n          </span>\\n        </button>\\n      </div>\\n    </div>\\n  <figcaption class=\"media-grid__caption\" id=\"media-grid-video-embed-cfe16351-1e93-4359-bebd-4445ac4a9a85-figcaption\">\\n      <p data-block-key=\"x2px8\">Prompt: Drone shot along the Hawaii jungle coastline, sunny day</p>\\n    </figcaption>\\n</figure>\\n\\n<figure class=\"media-grid-video-embed\" aria-labelledby=\"media-grid-video-embed-a778a7b6-36a2-441a-a444-086584fbbb75-figcaption\">\\n  <div class=\"gdm-video-embed\">\\n      <video class=\"gdm-video-embed__player\" muted playsinline loop data-autoplay=\"true\" poster=\"https://lh3.googleusercontent.com/WZlwOQrwaEDJuyw8N0swHr31eHGe_xSMAXURZrq1e6RU26EW5wLG8of_vPyEBEMw6VWob6HBlvUR6rZmgSxrkcfqrfONbAOCx4dOa7ALvYQ_5K2ovMY=w50\">\\n        <source\\n          src=\"/api/blob/website/media/WM_coast_kayak_1.mp4\"\\n          type=\"video/mp4\"\\n          \\n        >\\n      </video>\\n      <div class=\"gdm-video-embed__controls\">\\n        <button class=\"glue-button glue-button--low-emphasis gdm-video-embed__play-toggle\">\\n          <span class=\"gdm-video-embed__play-toggle--pause\">\\n            <span class=\"glue-visually-hidden\">Pause</span>\\n            <svg aria-hidden=\"true\"\\n       class=\"glue-icon\"\\n       role=\"presentation\">\\n    <use href=\"/static/glue-icons.949e143d99c8.svg#pause-button\"></use>\\n  </svg>\\n          </span>\\n          <span class=\"gdm-video-embed__play-toggle--play\">\\n            <span class=\"glue-visually-hidden\">Play</span>\\n            <svg aria-hidden=\"true\"\\n       class=\"glue-icon\"\\n       role=\"presentation\">\\n    <use href=\"/static/glue-icons.949e143d99c8.svg#play-button\"></use>\\n  </svg>\\n          </span>\\n        </button>\\n      </div>\\n    </div>\\n  <figcaption class=\"media-grid__caption\" id=\"media-grid-video-embed-a778a7b6-36a2-441a-a444-086584fbbb75-figcaption\">\\n      <p data-block-key=\"x2px8\">Drone shot along the Hawaii jungle coastline, sunny day. Kayaks in the water</p>\\n    </figcaption>\\n</figure></div>\\n            \\n          \\n            \\n            \\n              \\n              <div class=\"gdm-rich-text rich-text\">\\n  <p data-block-key=\"40xdi\">In addition, it supports masked editing, enabling changes to specific areas of the video when you add a mask area to your video and text prompt.</p><p data-block-key=\"8tcfm\">Veo can also generate a video with an image as input along with the text prompt. By providing a reference image in combination with a text prompt, it conditions Veo to generate a video that follows the image’s style and user prompt’s instructions.</p>\\n</div>\\n            \\n          \\n            \\n            \\n              \\n              \\n\\n<div class=\"media-grid media-grid--large\">\\n    \\n\\n<figure class=\"media-grid-image\">\\n  \\n    \\n    \\n    <picture class=\"media-grid-image__image\">\\n      <source\\n      media=\"(min-width: 1024px)\"\\n      type=\"image/webp\"\\n      width=\"512\"\\n      height=\"279\"\\n      srcset=\"https://lh3.googleusercontent.com/3U6k20oOgX_zopp5fr-zK0D8v-NAI0Hd-G9eGmGsiZjtbK5mmeZGtw3DOShtNQk3jxrkDkXkOf0JxhD0i_zFKfVFhwKKS7YpUORufWUEDhwVnRR0=w512-rw 1x, https://lh3.googleusercontent.com/3U6k20oOgX_zopp5fr-zK0D8v-NAI0Hd-G9eGmGsiZjtbK5mmeZGtw3DOShtNQk3jxrkDkXkOf0JxhD0i_zFKfVFhwKKS7YpUORufWUEDhwVnRR0=w1024-rw 2x\"\\n    /><source\\n      media=\"(min-width: 600px)\"\\n      type=\"image/webp\"\\n      width=\"452\"\\n      height=\"246\"\\n      srcset=\"https://lh3.googleusercontent.com/3U6k20oOgX_zopp5fr-zK0D8v-NAI0Hd-G9eGmGsiZjtbK5mmeZGtw3DOShtNQk3jxrkDkXkOf0JxhD0i_zFKfVFhwKKS7YpUORufWUEDhwVnRR0=w452-rw 1x, https://lh3.googleusercontent.com/3U6k20oOgX_zopp5fr-zK0D8v-NAI0Hd-G9eGmGsiZjtbK5mmeZGtw3DOShtNQk3jxrkDkXkOf0JxhD0i_zFKfVFhwKKS7YpUORufWUEDhwVnRR0=w904-rw 2x\"\\n    /><source\\n      \\n      type=\"image/webp\"\\n      width=\"544\"\\n      height=\"296\"\\n      srcset=\"https://lh3.googleusercontent.com/3U6k20oOgX_zopp5fr-zK0D8v-NAI0Hd-G9eGmGsiZjtbK5mmeZGtw3DOShtNQk3jxrkDkXkOf0JxhD0i_zFKfVFhwKKS7YpUORufWUEDhwVnRR0=w544-rw 1x, https://lh3.googleusercontent.com/3U6k20oOgX_zopp5fr-zK0D8v-NAI0Hd-G9eGmGsiZjtbK5mmeZGtw3DOShtNQk3jxrkDkXkOf0JxhD0i_zFKfVFhwKKS7YpUORufWUEDhwVnRR0=w1088-rw 2x\"\\n    />\\n      <img alt=\"\" height=\"279\" loading=\"lazy\" src=\"https://lh3.googleusercontent.com/3U6k20oOgX_zopp5fr-zK0D8v-NAI0Hd-G9eGmGsiZjtbK5mmeZGtw3DOShtNQk3jxrkDkXkOf0JxhD0i_zFKfVFhwKKS7YpUORufWUEDhwVnRR0=w512\" width=\"512\">\\n    </picture>\\n    \\n  \\n  <figcaption class=\"media-grid__caption\"><p data-block-key=\"hnwko\">Prompt: Alpacas wearing knit wool sweaters, graffiti background, sunglasses</p></figcaption>\\n</figure>\\n\\n<figure class=\"media-grid-video-embed\" aria-labelledby=\"media-grid-video-embed-61f4e1f1-9d93-4510-b1f0-5b231b69e833-figcaption\">\\n  <div class=\"gdm-video-embed\">\\n      <video class=\"gdm-video-embed__player\" muted playsinline loop data-autoplay=\"true\" poster=\"https://lh3.googleusercontent.com/EsooKfFjz5OMYyv8EmZlQptGfRjMQvVqY5vL-e33soui_BQIclEnDxU0xvc4pceloV9hLgJIpZgqm1KcU68OkANboXkFHWaBv30YRVx_-YwSUq0pgg=w50\">\\n        <source\\n          src=\"/api/blob/website/media/veo_example_043_alpacas.mp4\"\\n          type=\"video/mp4\"\\n          \\n        >\\n      </video>\\n      <div class=\"gdm-video-embed__controls\">\\n        <button class=\"glue-button glue-button--low-emphasis gdm-video-embed__play-toggle\">\\n          <span class=\"gdm-video-embed__play-toggle--pause\">\\n            <span class=\"glue-visually-hidden\">Pause</span>\\n            <svg aria-hidden=\"true\"\\n       class=\"glue-icon\"\\n       role=\"presentation\">\\n    <use href=\"/static/glue-icons.949e143d99c8.svg#pause-button\"></use>\\n  </svg>\\n          </span>\\n          <span class=\"gdm-video-embed__play-toggle--play\">\\n            <span class=\"glue-visually-hidden\">Play</span>\\n            <svg aria-hidden=\"true\"\\n       class=\"glue-icon\"\\n       role=\"presentation\">\\n    <use href=\"/static/glue-icons.949e143d99c8.svg#play-button\"></use>\\n  </svg>\\n          </span>\\n        </button>\\n      </div>\\n    </div>\\n  <figcaption class=\"media-grid__caption\" id=\"media-grid-video-embed-61f4e1f1-9d93-4510-b1f0-5b231b69e833-figcaption\">\\n      <p data-block-key=\"ujksy\">Prompt: Alpacas dancing to the beat</p>\\n    </figcaption>\\n</figure></div>\\n            \\n          \\n            \\n            \\n              \\n              <div class=\"gdm-rich-text rich-text\">\\n  <p data-block-key=\"u0m94\">The model is also able to make video clips and extend them to 60 seconds and beyond. It can do this either from a single prompt, or by being given a sequence of prompts which together tell a story.</p>\\n</div>\\n            \\n          \\n            \\n            \\n              \\n              \\n\\n<div class=\"media-grid media-grid--large\">\\n    \\n\\n<figure class=\"media-grid-video\">\\n  <div class=\"glue-video gdm-video gdm-video--auto-init\">\\n    <div class=\"glue-video__preview-container glue-video__preview-container--inline\">\\n     \\n        \\n    \\n    \\n    <picture class=\"glue-video__preview\" aria-hidden=\"true\">\\n      <source\\n      media=\"(min-width: 600px)\"\\n      type=\"image/webp\"\\n      width=\"616\"\\n      height=\"347\"\\n      srcset=\"https://lh3.googleusercontent.com/J9jWtsWOAN3_oWBfxSK4LfP3MYN5FdSbt1zRxwOV51AeAN88SNNeeQzz3M9DXBmdz4Pd6zYjXXEGwlXpYZS-das1xY6lGP_nP5pN3XwpeD-fNU5orQ=w616-rw 1x, https://lh3.googleusercontent.com/J9jWtsWOAN3_oWBfxSK4LfP3MYN5FdSbt1zRxwOV51AeAN88SNNeeQzz3M9DXBmdz4Pd6zYjXXEGwlXpYZS-das1xY6lGP_nP5pN3XwpeD-fNU5orQ=w1232-rw 2x\"\\n    /><source\\n      \\n      type=\"image/webp\"\\n      width=\"528\"\\n      height=\"297\"\\n      srcset=\"https://lh3.googleusercontent.com/J9jWtsWOAN3_oWBfxSK4LfP3MYN5FdSbt1zRxwOV51AeAN88SNNeeQzz3M9DXBmdz4Pd6zYjXXEGwlXpYZS-das1xY6lGP_nP5pN3XwpeD-fNU5orQ=w528-rw 1x, https://lh3.googleusercontent.com/J9jWtsWOAN3_oWBfxSK4LfP3MYN5FdSbt1zRxwOV51AeAN88SNNeeQzz3M9DXBmdz4Pd6zYjXXEGwlXpYZS-das1xY6lGP_nP5pN3XwpeD-fNU5orQ=w1056-rw 2x\"\\n    />\\n      <img alt=\"\" height=\"347\" loading=\"lazy\" role=\"presentation\" src=\"https://lh3.googleusercontent.com/J9jWtsWOAN3_oWBfxSK4LfP3MYN5FdSbt1zRxwOV51AeAN88SNNeeQzz3M9DXBmdz4Pd6zYjXXEGwlXpYZS-das1xY6lGP_nP5pN3XwpeD-fNU5orQ=w616\" width=\"616\">\\n    </picture>\\n    \\n  \\n      \\n      <div class=\"glue-video__info\">\\n        <svg aria-hidden=\"true\"\\n       class=\"glue-icon glue-video__play-button glue-video__play-button--white\"\\n       role=\"presentation\">\\n    <use href=\"/static/glue-icons.949e143d99c8.svg#video-youtube\"></use>\\n  </svg>\\n        <div class=\"glue-video__label-container\">\\n          <p class=\"glue-headline glue-headline--headline-3 glue-video__label glue-video__label--small glue-video__label--highlight glue-video__label--light\">\\n            Watch\\n          </p>\\n        </div>\\n        <div aria-hidden=\"true\" class=\"glue-video__timestamp-container\">\\n          <span class=\"glue-video__timestamp glue-video__timestamp--dark\">\\n            <svg aria-hidden=\"true\"\\n       class=\"glue-icon glue-video__timestamp-icon\"\\n       role=\"presentation\">\\n    <use href=\"/static/glue-icons.949e143d99c8.svg#access-time\"></use>\\n  </svg>\\n            <span class=\"glue-label glue-video__timestamp-duration\"></span>\\n          </span>\\n        </div>\\n      </div>\\n    </div>\\n\\n    <div class=\"glue-video__container glue-video__container--inline\"\\n         data-glue-yt-video-vid=\"diqmZs1aD1g\">\\n    </div>\\n  </div>\\n  \\n</figure>\\n\\n<div class=\"media-grid-card\">\\n  \\n  <div class=\"gdm-rich-text media-grid-card__content\"><p data-block-key=\"mhaeq\">Prompts:</p><p data-block-key=\"44bso\">A fast-tracking shot through a bustling dystopian sprawl with bright neon signs, flying cars and mist, night, lens flare, volumetric lighting.</p><p data-block-key=\"4cdn0\">A fast-tracking shot through a futuristic dystopian sprawl with bright neon signs, starships in the sky, night, volumetric lighting.</p><p data-block-key=\"5do92\">A neon hologram of a car driving at top speed, speed of light, cinematic, incredible details, volumetric lighting.</p><p data-block-key=\"b5ef3\">The cars leave the tunnel, back into the real world city Hong Kong.</p></div>\\n</div></div>\\n            \\n          \\n            \\n            \\n              \\n              <div class=\"gdm-rich-text rich-text\">\\n  <h2 data-block-key=\"hx1qs\">Consistency across video frames</h2><p data-block-key=\"dl81n\">Maintaining visual consistency can be a challenge for video generation models. Characters, objects, or even entire scenes can flicker, jump, or morph unexpectedly between frames, disrupting the viewing experience.</p><p data-block-key=\"77hdm\">Veo\\'s cutting-edge latent diffusion transformers reduce the appearance of these inconsistencies, keeping characters, objects and styles in place, as they would in real life.</p>\\n</div>\\n            \\n          \\n            \\n            \\n              \\n              \\n\\n\\n\\n\\n<figure class=\"single-media single-media--large\" aria-labelledby=\"single-media-0663bbb8-d4c5-4ce5-8cd5-a2b7ff3d81e6-figcaption\">\\n  <div class=\"single-media__media\"><div class=\"gdm-video-embed\">\\n      <video class=\"gdm-video-embed__player\" muted playsinline loop data-autoplay=\"true\" poster=\"https://lh3.googleusercontent.com/RVr46zZpHEZEM26nj72EsiuJH5jeAG6Ohh9Zg0DunVXXiThaEPopVPdw3EEXWXxbPPkuR0PC2z60P3L0A70D5SwlbjtPbaRLpqkiLEsbQQv2p-AqTA=w50\">\\n        <source\\n          src=\"/api/blob/website/media/veo_example_002_mountain_lake.mp4\"\\n          type=\"video/mp4\"\\n          \\n        >\\n      </video>\\n      <div class=\"gdm-video-embed__controls\">\\n        <button class=\"glue-button glue-button--low-emphasis gdm-video-embed__play-toggle\">\\n          <span class=\"gdm-video-embed__play-toggle--pause\">\\n            <span class=\"glue-visually-hidden\">Pause</span>\\n            <svg aria-hidden=\"true\"\\n       class=\"glue-icon\"\\n       role=\"presentation\">\\n    <use href=\"/static/glue-icons.949e143d99c8.svg#pause-button\"></use>\\n  </svg>\\n          </span>\\n          <span class=\"gdm-video-embed__play-toggle--play\">\\n            <span class=\"glue-visually-hidden\">Play</span>\\n            <svg aria-hidden=\"true\"\\n       class=\"glue-icon\"\\n       role=\"presentation\">\\n    <use href=\"/static/glue-icons.949e143d99c8.svg#play-button\"></use>\\n  </svg>\\n          </span>\\n        </button>\\n      </div>\\n    </div></div>\\n  \\n    <figcaption class=\"single-media__caption\" id=\"single-media-0663bbb8-d4c5-4ce5-8cd5-a2b7ff3d81e6-figcaption\">\\n      <p data-block-key=\"cw5wm\">Prompt: A panning shot of a serene mountain landscape, the camera slowly revealing snow-capped peaks, granite rocks and a crystal-clear lake reflecting the sky</p>\\n    </figcaption>\\n  \\n</figure>\\n            \\n          \\n            \\n            \\n              \\n              \\n\\n<div class=\"media-grid media-grid--large\">\\n    \\n\\n<figure class=\"media-grid-video-embed\" aria-labelledby=\"media-grid-video-embed-0231311f-9ffd-40c7-a6f2-34a01bc81d79-figcaption\">\\n  <div class=\"gdm-video-embed gdm-video-embed--background\">\\n      <video class=\"gdm-video-embed__player\" muted playsinline loop data-autoplay=\"true\">\\n        <source\\n          src=\"/api/blob/website/media/veo_example_048_noir_street.mp4\"\\n          type=\"video/mp4\"\\n          \\n        >\\n      </video>\\n      <div class=\"gdm-video-embed__controls\">\\n        <button class=\"glue-button glue-button--low-emphasis gdm-video-embed__play-toggle\">\\n          <span class=\"gdm-video-embed__play-toggle--pause\">\\n            <span class=\"glue-visually-hidden\">Pause</span>\\n            <svg aria-hidden=\"true\"\\n       class=\"glue-icon\"\\n       role=\"presentation\">\\n    <use href=\"/static/glue-icons.949e143d99c8.svg#pause-button\"></use>\\n  </svg>\\n          </span>\\n          <span class=\"gdm-video-embed__play-toggle--play\">\\n            <span class=\"glue-visually-hidden\">Play</span>\\n            <svg aria-hidden=\"true\"\\n       class=\"glue-icon\"\\n       role=\"presentation\">\\n    <use href=\"/static/glue-icons.949e143d99c8.svg#play-button\"></use>\\n  </svg>\\n          </span>\\n        </button>\\n      </div>\\n    </div>\\n  <figcaption class=\"media-grid__caption\" id=\"media-grid-video-embed-0231311f-9ffd-40c7-a6f2-34a01bc81d79-figcaption\">\\n      <p data-block-key=\"s8tib\">Prompt: moody shot of a central European alley film noir cinematic black and white high contrast high detail</p>\\n    </figcaption>\\n</figure>\\n\\n<figure class=\"media-grid-video-embed\" aria-labelledby=\"media-grid-video-embed-e30bbc59-55a3-42c8-9ce4-d8f32e1a5e76-figcaption\">\\n  <div class=\"gdm-video-embed\">\\n      <video class=\"gdm-video-embed__player\" muted playsinline loop data-autoplay=\"true\" poster=\"https://lh3.googleusercontent.com/zZKc4P6505mDd-zuV0LQVfUoFV-_bssgTumiyFd2ixP9059A6mydFdDNEkSlYfMSYRDY9ERvxQMv1VxjZqeU9BKs9QXpM_xNhgw6ZhjXWCMiGMeK-g=w50\">\\n        <source\\n          src=\"/api/blob/website/media/veo_example_012_elephant.mp4\"\\n          type=\"video/mp4\"\\n          \\n        >\\n      </video>\\n      <div class=\"gdm-video-embed__controls\">\\n        <button class=\"glue-button glue-button--low-emphasis gdm-video-embed__play-toggle\">\\n          <span class=\"gdm-video-embed__play-toggle--pause\">\\n            <span class=\"glue-visually-hidden\">Pause</span>\\n            <svg aria-hidden=\"true\"\\n       class=\"glue-icon\"\\n       role=\"presentation\">\\n    <use href=\"/static/glue-icons.949e143d99c8.svg#pause-button\"></use>\\n  </svg>\\n          </span>\\n          <span class=\"gdm-video-embed__play-toggle--play\">\\n            <span class=\"glue-visually-hidden\">Play</span>\\n            <svg aria-hidden=\"true\"\\n       class=\"glue-icon\"\\n       role=\"presentation\">\\n    <use href=\"/static/glue-icons.949e143d99c8.svg#play-button\"></use>\\n  </svg>\\n          </span>\\n        </button>\\n      </div>\\n    </div>\\n  <figcaption class=\"media-grid__caption\" id=\"media-grid-video-embed-e30bbc59-55a3-42c8-9ce4-d8f32e1a5e76-figcaption\">\\n      <p data-block-key=\"s8tib\">Prompt: Crochet elephant in intricate patterns walking on the savanna</p>\\n    </figcaption>\\n</figure></div>\\n            \\n          \\n            \\n            \\n              \\n              <div class=\"gdm-rich-text rich-text\">\\n  <h2 data-block-key=\"t4vz1\">Built upon years of video generation research</h2><p data-block-key=\"5icm9\">Veo builds upon years of generative video model work including <a href=\"https://deepmind.google/discover/blog/neural-scene-representation-and-rendering/\" rel=\"noopener\" target=\"_blank\">Generative Query Network</a> (GQN), <a href=\"https://arxiv.org/abs/1907.06571\" rel=\"noopener\" target=\"_blank\">DVD-GAN</a>, <a href=\"https://imagen.research.google/video/\" rel=\"noopener\" target=\"_blank\">Imagen-Video</a>, <a href=\"https://phenaki.video/\" rel=\"noopener\" target=\"_blank\">Phenaki</a>, <a href=\"https://walt-video-diffusion.github.io/\" rel=\"noopener\" target=\"_blank\">WALT</a>, <a href=\"https://sites.research.google/videopoet/\" rel=\"noopener\" target=\"_blank\">VideoPoet</a> and <a href=\"https://lumiere-video.github.io/\" rel=\"noopener\" target=\"_blank\">Lumiere</a>, and also our <a href=\"https://research.google/blog/transformer-a-novel-neural-network-architecture-for-language-understanding/\" rel=\"noopener\" target=\"_blank\">Transformer architecture</a> and <a href=\"https://deepmind.google/technologies/gemini/#introduction\" rel=\"noopener\" target=\"_blank\">Gemini</a>.</p><p data-block-key=\"3mt37\">To help Veo understand and follow prompts more accurately, we have also added more details to the captions of each video in its training data. And to further improve performance, the model uses high-quality, compressed representations of video (also known as latents) so it’s more efficient too. These steps improve overall quality and reduce the time it takes to generate videos.</p>\\n</div>\\n            \\n          \\n            \\n            \\n              \\n              \\n\\n\\n\\n\\n<figure class=\"single-media single-media--large\">\\n  <div class=\"single-media__media\">\\n    \\n    \\n    <picture>\\n      <source\\n      media=\"(min-width: 1024px)\"\\n      type=\"image/webp\"\\n      width=\"1070\"\\n      height=\"601\"\\n      srcset=\"https://lh3.googleusercontent.com/Jlt_8KiodXVEZatcRfpzvPqoO5MsqZkWazuB6Yl2mYkUFOxPRhhRYW3ClM_C_FYaWb0foKHj-oorE_hfqCb0P8xevsjOd3FNrwpLyiSpcLbNrV3N=w1070-rw 1x, https://lh3.googleusercontent.com/Jlt_8KiodXVEZatcRfpzvPqoO5MsqZkWazuB6Yl2mYkUFOxPRhhRYW3ClM_C_FYaWb0foKHj-oorE_hfqCb0P8xevsjOd3FNrwpLyiSpcLbNrV3N=w2140-rw 2x\"\\n    /><source\\n      media=\"(min-width: 600px)\"\\n      type=\"image/webp\"\\n      width=\"928\"\\n      height=\"522\"\\n      srcset=\"https://lh3.googleusercontent.com/Jlt_8KiodXVEZatcRfpzvPqoO5MsqZkWazuB6Yl2mYkUFOxPRhhRYW3ClM_C_FYaWb0foKHj-oorE_hfqCb0P8xevsjOd3FNrwpLyiSpcLbNrV3N=w928-rw 1x, https://lh3.googleusercontent.com/Jlt_8KiodXVEZatcRfpzvPqoO5MsqZkWazuB6Yl2mYkUFOxPRhhRYW3ClM_C_FYaWb0foKHj-oorE_hfqCb0P8xevsjOd3FNrwpLyiSpcLbNrV3N=w1856-rw 2x\"\\n    /><source\\n      \\n      type=\"image/webp\"\\n      width=\"528\"\\n      height=\"297\"\\n      srcset=\"https://lh3.googleusercontent.com/Jlt_8KiodXVEZatcRfpzvPqoO5MsqZkWazuB6Yl2mYkUFOxPRhhRYW3ClM_C_FYaWb0foKHj-oorE_hfqCb0P8xevsjOd3FNrwpLyiSpcLbNrV3N=w528-rw 1x, https://lh3.googleusercontent.com/Jlt_8KiodXVEZatcRfpzvPqoO5MsqZkWazuB6Yl2mYkUFOxPRhhRYW3ClM_C_FYaWb0foKHj-oorE_hfqCb0P8xevsjOd3FNrwpLyiSpcLbNrV3N=w1056-rw 2x\"\\n    />\\n      <img alt=\"\" height=\"601\" loading=\"lazy\" src=\"https://lh3.googleusercontent.com/Jlt_8KiodXVEZatcRfpzvPqoO5MsqZkWazuB6Yl2mYkUFOxPRhhRYW3ClM_C_FYaWb0foKHj-oorE_hfqCb0P8xevsjOd3FNrwpLyiSpcLbNrV3N=w1070\" width=\"1070\">\\n    </picture>\\n    \\n  </div>\\n  \\n</figure>\\n            \\n          \\n            \\n            \\n              \\n              <div class=\"gdm-rich-text rich-text\">\\n  <h2 data-block-key=\"wdxqg\">Responsible by design</h2><p data-block-key=\"conb7\">It\\'s critical to bring technologies like Veo to the world responsibly. Videos created by Veo are watermarked using <a href=\"https://deepmind.google/technologies/synthid/\" rel=\"noopener\" target=\"_blank\">SynthID</a>, our cutting-edge tool for watermarking and identifying AI-generated content, and passed through safety filters and memorization checking processes that help mitigate privacy, copyright and bias risks.</p><p data-block-key=\"5bgom\">Veo’s future will be informed by our work with leading creators and filmmakers. Their feedback helps us improve our generative video technologies and makes sure they benefit the wider creative community and beyond.</p>\\n</div>\\n            \\n          \\n            \\n            \\n              \\n              \\n\\n\\n\\n\\n<figure class=\"single-media single-media--large\" aria-labelledby=\"single-media-f0ae52ba-631a-4572-ab67-cd0c67096103-figcaption\">\\n  <div class=\"single-media__media\"><div class=\"glue-video gdm-video gdm-video--auto-init\">\\n    <div class=\"glue-video__preview-container glue-video__preview-container--inline\">\\n     \\n        <object aria-hidden=\"true\" class=\"glue-video__preview\" data=\"https://i.ytimg.com/vi_webp/dKAVFLB75xs/maxresdefault.webp\" type=\"image/webp\">\\n          <img alt=\"\" class=\"glue-video__preview-image\" loading=\"lazy\" role=\"presentation\" src=\"https://i.ytimg.com/vi_webp/dKAVFLB75xs/hqdefault.webp\" />\\n        </object>\\n      \\n      <div class=\"glue-video__info\">\\n        <svg aria-hidden=\"true\"\\n       class=\"glue-icon glue-video__play-button glue-video__play-button--white\"\\n       role=\"presentation\">\\n    <use href=\"/static/glue-icons.949e143d99c8.svg#video-youtube\"></use>\\n  </svg>\\n        <div class=\"glue-video__label-container\">\\n          <p class=\"glue-headline glue-headline--headline-3 glue-video__label glue-video__label--small glue-video__label--highlight glue-video__label--light\">\\n            Watch\\n          </p>\\n        </div>\\n        <div aria-hidden=\"true\" class=\"glue-video__timestamp-container\">\\n          <span class=\"glue-video__timestamp glue-video__timestamp--dark\">\\n            <svg aria-hidden=\"true\"\\n       class=\"glue-icon glue-video__timestamp-icon\"\\n       role=\"presentation\">\\n    <use href=\"/static/glue-icons.949e143d99c8.svg#access-time\"></use>\\n  </svg>\\n            <span class=\"glue-label glue-video__timestamp-duration\"></span>\\n          </span>\\n        </div>\\n      </div>\\n    </div>\\n\\n    <div class=\"glue-video__container glue-video__container--inline\"\\n         data-glue-yt-video-vid=\"dKAVFLB75xs\">\\n    </div>\\n  </div></div>\\n  \\n    <figcaption class=\"single-media__caption\" id=\"single-media-f0ae52ba-631a-4572-ab67-cd0c67096103-figcaption\">\\n      <p data-block-key=\"7f7zw\">Preview of our work with filmmaker Donald Glover and his creative studio, Gilga.</p>\\n    </figcaption>\\n  \\n</figure>\\n            \\n          \\n            \\n            \\n              \\n              <div class=\"gdm-rich-text rich-text\">\\n  <p data-block-key=\"3s614\"><i>Note: All videos on this page were generated by Veo and have not been modified.</i></p>\\n</div>\\n            \\n          \\n            \\n            \\n              \\n              \\n\\n<aside class=\"button-group\">\\n  \\n    <h2 class=\"glue-headline glue-headline--headline-6\">How Veo is powering text-to-video products across Google</h2>\\n  \\n\\n  <ul class=\"button-group__buttons glue-no-bullet\">\\n    \\n      <li><a class=\"glue-button glue-button--tonal glue-button--icon-right cta\"\\n       data-gtm-tag=\"cta-selection\"\\n       href=\"https://aitestkitchen.withgoogle.com/tools/video-fx\" rel=\"noopener\" target=\"_blank\">\\n      Sign up to try VideoFX\\n      <svg aria-hidden=\"true\"\\n       class=\"glue-icon\"\\n       role=\"presentation\">\\n    <use href=\"/static/glue-icons.949e143d99c8.svg#open-in-new\"></use>\\n  </svg>\\n    </a></li>\\n    \\n  </ul>\\n</aside>\\n            \\n          \\n            \\n            \\n              \\n              <div class=\"gdm-rich-text rich-text\">\\n  <h3 data-block-key=\"fnixr\">Acknowledgements</h3><p data-block-key=\"67cd\">This work was made possible by the exceptional contributions of: Abhishek Sharma, Adams Yu, Ali Razavi, Andeep Toor, Andrew Pierson, Ankush Gupta, Austin Waters, Aäron van den Oord, Daniel Tanis, Dumitru Erhan, Eric Lau, Eleni Shaw, Gabe Barth-Maron, Greg Shaw, Han Zhang, Henna Nandwani, Hernan Moraldo, Hyunjik Kim, Irina Blok, Jakob Bauer, Jeff Donahue, Junyoung Chung, Kory Mathewson, Kurtis David, Lasse Espeholt, Marc van Zee, Matt McGill, Medhini Narasimhan, Miaosen Wang, Mikołaj Bińkowski, Mohammad Babaeizadeh, Mohammad Taghi Saffar, Nando de Freitas, Nick Pezzotti, Pieter-Jan Kindermans, Poorva Rane, Rachel Hornung, Robert Riachi, Ruben Villegas, Rui Qian, Sander Dieleman, Serena Zhang, Serkan Cabi, Shixin Luo, Shlomi Fruchter, Signe Nørly, Srivatsan Srinivasan, Tobias Pfaff, Tom Hume, Vikas Verma, Weizhe Hua, William Zhu, Xinchen Yan, Xinyu Wang, Yelin Kim, Yuqing Du and Yutian Chen.</p><p data-block-key=\"52ut7\">We extend our gratitude to Aida Nematzadeh, Alex Cullum, Anja Hauth, April Lehman, Aäron van den Oord, Benigno Uria, Charlie Chen, Charlie Nash, Charline Le Lan, Conor Durkan, Cristian Țăpuș, David Bridson, David Ding, David Steiner, Emanuel Taropa, Evgeny Gladchenko, Frankie Garcia, Gavin Buttimore, Geng Yan, Golnaz Ghiasi, Greg Shaw, Hadi Hashemi, Harsha Vashisht, Hartwig Adam, Huisheng Wang, Jacob Austin, Jacob Kelly, Jacob Walker, Jim Lin, Jonas Adler, Joost van Amersfoort, Jordi Pont-Tuset, Josh V. Dillon, Josh Newlan, Junlin Zhang, Junwhan Ahn, Katie Zhang, Kelvin Xu, Kristian Kjems, Lois Zhou, Luis C. Cobo, Maigo Le, Malcolm Reynolds, Marcus Wainwright, Mary Cassin, Mateusz Malinowski, Matt Smart, Matt Young, Mingda Zhang, Minh Giang, Moritz Dickfeld, Nancy Xiao, Nelly Papalampidi, Nikhil Khadke, Nir Shabat, Oliver Woodman, Ollie Purkiss, Oskar Bunyan, Patrice Oehen, Pauline Luc, Pete Aykroyd, Petko Georgiev, Phil Chen, Rakesh Shivanna, Ramya Ganeshan, Richard Nguyen, RJ Mical, Robin Strudel, Rohan Anil, Sam Haves, Shanshan Zheng, Sholto Douglas, Siddhartha Brahma, Tatiana López, Tejash Desai, Thang Luong, Victor Gomes, Vighnesh Birodkar, Xin Chen, Yaroslav Ganin, Yi-Ling Wang, Yifeng Lu, Yilin Ma, Yori Zwols, Yu Qiao, Yuchen Liang, Yukun Zhu, Yusuf Aytar and Zu Kim for their invaluable partnership in developing and refining key components of this project.</p><p data-block-key=\"2t4u\">Special thanks to Douglas Eck, Oriol Vinyals, Eli Collins, Koray Kavukcuoglu and Demis Hassabis for their insightful guidance and support throughout the research process.</p><p data-block-key=\"5hie\">We also acknowledge the many other individuals who contributed across Google DeepMind and our partners at Google.</p>\\n</div>\\n            \\n          \\n            \\n            \\n              \\n              \\n\\n\\n\\n  \\n    <aside class=\"related-posts\">\\n      <div class=\"glue-page\"><div class=\"section-heading section-heading--no-description related-posts__heading\">\\n    <div class=\"section-heading__text\">\\n      <h2 class=\"section-heading__title glue-headline glue-headline--headline-3\">Related posts</h2>\\n      \\n    </div>\\n\\n    \\n  </div>\\n        <ul class=\"glue-grid glue-cards cards\"><li class=\"glue-grid__col glue-grid__col--span-6\\n                            glue-grid__col--span-4-lg\\n                            glue-grid__col--span-4-xl\">\\n    <a class=\"glue-card card\"\\n       data-gtm-tag=\"card-selection\"\\n       href=\"/technologies/imagen-3/\">\\n      <div class=\"glue-card__inner\">\\n        \\n    \\n    \\n    <picture class=\"glue-card__asset\">\\n      <source\\n      media=\"(min-width: 1024px)\"\\n      type=\"image/webp\"\\n      width=\"400\"\\n      height=\"225\"\\n      srcset=\"https://lh3.googleusercontent.com/-IJMoak_pZ1ttNhxD31f9LQ0KSF5h_NxIbG2J6Wv4w0BYztxo7C8g87WZ8xOUunOxYmFKRi8Jokg35MLGZTJEf-DQdA_440RghMvGZB1qzZkMgxC=w400-h225-n-nu-rw 1x, https://lh3.googleusercontent.com/-IJMoak_pZ1ttNhxD31f9LQ0KSF5h_NxIbG2J6Wv4w0BYztxo7C8g87WZ8xOUunOxYmFKRi8Jokg35MLGZTJEf-DQdA_440RghMvGZB1qzZkMgxC=w800-h450-n-nu-rw 2x\"\\n    /><source\\n      media=\"(min-width: 600px)\"\\n      type=\"image/webp\"\\n      width=\"450\"\\n      height=\"255\"\\n      srcset=\"https://lh3.googleusercontent.com/-IJMoak_pZ1ttNhxD31f9LQ0KSF5h_NxIbG2J6Wv4w0BYztxo7C8g87WZ8xOUunOxYmFKRi8Jokg35MLGZTJEf-DQdA_440RghMvGZB1qzZkMgxC=w450-h255-n-nu-rw 1x, https://lh3.googleusercontent.com/-IJMoak_pZ1ttNhxD31f9LQ0KSF5h_NxIbG2J6Wv4w0BYztxo7C8g87WZ8xOUunOxYmFKRi8Jokg35MLGZTJEf-DQdA_440RghMvGZB1qzZkMgxC=w900-h510-n-nu-rw 2x\"\\n    /><source\\n      \\n      type=\"image/webp\"\\n      width=\"356\"\\n      height=\"200\"\\n      srcset=\"https://lh3.googleusercontent.com/-IJMoak_pZ1ttNhxD31f9LQ0KSF5h_NxIbG2J6Wv4w0BYztxo7C8g87WZ8xOUunOxYmFKRi8Jokg35MLGZTJEf-DQdA_440RghMvGZB1qzZkMgxC=w356-h200-n-nu-rw 1x, https://lh3.googleusercontent.com/-IJMoak_pZ1ttNhxD31f9LQ0KSF5h_NxIbG2J6Wv4w0BYztxo7C8g87WZ8xOUunOxYmFKRi8Jokg35MLGZTJEf-DQdA_440RghMvGZB1qzZkMgxC=w712-h400-n-nu-rw 2x\"\\n    />\\n      <img alt=\"\" height=\"225\" loading=\"lazy\" role=\"presentation\" src=\"https://lh3.googleusercontent.com/-IJMoak_pZ1ttNhxD31f9LQ0KSF5h_NxIbG2J6Wv4w0BYztxo7C8g87WZ8xOUunOxYmFKRi8Jokg35MLGZTJEf-DQdA_440RghMvGZB1qzZkMgxC=w400-h225-n-nu\" width=\"400\">\\n    </picture>\\n    \\n  \\n        <div class=\"glue-card__content\">\\n          \\n          <p class=\"glue-headline glue-headline--headline-5\">Imagen 3</p>\\n          <p class=\"glue-card__description\">Our highest quality text-to-image model.</p>\\n        </div>\\n        <div class=\"glue-card__cta glue-card__cta--arrow\">\\n          \\n          <span class=\"glue-button glue-button--low-emphasis\">\\n            <svg aria-hidden=\"true\"\\n       class=\"glue-icon glue-icon--arrow-forward\"\\n       role=\"presentation\">\\n    <use href=\"/static/glue-icons.949e143d99c8.svg#arrow-forward\"></use>\\n  </svg>\\n          </span>\\n        </div>\\n      </div>\\n      <gemini-border-gradient class=\"gemini-border card__gradient\">\\n    <div class=\"gemini-border__sub-border\"></div>\\n  </gemini-border-gradient>\\n    </a>\\n  </li><li data-gdm-filter-category=\"technologies\" class=\"glue-grid__col glue-grid__col--span-6\\n                            glue-grid__col--span-4-lg\\n                            glue-grid__col--span-4-xl\">\\n    <a class=\"glue-card card\"\\n       data-gtm-tag=\"card-selection\"\\n       href=\"https://blog.google/technology/ai/google-generative-ai-veo-imagen-3/?utm_source=gdm&amp;utm_medium=referral&amp;utm_campaign=io24\"\\n       rel=\"noopener\"\\n       target=\"_blank\">\\n      <div class=\"glue-card__inner\">\\n        \\n    \\n    \\n    <picture class=\"glue-card__asset\">\\n      <source\\n      media=\"(min-width: 1024px)\"\\n      type=\"image/webp\"\\n      width=\"400\"\\n      height=\"225\"\\n      srcset=\"https://lh3.googleusercontent.com/YPfZ3rUBlBJ5JJsGrE65a0F-lhwdLr9_qTvHekeDVNkt4tFdYo72v0OFgWX7MeCaBjgmacBAB6MuObvb4kiVmiWFwKSDCbVZUv9Xx9NdUEOiWoeBBw=w400-h225-n-nu-rw 1x, https://lh3.googleusercontent.com/YPfZ3rUBlBJ5JJsGrE65a0F-lhwdLr9_qTvHekeDVNkt4tFdYo72v0OFgWX7MeCaBjgmacBAB6MuObvb4kiVmiWFwKSDCbVZUv9Xx9NdUEOiWoeBBw=w800-h450-n-nu-rw 2x\"\\n    /><source\\n      media=\"(min-width: 600px)\"\\n      type=\"image/webp\"\\n      width=\"450\"\\n      height=\"255\"\\n      srcset=\"https://lh3.googleusercontent.com/YPfZ3rUBlBJ5JJsGrE65a0F-lhwdLr9_qTvHekeDVNkt4tFdYo72v0OFgWX7MeCaBjgmacBAB6MuObvb4kiVmiWFwKSDCbVZUv9Xx9NdUEOiWoeBBw=w450-h255-n-nu-rw 1x, https://lh3.googleusercontent.com/YPfZ3rUBlBJ5JJsGrE65a0F-lhwdLr9_qTvHekeDVNkt4tFdYo72v0OFgWX7MeCaBjgmacBAB6MuObvb4kiVmiWFwKSDCbVZUv9Xx9NdUEOiWoeBBw=w900-h510-n-nu-rw 2x\"\\n    /><source\\n      \\n      type=\"image/webp\"\\n      width=\"356\"\\n      height=\"200\"\\n      srcset=\"https://lh3.googleusercontent.com/YPfZ3rUBlBJ5JJsGrE65a0F-lhwdLr9_qTvHekeDVNkt4tFdYo72v0OFgWX7MeCaBjgmacBAB6MuObvb4kiVmiWFwKSDCbVZUv9Xx9NdUEOiWoeBBw=w356-h200-n-nu-rw 1x, https://lh3.googleusercontent.com/YPfZ3rUBlBJ5JJsGrE65a0F-lhwdLr9_qTvHekeDVNkt4tFdYo72v0OFgWX7MeCaBjgmacBAB6MuObvb4kiVmiWFwKSDCbVZUv9Xx9NdUEOiWoeBBw=w712-h400-n-nu-rw 2x\"\\n    />\\n      <img alt=\"\" height=\"225\" loading=\"lazy\" role=\"presentation\" src=\"https://lh3.googleusercontent.com/YPfZ3rUBlBJ5JJsGrE65a0F-lhwdLr9_qTvHekeDVNkt4tFdYo72v0OFgWX7MeCaBjgmacBAB6MuObvb4kiVmiWFwKSDCbVZUv9Xx9NdUEOiWoeBBw=w400-h225-n-nu\" width=\"400\">\\n    </picture>\\n    \\n  \\n        <div class=\"glue-card__content\">\\n          <p class=\"glue-label\">Technologies</p>\\n          <p class=\"glue-headline glue-headline--headline-5\">New generative media models and tools, built with and for creators</p>\\n          <p class=\"glue-card__description\">We’re introducing Veo, our most capable model for generating high-definition video, and Imagen 3, our highest quality text-to-image model. We’re also sharing new demo recordings created with our...</p>\\n        </div>\\n        <div class=\"glue-card__cta glue-card__cta--arrow glue-card__cta--multi-action\">\\n          \\n            <span class=\"glue-label card__publish-date\"><time datetime=\"2024-05-14\">14 May 2024</time></span>\\n          \\n          <span class=\"glue-button glue-button--low-emphasis\">\\n            <svg aria-hidden=\"true\"\\n       class=\"glue-icon\"\\n       role=\"presentation\">\\n    <use href=\"/static/glue-icons.949e143d99c8.svg#open-in-new\"></use>\\n  </svg>\\n          </span>\\n        </div>\\n      </div>\\n      <gemini-border-gradient class=\"gemini-border card__gradient\">\\n    <div class=\"gemini-border__sub-border\"></div>\\n  </gemini-border-gradient>\\n    </a>\\n  </li><li class=\"glue-grid__col glue-grid__col--span-6\\n                            glue-grid__col--span-4-lg\\n                            glue-grid__col--span-4-xl\">\\n    <a class=\"glue-card card\"\\n       data-gtm-tag=\"card-selection\"\\n       href=\"/technologies/synthid/\">\\n      <div class=\"glue-card__inner\">\\n        \\n    \\n    \\n    <picture class=\"glue-card__asset\">\\n      <source\\n      media=\"(min-width: 1024px)\"\\n      type=\"image/webp\"\\n      width=\"400\"\\n      height=\"225\"\\n      srcset=\"https://lh3.googleusercontent.com/CyPZ9uwh9jBTEAtAD2lMhl83jgwrsqVwyG0zMV83J0hLNDsFaYMsJ8m_cP1yJZTRwKNLh16cudFluLubrCu1a2iGZIbpKQNCtZkdL1CWydUL76lAiQ=w400-h225-n-nu-rw 1x, https://lh3.googleusercontent.com/CyPZ9uwh9jBTEAtAD2lMhl83jgwrsqVwyG0zMV83J0hLNDsFaYMsJ8m_cP1yJZTRwKNLh16cudFluLubrCu1a2iGZIbpKQNCtZkdL1CWydUL76lAiQ=w800-h450-n-nu-rw 2x\"\\n    /><source\\n      media=\"(min-width: 600px)\"\\n      type=\"image/webp\"\\n      width=\"450\"\\n      height=\"255\"\\n      srcset=\"https://lh3.googleusercontent.com/CyPZ9uwh9jBTEAtAD2lMhl83jgwrsqVwyG0zMV83J0hLNDsFaYMsJ8m_cP1yJZTRwKNLh16cudFluLubrCu1a2iGZIbpKQNCtZkdL1CWydUL76lAiQ=w450-h255-n-nu-rw 1x, https://lh3.googleusercontent.com/CyPZ9uwh9jBTEAtAD2lMhl83jgwrsqVwyG0zMV83J0hLNDsFaYMsJ8m_cP1yJZTRwKNLh16cudFluLubrCu1a2iGZIbpKQNCtZkdL1CWydUL76lAiQ=w900-h510-n-nu-rw 2x\"\\n    /><source\\n      \\n      type=\"image/webp\"\\n      width=\"356\"\\n      height=\"200\"\\n      srcset=\"https://lh3.googleusercontent.com/CyPZ9uwh9jBTEAtAD2lMhl83jgwrsqVwyG0zMV83J0hLNDsFaYMsJ8m_cP1yJZTRwKNLh16cudFluLubrCu1a2iGZIbpKQNCtZkdL1CWydUL76lAiQ=w356-h200-n-nu-rw 1x, https://lh3.googleusercontent.com/CyPZ9uwh9jBTEAtAD2lMhl83jgwrsqVwyG0zMV83J0hLNDsFaYMsJ8m_cP1yJZTRwKNLh16cudFluLubrCu1a2iGZIbpKQNCtZkdL1CWydUL76lAiQ=w712-h400-n-nu-rw 2x\"\\n    />\\n      <img alt=\"\" height=\"225\" loading=\"lazy\" role=\"presentation\" src=\"https://lh3.googleusercontent.com/CyPZ9uwh9jBTEAtAD2lMhl83jgwrsqVwyG0zMV83J0hLNDsFaYMsJ8m_cP1yJZTRwKNLh16cudFluLubrCu1a2iGZIbpKQNCtZkdL1CWydUL76lAiQ=w400-h225-n-nu\" width=\"400\">\\n    </picture>\\n    \\n  \\n        <div class=\"glue-card__content\">\\n          \\n          <p class=\"glue-headline glue-headline--headline-5\">SynthID</p>\\n          <p class=\"glue-card__description\">Robust and scalable tool for watermarking and identifying AI-generated images.</p>\\n        </div>\\n        <div class=\"glue-card__cta glue-card__cta--arrow\">\\n          \\n          <span class=\"glue-button glue-button--low-emphasis\">\\n            <svg aria-hidden=\"true\"\\n       class=\"glue-icon glue-icon--arrow-forward\"\\n       role=\"presentation\">\\n    <use href=\"/static/glue-icons.949e143d99c8.svg#arrow-forward\"></use>\\n  </svg>\\n          </span>\\n        </div>\\n      </div>\\n      <gemini-border-gradient class=\"gemini-border card__gradient\">\\n    <div class=\"gemini-border__sub-border\"></div>\\n  </gemini-border-gradient>\\n    </a>\\n  </li></ul>\\n      </div>\\n    </aside>\\n  \\n\\n            \\n          \\n            \\n            \\n              \\n              \\n\\n<div class=\"cross-linking glue-grid\">\\n  <div class=\"glue-grid__col glue-grid__col--span-4 glue-grid__col--span-12-md\">\\n    <h2 class=\"cross-linking__title glue-headline glue-headline--headline-3\" id=\"cross-linking-57785bed-a8d5-4a60-8e73-379a828611c5\">\\n      Explore our other teams and product areas\\n    </h2>\\n  </div>\\n\\n  <nav aria-labelledby=\"cross-linking-57785bed-a8d5-4a60-8e73-379a828611c5\" class=\"glue-grid__col glue-grid__col--span-8 glue-grid__col--span-12-md cross-linking__links\">\\n    <div class=\"card-list\">\\n    \\n\\n    <ul class=\"glue-cards glue-spacer-4-top glue-spacer-4-bottom glue-grid\">\\n      \\n        <li class=\"glue-grid__col glue-grid__col--span-12 glue-grid__col--span-12-md glue-grid__col--span-8-lg glue-grid__col--span-4-xl\">\\n          <a class=\"glue-card glue-card--list card-list--single\"\\n       href=\"https://ai.google\"\\n       rel=\"noopener\"\\n       target=\"_blank\">\\n      <div class=\"glue-card__inner\">\\n        <div class=\"glue-card__content\">\\n          <div class=\"glue-grid\">\\n            <p class=\"glue-headline glue-headline--headline-6 glue-grid__col glue-grid__col--span-5 glue-grid__col--span-12-md\">\\n              \\n    \\n    \\n    <picture class=\"card-list__icon\" aria-hidden=\"true\">\\n      <source\\n      \\n      type=\"image/webp\"\\n      width=\"24\"\\n      height=\"24\"\\n      srcset=\"https://lh3.googleusercontent.com/WxZ_GLt_PyebmygyOGsxp2k9cBj-PSdJc5Nf4QaGLnATswjtQSnPgZIRc0zjgEKOqY8xVkMuh-CmViEFVXS-tVLwXpcmteiWamuTsUyDsqjy0nNZ=w24-h24-n-nu-rw 1x, https://lh3.googleusercontent.com/WxZ_GLt_PyebmygyOGsxp2k9cBj-PSdJc5Nf4QaGLnATswjtQSnPgZIRc0zjgEKOqY8xVkMuh-CmViEFVXS-tVLwXpcmteiWamuTsUyDsqjy0nNZ=w48-h48-n-nu-rw 2x\"\\n    />\\n      <img alt=\"\" height=\"24\" loading=\"lazy\" role=\"presentation\" src=\"https://lh3.googleusercontent.com/WxZ_GLt_PyebmygyOGsxp2k9cBj-PSdJc5Nf4QaGLnATswjtQSnPgZIRc0zjgEKOqY8xVkMuh-CmViEFVXS-tVLwXpcmteiWamuTsUyDsqjy0nNZ=w24-h24-n-nu\" width=\"24\">\\n    </picture>\\n    \\n  Google AI</p>\\n            \\n            \\n          </div>\\n        </div>\\n        <div class=\"glue-card__cta glue-card__cta--arrow\">\\n          <span class=\"glue-button glue-button--low-emphasis\">\\n            <svg aria-hidden=\"true\"\\n       class=\"glue-icon glue-icon--arrow-forward\"\\n       role=\"presentation\">\\n    <use href=\"/static/glue-icons.949e143d99c8.svg#arrow-forward\"></use>\\n  </svg>\\n          </span>\\n        </div>\\n      </div>\\n      <gemini-border-gradient class=\"gemini-border card__gradient\">\\n    <div class=\"gemini-border__sub-border\"></div>\\n  </gemini-border-gradient>\\n    </a>\\n        </li>\\n      \\n        <li class=\"glue-grid__col glue-grid__col--span-12 glue-grid__col--span-12-md glue-grid__col--span-8-lg glue-grid__col--span-4-xl\">\\n          <a class=\"glue-card glue-card--list card-list--single\"\\n       href=\"https://research.google\"\\n       rel=\"noopener\"\\n       target=\"_blank\">\\n      <div class=\"glue-card__inner\">\\n        <div class=\"glue-card__content\">\\n          <div class=\"glue-grid\">\\n            <p class=\"glue-headline glue-headline--headline-6 glue-grid__col glue-grid__col--span-5 glue-grid__col--span-12-md\">\\n              \\n    \\n    \\n    <picture class=\"card-list__icon\" aria-hidden=\"true\">\\n      <source\\n      \\n      type=\"image/webp\"\\n      width=\"24\"\\n      height=\"24\"\\n      srcset=\"https://lh3.googleusercontent.com/HvuX0l6UzIGYiveqBCvDWLtnN8g3XO7YyjHNw5ZiskbFs8S77vyR5nc4lKPw64JHfYIuo7iQa6ISkqA2ClSOemDRcau61AViJhLiN4r5cG-R28ZXc7Q=w24-h24-n-nu-rw 1x, https://lh3.googleusercontent.com/HvuX0l6UzIGYiveqBCvDWLtnN8g3XO7YyjHNw5ZiskbFs8S77vyR5nc4lKPw64JHfYIuo7iQa6ISkqA2ClSOemDRcau61AViJhLiN4r5cG-R28ZXc7Q=w48-h48-n-nu-rw 2x\"\\n    />\\n      <img alt=\"\" height=\"24\" loading=\"lazy\" role=\"presentation\" src=\"https://lh3.googleusercontent.com/HvuX0l6UzIGYiveqBCvDWLtnN8g3XO7YyjHNw5ZiskbFs8S77vyR5nc4lKPw64JHfYIuo7iQa6ISkqA2ClSOemDRcau61AViJhLiN4r5cG-R28ZXc7Q=w24-h24-n-nu\" width=\"24\">\\n    </picture>\\n    \\n  Google Research</p>\\n            \\n            \\n          </div>\\n        </div>\\n        <div class=\"glue-card__cta glue-card__cta--arrow\">\\n          <span class=\"glue-button glue-button--low-emphasis\">\\n            <svg aria-hidden=\"true\"\\n       class=\"glue-icon glue-icon--arrow-forward\"\\n       role=\"presentation\">\\n    <use href=\"/static/glue-icons.949e143d99c8.svg#arrow-forward\"></use>\\n  </svg>\\n          </span>\\n        </div>\\n      </div>\\n      <gemini-border-gradient class=\"gemini-border card__gradient\">\\n    <div class=\"gemini-border__sub-border\"></div>\\n  </gemini-border-gradient>\\n    </a>\\n        </li>\\n      \\n        <li class=\"glue-grid__col glue-grid__col--span-12 glue-grid__col--span-12-md glue-grid__col--span-8-lg glue-grid__col--span-4-xl\">\\n          <a class=\"glue-card glue-card--list card-list--single\"\\n       href=\"https://cloud.google.com\"\\n       rel=\"noopener\"\\n       target=\"_blank\">\\n      <div class=\"glue-card__inner\">\\n        <div class=\"glue-card__content\">\\n          <div class=\"glue-grid\">\\n            <p class=\"glue-headline glue-headline--headline-6 glue-grid__col glue-grid__col--span-5 glue-grid__col--span-12-md\">\\n              \\n    \\n    \\n    <picture class=\"card-list__icon\" aria-hidden=\"true\">\\n      <source\\n      \\n      type=\"image/webp\"\\n      width=\"24\"\\n      height=\"24\"\\n      srcset=\"https://lh3.googleusercontent.com/dUglGoYw3VFKI6E2rc1QA-yV7KzQVn45G19fHpmESk_yoYAz9MJg21kWRQdZmOynWaAePurAcyzWS2WyN2S0c4DPWd4ECF3Yiv3UtPRyxgqBGHVxoX4=w24-h24-n-nu-rw 1x, https://lh3.googleusercontent.com/dUglGoYw3VFKI6E2rc1QA-yV7KzQVn45G19fHpmESk_yoYAz9MJg21kWRQdZmOynWaAePurAcyzWS2WyN2S0c4DPWd4ECF3Yiv3UtPRyxgqBGHVxoX4=w48-h48-n-nu-rw 2x\"\\n    />\\n      <img alt=\"\" height=\"24\" loading=\"lazy\" role=\"presentation\" src=\"https://lh3.googleusercontent.com/dUglGoYw3VFKI6E2rc1QA-yV7KzQVn45G19fHpmESk_yoYAz9MJg21kWRQdZmOynWaAePurAcyzWS2WyN2S0c4DPWd4ECF3Yiv3UtPRyxgqBGHVxoX4=w24-h24-n-nu\" width=\"24\">\\n    </picture>\\n    \\n  Google Cloud</p>\\n            \\n            \\n          </div>\\n        </div>\\n        <div class=\"glue-card__cta glue-card__cta--arrow\">\\n          <span class=\"glue-button glue-button--low-emphasis\">\\n            <svg aria-hidden=\"true\"\\n       class=\"glue-icon glue-icon--arrow-forward\"\\n       role=\"presentation\">\\n    <use href=\"/static/glue-icons.949e143d99c8.svg#arrow-forward\"></use>\\n  </svg>\\n          </span>\\n        </div>\\n      </div>\\n      <gemini-border-gradient class=\"gemini-border card__gradient\">\\n    <div class=\"gemini-border__sub-border\"></div>\\n  </gemini-border-gradient>\\n    </a>\\n        </li>\\n      \\n        <li class=\"glue-grid__col glue-grid__col--span-12 glue-grid__col--span-12-md glue-grid__col--span-8-lg glue-grid__col--span-4-xl\">\\n          <a class=\"glue-card glue-card--list card-list--single\"\\n       href=\"https://labs.google\"\\n       rel=\"noopener\"\\n       target=\"_blank\">\\n      <div class=\"glue-card__inner\">\\n        <div class=\"glue-card__content\">\\n          <div class=\"glue-grid\">\\n            <p class=\"glue-headline glue-headline--headline-6 glue-grid__col glue-grid__col--span-5 glue-grid__col--span-12-md\">\\n              \\n    \\n    \\n    <picture class=\"card-list__icon\" aria-hidden=\"true\">\\n      <source\\n      \\n      type=\"image/webp\"\\n      width=\"24\"\\n      height=\"24\"\\n      srcset=\"https://lh3.googleusercontent.com/TuY1hbTmfWU4khBVemv986-SIxyR7ojQr5LYoTiRsQ5lJBHq06qUS9h0bic_sHEE1zVdE4BtxUN8VTBah-ZJCigqsKHyJfeYQzKqF6pw5SAe-2-1=w24-h24-n-nu-rw 1x, https://lh3.googleusercontent.com/TuY1hbTmfWU4khBVemv986-SIxyR7ojQr5LYoTiRsQ5lJBHq06qUS9h0bic_sHEE1zVdE4BtxUN8VTBah-ZJCigqsKHyJfeYQzKqF6pw5SAe-2-1=w48-h48-n-nu-rw 2x\"\\n    />\\n      <img alt=\"\" height=\"24\" loading=\"lazy\" role=\"presentation\" src=\"https://lh3.googleusercontent.com/TuY1hbTmfWU4khBVemv986-SIxyR7ojQr5LYoTiRsQ5lJBHq06qUS9h0bic_sHEE1zVdE4BtxUN8VTBah-ZJCigqsKHyJfeYQzKqF6pw5SAe-2-1=w24-h24-n-nu\" width=\"24\">\\n    </picture>\\n    \\n  LABS.GOOGLE</p>\\n            \\n            \\n          </div>\\n        </div>\\n        <div class=\"glue-card__cta glue-card__cta--arrow\">\\n          <span class=\"glue-button glue-button--low-emphasis\">\\n            <svg aria-hidden=\"true\"\\n       class=\"glue-icon glue-icon--arrow-forward\"\\n       role=\"presentation\">\\n    <use href=\"/static/glue-icons.949e143d99c8.svg#arrow-forward\"></use>\\n  </svg>\\n          </span>\\n        </div>\\n      </div>\\n      <gemini-border-gradient class=\"gemini-border card__gradient\">\\n    <div class=\"gemini-border__sub-border\"></div>\\n  </gemini-border-gradient>\\n    </a>\\n        </li>\\n      \\n    </ul>\\n  </div>\\n  </nav>\\n</div>\\n            \\n          \\n        </div>\\n      \\n    \\n\\n    \\n  \\n  \\n\\n  \\n\\n  </article>\\n\\n    </main>\\n\\n    \\n  <footer class=\"gdm-footer glue-footer\" data-column-count=\"3\">\\n    <h2 class=\"glue-visually-hidden\">Footer links</h2>\\n\\n    <section class=\"glue-grid glue-footer__upper\">\\n      <section class=\"glue-grid__col glue-grid__col--span-6 glue-social\">\\n        <div class=\"glue-social__group\">\\n          <h3 class=\"glue-social__title glue-social__title--inline\">Follow us</h3>\\n          <ul class=\"glue-social__list\" role=\"list\">\\n            <li class=\"glue-social__item\">\\n              <a class=\"glue-social__link\" data-gtm-tag=\"footer-selection\" href=\"https://x.com/googledeepmind\" title=\"Follow us on X\" target=\"_blank\" rel=\"noopener\">\\n                <svg aria-hidden=\"true\"\\n       class=\"glue-icon glue-icon--24px glue-icon--social\"\\n       role=\"presentation\">\\n    <use href=\"/static/glue-icons.949e143d99c8.svg#x\"></use>\\n  </svg>\\n              </a>\\n            </li>\\n            <li class=\"glue-social__item\">\\n              <a class=\"glue-social__link\" data-gtm-tag=\"footer-selection\" href=\"https://www.instagram.com/googledeepmind\" title=\"Follow us on Instagram\" target=\"_blank\" rel=\"noopener\">\\n                <svg aria-hidden=\"true\"\\n       class=\"glue-icon glue-icon--24px glue-icon--social\"\\n       role=\"presentation\">\\n    <use href=\"/static/glue-icons.949e143d99c8.svg#instagram\"></use>\\n  </svg>\\n              </a>\\n            </li>\\n            <li class=\"glue-social__item\">\\n              <a class=\"glue-social__link\" data-gtm-tag=\"footer-selection\" href=\"https://www.linkedin.com/company/googledeepmind/\" title=\"Follow us on LinkedIn\" target=\"_blank\" rel=\"noopener\">\\n                <svg aria-hidden=\"true\"\\n       class=\"glue-icon glue-icon--24px glue-icon--social\"\\n       role=\"presentation\">\\n    <use href=\"/static/glue-icons.949e143d99c8.svg#post-linkedin\"></use>\\n  </svg>\\n              </a>\\n            </li>\\n            <li class=\"glue-social__item\">\\n              <a class=\"glue-social__link\" data-gtm-tag=\"footer-selection\" href=\"https://www.youtube.com/@google_deepmind\" title=\"Follow us on YouTube\" target=\"_blank\" rel=\"noopener\">\\n                <svg aria-hidden=\"true\"\\n       class=\"glue-icon glue-icon--24px glue-icon--social\"\\n       role=\"presentation\">\\n    <use href=\"/static/glue-icons.949e143d99c8.svg#video-youtube\"></use>\\n  </svg>\\n              </a>\\n            </li>\\n            <li class=\"glue-social__item\">\\n              <a class=\"glue-social__link\" data-gtm-tag=\"footer-selection\" href=\"https://github.com/google-deepmind\" title=\"Follow us on GitHub\" target=\"_blank\" rel=\"noopener\">\\n                <svg aria-hidden=\"true\"\\n       class=\"glue-icon glue-icon--24px glue-icon--social\"\\n       role=\"presentation\">\\n    <use href=\"/static/icons/icons.1791cdcf6031.svg#github\"></use>\\n  </svg>\\n              </a>\\n            </li>\\n          </ul>\\n        </div>\\n      </section>\\n    </section>\\n\\n    \\n      <div class=\"glue-footer__site-links\">\\n        <div class=\"glue-footer__site-links-grid glue-footer__site-links-grid--3-col\">\\n          \\n            \\n              <div class=\"glue-footer__site-links-column\">\\n                <h3 class=\"glue-footer__site-links-header\">\\n                  <span class=\"glue-footer__site-links-header-button\" id=\"column-1-toggle\">\\n                    <span class=\"glue-footer__site-links-header-text\">About</span>\\n                    <svg aria-hidden=\"true\"\\n       class=\"glue-icon glue-icon--footer glue-expansion-panel__header-arrow\"\\n       role=\"presentation\">\\n    <use href=\"/static/glue-icons.949e143d99c8.svg#expand-more\"></use>\\n  </svg>\\n                  </span>\\n                </h3>\\n                <div class=\"glue-footer__site-links-list\" id=\"column-1-content\">\\n                  <ul class=\"glue-no-bullet\" role=\"list\">\\n                    \\n                      <li class=\"glue-footer__site-links-list-item\">\\n    <a class=\"glue-footer__link\" data-gtm-tag=\"footer-selection\" href=\"/about/\">About Google DeepMind</a>\\n  </li>\\n                    \\n                      <li class=\"glue-footer__site-links-list-item\">\\n    <a class=\"glue-footer__link\" data-gtm-tag=\"footer-selection\" href=\"/about/responsibility-safety/\">Responsibility &amp; Safety</a>\\n  </li>\\n                    \\n                      <li class=\"glue-footer__site-links-list-item\">\\n    <a class=\"glue-footer__link\" data-gtm-tag=\"footer-selection\" href=\"/about/education/\">Education</a>\\n  </li>\\n                    \\n                      <li class=\"glue-footer__site-links-list-item\">\\n    <a class=\"glue-footer__link\" data-gtm-tag=\"footer-selection\" href=\"/about/careers/\">Careers</a>\\n  </li>\\n                    \\n                      <li class=\"glue-footer__site-links-list-item\">\\n    <a class=\"glue-footer__link\" data-gtm-tag=\"footer-selection\" href=\"/about/press/\">Press</a>\\n  </li>\\n                    \\n                  </ul>\\n                </div>\\n              </div>\\n            \\n          \\n            \\n              <div class=\"glue-footer__site-links-column\">\\n                <h3 class=\"glue-footer__site-links-header\">\\n                  <span class=\"glue-footer__site-links-header-button\" id=\"column-2-toggle\">\\n                    <span class=\"glue-footer__site-links-header-text\">Learn more</span>\\n                    <svg aria-hidden=\"true\"\\n       class=\"glue-icon glue-icon--footer glue-expansion-panel__header-arrow\"\\n       role=\"presentation\">\\n    <use href=\"/static/glue-icons.949e143d99c8.svg#expand-more\"></use>\\n  </svg>\\n                  </span>\\n                </h3>\\n                <div class=\"glue-footer__site-links-list\" id=\"column-2-content\">\\n                  <ul class=\"glue-no-bullet\" role=\"list\">\\n                    \\n                      <li class=\"glue-footer__site-links-list-item\">\\n    <a class=\"glue-footer__link\" data-gtm-tag=\"footer-selection\" href=\"/research/\">Research</a>\\n  </li>\\n                    \\n                      <li class=\"glue-footer__site-links-list-item\">\\n    <a class=\"glue-footer__link\" data-gtm-tag=\"footer-selection\" href=\"/technologies/\">Technologies</a>\\n  </li>\\n                    \\n                      <li class=\"glue-footer__site-links-list-item\">\\n    <a class=\"glue-footer__link\" data-gtm-tag=\"footer-selection\" href=\"/impact/\">Impact</a>\\n  </li>\\n                    \\n                      <li class=\"glue-footer__site-links-list-item\">\\n    <a class=\"glue-footer__link\" data-gtm-tag=\"footer-selection\" href=\"/discover/\">Discover</a>\\n  </li>\\n                    \\n                  </ul>\\n                </div>\\n              </div>\\n            \\n          \\n            \\n              <div class=\"glue-footer__site-links-column\">\\n                \\n                  <h3 class=\"glue-footer__site-links-header gdm-footer__form-title\">\\n                    Sign up for updates on our latest innovations\\n                  </h3>\\n                \\n                <form action=\"https://services.google.com/fb/submissions/deepmindgoogle/\"\\n        class=\"gdm-sign-up gdm-footer__form\"\\n        data-gdm-gtm-method=\"Footer\"\\n        method=\"post\">\\n    <div class=\"glue-form__element\">\\n      <label\\n          class=\"mdc-text-field mdc-text-field--outlined glue-text-field mdc-text-field--with-leading-icon mdc-text-field--no-label\"\\n          id=\"footer-newsletter-3-text-field\"\\n          data-mdc-auto-init=\"MDCTextField\">\\n        <span class=\"gdm-sign-up__label\" id=\"footer-newsletter-3-label\">Email address</span>\\n        <svg aria-hidden=\"true\"\\n       class=\"glue-icon material-icons mdc-text-field__icon mdc-text-field__icon--leading\"\\n       role=\"presentation\">\\n    <use href=\"/static/glue-icons.949e143d99c8.svg#email\"></use>\\n  </svg>\\n        <input\\n          autocomplete=\"email\"\\n          class=\"mdc-text-field__input\"\\n          name=\"EmailAddress\"\\n          type=\"email\"\\n          aria-controls=\"footer-newsletter-3-validation, footer-newsletter-3-response\"\\n          aria-labelledby=\"footer-newsletter-3-label\"\\n          maxlength=\"320\"\\n          placeholder=\"Email address\">\\n        <span class=\"mdc-notched-outline\">\\n          <span class=\"mdc-notched-outline__leading\"></span>\\n          <span class=\"mdc-notched-outline__trailing\"></span>\\n        </span>\\n      </label>\\n      <div class=\"mdc-text-field-helper-line\">\\n        <div class=\"mdc-text-field-helper-text mdc-text-field-helper-text--validation-msg\" id=\"footer-newsletter-3-validation\" aria-hidden=\"true\">Please enter a valid email (e.g., &#34;name@example.com&#34;)</div>\\n        <div aria-hidden=\"true\"\\n             class=\"mdc-text-field-helper-text mdc-text-field-helper-text--persistent gdm-sign-up__response\"\\n             data-error=\"Something went wrong, please try again.\"\\n             data-invalid=\"Please enter a valid email (e.g., &#34;name@example.com&#34;)\"\\n             data-success=\"Thank you for signing up\"\\n             id=\"footer-newsletter-3-response\"\\n             role=\"alert\">\\n        </div>\\n      </div>\\n    </div>\\n    <input type=\"hidden\" name=\"LanguagePreference\" value=\"en\"><input data-gdm-optin=\"\" type=\"hidden\" name=\"DeepmindGcmNewsletter\" value=\"unconfirmed\"><div class=\"gdm-sign-up__disclaimer\"><p data-block-key=\"hunvr\">I accept Google\\'s Terms and Conditions and acknowledge that my information will be used in accordance with <a href=\"https://policies.google.com/privacy\" rel=\"noopener\" target=\"_blank\">Google\\'s Privacy Policy</a>.</p></div><button type=\"submit\" class=\"glue-button glue-button--tonal gdm-sign-up__submit\">Sign up</button></form>\\n              </div>\\n            \\n          \\n        </div>\\n      </div>\\n    \\n\\n    <section class=\"glue-footer__global\">\\n      <div class=\"glue-footer__logo\">\\n        <a data-gtm-tag=\"footer-selection\" href=\"https://www.google.com\" title=\"Google\" target=\"_blank\" rel=\"noopener\">\\n          <svg role=\"presentation\" aria-hidden=\"true\" class=\"glue-footer__logo-img\">\\n            <use href=\"/static/glue-icons.949e143d99c8.svg#google-solid-logo\"></use>\\n          </svg>\\n        </a>\\n      </div>\\n      <ul class=\"glue-footer__global-links glue-no-bullet\" role=\"list\">\\n        <li class=\"glue-footer__global-links-list-item\">\\n    <a class=\"glue-footer__link\" data-gtm-tag=\"footer-selection\" href=\"https://about.google/\" rel=\"noopener\" target=\"_blank\">About Google</a>\\n  </li>\\n        <li class=\"glue-footer__global-links-list-item\">\\n    <a class=\"glue-footer__link\" data-gtm-tag=\"footer-selection\" href=\"https://about.google/products/\" rel=\"noopener\" target=\"_blank\">Google products</a>\\n  </li>\\n        <li class=\"glue-footer__global-links-list-item\">\\n    <a class=\"glue-footer__link\" data-gtm-tag=\"footer-selection\" href=\"https://policies.google.com/privacy\" rel=\"noopener\" target=\"_blank\">Privacy</a>\\n  </li>\\n        <li class=\"glue-footer__global-links-list-item\">\\n    <a class=\"glue-footer__link\" data-gtm-tag=\"footer-selection\" href=\"https://policies.google.com/terms\" rel=\"noopener\" target=\"_blank\">Terms</a>\\n  </li>\\n\\n        <li aria-hidden=\"true\" class=\"glue-footer__global-links-list-item\">\\n          <button aria-hidden=\"true\" class=\"glue-footer__link glue-cookie-notification-bar-control\">Cookies management controls</button>\\n        </li>\\n      </ul>\\n    </section>\\n  </footer>\\n\\n\\n    \\n      <div class=\"gdm-modal-container\">\\n    <div class=\"gdm-modal-container__backdrop\"></div>\\n    <div class=\"gdm-modal-container__loader\">\\n      <svg\\n  class=\"loader-spinner\"\\n  width=\"24px\"\\n  viewBox=\"0 0 66 66\"\\n  xmlns=\"http://www.w3.org/2000/svg\"\\n>\\n  <circle class=\"loader-spinner__path\" fill=\"none\" stroke-width=\"7\" cx=\"33\" cy=\"33\" r=\"25\"></circle>\\n</svg>\\n    </div>\\n    \\n  </div>\\n    \\n\\n    <script>\\n      window.dataLayer = window.dataLayer || [];\\n      function gtag(){dataLayer.push(arguments);}\\n      function glueCookieNotificationBarLoaded(){(function(w,d,s,l,i){w[l]=w[l]||[];w[l].push({\\'gtm.start\\':new Date().getTime(),event:\\'gtm.js\\'});var f=d.getElementsByTagName(s)[0],j=d.createElement(s),dl=l!=\\'dataLayer\\'?\\'&l=\\'+l:\\'\\';j.async=true;j.src=\\'https://www.googletagmanager.com/gtm.js?id=\\'+i+dl;f.parentNode.insertBefore(j,f);})(window,document,\\'script\\',\\'dataLayer\\',\\'GTM-NRDHXJGK\\');}\\n      function setScrollbarWidth() {\\n        const element = document.createElement(\\'div\\');\\n        element.style = \"overflow:scroll;position:absolute;visibility:hidden;\";\\n        document.body.appendChild(element);\\n        const width = element.getBoundingClientRect().width;\\n        document.documentElement.style.setProperty(\\'--scrollbar-width\\', `${width}px`);\\n        element.remove();\\n      }\\n\\n      window.addEventListener(\\'resize\\', setScrollbarWidth);\\n      setScrollbarWidth();\\n    </script>\\n    <script src=\"https://www.gstatic.com/glue/cookienotificationbar/cookienotificationbar.min.js\" data-glue-cookie-notification-bar-category=\"2A\"></script>\\n    <script src=\"https://www.youtube.com/player_api\"></script>\\n    <script src=\"/static/main.min.32aba10a0ee7.js\"></script>\\n    \\n  \\n  \\n\\n  \\n\\n  </body>\\n</html>'"
            ],
            "application/vnd.google.colaboratory.intrinsic+json": {
              "type": "string"
            }
          },
          "metadata": {},
          "execution_count": 27
        }
      ],
      "source": [
        "web_documents = SimpleWebPageReader().load_data(\n",
        "    [\"https://deepmind.google/technologies/veo/\"]\n",
        ")\n",
        "\n",
        "# Extract the content from the website data document\n",
        "html_content = web_documents[0].text\n",
        "html_content"
      ]
    },
    {
      "cell_type": "markdown",
      "metadata": {
        "id": "TamoAP7ckyvB"
      },
      "source": [
        "You can use variety of HTML parsers to extract the required text from the html content.\n",
        "\n",
        "In this example, you'll use Python's `BeautifulSoup` library to parse the website data. After processing, the extracted text should be converted back to LlamaIndex's `Document` format."
      ]
    },
    {
      "cell_type": "code",
      "execution_count": 28,
      "metadata": {
        "id": "-90BtEGikzt1"
      },
      "outputs": [],
      "source": [
        "# Parse the data.\n",
        "soup = BeautifulSoup(html_content, 'html.parser')\n",
        "p_tags = soup.findAll('p')\n",
        "text_content = \"\"\n",
        "for each in p_tags:\n",
        "    text_content += each.text + \"\\n\"\n",
        "\n",
        "# Convert back to Document format\n",
        "documents = [Document(text=text_content)]"
      ]
    },
    {
      "cell_type": "markdown",
      "metadata": {
        "id": "sq-MBiAgw1ba"
      },
      "source": [
        "### Initialize Gemini's embedding model\n",
        "\n",
        "To create the embeddings from the website data, you'll use Gemini's embedding model, **embedding-001** which supports creating text embeddings.\n",
        "\n",
        "To use this embedding model, you have to import `GeminiEmbedding` from LlamaIndex. To know more about the embedding model, read Google AI's [language documentation](https://ai.google.dev/models/gemini)."
      ]
    },
    {
      "cell_type": "code",
      "execution_count": 29,
      "metadata": {
        "id": "Ezv0-TIiFkxv"
      },
      "outputs": [],
      "source": [
        "from llama_index.embeddings.gemini import GeminiEmbedding\n",
        "\n",
        "gemini_embedding_model = GeminiEmbedding(model_name=\"models/embedding-001\")"
      ]
    },
    {
      "cell_type": "markdown",
      "metadata": {
        "id": "vJB_fdQmoq_6"
      },
      "source": [
        "### Initialize Gemini\n",
        "\n",
        "You must import `Gemini` from LlamaIndex to initialize your model.\n",
        " In this example, you will use **gemini-1.5-flash-latest**, as it supports text summarization. To know more about the text model, read Google AI's [model documentation](https://ai.google.dev/models/gemini).\n",
        "\n",
        "You can configure the model parameters such as ***temperature*** or ***top_p***,  using the  ***generation_config*** parameter when initializing the `Gemini` LLM.  To learn more about the model parameters and their uses, read Google AI's [concepts guide](https://ai.google.dev/docs/concepts#model_parameters)."
      ]
    },
    {
      "cell_type": "code",
      "execution_count": 30,
      "metadata": {
        "id": "Gyq6YIh97quL"
      },
      "outputs": [],
      "source": [
        "from llama_index.llms.gemini import Gemini\n",
        "\n",
        "# To configure model parameters use the `generation_config` parameter.\n",
        "# eg. generation_config = {\"temperature\": 0.7, \"topP\": 0.8, \"topK\": 40}\n",
        "# If you only want to set a custom temperature for the model use the\n",
        "# \"temperature\" parameter directly.\n",
        "\n",
        "llm = Gemini(model_name=\"models/gemini-1.5-flash-latest\")"
      ]
    },
    {
      "cell_type": "markdown",
      "metadata": {
        "id": "uNLuJ-TY4utI"
      },
      "source": [
        "### Store the data using Chroma\n",
        "\n",
        " Next, you'll store the embeddings of the website data in Chroma's vector store using LlamaIndex.\n",
        "\n",
        " First, you have to initiate a Python client in `chromadb`. Since the plan is to save the data to the disk, you will use the `PersistentClient`. You can read more about the different clients in Chroma in the [client reference guide](https://docs.trychroma.com/reference/Client).\n",
        "\n",
        "After initializing the client, you have to create a Chroma collection. You'll then initialize the `ChromaVectorStore` class in LlamaIndex using the collection created in the previous step.\n",
        "\n",
        "Next, you have to set `Settings` and create storage contexts for the vector store.\n",
        "\n",
        "`Settings` is a collection of commonly used resources that are utilized during the indexing and querying phase in a LlamaIndex pipeline. You can specify the LLM, Embedding model, etc that will be used to create the application in the `Settings`. To know more about `Settings`, read the [module guide for Settings](https://docs.llamaindex.ai/en/stable/module_guides/supporting_modules/settings.html).\n",
        "\n",
        "`StorageContext` is an abstraction offered by LlamaIndex around different types of storage. To know more about storage context, read the [storage context API guide](https://docs.llamaindex.ai/en/stable/api_reference/storage.html).\n",
        "\n",
        "The final step is to load the documents and build an index over them. LlamaIndex offers several indices that help in retrieving relevant context for a user query. Here you'll use the `VectorStoreIndex` since the website embeddings have to be stored in a vector store.\n",
        "\n",
        "To create the index you have to pass the storage context along with the documents to the `from_documents` function of `VectorStoreIndex`.\n",
        "The `VectorStoreIndex` uses the embedding model specified in the `Settings` to create embedding vectors from the documents and stores these vectors in the vector store specified in the storage context. To know more about the\n",
        "`VectorStoreIndex` you can read the [Using VectorStoreIndex guide](https://docs.llamaindex.ai/en/stable/module_guides/indexing/vector_store_index.html)."
      ]
    },
    {
      "cell_type": "code",
      "execution_count": 31,
      "metadata": {
        "id": "1Ohzkf-LJyHO"
      },
      "outputs": [],
      "source": [
        "# Create a client and a new collection\n",
        "client = chromadb.PersistentClient(path=\"./chroma_db\")\n",
        "chroma_collection = client.get_or_create_collection(\"quickstart\")\n",
        "\n",
        "# Create a vector store\n",
        "vector_store = ChromaVectorStore(chroma_collection=chroma_collection)\n",
        "\n",
        "# Create a storage context\n",
        "storage_context = StorageContext.from_defaults(vector_store=vector_store)\n",
        "\n",
        "# Set Global settings\n",
        "Settings.llm = llm\n",
        "Settings.embed_model = gemini_embedding_model\n",
        "# Create an index from the documents and save it to the disk.\n",
        "index = VectorStoreIndex.from_documents(\n",
        "    documents, storage_context=storage_context\n",
        ")"
      ]
    },
    {
      "cell_type": "markdown",
      "metadata": {
        "id": "ir5pUZpNu3ly"
      },
      "source": [
        "### Create a retriever using Chroma\n",
        "\n",
        "You'll now create a retriever that can retrieve data embeddings from the newly created Chroma vector store.\n",
        "\n",
        "First, initialize the `PersistentClient` with the same path you specified while creating the Chroma vector store. You'll then retrieve the collection `\"quickstart\"` you created previously from Chroma. You can use this collection to initialize the `ChromaVectorStore` in which you store the embeddings of the website data. You can then use the `from_vector_store` function of `VectorStoreIndex` to load the index."
      ]
    },
    {
      "cell_type": "code",
      "execution_count": 32,
      "metadata": {
        "id": "FlAPuVLt4mBr",
        "outputId": "ebf1a3e8-2a9c-40fc-9041-db4b9289e4e0",
        "colab": {
          "base_uri": "https://localhost:8080/",
          "height": 72
        }
      },
      "outputs": [
        {
          "output_type": "stream",
          "name": "stdout",
          "text": [
            "This document acknowledges the contributions of numerous individuals in developing and refining key components of a project. It highlights the release of two new technologies: Veo, a model for generating high-definition video, and Imagen 3, a text-to-image model. It also mentions SynthID, a tool for watermarking and identifying AI-generated images. \n",
            "\n"
          ]
        }
      ],
      "source": [
        "# Load from disk\n",
        "load_client = chromadb.PersistentClient(path=\"./chroma_db\")\n",
        "\n",
        "# Fetch the collection\n",
        "chroma_collection = load_client.get_collection(\"quickstart\")\n",
        "\n",
        "# Fetch the vector store\n",
        "vector_store = ChromaVectorStore(chroma_collection=chroma_collection)\n",
        "\n",
        "# Get the index from the vector store\n",
        "index = VectorStoreIndex.from_vector_store(\n",
        "    vector_store\n",
        ")\n",
        "\n",
        "# Check if the retriever is working by trying to fetch the relevant docs related\n",
        "# to the phrase 'Summarize the content'.\n",
        "# If the length is greater than zero, it means that the retriever is\n",
        "# functioning well.\n",
        "# You can ask questions about your data using a generic interface called\n",
        "# a query engine. You have to use the `as_query_engine` function of the\n",
        "# index to create a query engine and use the `query` function of query engine\n",
        "# to inquire the index.\n",
        "test_query_engine = index.as_query_engine()\n",
        "response = test_query_engine.query(\"Summarize the content\")\n",
        "print(response)"
      ]
    },
    {
      "cell_type": "markdown",
      "metadata": {
        "id": "10heqY7ilEsi"
      },
      "source": [
        "## 2. Generator\n",
        "\n",
        "The Generator prompts the LLM for an answer when the user asks a question. The retriever you created in the previous stage from the Chroma vector store will be used to pass relevant embeddings from the website data to the LLM to provide more context to the user's query.\n",
        "\n",
        "You'll perform the following steps in this stage:\n",
        "\n",
        "1. Create a prompt for answering any question using LlamaIndex.\n",
        "    \n",
        "2. Use a query engine to ask a question and prompt the model for an answer."
      ]
    },
    {
      "cell_type": "markdown",
      "metadata": {
        "id": "iCLTx4zSxSll"
      },
      "source": [
        "### Create prompt templates\n",
        "\n",
        "You'll use LlamaIndex's [PromptTemplate](https://docs.llamaindex.ai/en/stable/module_guides/models/prompts.html) to generate prompts to the LLM for answering questions.\n",
        "\n",
        "In the `llm_prompt`, the variable `query_str` will be replaced later by the input question, and the variable `context_str` will be replaced by the relevant text from the website retrieved from the Chroma vector store."
      ]
    },
    {
      "cell_type": "code",
      "execution_count": 33,
      "metadata": {
        "id": "V96dQi1uOzfr"
      },
      "outputs": [],
      "source": [
        "from llama_index.core import PromptTemplate\n",
        "\n",
        "template = (\n",
        "    \"\"\" You are an assistant for question-answering tasks.\n",
        "Use the following context to answer the question.\n",
        "If you don't know the answer, just say that you don't know.\n",
        "Use five sentences maximum and keep the answer concise.\\n\n",
        "Question: {query_str} \\nContext: {context_str} \\nAnswer:\"\"\"\n",
        ")\n",
        "llm_prompt = PromptTemplate(template)"
      ]
    },
    {
      "cell_type": "markdown",
      "metadata": {
        "id": "-aE0YWHT7bal"
      },
      "source": [
        "### Prompt the model using Query Engine\n",
        "\n",
        "You will use the `as_query_engine` function of the `VectorStoreIndex` to create a query engine from the index using the `llm_prompt` passed as the value for the `text_qa_template` argument. You can then use the `query` function of the query engine to prompt the LLM. To know more about custom prompting in LlamaIndex, read LlamaIndex's [prompts usage pattern documentation](https://docs.llamaindex.ai/en/stable/module_guides/models/prompts/usage_pattern.html#defining-a-custom-prompt)."
      ]
    },
    {
      "cell_type": "code",
      "execution_count": 35,
      "metadata": {
        "id": "klNUEBbP3xbr",
        "outputId": "7a7e1b0d-6d8e-40d7-e7f0-e63366d8157b",
        "colab": {
          "base_uri": "https://localhost:8080/",
          "height": 89
        }
      },
      "outputs": [
        {
          "output_type": "stream",
          "name": "stdout",
          "text": [
            "Enter your question : what is veo?\n",
            "Veo is Google's most advanced video generation model. It can create high-quality, minute-long videos in various cinematic styles, accurately capturing the nuances of text prompts. Veo allows for creative control, understanding prompts for cinematic effects like time lapses and aerial shots. It aims to make video production accessible to everyone, from filmmakers to educators.  Veo is currently being tested in VideoFX, a new experimental tool at labs.google, and will be integrated into YouTube Shorts and other products in the future. \n",
            "\n"
          ]
        }
      ],
      "source": [
        "# Query data from the persisted index\n",
        "query_engine = index.as_query_engine(text_qa_template=llm_prompt)\n",
        "prompt = input(\"Enter your question : \")\n",
        "response = query_engine.query(prompt)\n",
        "print(response)"
      ]
    },
    {
      "cell_type": "markdown",
      "source": [
        "# **Langchain vs LlamaIndex**\n",
        "\n",
        "LangChain and LlamaIndex (formerly GPT Index) are two libraries designed to extend the capabilities of large language models (LLMs) like GPT-4 by integrating them with external data sources and creating advanced workflows. However, they have different focuses and feature sets, making each more suitable for specific use cases.\n",
        "\n"
      ],
      "metadata": {
        "id": "taWW7TvDrVkJ"
      }
    },
    {
      "cell_type": "markdown",
      "source": [
        "### 1. **Primary Focus**\n",
        "   - **LangChain**: Primarily focuses on chaining different components, such as language models, APIs, document retrieval systems, and tools, to build end-to-end workflows. It's designed to handle complex multi-step operations and workflows involving LLMs.\n",
        "   - **LlamaIndex (GPT Index)**: Specializes in connecting LLMs to external data sources by indexing documents, making it easier to search, retrieve, and query information from large document sets. It focuses on enabling LLMs to interact with large-scale document retrieval systems.\n",
        "\n"
      ],
      "metadata": {
        "id": "-kKr3v7Erf7t"
      }
    },
    {
      "cell_type": "markdown",
      "source": [
        "### 2. **Core Functionality**\n",
        "   - **LangChain**:\n",
        "     - Chain multiple operations together (e.g., prompt generation, API calls, document retrieval).\n",
        "     - Strong integration with external tools (APIs, databases, etc.).\n",
        "     - Advanced agents that decide which tools or APIs to use based on user input.\n",
        "     - Memory capabilities to maintain the context of conversations.\n",
        "   - **LlamaIndex**:\n",
        "     - Builds, stores, and manages indices for documents.\n",
        "     - Optimized for searching and retrieving relevant documents to feed into LLMs for tasks like question-answering and summarization.\n",
        "     - Provides more specialized tools for document chunking, vector embeddings, and efficient retrieval over large datasets.\n",
        "\n"
      ],
      "metadata": {
        "id": "DIGj8sBmrlcH"
      }
    },
    {
      "cell_type": "markdown",
      "source": [
        "### 3. **Use Cases**\n",
        "   - **LangChain**:\n",
        "     - **Conversational agents**: Building agents that can interact with users, retrieve information, and take actions based on inputs.\n",
        "     - **API integration**: Connecting LLMs to external APIs for dynamic task execution.\n",
        "     - **Multi-step workflows**: Creating processes that involve multiple steps, like retrieving data, performing calculations, and making decisions based on output.\n",
        "     - **Tool use**: Agents that decide when to use specific tools like databases, web scrapers, or calculators.\n",
        "   - **LlamaIndex**:\n",
        "     - **Retrieval-Augmented Generation (RAG)**: Enhancing LLM outputs by pulling relevant information from large external datasets.\n",
        "     - **Question-answering over documents**: When a user wants to ask a model questions about specific documents or knowledge bases.\n",
        "     - **Text-based applications**: Indexing and querying large sets of unstructured text data, like articles, research papers, or PDFs.\n",
        "     - **Efficient document retrieval**: Optimizing the way data is chunked, embedded, and queried to scale document processing.\n",
        "\n"
      ],
      "metadata": {
        "id": "X8nds2FwropZ"
      }
    },
    {
      "cell_type": "markdown",
      "source": [
        "### 4. **Data Sources and Retrieval**\n",
        "   - **LangChain**:\n",
        "     - Integrates with external APIs, databases, and file systems.\n",
        "     - Allows flexible retrieval systems but not specifically optimized for large document retrieval out of the box.\n",
        "   - **LlamaIndex**:\n",
        "     - Designed specifically for document retrieval and indexing.\n",
        "     - Offers vector-based search, chunking, and embedding capabilities to efficiently store and retrieve large datasets of text.\n",
        "\n"
      ],
      "metadata": {
        "id": "pFZ1GJJzrr1f"
      }
    },
    {
      "cell_type": "markdown",
      "source": [
        "### 5. **Complexity**\n",
        "   - **LangChain**: More general-purpose and flexible, allowing for complex, multi-step workflows. The complexity comes from orchestrating various components (LLMs, APIs, memory, and tools).\n",
        "   - **LlamaIndex**: Simpler in concept but more specialized. It's easier to use for document-based tasks like retrieval and question-answering but doesn’t have the same level of general workflow capabilities as LangChain.\n",
        "\n"
      ],
      "metadata": {
        "id": "LGeGNLmirvGl"
      }
    },
    {
      "cell_type": "markdown",
      "source": [
        "### 6. **Memory Management**\n",
        "   - **LangChain**: Offers built-in memory capabilities that allow models to retain context across conversations, useful for interactive applications where continuity is required.\n",
        "   - **LlamaIndex**: Focuses on document indexing and retrieval; memory in the sense of keeping track of past interactions isn't a core focus.\n",
        "\n"
      ],
      "metadata": {
        "id": "iiE3AceLryXn"
      }
    },
    {
      "cell_type": "markdown",
      "source": [
        "### 7. **Integration**\n",
        "   - **LangChain**: Can integrate with LlamaIndex for document retrieval. LangChain handles the orchestration and agents, while LlamaIndex can be used to manage document indexing and search within the LangChain pipeline.\n",
        "   - **LlamaIndex**: Can be used as a backend for LangChain’s document retrieval tasks. It’s more focused on data and document processing rather than full multi-component pipelines.\n",
        "\n"
      ],
      "metadata": {
        "id": "XbrwiALhr01Z"
      }
    },
    {
      "cell_type": "markdown",
      "source": [
        "### Comparison Summary\n",
        "\n",
        "| Feature               | **LangChain**                                                                                          | **LlamaIndex**                                                                                   |\n",
        "|-----------------------|--------------------------------------------------------------------------------------------------------|--------------------------------------------------------------------------------------------------|\n",
        "| **Focus**              | Multi-step workflows and integration of LLMs with external tools and APIs.                             | Optimized for indexing, retrieving, and querying large datasets.                                 |\n",
        "| **Key Components**     | Chains, agents, prompt templates, memory, tool integration.                                            | Document indexing, chunking, embedding, efficient retrieval.                                     |\n",
        "| **Use Cases**          | Conversational agents, tool usage, multi-step workflows, API integrations, interactive applications.    | Retrieval-augmented generation (RAG), question-answering over documents, text data indexing.      |\n",
        "| **Retrieval**          | Supports retrieval but more general; connects to external sources via APIs or databases.               | Specializes in document retrieval, with built-in support for embeddings, chunking, and vector search. |\n",
        "| **Complexity**         | More flexible and powerful but requires managing multiple components and workflows.                    | Easier to use for document-based tasks but not as flexible for complex workflows.                 |\n",
        "| **Memory**             | Built-in memory for context retention across interactions.                                             | Focused on document retrieval, not conversational memory.                                        |\n",
        "| **Integration**        | Can use LlamaIndex for document retrieval tasks as part of a broader workflow.                         | Can be used as a backend for LangChain’s document retrieval.                                      |\n",
        "\n"
      ],
      "metadata": {
        "id": "lcSYnzhpr3fK"
      }
    },
    {
      "cell_type": "markdown",
      "source": [
        "### Which One to Choose?\n",
        "- **Choose LangChain** if:\n",
        "  - You need to build complex, multi-step workflows involving LLMs and external tools.\n",
        "  - You want to build conversational agents that can interact with users and perform tasks dynamically.\n",
        "  - Your application requires memory to retain context across interactions.\n",
        "  \n",
        "- **Choose LlamaIndex** if:\n",
        "  - You’re focused on indexing and querying large document sets.\n",
        "  - You need efficient retrieval of data from external sources for tasks like question-answering or summarization.\n",
        "  - You are building a system that requires RAG (retrieval-augmented generation) with large knowledge bases.\n",
        "\n",
        "In many cases, the two can complement each other, where LangChain handles the logic and LlamaIndex manages document retrieval."
      ],
      "metadata": {
        "id": "VVSGGGCUr6WA"
      }
    },
    {
      "cell_type": "code",
      "execution_count": null,
      "metadata": {
        "id": "AZhUsLRtUqtj"
      },
      "outputs": [],
      "source": []
    }
  ]
}