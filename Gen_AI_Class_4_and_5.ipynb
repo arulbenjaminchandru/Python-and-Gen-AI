{
  "nbformat": 4,
  "nbformat_minor": 0,
  "metadata": {
    "colab": {
      "provenance": [],
      "toc_visible": true,
      "authorship_tag": "ABX9TyPdCZLIQNAzLM18DpFYJCZS",
      "include_colab_link": true
    },
    "kernelspec": {
      "name": "python3",
      "display_name": "Python 3"
    },
    "language_info": {
      "name": "python"
    }
  },
  "cells": [
    {
      "cell_type": "markdown",
      "metadata": {
        "id": "view-in-github",
        "colab_type": "text"
      },
      "source": [
        "<a href=\"https://colab.research.google.com/github/arulbenjaminchandru/Python-and-Gen-AI/blob/main/Gen_AI_Class_4_and_5.ipynb\" target=\"_parent\"><img src=\"https://colab.research.google.com/assets/colab-badge.svg\" alt=\"Open In Colab\"/></a>"
      ]
    },
    {
      "cell_type": "markdown",
      "source": [
        "# **Class 4**"
      ],
      "metadata": {
        "id": "_2DbiHwTAeuq"
      }
    },
    {
      "cell_type": "markdown",
      "source": [
        "## **Introduction to Lists in Python**\n",
        "\n",
        "Lists are one of the most versatile data structures in Python. They allow you to store multiple items in a single variable. Lists can hold items of different data types, and they are ordered and changeable (mutable).\n",
        "\n"
      ],
      "metadata": {
        "id": "3pF3cwG42LLW"
      }
    },
    {
      "cell_type": "markdown",
      "source": [
        "### **1. Creating Lists**\n",
        "\n",
        "- A list is created by placing all the items (elements) inside square brackets `[]`, separated by commas.\n",
        "\n",
        "**Examples:**\n",
        "\n",
        "```python\n",
        "# List of integers\n",
        "numbers = [1, 2, 3, 4, 5]\n",
        "\n",
        "# List of strings\n",
        "fruits = [\"apple\", \"banana\", \"cherry\"]\n",
        "\n",
        "# Mixed data types\n",
        "mixed_list = [1, \"hello\", 3.14, True]\n",
        "\n",
        "# Empty list\n",
        "empty_list = []\n",
        "```\n",
        "\n"
      ],
      "metadata": {
        "id": "r0A5b-TC2psK"
      }
    },
    {
      "cell_type": "code",
      "source": [
        "# single item\n",
        "number = 10\n",
        "print(type(number))\n",
        "print(\"number : \", number)\n",
        "\n",
        "\n",
        "# List of integers\n",
        "numbers = [1, 2, 3, 4, 5]\n",
        "\n",
        "print(type(numbers))\n",
        "print(\"numbers : \", numbers)\n",
        "\n",
        "\n",
        "# List of strings\n",
        "fruits = [\"apple\", \"banana\", \"cherry\"]\n",
        "\n",
        "# Mixed data types\n",
        "mixed_list = [1, \"hello\", 3.14, True,1,\"hello\",3.14,False,\"Arul\"]\n",
        "print(\"Length of the list\",len(mixed_list))\n",
        "print(\"Last Index\", len(mixed_list)-1)\n",
        "print(mixed_list[0]) # 1\n",
        "print(mixed_list[1]) # hello\n",
        "print(mixed_list[2]) # 3.14\n",
        "print(mixed_list[3]) # True\n",
        "print(mixed_list[8]) # Arul\n",
        "\n",
        "# access the last index using -1\n",
        "print(\"Count from reverse\")\n",
        "print(mixed_list[-1])\n",
        "print(mixed_list[-2])\n",
        "print(mixed_list[-3])\n",
        "print(mixed_list[-4])\n",
        "print(mixed_list[-5])\n",
        "\n",
        "# Empty list\n",
        "empty_list = []\n",
        "print(empty_list[0])"
      ],
      "metadata": {
        "id": "SjJnhGTA8EwZ",
        "colab": {
          "base_uri": "https://localhost:8080/",
          "height": 471
        },
        "outputId": "258f51f3-3d41-41c0-ec9b-cc0b93e616f1"
      },
      "execution_count": null,
      "outputs": [
        {
          "output_type": "stream",
          "name": "stdout",
          "text": [
            "<class 'int'>\n",
            "number :  10\n",
            "<class 'list'>\n",
            "numbers :  [1, 2, 3, 4, 5]\n",
            "Length of the list 9\n",
            "Last Index 8\n",
            "1\n",
            "hello\n",
            "3.14\n",
            "True\n",
            "Arul\n",
            "Count from reverse\n",
            "Arul\n",
            "False\n",
            "3.14\n",
            "hello\n",
            "1\n"
          ]
        },
        {
          "output_type": "error",
          "ename": "IndexError",
          "evalue": "list index out of range",
          "traceback": [
            "\u001b[0;31m---------------------------------------------------------------------------\u001b[0m",
            "\u001b[0;31mIndexError\u001b[0m                                Traceback (most recent call last)",
            "\u001b[0;32m<ipython-input-20-21a8eba368d7>\u001b[0m in \u001b[0;36m<cell line: 37>\u001b[0;34m()\u001b[0m\n\u001b[1;32m     35\u001b[0m \u001b[0;31m# Empty list\u001b[0m\u001b[0;34m\u001b[0m\u001b[0;34m\u001b[0m\u001b[0m\n\u001b[1;32m     36\u001b[0m \u001b[0mempty_list\u001b[0m \u001b[0;34m=\u001b[0m \u001b[0;34m[\u001b[0m\u001b[0;34m]\u001b[0m\u001b[0;34m\u001b[0m\u001b[0;34m\u001b[0m\u001b[0m\n\u001b[0;32m---> 37\u001b[0;31m \u001b[0mprint\u001b[0m\u001b[0;34m(\u001b[0m\u001b[0mempty_list\u001b[0m\u001b[0;34m[\u001b[0m\u001b[0;36m0\u001b[0m\u001b[0;34m]\u001b[0m\u001b[0;34m)\u001b[0m\u001b[0;34m\u001b[0m\u001b[0;34m\u001b[0m\u001b[0m\n\u001b[0m",
            "\u001b[0;31mIndexError\u001b[0m: list index out of range"
          ]
        }
      ]
    },
    {
      "cell_type": "markdown",
      "source": [
        "### **2. Indexing in Lists**\n",
        "\n",
        "- Each item in a list has an index, which is a number that denotes the position of the item in the list. Python uses zero-based indexing, meaning the first element has an index of 0.\n",
        "\n",
        "**Examples:**\n",
        "\n",
        "```python\n",
        "fruits = [\"apple\", \"banana\", \"cherry\"]\n",
        "\n",
        "# Accessing elements by index\n",
        "print(fruits[0])  # Output: apple\n",
        "print(fruits[1])  # Output: banana\n",
        "print(fruits[2])  # Output: cherry\n",
        "\n",
        "# Negative indexing\n",
        "print(fruits[-1])  # Output: cherry (last item)\n",
        "print(fruits[-2])  # Output: banana (second-to-last item)\n",
        "```\n",
        "\n"
      ],
      "metadata": {
        "id": "NaSgt0_e2uS8"
      }
    },
    {
      "cell_type": "code",
      "source": [
        "fruits = [\"apple\", \"banana\", \"cherry\"]\n",
        "\n",
        "# Accessing elements by index\n",
        "print(fruits[0])  # Output: apple\n",
        "print(fruits[1])  # Output: banana\n",
        "print(fruits[2])  # Output: cherry\n",
        "\n",
        "# Negative indexing\n",
        "print(fruits[-1])  # Output: cherry (last item)\n",
        "print(fruits[-2])  # Output: banana (second-to-last item)"
      ],
      "metadata": {
        "colab": {
          "base_uri": "https://localhost:8080/"
        },
        "id": "H95eZcSH8Krx",
        "outputId": "0a511c75-164b-4803-83a4-8e9571af6c7b"
      },
      "execution_count": null,
      "outputs": [
        {
          "output_type": "stream",
          "name": "stdout",
          "text": [
            "apple\n",
            "banana\n",
            "cherry\n",
            "cherry\n",
            "banana\n"
          ]
        }
      ]
    },
    {
      "cell_type": "markdown",
      "source": [
        "### **3. Slicing Lists**\n",
        "\n",
        "- Slicing allows you to access a range of elements from a list. The syntax for slicing is `list[start:end]`, where `start` is the index to begin the slice (inclusive) and `end` is the index to end the slice (exclusive).\n",
        "\n",
        "**Examples:**\n",
        "\n",
        "```python\n",
        "numbers = [0, 1, 2, 3, 4, 5, 6, 7, 8, 9]\n",
        "\n",
        "# Slicing a list\n",
        "print(numbers[2:5])  # Output: [2, 3, 4] (from index 2 to 4)\n",
        "\n",
        "# Omitting start or end\n",
        "print(numbers[:3])   # Output: [0, 1, 2] (from start to index 2)\n",
        "print(numbers[5:])   # Output: [5, 6, 7, 8, 9] (from index 5 to the end)\n",
        "\n",
        "# Slicing with a step\n",
        "print(numbers[::2])  # Output: [0, 2, 4, 6, 8] (every second element)\n",
        "```\n",
        "\n"
      ],
      "metadata": {
        "id": "QsCsr9282yoT"
      }
    },
    {
      "cell_type": "code",
      "source": [
        "numbers = [0, 1, 2, 3, 4, 5, 6, 7, 8, 9]\n",
        "\n",
        "print(\"Numbers List : \",numbers)\n",
        "print(\"Length of numbers list : \",len(numbers))\n",
        "\n",
        "# Slicing a list\n",
        "print(numbers[2:5])  # Output: [2, 3, 4] (from index 2 to 4)\n",
        "\n",
        "# Omitting start or end\n",
        "print(numbers[:3])   # Output: [0, 1, 2] (from start to index 2)\n",
        "print(numbers[5:])   # Output: [5, 6, 7, 8, 9] (from index 5 to the end)\n",
        "\n",
        "# Slicing with a step\n",
        "print(numbers[::2])  # Output: [0, 2, 4, 6, 8] (every second element)"
      ],
      "metadata": {
        "colab": {
          "base_uri": "https://localhost:8080/"
        },
        "id": "iboeIrp28OuG",
        "outputId": "9006e81d-f27a-4b5c-f7ee-e76440fe19ee"
      },
      "execution_count": null,
      "outputs": [
        {
          "output_type": "stream",
          "name": "stdout",
          "text": [
            "Numbers List :  [0, 1, 2, 3, 4, 5, 6, 7, 8, 9]\n",
            "Length of numbers list :  10\n",
            "[2, 3, 4]\n",
            "[0, 1, 2]\n",
            "[5, 6, 7, 8, 9]\n",
            "[0, 2, 4, 6, 8]\n"
          ]
        }
      ]
    },
    {
      "cell_type": "markdown",
      "source": [
        "### **4. Modifying Lists**\n",
        "\n",
        "- Lists are mutable, which means you can change their content after creation.\n",
        "\n",
        "**Examples:**\n",
        "\n",
        "```python\n",
        "fruits = [\"apple\", \"banana\", \"cherry\"]\n",
        "\n",
        "# Changing an item\n",
        "fruits[1] = \"blueberry\"\n",
        "print(fruits)  # Output: ['apple', 'blueberry', 'cherry']\n",
        "\n",
        "# Adding an item\n",
        "fruits.append(\"orange\")\n",
        "print(fruits)  # Output: ['apple', 'blueberry', 'cherry', 'orange']\n",
        "\n",
        "# Removing an item\n",
        "fruits.remove(\"cherry\")\n",
        "print(fruits)  # Output: ['apple', 'blueberry', 'orange']\n",
        "```\n",
        "\n"
      ],
      "metadata": {
        "id": "0SH_sFg122c-"
      }
    },
    {
      "cell_type": "code",
      "source": [
        "fruits = [\"apple\", \"banana\", \"cherry\"]\n",
        "\n",
        "# Changing an item\n",
        "fruits[1] = \"blueberry\"\n",
        "print(fruits)  # Output: ['apple', 'blueberry', 'cherry']\n",
        "\n",
        "# Adding an item\n",
        "fruits.append(\"orange\")\n",
        "print(fruits)  # Output: ['apple', 'blueberry', 'cherry', 'orange']\n",
        "\n",
        "# Removing an item\n",
        "fruits.remove(\"cherry\")\n",
        "print(fruits)  # Output: ['apple', 'blueberry', 'orange']"
      ],
      "metadata": {
        "colab": {
          "base_uri": "https://localhost:8080/"
        },
        "id": "5db4HrVS8TXy",
        "outputId": "74ba87b8-487e-491e-a954-fef329111884"
      },
      "execution_count": null,
      "outputs": [
        {
          "output_type": "stream",
          "name": "stdout",
          "text": [
            "['apple', 'blueberry', 'cherry']\n",
            "['apple', 'blueberry', 'cherry', 'orange']\n",
            "['apple', 'blueberry', 'orange']\n"
          ]
        }
      ]
    },
    {
      "cell_type": "markdown",
      "source": [
        "### **5. Common List Operations**\n",
        "\n",
        "- **Length of a list:** You can find out how many items are in a list using the `len()` function.\n",
        "\n",
        "```python\n",
        "fruits = [\"apple\", \"banana\", \"cherry\"]\n",
        "print(len(fruits))  # Output: 3\n",
        "```\n",
        "\n",
        "- **Check if an item exists:** Use the `in` keyword to check if an item is in the list.\n",
        "\n",
        "```python\n",
        "print(\"banana\" in fruits)  # Output: True\n",
        "```\n",
        "\n",
        "- **Concatenating lists:** You can concatenate two or more lists using the `+` operator.\n",
        "\n",
        "```python\n",
        "list1 = [1, 2, 3]\n",
        "list2 = [4, 5, 6]\n",
        "combined_list = list1 + list2\n",
        "print(combined_list)  # Output: [1, 2, 3, 4, 5, 6]\n",
        "```"
      ],
      "metadata": {
        "id": "9GvH5QGG25Bf"
      }
    },
    {
      "cell_type": "code",
      "source": [
        "fruits = [\"apple\", \"banana\", \"cherry\"]\n",
        "print(len(fruits))  # Output: 3\n",
        "\n",
        "print(\"banana\" in fruits)  # Output: True\n",
        "\n",
        "print(\"orange\" in fruits) # false\n",
        "\n",
        "list1 = [1, 2, 3]\n",
        "list2 = [4, 5, 6]\n",
        "combined_list = list1 + list2\n",
        "print(combined_list)  # Output: [1, 2, 3, 4, 5, 6]"
      ],
      "metadata": {
        "colab": {
          "base_uri": "https://localhost:8080/"
        },
        "id": "7pHd4oo68X6h",
        "outputId": "934bb547-8c6c-48fe-fb34-a19415284c6e"
      },
      "execution_count": null,
      "outputs": [
        {
          "output_type": "stream",
          "name": "stdout",
          "text": [
            "3\n",
            "True\n",
            "False\n",
            "[1, 2, 3, 4, 5, 6]\n"
          ]
        }
      ]
    },
    {
      "cell_type": "markdown",
      "source": [
        "## **Basic List Methods in Python**\n",
        "\n",
        "Python provides several built-in methods to work with lists. These methods allow you to modify lists, add or remove elements, and perform other common operations.\n",
        "\n"
      ],
      "metadata": {
        "id": "zZ3kaMYt3QzL"
      }
    },
    {
      "cell_type": "markdown",
      "source": [
        "### **1. `append()` Method**\n",
        "\n",
        "- The `append()` method adds an element to the end of the list.\n",
        "\n",
        "**Syntax:**\n",
        "\n",
        "```python\n",
        "list_name.append(element)\n",
        "```\n",
        "\n",
        "**Example:**\n",
        "\n",
        "```python\n",
        "fruits = [\"apple\", \"banana\", \"cherry\"]\n",
        "fruits.append(\"orange\")\n",
        "print(fruits)  # Output: ['apple', 'banana', 'cherry', 'orange']\n",
        "```\n",
        "\n"
      ],
      "metadata": {
        "id": "H4sxmPeo3Yf2"
      }
    },
    {
      "cell_type": "code",
      "source": [
        "fruits = [\"apple\", \"banana\", \"cherry\"]\n",
        "fruits.append(\"orange\")\n",
        "print(fruits)  # Output: ['apple', 'banana', 'cherry', 'orange']"
      ],
      "metadata": {
        "colab": {
          "base_uri": "https://localhost:8080/"
        },
        "id": "0hrtmFnf8epj",
        "outputId": "96ea492d-af61-4b03-f0bf-ead640d823ee"
      },
      "execution_count": null,
      "outputs": [
        {
          "output_type": "stream",
          "name": "stdout",
          "text": [
            "['apple', 'banana', 'cherry', 'orange']\n"
          ]
        }
      ]
    },
    {
      "cell_type": "markdown",
      "source": [
        "### **2. `insert()` Method**\n",
        "\n",
        "- The `insert()` method adds an element at a specified position in the list.\n",
        "\n",
        "**Syntax:**\n",
        "\n",
        "```python\n",
        "list_name.insert(index, element)\n",
        "```\n",
        "\n",
        "**Example:**\n",
        "\n",
        "```python\n",
        "fruits = [\"apple\", \"banana\", \"cherry\"]\n",
        "fruits.insert(1, \"blueberry\")\n",
        "print(fruits)  # Output: ['apple', 'blueberry', 'banana', 'cherry']\n",
        "```\n",
        "\n"
      ],
      "metadata": {
        "id": "WU3aIFgZ3dUf"
      }
    },
    {
      "cell_type": "code",
      "source": [
        "fruits = [\"apple\", \"banana\", \"cherry\"]\n",
        "fruits.insert(1, \"blueberry\")\n",
        "print(fruits)  # Output: ['apple', 'blueberry', 'banana', 'cherry']"
      ],
      "metadata": {
        "colab": {
          "base_uri": "https://localhost:8080/"
        },
        "id": "I7MoQBLM8jpZ",
        "outputId": "32581877-9110-4d4a-8f15-22bfe855e85b"
      },
      "execution_count": null,
      "outputs": [
        {
          "output_type": "stream",
          "name": "stdout",
          "text": [
            "['apple', 'blueberry', 'banana', 'cherry']\n"
          ]
        }
      ]
    },
    {
      "cell_type": "markdown",
      "source": [
        "### **3. `remove()` Method**\n",
        "\n",
        "- The `remove()` method removes the first occurrence of a specified element from the list.\n",
        "\n",
        "**Syntax:**\n",
        "\n",
        "```python\n",
        "list_name.remove(element)\n",
        "```\n",
        "\n",
        "**Example:**\n",
        "\n",
        "```python\n",
        "fruits = [\"apple\", \"banana\", \"cherry\", \"banana\"]\n",
        "fruits.remove(\"banana\")\n",
        "print(fruits)  # Output: ['apple', 'cherry', 'banana']\n",
        "```\n",
        "\n"
      ],
      "metadata": {
        "id": "Pp0Daz9c3h7a"
      }
    },
    {
      "cell_type": "code",
      "source": [
        "fruits = [\"apple\", \"banana\", \"cherry\", \"banana\"]\n",
        "fruits.remove(\"banana\")\n",
        "print(fruits)  # Output: ['apple', 'cherry', 'banana']"
      ],
      "metadata": {
        "colab": {
          "base_uri": "https://localhost:8080/"
        },
        "id": "083mkmrE8mfx",
        "outputId": "26664820-1ef3-465b-99ff-00ae5edec365"
      },
      "execution_count": null,
      "outputs": [
        {
          "output_type": "stream",
          "name": "stdout",
          "text": [
            "['apple', 'cherry', 'banana']\n"
          ]
        }
      ]
    },
    {
      "cell_type": "markdown",
      "source": [
        "### **4. `pop()` Method**\n",
        "\n",
        "- The `pop()` method removes and returns the element at the specified index. If no index is specified, it removes and returns the last item in the list.\n",
        "\n",
        "**Syntax:**\n",
        "\n",
        "```python\n",
        "list_name.pop(index)\n",
        "```\n",
        "\n",
        "**Example:**\n",
        "\n",
        "```python\n",
        "fruits = [\"apple\", \"banana\", \"cherry\"]\n",
        "last_fruit = fruits.pop()\n",
        "print(last_fruit)  # Output: cherry\n",
        "print(fruits)      # Output: ['apple', 'banana']\n",
        "```\n",
        "\n"
      ],
      "metadata": {
        "id": "UGc-h1oX3mMW"
      }
    },
    {
      "cell_type": "code",
      "source": [
        "fruits = [\"apple\", \"banana\", \"cherry\"]\n",
        "last_fruit = fruits.pop()\n",
        "print(last_fruit)  # Output: cherry\n",
        "print(fruits)      # Output: ['apple', 'banana']\n",
        "fruits.pop(1)\n",
        "print(fruits)"
      ],
      "metadata": {
        "colab": {
          "base_uri": "https://localhost:8080/"
        },
        "id": "E6U2VduF8o_g",
        "outputId": "ffd575b5-c36d-4810-bc0d-13ca1a87691c"
      },
      "execution_count": 14,
      "outputs": [
        {
          "output_type": "stream",
          "name": "stdout",
          "text": [
            "cherry\n",
            "['apple', 'banana']\n",
            "['apple']\n"
          ]
        }
      ]
    },
    {
      "cell_type": "markdown",
      "source": [
        "### **5. `clear()` Method**\n",
        "\n",
        "- The `clear()` method removes all elements from the list, leaving it empty.\n",
        "\n",
        "**Syntax:**\n",
        "\n",
        "```python\n",
        "list_name.clear()\n",
        "```\n",
        "\n",
        "**Example:**\n",
        "\n",
        "```python\n",
        "fruits = [\"apple\", \"banana\", \"cherry\"]\n",
        "fruits.clear()\n",
        "print(fruits)  # Output: []\n",
        "```\n",
        "\n"
      ],
      "metadata": {
        "id": "ieTkm3wW3uUT"
      }
    },
    {
      "cell_type": "code",
      "source": [
        "fruits = [\"apple\", \"banana\", \"cherry\"]\n",
        "fruits.clear()\n",
        "print(fruits)  # Output: []"
      ],
      "metadata": {
        "colab": {
          "base_uri": "https://localhost:8080/"
        },
        "id": "AhlZlkDG8rNZ",
        "outputId": "2f552b69-a211-49c8-80bc-a8933923c764"
      },
      "execution_count": null,
      "outputs": [
        {
          "output_type": "stream",
          "name": "stdout",
          "text": [
            "[]\n"
          ]
        }
      ]
    },
    {
      "cell_type": "markdown",
      "source": [
        "### **6. `index()` Method**\n",
        "\n",
        "- The `index()` method returns the index of the first occurrence of a specified element in the list.\n",
        "\n",
        "**Syntax:**\n",
        "\n",
        "```python\n",
        "list_name.index(element)\n",
        "```\n",
        "\n",
        "**Example:**\n",
        "\n",
        "```python\n",
        "fruits = [\"apple\", \"banana\", \"cherry\"]\n",
        "index_of_banana = fruits.index(\"banana\")\n",
        "print(index_of_banana)  # Output: 1\n",
        "```\n",
        "\n"
      ],
      "metadata": {
        "id": "ULuCC6ZL3yaE"
      }
    },
    {
      "cell_type": "code",
      "source": [
        "fruits = [\"apple\", \"banana\", \"cherry\"]\n",
        "index_of_banana = fruits.index(\"banana\")\n",
        "print(index_of_banana)  # Output: 1"
      ],
      "metadata": {
        "colab": {
          "base_uri": "https://localhost:8080/"
        },
        "id": "E_Qo6drs8tkK",
        "outputId": "9fff3845-29b4-4071-925b-f78f23dc212f"
      },
      "execution_count": null,
      "outputs": [
        {
          "output_type": "stream",
          "name": "stdout",
          "text": [
            "1\n"
          ]
        }
      ]
    },
    {
      "cell_type": "markdown",
      "source": [
        "### **7. `count()` Method**\n",
        "\n",
        "- The `count()` method returns the number of times a specified element appears in the list.\n",
        "\n",
        "**Syntax:**\n",
        "\n",
        "```python\n",
        "list_name.count(element)\n",
        "```\n",
        "\n",
        "**Example:**\n",
        "\n",
        "```python\n",
        "fruits = [\"apple\", \"banana\", \"cherry\", \"banana\"]\n",
        "count_banana = fruits.count(\"banana\")\n",
        "print(count_banana)  # Output: 2\n",
        "```\n",
        "\n"
      ],
      "metadata": {
        "id": "FsH2H8dK32aJ"
      }
    },
    {
      "cell_type": "code",
      "source": [
        "fruits = [\"apple\", \"banana\", \"cherry\", \"banana\"]\n",
        "count_banana = fruits.count(\"banana\")\n",
        "print(count_banana)  # Output: 2"
      ],
      "metadata": {
        "colab": {
          "base_uri": "https://localhost:8080/"
        },
        "id": "DvUpnhP38wYe",
        "outputId": "0d2e561f-c17a-4a66-c4d9-e2ad40e1fa29"
      },
      "execution_count": null,
      "outputs": [
        {
          "output_type": "stream",
          "name": "stdout",
          "text": [
            "2\n"
          ]
        }
      ]
    },
    {
      "cell_type": "markdown",
      "source": [
        "### **8. `sort()` Method**\n",
        "\n",
        "- The `sort()` method sorts the elements of the list in ascending order by default. You can also sort in descending order by specifying `reverse=True`.\n",
        "\n",
        "**Syntax:**\n",
        "\n",
        "```python\n",
        "list_name.sort()\n",
        "list_name.sort(reverse=True)  # For descending order\n",
        "```\n",
        "\n",
        "**Example:**\n",
        "\n",
        "```python\n",
        "numbers = [3, 1, 4, 1, 5, 9]\n",
        "numbers.sort()\n",
        "print(numbers)  # Output: [1, 1, 3, 4, 5, 9]\n",
        "\n",
        "numbers.sort(reverse=True)\n",
        "print(numbers)  # Output: [9, 5, 4, 3, 1, 1]\n",
        "```\n",
        "\n"
      ],
      "metadata": {
        "id": "7hf0_XVx35_Z"
      }
    },
    {
      "cell_type": "code",
      "source": [
        "numbers = [3, 1, 4, 1, 5, 9]\n",
        "numbers.sort()\n",
        "print(numbers)  # Output: [1, 1, 3, 4, 5, 9]\n",
        "\n",
        "numbers.sort(reverse=True)\n",
        "print(numbers)  # Output: [9, 5, 4, 3, 1, 1]"
      ],
      "metadata": {
        "colab": {
          "base_uri": "https://localhost:8080/"
        },
        "id": "gEWw9GWu8zGR",
        "outputId": "087a51ca-606e-4b65-8f18-6128d5e7727c"
      },
      "execution_count": null,
      "outputs": [
        {
          "output_type": "stream",
          "name": "stdout",
          "text": [
            "[1, 1, 3, 4, 5, 9]\n",
            "[9, 5, 4, 3, 1, 1]\n"
          ]
        }
      ]
    },
    {
      "cell_type": "markdown",
      "source": [
        "### **9. `reverse()` Method**\n",
        "\n",
        "- The `reverse()` method reverses the order of the elements in the list.\n",
        "\n",
        "**Syntax:**\n",
        "\n",
        "```python\n",
        "list_name.reverse()\n",
        "```\n",
        "\n",
        "**Example:**\n",
        "\n",
        "```python\n",
        "fruits = [\"apple\", \"banana\", \"cherry\"]\n",
        "fruits.reverse()\n",
        "print(fruits)  # Output: ['cherry', 'banana', 'apple']\n",
        "```\n",
        "\n"
      ],
      "metadata": {
        "id": "nLrcdHbH39Bl"
      }
    },
    {
      "cell_type": "code",
      "source": [
        "fruits = [\"apple\", \"banana\", \"cherry\"]\n",
        "fruits.reverse()\n",
        "print(fruits)  # Output: ['cherry', 'banana', 'apple']\n",
        "\n",
        "print(fruits[::-1]) # used for reverse"
      ],
      "metadata": {
        "colab": {
          "base_uri": "https://localhost:8080/"
        },
        "id": "l-ASXqwz81Uq",
        "outputId": "3f5575a5-b7b6-4172-ffda-887460b2d295"
      },
      "execution_count": null,
      "outputs": [
        {
          "output_type": "stream",
          "name": "stdout",
          "text": [
            "['cherry', 'banana', 'apple']\n",
            "['apple', 'banana', 'cherry']\n"
          ]
        }
      ]
    },
    {
      "cell_type": "markdown",
      "source": [
        "### **10. `copy()` Method**\n",
        "\n",
        "- The `copy()` method returns a shallow copy of the list. This is useful if you want to create a new list with the same elements but independent of the original list.\n",
        "\n",
        "**Syntax:**\n",
        "\n",
        "```python\n",
        "new_list = list_name.copy()\n",
        "```\n",
        "\n",
        "**Example:**\n",
        "\n",
        "```python\n",
        "fruits = [\"apple\", \"banana\", \"cherry\"]\n",
        "fruits_copy = fruits.copy()\n",
        "print(fruits_copy)  # Output: ['apple', 'banana', 'cherry']\n",
        "```"
      ],
      "metadata": {
        "id": "A74Fm6Ar4ABo"
      }
    },
    {
      "cell_type": "code",
      "source": [
        "fruits = [\"apple\", \"banana\", \"cherry\"]\n",
        "fruits_copy = fruits.copy()\n",
        "print(fruits_copy)  # Output: ['apple', 'banana', 'cherry']\n",
        "\n",
        "fruits.insert(1,\"orange\")\n",
        "\n",
        "print(\"Fruits List :\", fruits)\n",
        "print(\"Fruits Copy List : \", fruits_copy)\n",
        "\n",
        "copied_fruits = fruits  # Referencing\n",
        "print(\"Copied Fruits : \",copied_fruits)\n",
        "fruits.append(\"mango\")\n",
        "\n",
        "print(\"Copied Fruits : \",copied_fruits)\n",
        "print(\"Fruits List :\", fruits)"
      ],
      "metadata": {
        "colab": {
          "base_uri": "https://localhost:8080/"
        },
        "id": "ZOmnzA2l831w",
        "outputId": "24ccce99-9253-437b-e5a0-e7ac93fb6473"
      },
      "execution_count": null,
      "outputs": [
        {
          "output_type": "stream",
          "name": "stdout",
          "text": [
            "['apple', 'banana', 'cherry']\n",
            "Fruits List : ['apple', 'orange', 'banana', 'cherry']\n",
            "Fruits Copy List :  ['apple', 'banana', 'cherry']\n",
            "Copied Fruits :  ['apple', 'orange', 'banana', 'cherry']\n",
            "Copied Fruits :  ['apple', 'orange', 'banana', 'cherry', 'mango']\n",
            "Fruits List : ['apple', 'orange', 'banana', 'cherry', 'mango']\n"
          ]
        }
      ]
    },
    {
      "cell_type": "markdown",
      "source": [
        "# **Class 5**"
      ],
      "metadata": {
        "id": "493LI6GrAUCB"
      }
    },
    {
      "cell_type": "markdown",
      "source": [
        "## **`for` Loops**\n",
        "\n",
        "- The `for` loop is used to iterate over a sequence (such as a list, tuple, dictionary, set, or string) or a range of numbers.\n",
        "\n",
        "**Syntax:**\n",
        "\n",
        "```python\n",
        "for item in sequence:\n",
        "    # Code to be executed\n",
        "```\n",
        "\n",
        "**Example: Iterating Over a List**\n",
        "\n",
        "```python\n",
        "fruits = [\"apple\", \"banana\", \"cherry\"]\n",
        "for fruit in fruits:\n",
        "    print(fruit)\n",
        "```\n",
        "\n",
        "**Explanation:**\n",
        "- This loop iterates over the `fruits` list and prints each fruit in the list.\n",
        "\n",
        "**Output:**\n",
        "\n",
        "```\n",
        "apple\n",
        "banana\n",
        "cherry\n",
        "```\n",
        "\n",
        "**Example: Using `range()` in a `for` Loop**\n",
        "\n",
        "```python\n",
        "for i in range(1, 6):\n",
        "    print(\"Iteration\", i)\n",
        "```\n",
        "\n",
        "**Explanation:**\n",
        "- This loop uses the `range()` function to generate numbers from 1 to 5. It prints \"Iteration\" followed by the value of `i` for each iteration.\n",
        "\n",
        "**Output:**\n",
        "\n",
        "```\n",
        "Iteration 1\n",
        "Iteration 2\n",
        "Iteration 3\n",
        "Iteration 4\n",
        "Iteration 5\n",
        "```\n",
        "\n"
      ],
      "metadata": {
        "id": "Ww4Z9_xqBSCj"
      }
    },
    {
      "cell_type": "code",
      "source": [
        "fruits = [\"apple\", \"banana\", \"cherry\"]\n",
        "for fruit in fruits:\n",
        "    print(fruit)\n",
        "\n",
        "for i in range(1, 6):\n",
        "    print(\"Iteration\", i)"
      ],
      "metadata": {
        "colab": {
          "base_uri": "https://localhost:8080/"
        },
        "id": "Ixk_NnIgAwAL",
        "outputId": "13257991-2989-4e1c-8a92-7a07747b2907"
      },
      "execution_count": 1,
      "outputs": [
        {
          "output_type": "stream",
          "name": "stdout",
          "text": [
            "apple\n",
            "banana\n",
            "cherry\n",
            "Iteration 1\n",
            "Iteration 2\n",
            "Iteration 3\n",
            "Iteration 4\n",
            "Iteration 5\n"
          ]
        }
      ]
    },
    {
      "cell_type": "markdown",
      "source": [
        "### **1. Using Loops for Repetitive Tasks**\n",
        "\n",
        "Loops are particularly useful for performing repetitive tasks, such as processing each item in a list, generating a series of numbers, or performing an action multiple times.\n",
        "\n",
        "**Example: Summing Numbers**\n",
        "\n",
        "```python\n",
        "total = 0\n",
        "for number in range(1, 11):\n",
        "    total += number\n",
        "print(\"The sum is:\", total)\n",
        "```\n",
        "\n",
        "**Explanation:**\n",
        "- This loop calculates the sum of numbers from 1 to 10 and prints the result.\n",
        "\n",
        "**Output:**\n",
        "\n",
        "```\n",
        "The sum is: 55\n",
        "```\n",
        "\n",
        "**Example: Counting Down with a `while` Loop**\n",
        "\n",
        "```python\n",
        "countdown = 5\n",
        "while countdown > 0:\n",
        "    print(\"Counting down:\", countdown)\n",
        "    countdown -= 1\n",
        "print(\"Blast off!\")\n",
        "```\n",
        "\n",
        "**Explanation:**\n",
        "- This loop counts down from 5 to 1, then prints \"Blast off!\" when the countdown is complete.\n",
        "\n",
        "**Output:**\n",
        "\n",
        "```\n",
        "Counting down: 5\n",
        "Counting down: 4\n",
        "Counting down: 3\n",
        "Counting down: 2\n",
        "Counting down: 1\n",
        "Blast off!\n",
        "```\n",
        "\n"
      ],
      "metadata": {
        "id": "2gfg61JnBXbE"
      }
    },
    {
      "cell_type": "code",
      "source": [
        "total = 0\n",
        "for number in range(1, 11):\n",
        "    total += number\n",
        "    print(\"Inside Loop - The sum is:\", total)\n",
        "print(\"Outside Loop - The sum is:\", total)\n",
        "\n",
        "countdown = 5\n",
        "while countdown > 0:\n",
        "    print(\"Counting down:\", countdown)\n",
        "    countdown -= 1\n",
        "print(\"Blast off!\")"
      ],
      "metadata": {
        "colab": {
          "base_uri": "https://localhost:8080/"
        },
        "id": "Ri5R47LmA2bQ",
        "outputId": "684dd3cb-94d8-4758-f53c-b4376fdbd417"
      },
      "execution_count": 7,
      "outputs": [
        {
          "output_type": "stream",
          "name": "stdout",
          "text": [
            "Inside Loop - The sum is: 1\n",
            "Inside Loop - The sum is: 3\n",
            "Inside Loop - The sum is: 6\n",
            "Inside Loop - The sum is: 10\n",
            "Inside Loop - The sum is: 15\n",
            "Inside Loop - The sum is: 21\n",
            "Inside Loop - The sum is: 28\n",
            "Inside Loop - The sum is: 36\n",
            "Inside Loop - The sum is: 45\n",
            "Inside Loop - The sum is: 55\n",
            "Outside Loop - The sum is: 55\n",
            "Counting down: 5\n",
            "Counting down: 4\n",
            "Counting down: 3\n",
            "Counting down: 2\n",
            "Counting down: 1\n",
            "Blast off!\n"
          ]
        }
      ]
    },
    {
      "cell_type": "code",
      "source": [
        "# Mixed data types\n",
        "mixed_list = [1, \"hello\", 3.14, True,1,\"hello\",3.14,False,\"Arul\"]\n",
        "print(\"Mixed List\",mixed_list)\n",
        "print(\"Length of the list\",len(mixed_list))\n",
        "print(\"Last Index\", len(mixed_list)-1)\n",
        "print(mixed_list[0]) # 1\n",
        "print(mixed_list[1]) # hello\n",
        "print(mixed_list[2]) # 3.14\n",
        "print(mixed_list[3]) # True\n",
        "print(mixed_list[8]) # Arul\n",
        "\n",
        "i=0\n",
        "for item in mixed_list:\n",
        "  print(\"Item \",i,\" in the list : \",item)\n",
        "  i = i+1\n",
        "  if item == 3.14:\n",
        "    print(\"Found 3.14\")\n",
        "    break\n",
        "\n",
        "print(\"I am out of loop\")\n",
        "\n",
        "i = 0\n",
        "\n",
        "while i >= 0:\n",
        "  i = i + 1\n",
        "  print(i)\n",
        "  if i == 10:\n",
        "    break\n",
        "\n"
      ],
      "metadata": {
        "colab": {
          "base_uri": "https://localhost:8080/"
        },
        "id": "rEIl5xKtYWB5",
        "outputId": "1fccdd6c-86f8-46ff-ddb6-c5c94aff4ed0"
      },
      "execution_count": 2,
      "outputs": [
        {
          "output_type": "stream",
          "name": "stdout",
          "text": [
            "Mixed List [1, 'hello', 3.14, True, 1, 'hello', 3.14, False, 'Arul']\n",
            "Length of the list 9\n",
            "Last Index 8\n",
            "1\n",
            "hello\n",
            "3.14\n",
            "True\n",
            "Arul\n",
            "Item  0  in the list :  1\n",
            "Item  1  in the list :  hello\n",
            "Item  2  in the list :  3.14\n",
            "Found 3.14\n",
            "I am out of loop\n",
            "1\n",
            "2\n",
            "3\n",
            "4\n",
            "5\n",
            "6\n",
            "7\n",
            "8\n",
            "9\n",
            "10\n"
          ]
        }
      ]
    },
    {
      "cell_type": "markdown",
      "source": [
        "### **2. Breaking Out of Loops**\n",
        "\n",
        "- Sometimes, you might want to exit a loop early. You can do this using the `break` statement.\n",
        "\n",
        "**Example:**\n",
        "\n",
        "```python\n",
        "for i in range(1, 11):\n",
        "    if i == 5:\n",
        "        break\n",
        "    print(i)\n",
        "```\n",
        "\n",
        "**Explanation:**\n",
        "- This loop prints numbers from 1 to 4. When `i` equals 5, the `break` statement exits the loop.\n",
        "\n",
        "**Output:**\n",
        "\n",
        "```\n",
        "1\n",
        "2\n",
        "3\n",
        "4\n",
        "```"
      ],
      "metadata": {
        "id": "NaSuMpIcBaly"
      }
    },
    {
      "cell_type": "code",
      "source": [
        "for i in range(1, 11):\n",
        "    if i == 5:\n",
        "        break\n",
        "    print(i)"
      ],
      "metadata": {
        "id": "f9hTNQj7BArH",
        "outputId": "c6518d80-5f94-4817-d61b-385152a3bd59",
        "colab": {
          "base_uri": "https://localhost:8080/"
        }
      },
      "execution_count": null,
      "outputs": [
        {
          "output_type": "stream",
          "name": "stdout",
          "text": [
            "1\n",
            "2\n",
            "3\n",
            "4\n"
          ]
        }
      ]
    },
    {
      "cell_type": "markdown",
      "source": [
        "## **Set Methods in Python**\n",
        "\n",
        "Sets in Python are collections of unique and unordered elements. They are useful for storing items where duplicates are not allowed and for performing various operations like union, intersection, and difference. Python provides several built-in methods to work with sets.\n",
        "\n"
      ],
      "metadata": {
        "id": "mQWgsNC04dJv"
      }
    },
    {
      "cell_type": "markdown",
      "source": [
        "### **1. `add()` Method**\n",
        "\n",
        "- The `add()` method adds a single element to the set. If the element already exists in the set, it does nothing.\n",
        "\n",
        "**Syntax:**\n",
        "\n",
        "```python\n",
        "set_name.add(element)\n",
        "```\n",
        "\n",
        "**Example:**\n",
        "\n",
        "```python\n",
        "fruits = {\"apple\", \"banana\", \"cherry\"}\n",
        "fruits.add(\"orange\")\n",
        "print(fruits)  # Output: {'orange', 'banana', 'apple', 'cherry'}\n",
        "```\n",
        "\n"
      ],
      "metadata": {
        "id": "4YtUVGXh4keu"
      }
    },
    {
      "cell_type": "code",
      "source": [
        "fruits = {\"apple\", \"banana\", \"cherry\",\"apple\"}\n",
        "print(\"Fruits Set : \",fruits)\n",
        "fruits_list = [\"apple\",\"banana\",\"mango\",\"apple\"]\n",
        "print(\"Fruits list : \",fruits_list)\n",
        "fruits.add(\"orange\")\n",
        "print(fruits)  # Output: {'orange', 'banana', 'apple', 'cherry'}"
      ],
      "metadata": {
        "colab": {
          "base_uri": "https://localhost:8080/"
        },
        "id": "_1Dzm9Fy88Z9",
        "outputId": "277a5781-2fb2-4546-e3d6-3156fc2cbce4"
      },
      "execution_count": 7,
      "outputs": [
        {
          "output_type": "stream",
          "name": "stdout",
          "text": [
            "Fruits Set :  {'cherry', 'banana', 'apple'}\n",
            "Fruits list :  ['apple', 'banana', 'mango', 'apple']\n",
            "{'cherry', 'banana', 'orange', 'apple'}\n"
          ]
        }
      ]
    },
    {
      "cell_type": "markdown",
      "source": [
        "### **2. `update()` Method**\n",
        "\n",
        "- The `update()` method adds multiple elements to the set. You can pass a list, tuple, set, or any iterable as an argument.\n",
        "\n",
        "**Syntax:**\n",
        "\n",
        "```python\n",
        "set_name.update(iterable)\n",
        "```\n",
        "\n",
        "**Example:**\n",
        "\n",
        "```python\n",
        "fruits = {\"apple\", \"banana\", \"cherry\"}\n",
        "more_fruits = [\"orange\", \"grape\"]\n",
        "fruits.update(more_fruits)\n",
        "print(fruits)  # Output: {'apple', 'orange', 'banana', 'grape', 'cherry'}\n",
        "```\n",
        "\n"
      ],
      "metadata": {
        "id": "nzmK_1LD4pcP"
      }
    },
    {
      "cell_type": "code",
      "source": [
        "fruits = {\"apple\", \"banana\", \"cherry\"}\n",
        "more_fruits = [\"orange\", \"grape\"]\n",
        "fruits.update(more_fruits)\n",
        "print(fruits)  # Output: {'apple', 'orange', 'banana', 'grape', 'cherry'}"
      ],
      "metadata": {
        "colab": {
          "base_uri": "https://localhost:8080/"
        },
        "id": "CbJtL8JV8-36",
        "outputId": "8f321b94-75db-457b-87dc-931dd4c8ac23"
      },
      "execution_count": null,
      "outputs": [
        {
          "output_type": "stream",
          "name": "stdout",
          "text": [
            "{'apple', 'grape', 'orange', 'banana', 'cherry'}\n"
          ]
        }
      ]
    },
    {
      "cell_type": "markdown",
      "source": [
        "### **3. `remove()` Method**\n",
        "\n",
        "- The `remove()` method removes a specified element from the set. If the element is not found, it raises a `KeyError`.\n",
        "\n",
        "**Syntax:**\n",
        "\n",
        "```python\n",
        "set_name.remove(element)\n",
        "```\n",
        "\n",
        "**Example:**\n",
        "\n",
        "```python\n",
        "fruits = {\"apple\", \"banana\", \"cherry\"}\n",
        "fruits.remove(\"banana\")\n",
        "print(fruits)  # Output: {'apple', 'cherry'}\n",
        "```\n",
        "\n"
      ],
      "metadata": {
        "id": "C2NKOKsf4tS7"
      }
    },
    {
      "cell_type": "code",
      "source": [
        "fruits = {\"apple\", \"banana\", \"cherry\"}\n",
        "fruits.remove(\"banana\")\n",
        "print(fruits)  # Output: {'apple', 'cherry'}\n",
        "\n",
        "fruits.remove(\"mango\")\n",
        "print(fruits)"
      ],
      "metadata": {
        "colab": {
          "base_uri": "https://localhost:8080/",
          "height": 211
        },
        "id": "Jpz-cxIU9BPh",
        "outputId": "c8f9fffc-47b0-43f6-c447-853c0ba90459"
      },
      "execution_count": 12,
      "outputs": [
        {
          "output_type": "stream",
          "name": "stdout",
          "text": [
            "{'cherry', 'apple'}\n"
          ]
        },
        {
          "output_type": "error",
          "ename": "KeyError",
          "evalue": "'mango'",
          "traceback": [
            "\u001b[0;31m---------------------------------------------------------------------------\u001b[0m",
            "\u001b[0;31mKeyError\u001b[0m                                  Traceback (most recent call last)",
            "\u001b[0;32m<ipython-input-12-25d42c1c53dd>\u001b[0m in \u001b[0;36m<cell line: 5>\u001b[0;34m()\u001b[0m\n\u001b[1;32m      3\u001b[0m \u001b[0mprint\u001b[0m\u001b[0;34m(\u001b[0m\u001b[0mfruits\u001b[0m\u001b[0;34m)\u001b[0m  \u001b[0;31m# Output: {'apple', 'cherry'}\u001b[0m\u001b[0;34m\u001b[0m\u001b[0;34m\u001b[0m\u001b[0m\n\u001b[1;32m      4\u001b[0m \u001b[0;34m\u001b[0m\u001b[0m\n\u001b[0;32m----> 5\u001b[0;31m \u001b[0mfruits\u001b[0m\u001b[0;34m.\u001b[0m\u001b[0mremove\u001b[0m\u001b[0;34m(\u001b[0m\u001b[0;34m\"mango\"\u001b[0m\u001b[0;34m)\u001b[0m\u001b[0;34m\u001b[0m\u001b[0;34m\u001b[0m\u001b[0m\n\u001b[0m\u001b[1;32m      6\u001b[0m \u001b[0mprint\u001b[0m\u001b[0;34m(\u001b[0m\u001b[0mfruits\u001b[0m\u001b[0;34m)\u001b[0m\u001b[0;34m\u001b[0m\u001b[0;34m\u001b[0m\u001b[0m\n",
            "\u001b[0;31mKeyError\u001b[0m: 'mango'"
          ]
        }
      ]
    },
    {
      "cell_type": "markdown",
      "source": [
        "### **4. `discard()` Method**\n",
        "\n",
        "- The `discard()` method removes a specified element from the set. If the element is not found, it does nothing (no error is raised).\n",
        "\n",
        "**Syntax:**\n",
        "\n",
        "```python\n",
        "set_name.discard(element)\n",
        "```\n",
        "\n",
        "**Example:**\n",
        "\n",
        "```python\n",
        "fruits = {\"apple\", \"banana\", \"cherry\"}\n",
        "fruits.discard(\"banana\")\n",
        "fruits.discard(\"mango\")  # No error, even though \"mango\" is not in the set\n",
        "print(fruits)  # Output: {'apple', 'cherry'}\n",
        "```\n",
        "\n"
      ],
      "metadata": {
        "id": "llUKVHrC4xGM"
      }
    },
    {
      "cell_type": "code",
      "source": [
        "fruits = {\"apple\", \"banana\", \"cherry\"}\n",
        "fruits.discard(\"banana\")\n",
        "fruits.discard(\"mango\")  # No error, even though \"mango\" is not in the set\n",
        "print(fruits)  # Output: {'apple', 'cherry'}"
      ],
      "metadata": {
        "colab": {
          "base_uri": "https://localhost:8080/"
        },
        "id": "pb7F9icK9EJY",
        "outputId": "1a884916-5671-4803-8efb-3805937692d2"
      },
      "execution_count": null,
      "outputs": [
        {
          "output_type": "stream",
          "name": "stdout",
          "text": [
            "{'apple', 'cherry'}\n"
          ]
        }
      ]
    },
    {
      "cell_type": "markdown",
      "source": [
        "### **5. `pop()` Method**\n",
        "\n",
        "- The `pop()` method removes and returns a random element from the set. Since sets are unordered, you don't know which element will be removed. If the set is empty, it raises a `KeyError`.\n",
        "\n",
        "**Syntax:**\n",
        "\n",
        "```python\n",
        "set_name.pop()\n",
        "```\n",
        "\n",
        "**Example:**\n",
        "\n",
        "```python\n",
        "fruits = {\"apple\", \"banana\", \"cherry\"}\n",
        "removed_fruit = fruits.pop()\n",
        "print(removed_fruit)  # Output: Random element (e.g., 'apple')\n",
        "print(fruits)         # Output: Remaining elements\n",
        "```\n",
        "\n"
      ],
      "metadata": {
        "id": "SK99OAWi40f-"
      }
    },
    {
      "cell_type": "code",
      "source": [
        "fruits = {\"apple\", \"banana\", \"cherry\"}\n",
        "removed_fruit = fruits.pop()\n",
        "print(removed_fruit)  # Output: Random element (e.g., 'apple')\n",
        "print(fruits)         # Output: Remaining elements"
      ],
      "metadata": {
        "colab": {
          "base_uri": "https://localhost:8080/"
        },
        "id": "zvAnSSSc9K2E",
        "outputId": "75bbecfd-391d-4b4d-f613-5f4a2b8294e9"
      },
      "execution_count": null,
      "outputs": [
        {
          "output_type": "stream",
          "name": "stdout",
          "text": [
            "banana\n",
            "{'apple', 'cherry'}\n"
          ]
        }
      ]
    },
    {
      "cell_type": "markdown",
      "source": [
        "### **6. `clear()` Method**\n",
        "\n",
        "- The `clear()` method removes all elements from the set, leaving it empty.\n",
        "\n",
        "**Syntax:**\n",
        "\n",
        "```python\n",
        "set_name.clear()\n",
        "```\n",
        "\n",
        "**Example:**\n",
        "\n",
        "```python\n",
        "fruits = {\"apple\", \"banana\", \"cherry\"}\n",
        "fruits.clear()\n",
        "print(fruits)  # Output: set()\n",
        "```\n",
        "\n"
      ],
      "metadata": {
        "id": "Vv1mTlnp44QN"
      }
    },
    {
      "cell_type": "code",
      "source": [
        "fruits = {\"apple\", \"banana\", \"cherry\"}\n",
        "fruits.clear()\n",
        "print(fruits)  # Output: set()"
      ],
      "metadata": {
        "colab": {
          "base_uri": "https://localhost:8080/"
        },
        "id": "h5dbjkql9NxU",
        "outputId": "4dbc0504-996a-4dec-ea2d-173f6bca84b9"
      },
      "execution_count": null,
      "outputs": [
        {
          "output_type": "stream",
          "name": "stdout",
          "text": [
            "set()\n"
          ]
        }
      ]
    },
    {
      "cell_type": "markdown",
      "source": [
        "### **7. `union()` Method**\n",
        "\n",
        "- The `union()` method returns a new set containing all elements from the original set and all elements from the specified sets. It can take multiple sets or iterables as arguments.\n",
        "\n",
        "**Syntax:**\n",
        "\n",
        "```python\n",
        "set_name.union(other_set, ...)\n",
        "```\n",
        "\n",
        "**Example:**\n",
        "\n",
        "```python\n",
        "set1 = {\"apple\", \"banana\"}\n",
        "set2 = {\"cherry\", \"banana\"}\n",
        "combined_set = set1.union(set2)\n",
        "print(combined_set)  # Output: {'apple', 'cherry', 'banana'}\n",
        "```\n",
        "\n"
      ],
      "metadata": {
        "id": "QZbd2FkM48Q8"
      }
    },
    {
      "cell_type": "code",
      "source": [
        "set1 = {\"apple\", \"banana\"}\n",
        "set2 = {\"cherry\", \"banana\"}\n",
        "combined_set = set1.union(set2)\n",
        "print(combined_set)  # Output: {'apple', 'cherry', 'banana'}"
      ],
      "metadata": {
        "colab": {
          "base_uri": "https://localhost:8080/"
        },
        "id": "XsSx92Y99U2a",
        "outputId": "668eebd5-1a89-4dab-e099-91cc1577c885"
      },
      "execution_count": 15,
      "outputs": [
        {
          "output_type": "stream",
          "name": "stdout",
          "text": [
            "{'cherry', 'banana', 'apple'}\n"
          ]
        }
      ]
    },
    {
      "cell_type": "markdown",
      "source": [
        "### **8. `intersection()` Method**\n",
        "\n",
        "- The `intersection()` method returns a new set containing only the elements that are present in both (or all) sets.\n",
        "\n",
        "**Syntax:**\n",
        "\n",
        "```python\n",
        "set_name.intersection(other_set, ...)\n",
        "```\n",
        "\n",
        "**Example:**\n",
        "\n",
        "```python\n",
        "set1 = {\"apple\", \"banana\", \"cherry\"}\n",
        "set2 = {\"banana\", \"cherry\", \"orange\"}\n",
        "common_set = set1.intersection(set2)\n",
        "print(common_set)  # Output: {'banana', 'cherry'}\n",
        "```\n",
        "\n"
      ],
      "metadata": {
        "id": "MMzQ2Lp14__9"
      }
    },
    {
      "cell_type": "code",
      "source": [
        "set1 = {\"apple\", \"banana\", \"cherry\",1}\n",
        "set2 = {\"banana\", \"cherry\", \"orange\",1}\n",
        "common_set = set1.intersection(set2)\n",
        "print(common_set)  # Output: {'banana', 'cherry'}"
      ],
      "metadata": {
        "colab": {
          "base_uri": "https://localhost:8080/"
        },
        "id": "zWFWsZJf9You",
        "outputId": "6b500839-965a-46d1-aeeb-c02b8ee5c135"
      },
      "execution_count": 18,
      "outputs": [
        {
          "output_type": "stream",
          "name": "stdout",
          "text": [
            "{'cherry', 'banana', 1}\n"
          ]
        }
      ]
    },
    {
      "cell_type": "markdown",
      "source": [
        "### **9. `difference()` Method**\n",
        "\n",
        "- The `difference()` method returns a new set containing elements that are in the original set but not in the specified sets.\n",
        "\n",
        "**Syntax:**\n",
        "\n",
        "```python\n",
        "set_name.difference(other_set, ...)\n",
        "```\n",
        "\n",
        "**Example:**\n",
        "\n",
        "```python\n",
        "set1 = {\"apple\", \"banana\", \"cherry\"}\n",
        "set2 = {\"banana\", \"cherry\", \"orange\"}\n",
        "diff_set = set1.difference(set2)\n",
        "print(diff_set)  # Output: {'apple'}\n",
        "```\n",
        "\n"
      ],
      "metadata": {
        "id": "sky7-wre5DR7"
      }
    },
    {
      "cell_type": "code",
      "source": [
        "set1 = {\"apple\", \"banana\", \"cherry\"}\n",
        "set2 = {\"banana\", \"cherry\", \"orange\"}\n",
        "diff_set = set1.difference(set2)\n",
        "print(diff_set)  # Output: {'apple'}"
      ],
      "metadata": {
        "colab": {
          "base_uri": "https://localhost:8080/"
        },
        "id": "p_joYZ8D9cmh",
        "outputId": "31aa9dd4-e030-4b07-8b36-8dd9f5c51d2e"
      },
      "execution_count": null,
      "outputs": [
        {
          "output_type": "stream",
          "name": "stdout",
          "text": [
            "{'apple'}\n"
          ]
        }
      ]
    },
    {
      "cell_type": "markdown",
      "source": [
        "### **10. `issubset()` Method**\n",
        "\n",
        "- The `issubset()` method returns `True` if all elements of the original set are present in the specified set, otherwise `False`.\n",
        "\n",
        "**Syntax:**\n",
        "\n",
        "```python\n",
        "set_name.issubset(other_set)\n",
        "```\n",
        "\n",
        "**Example:**\n",
        "\n",
        "```python\n",
        "set1 = {\"apple\", \"banana\"}\n",
        "set2 = {\"apple\", \"banana\", \"cherry\"}\n",
        "is_subset = set1.issubset(set2)\n",
        "print(is_subset)  # Output: True\n",
        "```\n",
        "\n"
      ],
      "metadata": {
        "id": "Y28xaL0N5F5Z"
      }
    },
    {
      "cell_type": "code",
      "source": [
        "set1 = {\"apple\", \"banana\"}\n",
        "set2 = {\"apple\", \"banana\", \"cherry\"}\n",
        "is_subset = set1.issubset(set2)\n",
        "print(is_subset)  # Output: True"
      ],
      "metadata": {
        "colab": {
          "base_uri": "https://localhost:8080/"
        },
        "id": "OyF9AALO9kO3",
        "outputId": "a41baad1-6903-4455-8a0c-ba0c0266b303"
      },
      "execution_count": 19,
      "outputs": [
        {
          "output_type": "stream",
          "name": "stdout",
          "text": [
            "True\n"
          ]
        }
      ]
    },
    {
      "cell_type": "markdown",
      "source": [
        "### **11. `issuperset()` Method**\n",
        "\n",
        "- The `issuperset()` method returns `True` if the original set contains all elements of the specified set, otherwise `False`.\n",
        "\n",
        "**Syntax:**\n",
        "\n",
        "```python\n",
        "set_name.issuperset(other_set)\n",
        "```\n",
        "\n",
        "**Example:**\n",
        "\n",
        "```python\n",
        "set1 = {\"apple\", \"banana\", \"cherry\"}\n",
        "set2 = {\"apple\", \"banana\"}\n",
        "is_superset = set1.issuperset(set2)\n",
        "print(is_superset)  # Output: True\n",
        "```\n",
        "\n"
      ],
      "metadata": {
        "id": "F0hqjqlT5IQd"
      }
    },
    {
      "cell_type": "code",
      "source": [
        "set1 = {\"apple\", \"banana\", \"cherry\"}\n",
        "set2 = {\"apple\", \"banana\"}\n",
        "is_superset = set1.issuperset(set2)\n",
        "print(is_superset)  # Output: True"
      ],
      "metadata": {
        "colab": {
          "base_uri": "https://localhost:8080/"
        },
        "id": "92NC41F59r5_",
        "outputId": "d3a657df-69b6-4308-94c6-0adc343bf54a"
      },
      "execution_count": 20,
      "outputs": [
        {
          "output_type": "stream",
          "name": "stdout",
          "text": [
            "True\n"
          ]
        }
      ]
    },
    {
      "cell_type": "markdown",
      "source": [
        "### **12. `symmetric_difference()` Method**\n",
        "\n",
        "- The `symmetric_difference()` method returns a new set containing elements that are in either of the sets but not in both.\n",
        "\n",
        "**Syntax:**\n",
        "\n",
        "```python\n",
        "set_name.symmetric_difference(other_set)\n",
        "```\n",
        "\n",
        "**Example:**\n",
        "\n",
        "```python\n",
        "set1 = {\"apple\", \"banana\", \"cherry\"}\n",
        "set2 = {\"banana\", \"cherry\", \"orange\"}\n",
        "sym_diff_set = set1.symmetric_difference(set2)\n",
        "print(sym_diff_set)  # Output: {'apple', 'orange'}\n",
        "```"
      ],
      "metadata": {
        "id": "DTCUXRbV5KwC"
      }
    },
    {
      "cell_type": "code",
      "source": [
        "set1 = {\"apple\", \"banana\", \"cherry\"}\n",
        "set2 = {\"banana\", \"cherry\", \"orange\"}\n",
        "sym_diff_set = set1.symmetric_difference(set2)\n",
        "print(sym_diff_set)  # Output: {'apple', 'orange'}"
      ],
      "metadata": {
        "colab": {
          "base_uri": "https://localhost:8080/"
        },
        "id": "pOfq7P3w9xh-",
        "outputId": "caa95af8-e7d7-4ef2-f9a9-ac40b2b1c5b8"
      },
      "execution_count": 21,
      "outputs": [
        {
          "output_type": "stream",
          "name": "stdout",
          "text": [
            "{'orange', 'apple'}\n"
          ]
        }
      ]
    },
    {
      "cell_type": "markdown",
      "source": [
        "## **Introduction to Dictionaries in Python**\n",
        "\n",
        "Dictionaries in Python are a collection of key-value pairs. Each key is unique, and it maps to a specific value. Dictionaries are unordered, changeable, and indexed by keys.\n",
        "\n"
      ],
      "metadata": {
        "id": "eo_jyn225e8s"
      }
    },
    {
      "cell_type": "markdown",
      "source": [
        "### **1. Creating Dictionaries**\n",
        "\n",
        "- A dictionary is created by placing a comma-separated sequence of key-value pairs within curly braces `{}`. The key and value are separated by a colon `:`.\n",
        "\n",
        "**Syntax:**\n",
        "\n",
        "```python\n",
        "dictionary_name = {\n",
        "    \"key1\": \"value1\",\n",
        "    \"key2\": \"value2\",\n",
        "    \"key3\": \"value3\"\n",
        "}\n",
        "```\n",
        "\n",
        "**Example:**\n",
        "\n",
        "```python\n",
        "# Example of a dictionary with strings as keys and values\n",
        "person = {\n",
        "    \"name\": \"John\",\n",
        "    \"age\": 30,\n",
        "    \"city\": \"New York\"\n",
        "}\n",
        "\n",
        "# Example of a dictionary with mixed data types\n",
        "student = {\n",
        "    \"name\": \"Alice\",\n",
        "    \"age\": 22,\n",
        "    \"is_graduated\": True,\n",
        "    \"grades\": [85, 90, 92]\n",
        "}\n",
        "\n",
        "# Example of an empty dictionary\n",
        "empty_dict = {}\n",
        "```\n",
        "\n"
      ],
      "metadata": {
        "id": "gbeBqb4W5mKY"
      }
    },
    {
      "cell_type": "code",
      "source": [
        "# Example of a dictionary with strings as keys and values\n",
        "person = {\n",
        "    \"name\": \"John\",\n",
        "    \"age\": 30,\n",
        "    \"city\": \"New York\"\n",
        "}\n",
        "\n",
        "# Example of a dictionary with mixed data types\n",
        "student = {\n",
        "    \"name\": \"Alice\",\n",
        "    \"age\": 22,\n",
        "    \"is_graduated\": True,\n",
        "    \"grades\": [85, 90, 92]\n",
        "}\n",
        "\n",
        "# Example of an empty dictionary\n",
        "empty_dict = {}"
      ],
      "metadata": {
        "id": "QpyxmxlG94oM"
      },
      "execution_count": null,
      "outputs": []
    },
    {
      "cell_type": "markdown",
      "source": [
        "### **2. Accessing Values in a Dictionary**\n",
        "\n",
        "- You can access the value associated with a specific key by using the key inside square brackets `[]`.\n",
        "- Alternatively, you can use the `get()` method, which is safer because it returns `None` (or a default value you specify) if the key does not exist.\n",
        "\n",
        "**Syntax:**\n",
        "\n",
        "```python\n",
        "value = dictionary_name[\"key\"]\n",
        "```\n",
        "\n",
        "**Example:**\n",
        "\n",
        "```python\n",
        "# Accessing values using keys\n",
        "name = person[\"name\"]\n",
        "print(name)  # Output: John\n",
        "\n",
        "# Accessing values using the get() method\n",
        "age = person.get(\"age\")\n",
        "print(age)  # Output: 30\n",
        "\n",
        "# Using get() with a default value\n",
        "middle_name = person.get(\"middle_name\", \"No middle name\")\n",
        "print(middle_name)  # Output: No middle name\n",
        "```\n",
        "\n"
      ],
      "metadata": {
        "id": "iXs_YKmD5psc"
      }
    },
    {
      "cell_type": "code",
      "source": [
        "# Accessing values using keys\n",
        "name = person[\"name\"]\n",
        "print(name)  # Output: John\n",
        "\n",
        "# Accessing values using the get() method\n",
        "age = person.get(\"age\")\n",
        "print(age)  # Output: 30\n",
        "\n",
        "# Using get() with a default value\n",
        "middle_name = person.get(\"middle_name\", \"No middle name\")\n",
        "print(middle_name)  # Output: No middle name"
      ],
      "metadata": {
        "colab": {
          "base_uri": "https://localhost:8080/"
        },
        "id": "tVO9yk9c978P",
        "outputId": "25e66eab-bbab-4cc4-ac52-79e77aa8bab4"
      },
      "execution_count": null,
      "outputs": [
        {
          "output_type": "stream",
          "name": "stdout",
          "text": [
            "John\n",
            "30\n",
            "No middle name\n"
          ]
        }
      ]
    },
    {
      "cell_type": "markdown",
      "source": [
        "### **3. Modifying Values in a Dictionary**\n",
        "\n",
        "- You can modify an existing value by referencing its key and assigning a new value.\n",
        "\n",
        "**Example:**\n",
        "\n",
        "```python\n",
        "person[\"age\"] = 31\n",
        "print(person[\"age\"])  # Output: 31\n",
        "```\n",
        "\n"
      ],
      "metadata": {
        "id": "2qc-Zf775tJZ"
      }
    },
    {
      "cell_type": "code",
      "source": [
        "person[\"age\"] = 31\n",
        "print(person[\"age\"])  # Output: 31"
      ],
      "metadata": {
        "colab": {
          "base_uri": "https://localhost:8080/"
        },
        "id": "oGvpZvSf9_Lb",
        "outputId": "f2c03c06-d944-41e6-e95f-52cd00b6259c"
      },
      "execution_count": null,
      "outputs": [
        {
          "output_type": "stream",
          "name": "stdout",
          "text": [
            "31\n"
          ]
        }
      ]
    },
    {
      "cell_type": "markdown",
      "source": [
        "### **4. Adding New Key-Value Pairs**\n",
        "\n",
        "- To add a new key-value pair to a dictionary, simply assign a value to a new key.\n",
        "\n",
        "**Example:**\n",
        "\n",
        "```python\n",
        "person[\"email\"] = \"john@example.com\"\n",
        "print(person)  \n",
        "# Output: {'name': 'John', 'age': 31, 'city': 'New York', 'email': 'john@example.com'}\n",
        "```\n",
        "\n"
      ],
      "metadata": {
        "id": "hFAuBsC_5wtX"
      }
    },
    {
      "cell_type": "code",
      "source": [
        "person[\"email\"] = \"john@example.com\"\n",
        "print(person)\n",
        "# Output: {'name': 'John', 'age': 31, 'city': 'New York', 'email': 'john@example.com'}"
      ],
      "metadata": {
        "colab": {
          "base_uri": "https://localhost:8080/"
        },
        "id": "ov7O3xNC-Coy",
        "outputId": "711cc2fd-5e20-4448-fe42-580460d500bd"
      },
      "execution_count": null,
      "outputs": [
        {
          "output_type": "stream",
          "name": "stdout",
          "text": [
            "{'name': 'John', 'age': 31, 'city': 'New York', 'email': 'john@example.com'}\n"
          ]
        }
      ]
    },
    {
      "cell_type": "markdown",
      "source": [
        "### **5. Removing Key-Value Pairs**\n",
        "\n",
        "- You can remove a key-value pair using the `del` keyword or the `pop()` method.\n",
        "\n",
        "**Example:**\n",
        "\n",
        "```python\n",
        "# Using del\n",
        "del person[\"city\"]\n",
        "print(person)  # Output: {'name': 'John', 'age': 31, 'email': 'john@example.com'}\n",
        "\n",
        "# Using pop()\n",
        "email = person.pop(\"email\")\n",
        "print(email)   # Output: john@example.com\n",
        "print(person)  # Output: {'name': 'John', 'age': 31}\n",
        "```\n",
        "\n"
      ],
      "metadata": {
        "id": "mA0l4lcp5zoy"
      }
    },
    {
      "cell_type": "code",
      "source": [
        "# Using del\n",
        "del person[\"city\"]\n",
        "print(person)  # Output: {'name': 'John', 'age': 31, 'email': 'john@example.com'}\n",
        "\n",
        "# Using pop()\n",
        "email = person.pop(\"email\")\n",
        "print(email)   # Output: john@example.com\n",
        "print(person)  # Output: {'name': 'John', 'age': 31}"
      ],
      "metadata": {
        "colab": {
          "base_uri": "https://localhost:8080/"
        },
        "id": "kdkVzpiC-F3v",
        "outputId": "dc1276da-4b76-47ac-e899-ab8a74f494cb"
      },
      "execution_count": null,
      "outputs": [
        {
          "output_type": "stream",
          "name": "stdout",
          "text": [
            "{'name': 'John', 'age': 31, 'email': 'john@example.com'}\n",
            "john@example.com\n",
            "{'name': 'John', 'age': 31}\n"
          ]
        }
      ]
    },
    {
      "cell_type": "markdown",
      "source": [
        "### **6. Checking if a Key Exists**\n",
        "\n",
        "- You can check if a key exists in a dictionary using the `in` keyword.\n",
        "\n",
        "**Example:**\n",
        "\n",
        "```python\n",
        "if \"name\" in person:\n",
        "    print(\"Name exists in the dictionary\")\n",
        "\n",
        "if \"middle_name\" not in person:\n",
        "    print(\"Middle name does not exist in the dictionary\")\n",
        "```\n",
        "\n"
      ],
      "metadata": {
        "id": "NxLQNxVL52OG"
      }
    },
    {
      "cell_type": "code",
      "source": [
        "if \"name\" in person:\n",
        "    print(\"Name exists in the dictionary\")\n",
        "\n",
        "if \"middle_name\" not in person:\n",
        "    print(\"Middle name does not exist in the dictionary\")"
      ],
      "metadata": {
        "colab": {
          "base_uri": "https://localhost:8080/"
        },
        "id": "eQ4GsicC-KCN",
        "outputId": "5bf2eb70-e904-4158-ce76-9724a77637b0"
      },
      "execution_count": null,
      "outputs": [
        {
          "output_type": "stream",
          "name": "stdout",
          "text": [
            "Name exists in the dictionary\n",
            "Middle name does not exist in the dictionary\n"
          ]
        }
      ]
    },
    {
      "cell_type": "markdown",
      "source": [
        "### **7. Dictionary Length**\n",
        "\n",
        "- You can find the number of key-value pairs in a dictionary using the `len()` function.\n",
        "\n",
        "**Example:**\n",
        "\n",
        "```python\n",
        "print(len(person))  # Output: 2 (because 'name' and 'age' are the only keys left)\n",
        "```"
      ],
      "metadata": {
        "id": "pJqgBrVY54px"
      }
    },
    {
      "cell_type": "code",
      "source": [
        "print(len(person))  # Output: 2 (because 'name' and 'age' are the only keys left)"
      ],
      "metadata": {
        "colab": {
          "base_uri": "https://localhost:8080/"
        },
        "id": "bG-KO8Ut-Qh4",
        "outputId": "b383526e-3986-4b9d-d9ad-c881d889c46d"
      },
      "execution_count": null,
      "outputs": [
        {
          "output_type": "stream",
          "name": "stdout",
          "text": [
            "2\n"
          ]
        }
      ]
    },
    {
      "cell_type": "markdown",
      "source": [
        "## **Basic Dictionary Methods in Python**\n",
        "\n",
        "Dictionaries in Python come with several built-in methods that allow you to manipulate key-value pairs efficiently. Below are some of the most commonly used dictionary methods.\n",
        "\n"
      ],
      "metadata": {
        "id": "W52zdfJy6WMs"
      }
    },
    {
      "cell_type": "markdown",
      "source": [
        "### **1. `keys()` Method**\n",
        "\n",
        "- The `keys()` method returns a view object that displays a list of all the keys in the dictionary.\n",
        "\n",
        "**Syntax:**\n",
        "\n",
        "```python\n",
        "dictionary_name.keys()\n",
        "```\n",
        "\n",
        "**Example:**\n",
        "\n",
        "```python\n",
        "person = {\"name\": \"John\", \"age\": 30, \"city\": \"New York\"}\n",
        "keys = person.keys()\n",
        "print(keys)  # Output: dict_keys(['name', 'age', 'city'])\n",
        "```\n",
        "\n"
      ],
      "metadata": {
        "id": "rz3eETwf6dHp"
      }
    },
    {
      "cell_type": "code",
      "source": [
        "person = {\"name\": \"John\", \"age\": 30, \"city\": \"New York\"}\n",
        "keys = person.keys()\n",
        "print(keys)  # Output: dict_keys(['name', 'age', 'city'])"
      ],
      "metadata": {
        "colab": {
          "base_uri": "https://localhost:8080/"
        },
        "id": "w8VfWoAH-Tp_",
        "outputId": "9e2b28fb-af66-4f84-bab0-0313484de977"
      },
      "execution_count": null,
      "outputs": [
        {
          "output_type": "stream",
          "name": "stdout",
          "text": [
            "dict_keys(['name', 'age', 'city'])\n"
          ]
        }
      ]
    },
    {
      "cell_type": "markdown",
      "source": [
        "### **2. `values()` Method**\n",
        "\n",
        "- The `values()` method returns a view object that displays a list of all the values in the dictionary.\n",
        "\n",
        "**Syntax:**\n",
        "\n",
        "```python\n",
        "dictionary_name.values()\n",
        "```\n",
        "\n",
        "**Example:**\n",
        "\n",
        "```python\n",
        "values = person.values()\n",
        "print(values)  # Output: dict_values(['John', 30, 'New York'])\n",
        "```\n",
        "\n"
      ],
      "metadata": {
        "id": "nxJjrACL6gq1"
      }
    },
    {
      "cell_type": "code",
      "source": [
        "values = person.values()\n",
        "print(values)  # Output: dict_values(['John', 30, 'New York'])"
      ],
      "metadata": {
        "colab": {
          "base_uri": "https://localhost:8080/"
        },
        "id": "vsdd4-eM-V6w",
        "outputId": "bae3e37d-0b44-462c-fe3e-8ac163b880ef"
      },
      "execution_count": null,
      "outputs": [
        {
          "output_type": "stream",
          "name": "stdout",
          "text": [
            "dict_values(['John', 30, 'New York'])\n"
          ]
        }
      ]
    },
    {
      "cell_type": "markdown",
      "source": [
        "### **3. `items()` Method**\n",
        "\n",
        "- The `items()` method returns a view object that displays a list of tuples, with each tuple containing a key-value pair.\n",
        "\n",
        "**Syntax:**\n",
        "\n",
        "```python\n",
        "dictionary_name.items()\n",
        "```\n",
        "\n",
        "**Example:**\n",
        "\n",
        "```python\n",
        "items = person.items()\n",
        "print(items)  # Output: dict_items([('name', 'John'), ('age', 30), ('city', 'New York')])\n",
        "```\n",
        "\n"
      ],
      "metadata": {
        "id": "J6pAv4i76j2N"
      }
    },
    {
      "cell_type": "code",
      "source": [
        "items = person.items()\n",
        "print(items)  # Output: dict_items([('name', 'John'), ('age', 30), ('city', 'New York')])"
      ],
      "metadata": {
        "colab": {
          "base_uri": "https://localhost:8080/"
        },
        "id": "I5RLt1Mr-Yj8",
        "outputId": "95cdb044-0408-43f2-8362-502aa5a237e9"
      },
      "execution_count": null,
      "outputs": [
        {
          "output_type": "stream",
          "name": "stdout",
          "text": [
            "dict_items([('name', 'John'), ('age', 30), ('city', 'New York')])\n"
          ]
        }
      ]
    },
    {
      "cell_type": "markdown",
      "source": [
        "### **4. `update()` Method**\n",
        "\n",
        "- The `update()` method updates the dictionary with elements from another dictionary or from an iterable of key-value pairs. If a key already exists in the dictionary, its value is updated; otherwise, a new key-value pair is added.\n",
        "\n",
        "**Syntax:**\n",
        "\n",
        "```python\n",
        "dictionary_name.update(other_dictionary)\n",
        "```\n",
        "\n",
        "**Example:**\n",
        "\n",
        "```python\n",
        "additional_info = {\"email\": \"john@example.com\", \"age\": 31}\n",
        "person.update(additional_info)\n",
        "print(person)  \n",
        "# Output: {'name': 'John', 'age': 31, 'city': 'New York', 'email': 'john@example.com'}\n",
        "```\n",
        "\n"
      ],
      "metadata": {
        "id": "by_nVKzb6r86"
      }
    },
    {
      "cell_type": "code",
      "source": [
        "additional_info = {\"email\": \"john@example.com\", \"age\": 31}\n",
        "person.update(additional_info)\n",
        "print(person)\n",
        "# Output: {'name': 'John', 'age': 31, 'city': 'New York', 'email': 'john@example.com'}"
      ],
      "metadata": {
        "colab": {
          "base_uri": "https://localhost:8080/"
        },
        "id": "usRfTF3c-brs",
        "outputId": "5525080f-6a71-409e-9af1-81b66ce20a6d"
      },
      "execution_count": null,
      "outputs": [
        {
          "output_type": "stream",
          "name": "stdout",
          "text": [
            "{'name': 'John', 'age': 31, 'city': 'New York', 'email': 'john@example.com'}\n"
          ]
        }
      ]
    },
    {
      "cell_type": "markdown",
      "source": [
        "### **5. `pop()` Method**\n",
        "\n",
        "- The `pop()` method removes the specified key and returns the corresponding value. If the key is not found, a `KeyError` is raised unless a default value is provided.\n",
        "\n",
        "**Syntax:**\n",
        "\n",
        "```python\n",
        "dictionary_name.pop(key, default_value)\n",
        "```\n",
        "\n",
        "**Example:**\n",
        "\n",
        "```python\n",
        "age = person.pop(\"age\")\n",
        "print(age)  # Output: 31\n",
        "print(person)  # Output: {'name': 'John', 'city': 'New York', 'email': 'john@example.com'}\n",
        "\n",
        "# Using pop with a default value\n",
        "middle_name = person.pop(\"middle_name\", \"No middle name\")\n",
        "print(middle_name)  # Output: No middle name\n",
        "```\n",
        "\n"
      ],
      "metadata": {
        "id": "QLGwHWYX6vf0"
      }
    },
    {
      "cell_type": "code",
      "source": [
        "age = person.pop(\"age\")\n",
        "print(age)  # Output: 31\n",
        "print(person)  # Output: {'name': 'John', 'city': 'New York', 'email': 'john@example.com'}\n",
        "\n",
        "# Using pop with a default value\n",
        "middle_name = person.pop(\"middle_name\", \"No middle name\")\n",
        "print(middle_name)  # Output: No middle name"
      ],
      "metadata": {
        "colab": {
          "base_uri": "https://localhost:8080/"
        },
        "id": "JpCVD3HW-eIZ",
        "outputId": "d0e32f2d-79c4-4ad8-a919-58b39b2eb945"
      },
      "execution_count": null,
      "outputs": [
        {
          "output_type": "stream",
          "name": "stdout",
          "text": [
            "31\n",
            "{'name': 'John', 'city': 'New York', 'email': 'john@example.com'}\n",
            "No middle name\n"
          ]
        }
      ]
    },
    {
      "cell_type": "markdown",
      "source": [
        "### **6. `popitem()` Method**\n",
        "\n",
        "- The `popitem()` method removes and returns the last inserted key-value pair as a tuple. This method is particularly useful for dictionaries that maintain insertion order (Python 3.7+).\n",
        "\n",
        "**Syntax:**\n",
        "\n",
        "```python\n",
        "dictionary_name.popitem()\n",
        "```\n",
        "\n",
        "**Example:**\n",
        "\n",
        "```python\n",
        "last_item = person.popitem()\n",
        "print(last_item)  # Output: ('email', 'john@example.com')\n",
        "print(person)     # Output: {'name': 'John', 'city': 'New York'}\n",
        "```\n",
        "\n"
      ],
      "metadata": {
        "id": "A9rQIeUE6yIa"
      }
    },
    {
      "cell_type": "code",
      "source": [
        "last_item = person.popitem()\n",
        "print(last_item)  # Output: ('email', 'john@example.com')\n",
        "print(person)     # Output: {'name': 'John', 'city': 'New York'}"
      ],
      "metadata": {
        "colab": {
          "base_uri": "https://localhost:8080/"
        },
        "id": "eSYTMCHR-sWA",
        "outputId": "9f50907f-e843-45d7-f97f-2386a86fd08a"
      },
      "execution_count": null,
      "outputs": [
        {
          "output_type": "stream",
          "name": "stdout",
          "text": [
            "('email', 'john@example.com')\n",
            "{'name': 'John', 'city': 'New York'}\n"
          ]
        }
      ]
    },
    {
      "cell_type": "markdown",
      "source": [
        "### **7. `get()` Method**\n",
        "\n",
        "- The `get()` method returns the value for the specified key if the key is in the dictionary. If the key is not found, it returns `None` (or a specified default value).\n",
        "\n",
        "**Syntax:**\n",
        "\n",
        "```python\n",
        "dictionary_name.get(key, default_value)\n",
        "```\n",
        "\n",
        "**Example:**\n",
        "\n",
        "```python\n",
        "city = person.get(\"city\")\n",
        "print(city)  # Output: New York\n",
        "\n",
        "middle_name = person.get(\"middle_name\", \"No middle name\")\n",
        "print(middle_name)  # Output: No middle name\n",
        "```\n",
        "\n"
      ],
      "metadata": {
        "id": "4j623SSh60xP"
      }
    },
    {
      "cell_type": "code",
      "source": [
        "city = person.get(\"city\")\n",
        "print(city)  # Output: New York\n",
        "\n",
        "middle_name = person.get(\"middle_name\", \"No middle name\")\n",
        "print(middle_name)  # Output: No middle name"
      ],
      "metadata": {
        "colab": {
          "base_uri": "https://localhost:8080/"
        },
        "id": "PRM3LsnG-v8e",
        "outputId": "92bf87d7-3459-4a11-bd31-73d8966fd413"
      },
      "execution_count": null,
      "outputs": [
        {
          "output_type": "stream",
          "name": "stdout",
          "text": [
            "New York\n",
            "No middle name\n"
          ]
        }
      ]
    },
    {
      "cell_type": "markdown",
      "source": [
        "### **8. `clear()` Method**\n",
        "\n",
        "- The `clear()` method removes all the key-value pairs from the dictionary, leaving it empty.\n",
        "\n",
        "**Syntax:**\n",
        "\n",
        "```python\n",
        "dictionary_name.clear()\n",
        "```\n",
        "\n",
        "**Example:**\n",
        "\n",
        "```python\n",
        "person.clear()\n",
        "print(person)  # Output: {}\n",
        "```\n",
        "\n"
      ],
      "metadata": {
        "id": "agWBpaNU64Am"
      }
    },
    {
      "cell_type": "code",
      "source": [
        "person.clear()\n",
        "print(person)  # Output: {}"
      ],
      "metadata": {
        "colab": {
          "base_uri": "https://localhost:8080/"
        },
        "id": "qbDmYR1w-yzf",
        "outputId": "d7d66fc5-df73-4e00-c7c6-5ba630580d12"
      },
      "execution_count": null,
      "outputs": [
        {
          "output_type": "stream",
          "name": "stdout",
          "text": [
            "{}\n"
          ]
        }
      ]
    },
    {
      "cell_type": "markdown",
      "source": [
        "### **9. `copy()` Method**\n",
        "\n",
        "- The `copy()` method returns a shallow copy of the dictionary. This is useful if you want to work with a duplicate dictionary without affecting the original.\n",
        "\n",
        "**Syntax:**\n",
        "\n",
        "```python\n",
        "new_dict = dictionary_name.copy()\n",
        "```\n",
        "\n",
        "**Example:**\n",
        "\n",
        "```python\n",
        "person = {\"name\": \"John\", \"age\": 31, \"city\": \"New York\"}\n",
        "person_copy = person.copy()\n",
        "print(person_copy)  # Output: {'name': 'John', 'age': 31, 'city': 'New York'}\n",
        "```\n",
        "\n"
      ],
      "metadata": {
        "id": "5-QSB_SU66ap"
      }
    },
    {
      "cell_type": "code",
      "source": [
        "person = {\"name\": \"John\", \"age\": 31, \"city\": \"New York\"}\n",
        "person_copy = person.copy()\n",
        "print(person_copy)  # Output: {'name': 'John', 'age': 31, 'city': 'New York'}"
      ],
      "metadata": {
        "colab": {
          "base_uri": "https://localhost:8080/"
        },
        "id": "mPCB-CSC-1kb",
        "outputId": "91410d40-e5fb-4ca7-b0cc-0dd219571745"
      },
      "execution_count": null,
      "outputs": [
        {
          "output_type": "stream",
          "name": "stdout",
          "text": [
            "{'name': 'John', 'age': 31, 'city': 'New York'}\n"
          ]
        }
      ]
    },
    {
      "cell_type": "markdown",
      "source": [
        "### **10. `fromkeys()` Method**\n",
        "\n",
        "- The `fromkeys()` method creates a new dictionary with keys from an iterable and assigns a specified value to all keys.\n",
        "\n",
        "**Syntax:**\n",
        "\n",
        "```python\n",
        "new_dict = dict.fromkeys(keys_iterable, value)\n",
        "```\n",
        "\n",
        "**Example:**\n",
        "\n",
        "```python\n",
        "keys = [\"name\", \"age\", \"city\"]\n",
        "default_value = \"Unknown\"\n",
        "new_dict = dict.fromkeys(keys, default_value)\n",
        "print(new_dict)  # Output: {'name': 'Unknown', 'age': 'Unknown', 'city': 'Unknown'}\n",
        "```"
      ],
      "metadata": {
        "id": "BhqoveVR68uq"
      }
    },
    {
      "cell_type": "code",
      "source": [
        "keys = [\"name\", \"age\", \"city\"]\n",
        "default_value = \"Unknown\"\n",
        "new_dict = dict.fromkeys(keys, default_value)\n",
        "print(new_dict)  # Output: {'name': 'Unknown', 'age': 'Unknown', 'city': 'Unknown'}"
      ],
      "metadata": {
        "colab": {
          "base_uri": "https://localhost:8080/"
        },
        "id": "6CMcd3uj-3-a",
        "outputId": "0f00de3d-be06-4acc-cacf-2110b9c23992"
      },
      "execution_count": null,
      "outputs": [
        {
          "output_type": "stream",
          "name": "stdout",
          "text": [
            "{'name': 'Unknown', 'age': 'Unknown', 'city': 'Unknown'}\n"
          ]
        }
      ]
    },
    {
      "cell_type": "markdown",
      "source": [
        "## **Conclusion**\n",
        "\n",
        "We've explored three powerful data structures in Python: **Lists**, **Sets**, and **Dictionaries**. Each serves a unique purpose:\n",
        "\n",
        "- **Lists** are ordered collections that allow duplicate elements and provide versatile methods for manipulation.\n",
        "- **Sets** are unordered collections of unique elements, ideal for operations like union, intersection, and difference.\n",
        "- **Dictionaries** store data in key-value pairs, allowing fast access to values based on unique keys.\n",
        "\n",
        "These structures are fundamental to Python programming, providing the tools necessary to handle various data-related tasks efficiently. As we move forward, understanding these basics will be crucial for more complex programming challenges.\n",
        "\n"
      ],
      "metadata": {
        "id": "cad2LKVj7mPQ"
      }
    },
    {
      "cell_type": "markdown",
      "source": [
        "## **Assignments for Lists, Sets, and Dictionaries**\n",
        "\n",
        "#### **1. Lists**\n",
        "\n",
        "**Assignment 1:**  \n",
        "Create a list of your favorite fruits. Perform the following tasks:\n",
        "- Add a new fruit to the list.\n",
        "- Remove a fruit from the list.\n",
        "- Print the list in reverse order.\n",
        "- Slice the list to print the first three fruits.\n",
        "\n",
        "**Assignment 2:**  \n",
        "Given the list `[3, 5, 7, 9, 11, 13, 15]`, perform the following:\n",
        "- Append `17` to the list.\n",
        "- Insert `1` at the beginning of the list.\n",
        "- Remove the number `9` from the list.\n",
        "- Find the index of the number `13`.\n",
        "\n",
        "#### **2. Sets**\n",
        "\n",
        "**Assignment 1:**  \n",
        "Create a set of numbers from 1 to 5. Perform the following operations:\n",
        "- Add the number `6` to the set.\n",
        "- Remove the number `2` from the set.\n",
        "- Check if the number `3` is in the set.\n",
        "- Find the union of this set with another set `{4, 5, 6, 7}`.\n",
        "\n",
        "**Assignment 2:**  \n",
        "Given two sets `{1, 2, 3, 4, 5}` and `{4, 5, 6, 7, 8}`, find:\n",
        "- The intersection of the two sets.\n",
        "- The difference between the first set and the second set.\n",
        "- The symmetric difference between the two sets.\n",
        "\n",
        "#### **3. Dictionaries**\n",
        "\n",
        "**Assignment 1:**  \n",
        "Create a dictionary that stores the following information about a book:\n",
        "- Title: \"To Kill a Mockingbird\"\n",
        "- Author: \"Harper Lee\"\n",
        "- Year Published: 1960\n",
        "- Genre: \"Fiction\"\n",
        "\n",
        "Perform the following:\n",
        "- Add a key `Pages` with the value `281`.\n",
        "- Update the `Year Published` to `1961`.\n",
        "- Remove the `Genre` key from the dictionary.\n",
        "- Retrieve the value associated with the key `Author`.\n",
        "\n",
        "**Assignment 2:**  \n",
        "Given the dictionary `student = {\"name\": \"Alice\", \"age\": 22, \"courses\": [\"Math\", \"Science\"]}`, perform the following:\n",
        "- Add a new key `graduated` with the value `False`.\n",
        "- Change the `age` to `23`.\n",
        "- Add \"English\" to the list of courses.\n",
        "- Use the `get()` method to retrieve the value of `name` and a non-existent key `grade` with a default value \"N/A\".\n",
        "\n"
      ],
      "metadata": {
        "id": "kRcDwJV47uun"
      }
    },
    {
      "cell_type": "markdown",
      "source": [
        "### **Solutions**\n",
        "\n",
        "#### **1. Lists**\n",
        "\n",
        "**Solution 1:**\n",
        "```python\n",
        "fruits = [\"apple\", \"banana\", \"cherry\", \"date\"]\n",
        "fruits.append(\"elderberry\")\n",
        "fruits.remove(\"banana\")\n",
        "print(fruits[::-1])  # Reverse order\n",
        "print(fruits[:3])    # First three fruits\n",
        "```\n",
        "\n",
        "**Solution 2:**\n",
        "```python\n",
        "numbers = [3, 5, 7, 9, 11, 13, 15]\n",
        "numbers.append(17)\n",
        "numbers.insert(0, 1)\n",
        "numbers.remove(9)\n",
        "index_of_13 = numbers.index(13)\n",
        "print(numbers)        # [1, 3, 5, 7, 11, 13, 15, 17]\n",
        "print(index_of_13)    # 5\n",
        "```\n",
        "\n",
        "#### **2. Sets**\n",
        "\n",
        "**Solution 1:**\n",
        "```python\n",
        "numbers = {1, 2, 3, 4, 5}\n",
        "numbers.add(6)\n",
        "numbers.remove(2)\n",
        "is_3_in_set = 3 in numbers\n",
        "union_set = numbers.union({4, 5, 6, 7})\n",
        "print(numbers)         # {1, 3, 4, 5, 6}\n",
        "print(is_3_in_set)     # True\n",
        "print(union_set)       # {1, 3, 4, 5, 6, 7}\n",
        "```\n",
        "\n",
        "**Solution 2:**\n",
        "```python\n",
        "set1 = {1, 2, 3, 4, 5}\n",
        "set2 = {4, 5, 6, 7, 8}\n",
        "intersection = set1.intersection(set2)\n",
        "difference = set1.difference(set2)\n",
        "symmetric_difference = set1.symmetric_difference(set2)\n",
        "print(intersection)           # {4, 5}\n",
        "print(difference)             # {1, 2, 3}\n",
        "print(symmetric_difference)   # {1, 2, 3, 6, 7, 8}\n",
        "```\n",
        "\n",
        "#### **3. Dictionaries**\n",
        "\n",
        "**Solution 1:**\n",
        "```python\n",
        "book = {\n",
        "    \"title\": \"To Kill a Mockingbird\",\n",
        "    \"author\": \"Harper Lee\",\n",
        "    \"year_published\": 1960,\n",
        "    \"genre\": \"Fiction\"\n",
        "}\n",
        "book[\"pages\"] = 281\n",
        "book[\"year_published\"] = 1961\n",
        "del book[\"genre\"]\n",
        "author = book.get(\"author\")\n",
        "print(book)\n",
        "print(author)  # Output: Harper Lee\n",
        "```\n",
        "\n",
        "**Solution 2:**\n",
        "```python\n",
        "student = {\"name\": \"Alice\", \"age\": 22, \"courses\": [\"Math\", \"Science\"]}\n",
        "student[\"graduated\"] = False\n",
        "student[\"age\"] = 23\n",
        "student[\"courses\"].append(\"English\")\n",
        "name = student.get(\"name\")\n",
        "grade = student.get(\"grade\", \"N/A\")\n",
        "print(student)\n",
        "print(name)  # Output: Alice\n",
        "print(grade) # Output: N/A\n",
        "```\n"
      ],
      "metadata": {
        "id": "sqjnFX5670jS"
      }
    },
    {
      "cell_type": "code",
      "source": [
        "# Class doubt\n",
        "\n",
        "Frutes = [\"apple,\",\"Orange\",\"banana\",\"Mango\"]\n",
        "a = len(Frutes)\n",
        "#print (range(a))\n",
        "\n",
        "#while range(a) < 4:\n",
        "#  print(Frutes)\n",
        "\n",
        "i = 0\n",
        "while i < a:\n",
        "  print(Frutes[i])\n",
        "  i = i + 1"
      ],
      "metadata": {
        "colab": {
          "base_uri": "https://localhost:8080/"
        },
        "id": "WcWCYScTiBJt",
        "outputId": "735c8846-472a-49e5-dc76-de9b7b33b795"
      },
      "execution_count": 22,
      "outputs": [
        {
          "output_type": "stream",
          "name": "stdout",
          "text": [
            "apple,\n",
            "Orange\n",
            "banana\n",
            "Mango\n"
          ]
        }
      ]
    }
  ]
}