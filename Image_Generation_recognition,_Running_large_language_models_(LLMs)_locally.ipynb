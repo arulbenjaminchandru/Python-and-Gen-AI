{
  "nbformat": 4,
  "nbformat_minor": 0,
  "metadata": {
    "colab": {
      "provenance": [],
      "toc_visible": true,
      "authorship_tag": "ABX9TyORAZ3zWgVQJ2sh0XCDkx+0",
      "include_colab_link": true
    },
    "kernelspec": {
      "name": "python3",
      "display_name": "Python 3"
    },
    "language_info": {
      "name": "python"
    }
  },
  "cells": [
    {
      "cell_type": "markdown",
      "metadata": {
        "id": "view-in-github",
        "colab_type": "text"
      },
      "source": [
        "<a href=\"https://colab.research.google.com/github/arulbenjaminchandru/Python-and-Gen-AI/blob/main/Image_Generation_recognition%2C_Running_large_language_models_(LLMs)_locally.ipynb\" target=\"_parent\"><img src=\"https://colab.research.google.com/assets/colab-badge.svg\" alt=\"Open In Colab\"/></a>"
      ]
    },
    {
      "cell_type": "markdown",
      "source": [
        "## **Generative AI: Image Generation and Image Recognition**\n",
        "\n"
      ],
      "metadata": {
        "id": "J26fmIgAufT0"
      }
    },
    {
      "cell_type": "markdown",
      "source": [
        "### **Image Generation**\n",
        "\n",
        "**Image Generation** in Generative AI refers to the process of creating new images based on certain inputs, such as text descriptions or other images. Imagine telling a computer, \"Draw me a picture of a sunset over the ocean,\" and it creates a completely new image that matches your description.\n",
        "\n",
        "- **How It Works**: In simple terms, the AI takes your input (like a text description) and tries to create a visual representation that matches what you've asked for. The AI learns from lots of examples, like millions of pictures of sunsets, so it can understand what makes a sunset look like a sunset.\n",
        "\n",
        "- **Applications**:\n",
        "  - **Art Creation**: Artists can use AI to generate new artwork based on their ideas.\n",
        "  - **Design**: Designers might use AI to create new patterns or design concepts quickly.\n",
        "  - **Content Creation**: AI can generate images for websites, marketing, or social media.\n",
        "\n",
        "For example, if you wanted to create a logo for your new business, you could describe what you want (e.g., \"A modern, minimalist logo with a mountain and a river\") and the AI would generate a few different versions for you to choose from.\n",
        "\n"
      ],
      "metadata": {
        "id": "oAvcFIn3vOoR"
      }
    },
    {
      "cell_type": "markdown",
      "source": [
        "### **Image Recognition**\n",
        "\n",
        "**Image Recognition** is about teaching computers to understand and identify what they see in images. Imagine showing a computer a picture of a dog, and it correctly identifies it as a dog.\n",
        "\n",
        "- **How It Works**: The AI is trained by showing it thousands or even millions of images, each labeled with what it is (like dogs, cats, cars, etc.). Over time, the AI learns to recognize patterns and features that are specific to each type of object, so it can correctly identify them in new images.\n",
        "\n",
        "- **Applications**:\n",
        "  - **Security**: Facial recognition systems use this technology to identify people.\n",
        "  - **Healthcare**: AI can analyze medical images (like X-rays) to help doctors diagnose conditions.\n",
        "  - **Self-Driving Cars**: Cars use image recognition to understand their surroundings, like recognizing other cars, pedestrians, and traffic signs.\n",
        "\n",
        "For instance, a smartphone camera might use image recognition to detect faces when you're taking a picture, ensuring that the focus is on the people in the photo."
      ],
      "metadata": {
        "id": "jTl2dFCovRxb"
      }
    },
    {
      "cell_type": "markdown",
      "source": [
        "Here are some examples of AI tools for **image generation** and **image recognition** that are user-friendly and don't require deep technical knowledge:\n"
      ],
      "metadata": {
        "id": "BIFVbZsFvzel"
      }
    },
    {
      "cell_type": "markdown",
      "source": [
        "\n",
        "### Image Generation Tools\n",
        "\n",
        "1. **DALL-E 3**\n",
        "   - **What It Does**: Generates high-quality images from text descriptions. For example, you could type \"A futuristic city at sunset\" and DALL-E 3 will create an image based on that description.\n",
        "   - **Use Case**: Artists, designers, and content creators use it to generate visual content quickly.\n",
        "\n",
        "   https://openai.com/index/dall-e-3/\n",
        "\n",
        "2. **MidJourney**\n",
        "   - **What It Does**: Another popular text-to-image generation tool, known for creating stunning and artistic images based on user prompts.\n",
        "   - **Use Case**: Creative professionals use it to generate unique artwork, illustrations, or concept designs.\n",
        "\n",
        "  https://www.midjourney.com/home -- This runs on discord\n",
        "\n",
        "3. **Stable Diffusion**\n",
        "    - Alternate to Midjourney\n",
        "\n",
        "   https://huggingface.co/spaces/stabilityai/stable-diffusion-3-medium\n"
      ],
      "metadata": {
        "id": "2oNdJ-YYv7zE"
      }
    },
    {
      "cell_type": "markdown",
      "source": [
        "### Image Recognition Tools\n",
        "\n",
        "1. **Google Vision AI**\n",
        "   - **What It Does**: Detects and classifies objects, faces, text, and even landmarks in images.\n",
        "   - **Use Case**: Used in various industries, from automating photo tagging in social media to analyzing images in large datasets.\n",
        "\n",
        "   https://cloud.google.com/vision/docs/drag-and-drop\n",
        "\n",
        "2. **Amazon Rekognition**\n",
        "   - **What It Does**: Recognizes objects, people, text, scenes, and activities in images and videos. It can also analyze images for facial recognition.\n",
        "   - **Use Case**: Often used in security, customer analysis, and content moderation.\n",
        "\n",
        "   https://docs.aws.amazon.com/rekognition/latest/dg/what-is.html"
      ],
      "metadata": {
        "id": "DDF9lE-gxCms"
      }
    },
    {
      "cell_type": "markdown",
      "source": [
        "##**Running LLMs Locally**"
      ],
      "metadata": {
        "id": "sBz0f0uY0pye"
      }
    },
    {
      "cell_type": "markdown",
      "source": [
        "###**Ollama**\n",
        "\n"
      ],
      "metadata": {
        "id": "XdSGEchUzJl7"
      }
    },
    {
      "cell_type": "markdown",
      "source": [
        "#### **Overview**\n",
        "Ollama is a framework for running and managing large language models (LLMs) locally across different platforms. It supports various models and offers customization options.\n",
        "\n"
      ],
      "metadata": {
        "id": "dTPjvg2NzTre"
      }
    },
    {
      "cell_type": "markdown",
      "source": [
        "#### **Supported Platforms**\n",
        "- **macOS:** [Download](https://ollama.com/download/Ollama-darwin.zip)\n",
        "- **Windows (Preview):** [Download](https://ollama.com/download/OllamaSetup.exe)\n",
        "- **Linux:** Use the command:\n",
        "  ```\n",
        "  curl -fsSL https://ollama.com/install.sh | sh\n",
        "  ```\n",
        "- **Docker:** Available via Docker Hub: `ollama/ollama`.\n",
        "\n"
      ],
      "metadata": {
        "id": "Kw1B9lnrzXmR"
      }
    },
    {
      "cell_type": "markdown",
      "source": [
        "#### **Libraries**\n",
        "- Python: [ollama-python](https://github.com/ollama/ollama-python)\n",
        "- JavaScript: [ollama-js](https://github.com/ollama/ollama-js)\n",
        "\n"
      ],
      "metadata": {
        "id": "hmthXuNTzb3i"
      }
    },
    {
      "cell_type": "markdown",
      "source": [
        "####**Getting Started**\n",
        "To run a model:\n",
        "```\n",
        "ollama run llama3.1\n",
        "```\n",
        "\n"
      ],
      "metadata": {
        "id": "1J4u0U98z4B1"
      }
    },
    {
      "cell_type": "markdown",
      "source": [
        "####**Model Library**\n",
        "Ollama supports various models like Llama 3.1, Phi 3, Gemma 2, Mistral, and more. Example command:\n",
        "```\n",
        "ollama run llama3.1\n",
        "```\n",
        "> **Note:** Ensure you have enough RAM: 8 GB for 7B models, 16 GB for 13B models, and 32 GB for 33B models.\n",
        "\n"
      ],
      "metadata": {
        "id": "sPReeI_Uz7Na"
      }
    },
    {
      "cell_type": "markdown",
      "source": [
        "####**Command-Line Interface (CLI) Basics**\n",
        "- **Create a model:**\n",
        "  ```\n",
        "  ollama create mymodel -f ./Modelfile\n",
        "  ```\n",
        "- **Pull a model:**\n",
        "  ```\n",
        "  ollama pull llama3.1\n",
        "  ```\n",
        "- **Remove a model:**\n",
        "  ```\n",
        "  ollama rm llama3.1\n",
        "  ```\n",
        "- **Copy a model:**\n",
        "  ```\n",
        "  ollama cp llama3.1 my-model\n",
        "  ```\n",
        "- **Multimodal models:**\n",
        "  ```\n",
        "  ollama run llama \"What's in this image? /path/to/image.png\"\n",
        "  ```\n",
        "\n"
      ],
      "metadata": {
        "id": "Q8PkpE0Uz_EY"
      }
    },
    {
      "cell_type": "markdown",
      "source": [
        "####**REST API**\n",
        "Ollama provides a REST API for generating responses and chatting with models:\n",
        "- **Generate response:**\n",
        "  ```\n",
        "  curl http://localhost:11434/api/generate -d '{\"model\": \"llama3.1\", \"prompt\":\"Why is the sky blue?\"}'\n",
        "  ```\n",
        "- **Chat:**\n",
        "  ```\n",
        "  curl http://localhost:11434/api/chat -d '{\"model\": \"llama3.1\", \"messages\": [{\"role\": \"user\", \"content\": \"why is the sky blue?\"}]}'\n",
        "  ```"
      ],
      "metadata": {
        "id": "00cIDzbu0IDe"
      }
    },
    {
      "cell_type": "markdown",
      "source": [
        "### **LM Studio** - https://lmstudio.ai/docs/welcome"
      ],
      "metadata": {
        "id": "8fpqiJJM00rx"
      }
    },
    {
      "cell_type": "code",
      "source": [],
      "metadata": {
        "id": "LQk-3-uXvUi8"
      },
      "execution_count": null,
      "outputs": []
    }
  ]
}